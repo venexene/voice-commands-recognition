{
 "cells": [
  {
   "cell_type": "code",
   "execution_count": 23,
   "id": "a0baff14-e29e-4156-a8ff-ab5b44b4a5b7",
   "metadata": {
    "execution": {
     "iopub.execute_input": "2025-03-03T11:41:22.097799Z",
     "iopub.status.busy": "2025-03-03T11:41:22.097214Z",
     "iopub.status.idle": "2025-03-03T11:41:22.185880Z",
     "shell.execute_reply": "2025-03-03T11:41:22.185581Z",
     "shell.execute_reply.started": "2025-03-03T11:41:22.097769Z"
    }
   },
   "outputs": [],
   "source": [
    "import tensorflow as tf\n",
    "from tensorflow.keras import layers\n",
    "from tensorflow.keras import models\n",
    "import pathlib\n",
    "import numpy as np\n",
    "import os\n",
    "import matplotlib.pyplot as plt\n",
    "import seaborn as sns\n",
    "\n",
    "os.environ['CUDA_VISIBLE_DEVICES'] = '-1'"
   ]
  },
  {
   "cell_type": "code",
   "execution_count": 2,
   "id": "ce8c1a6e-0fe3-41d7-9a73-d7792017d1bb",
   "metadata": {
    "execution": {
     "iopub.execute_input": "2025-03-03T11:40:04.902686Z",
     "iopub.status.busy": "2025-03-03T11:40:04.902448Z",
     "iopub.status.idle": "2025-03-03T11:40:04.904616Z",
     "shell.execute_reply": "2025-03-03T11:40:04.904332Z",
     "shell.execute_reply.started": "2025-03-03T11:40:04.902674Z"
    }
   },
   "outputs": [
    {
     "name": "stdout",
     "output_type": "stream",
     "text": [
      "2.18.0\n"
     ]
    }
   ],
   "source": [
    "print(tf.__version__)"
   ]
  },
  {
   "cell_type": "code",
   "execution_count": 3,
   "id": "8e51aee5-17a3-4751-9309-69b286c4b16c",
   "metadata": {
    "execution": {
     "iopub.execute_input": "2025-03-03T11:40:04.905052Z",
     "iopub.status.busy": "2025-03-03T11:40:04.904945Z",
     "iopub.status.idle": "2025-03-03T11:40:04.918113Z",
     "shell.execute_reply": "2025-03-03T11:40:04.917813Z",
     "shell.execute_reply.started": "2025-03-03T11:40:04.905042Z"
    }
   },
   "outputs": [
    {
     "name": "stdout",
     "output_type": "stream",
     "text": [
      "Команды: ['zero' 'up' 'right' 'three' 'on' 'two' 'four' 'yes' 'five' 'one' 'left'\n",
      " 'down' 'no' 'off']\n"
     ]
    }
   ],
   "source": [
    "dataset_path = '../DataSet/base_train'\n",
    "\n",
    "# Преобразуем путь в объект pathlib.Path для удобной работы с файловой системой\n",
    "data_dir = pathlib.Path(dataset_path)\n",
    "\n",
    "# Получаем список файлов и директорий в указанной директории и преобразуем его в массив NumPy\n",
    "commands = np.array(tf.io.gfile.listdir(str(data_dir)))\n",
    "\n",
    "print('Команды:', commands)"
   ]
  },
  {
   "cell_type": "code",
   "execution_count": 4,
   "id": "56d38722-7050-417f-92a3-b0c68c017f89",
   "metadata": {
    "execution": {
     "iopub.execute_input": "2025-03-03T11:40:04.918559Z",
     "iopub.status.busy": "2025-03-03T11:40:04.918453Z",
     "iopub.status.idle": "2025-03-03T11:40:04.986817Z",
     "shell.execute_reply": "2025-03-03T11:40:04.986496Z",
     "shell.execute_reply.started": "2025-03-03T11:40:04.918550Z"
    }
   },
   "outputs": [
    {
     "name": "stdout",
     "output_type": "stream",
     "text": [
      "Количество записей: 33134\n"
     ]
    },
    {
     "name": "stderr",
     "output_type": "stream",
     "text": [
      "2025-03-03 14:40:04.970470: E external/local_xla/xla/stream_executor/cuda/cuda_driver.cc:152] failed call to cuInit: INTERNAL: CUDA error: Failed call to cuInit: CUDA_ERROR_NO_DEVICE: no CUDA-capable device is detected\n",
      "2025-03-03 14:40:04.970491: I external/local_xla/xla/stream_executor/cuda/cuda_diagnostics.cc:137] retrieving CUDA diagnostic information for host: flayven-MS-7C91\n",
      "2025-03-03 14:40:04.970496: I external/local_xla/xla/stream_executor/cuda/cuda_diagnostics.cc:144] hostname: flayven-MS-7C91\n",
      "2025-03-03 14:40:04.970566: I external/local_xla/xla/stream_executor/cuda/cuda_diagnostics.cc:168] libcuda reported version is: 550.120.0\n",
      "2025-03-03 14:40:04.970582: I external/local_xla/xla/stream_executor/cuda/cuda_diagnostics.cc:172] kernel reported version is: 550.120.0\n",
      "2025-03-03 14:40:04.970586: I external/local_xla/xla/stream_executor/cuda/cuda_diagnostics.cc:259] kernel version seems to match DSO: 550.120.0\n"
     ]
    }
   ],
   "source": [
    "file_names = tf.io.gfile.glob(str(data_dir) + '/*/*') # Получаем список всех файлов в подкаталогах указанной директории\n",
    "file_names = tf.random.shuffle(file_names) # Перемешиваем\n",
    "print('Количество записей:', len(file_names))"
   ]
  },
  {
   "cell_type": "code",
   "execution_count": 5,
   "id": "9c732c22-d2a5-4793-8da6-be526ff1b83a",
   "metadata": {
    "execution": {
     "iopub.execute_input": "2025-03-03T11:40:04.987264Z",
     "iopub.status.busy": "2025-03-03T11:40:04.987159Z",
     "iopub.status.idle": "2025-03-03T11:40:04.993458Z",
     "shell.execute_reply": "2025-03-03T11:40:04.993112Z",
     "shell.execute_reply.started": "2025-03-03T11:40:04.987254Z"
    }
   },
   "outputs": [
    {
     "name": "stdout",
     "output_type": "stream",
     "text": [
      "Размер обучающего набора: 6400\n",
      "Размер набора валидации: 800\n",
      "Размер тестового набора: 800\n"
     ]
    }
   ],
   "source": [
    "train_files = file_names[:6400]\n",
    "val_files = file_names[6400: 6400 + 800]\n",
    "test_files = file_names[-800:]\n",
    "\n",
    "print('Размер обучающего набора:', len(train_files))\n",
    "print('Размер набора валидации:', len(val_files))\n",
    "print('Размер тестового набора:', len(test_files))"
   ]
  },
  {
   "cell_type": "code",
   "execution_count": 6,
   "id": "81931993-9381-430c-9807-be085c4dba01",
   "metadata": {
    "execution": {
     "iopub.execute_input": "2025-03-03T11:40:04.994455Z",
     "iopub.status.busy": "2025-03-03T11:40:04.994338Z",
     "iopub.status.idle": "2025-03-03T11:40:05.002797Z",
     "shell.execute_reply": "2025-03-03T11:40:05.002514Z",
     "shell.execute_reply.started": "2025-03-03T11:40:04.994444Z"
    }
   },
   "outputs": [],
   "source": [
    "def decode_audio(audio_binary):\n",
    "  audio, _ = tf.audio.decode_wav(contents=audio_binary)  # Декодируем бинарные данные в аудиофайл формата WAV\n",
    "  return tf.squeeze(audio, axis=-1) # Убираем лишнее измерение"
   ]
  },
  {
   "cell_type": "code",
   "execution_count": 7,
   "id": "8167af92-51e5-4be7-bb30-62090a599884",
   "metadata": {
    "execution": {
     "iopub.execute_input": "2025-03-03T11:40:05.003201Z",
     "iopub.status.busy": "2025-03-03T11:40:05.003093Z",
     "iopub.status.idle": "2025-03-03T11:40:05.015434Z",
     "shell.execute_reply": "2025-03-03T11:40:05.015137Z",
     "shell.execute_reply.started": "2025-03-03T11:40:05.003191Z"
    }
   },
   "outputs": [],
   "source": [
    "def get_label(file_path):\n",
    "  parts = tf.strings.split(input=file_path,sep=os.path.sep) # Разбиваем строку пути к файлу на части, используя разделитель\n",
    "  return parts[-2] # Возвращаем название папки-класса"
   ]
  },
  {
   "cell_type": "code",
   "execution_count": 8,
   "id": "433b6503-57cd-4606-b5cb-b1604d099607",
   "metadata": {
    "execution": {
     "iopub.execute_input": "2025-03-03T11:40:05.015833Z",
     "iopub.status.busy": "2025-03-03T11:40:05.015733Z",
     "iopub.status.idle": "2025-03-03T11:40:05.028138Z",
     "shell.execute_reply": "2025-03-03T11:40:05.027760Z",
     "shell.execute_reply.started": "2025-03-03T11:40:05.015824Z"
    }
   },
   "outputs": [],
   "source": [
    "def get_waveform_and_label(file_path):\n",
    "  label = get_label(file_path) \n",
    "  audio_binary = tf.io.read_file(file_path) # Читаем аудиофайл в бинарном формате\n",
    "  waveform = decode_audio(audio_binary)\n",
    "  return waveform, label"
   ]
  },
  {
   "cell_type": "code",
   "execution_count": 9,
   "id": "2490505a-c66e-42c0-bda6-dafac5d8e415",
   "metadata": {
    "execution": {
     "iopub.execute_input": "2025-03-03T11:40:05.028588Z",
     "iopub.status.busy": "2025-03-03T11:40:05.028487Z",
     "iopub.status.idle": "2025-03-03T11:40:05.040998Z",
     "shell.execute_reply": "2025-03-03T11:40:05.040620Z",
     "shell.execute_reply.started": "2025-03-03T11:40:05.028578Z"
    }
   },
   "outputs": [],
   "source": [
    "def get_spectrogram(waveform):\n",
    "    input_len = 16000\n",
    "    waveform = waveform[:input_len] # Обрезаем аудиосигнал до заданной длины\n",
    "    \n",
    "    # Создаём нулевой тензор для дополнения коротких сигналов до нужной длины\n",
    "    zero_padding = tf.zeros([16000] - tf.shape(waveform), dtype=tf.float32)\n",
    "\n",
    "    # Преобразуем тип данных аудиосигнала в float32\n",
    "    waveform = tf.cast(waveform, dtype=tf.float32)\n",
    "    \n",
    "    # Объединяем оригинальный сигнал с нулевым дополнением, чтобы все сигналы имели одинаковую длину\n",
    "    equal_length = tf.concat([waveform, zero_padding], 0)\n",
    "\n",
    "    # Применяем краткосрочное преобразование Фурье (STFT) для получения спектрограммы\n",
    "    spectrogram = tf.signal.stft(equal_length, frame_length=255, frame_step=128)\n",
    "    spectrogram = tf.abs(spectrogram) # Получаем амплитудный спектр\n",
    "    spectrogram = spectrogram[..., tf.newaxis]  # Добавляем новое измерение\n",
    "    return spectrogram"
   ]
  },
  {
   "cell_type": "code",
   "execution_count": 10,
   "id": "37e07917-2c62-4a50-8b2a-e5a104c40e17",
   "metadata": {
    "execution": {
     "iopub.execute_input": "2025-03-03T11:40:05.042597Z",
     "iopub.status.busy": "2025-03-03T11:40:05.042425Z",
     "iopub.status.idle": "2025-03-03T11:40:05.056730Z",
     "shell.execute_reply": "2025-03-03T11:40:05.056345Z",
     "shell.execute_reply.started": "2025-03-03T11:40:05.042550Z"
    }
   },
   "outputs": [],
   "source": [
    "def get_spectrogram_and_label_id(audio, label):\n",
    "  spectrogram = get_spectrogram(audio)\n",
    "  label_id = tf.argmax(label == commands) # Определяем индекс метки в массиве команд\n",
    "  return spectrogram, label_id"
   ]
  },
  {
   "cell_type": "code",
   "execution_count": 11,
   "id": "adb1c246-7f50-46b0-99ef-306f42ee108e",
   "metadata": {
    "execution": {
     "iopub.execute_input": "2025-03-03T11:40:05.057310Z",
     "iopub.status.busy": "2025-03-03T11:40:05.057160Z",
     "iopub.status.idle": "2025-03-03T11:40:05.069395Z",
     "shell.execute_reply": "2025-03-03T11:40:05.069017Z",
     "shell.execute_reply.started": "2025-03-03T11:40:05.057296Z"
    }
   },
   "outputs": [],
   "source": [
    "def preprocess_dataset(files):\n",
    "    files_ds = tf.data.Dataset.from_tensor_slices(files) # Создаём TensorFlow Dataset из списка файлов\n",
    "    \n",
    "    # Применяем две функции обработки:\n",
    "    # 1. get_waveform_and_label — загружает аудиофайл, декодирует его в форму волны и извлекает метку\n",
    "    # 2. get_spectrogram_and_label_id — преобразует форму волны в спектрограмму и присваивает числовой идентификатор метке\n",
    "    output_ds = files_ds.map(map_func=get_waveform_and_label).map(map_func=get_spectrogram_and_label_id)\n",
    "    \n",
    "    return output_ds"
   ]
  },
  {
   "cell_type": "code",
   "execution_count": 12,
   "id": "63f6c023-fd44-492a-adc1-f1330967acdd",
   "metadata": {
    "execution": {
     "iopub.execute_input": "2025-03-03T11:40:05.069930Z",
     "iopub.status.busy": "2025-03-03T11:40:05.069775Z",
     "iopub.status.idle": "2025-03-03T11:40:05.317679Z",
     "shell.execute_reply": "2025-03-03T11:40:05.317386Z",
     "shell.execute_reply.started": "2025-03-03T11:40:05.069915Z"
    }
   },
   "outputs": [],
   "source": [
    "spectrogram_ds = preprocess_dataset(train_files)\n",
    "train_ds = spectrogram_ds\n",
    "val_ds = preprocess_dataset(val_files)\n",
    "test_ds = preprocess_dataset(test_files)"
   ]
  },
  {
   "cell_type": "code",
   "execution_count": 13,
   "id": "45989e7c-0cff-4324-86b7-ad34c5d35c5e",
   "metadata": {
    "execution": {
     "iopub.execute_input": "2025-03-03T11:40:05.318106Z",
     "iopub.status.busy": "2025-03-03T11:40:05.318004Z",
     "iopub.status.idle": "2025-03-03T11:40:05.324604Z",
     "shell.execute_reply": "2025-03-03T11:40:05.324345Z",
     "shell.execute_reply.started": "2025-03-03T11:40:05.318096Z"
    }
   },
   "outputs": [],
   "source": [
    "batch_size = 64\n",
    "\n",
    "train_ds = (train_ds\n",
    "            .batch(batch_size) # Группируем данные в батчи размером 64\n",
    "            .cache() # Кешируем данные в памяти для ускорения обучения\n",
    "            .prefetch(1) # Загружаем следующий батч данных заранее для увеличения скорости обучения\n",
    "           )\n",
    "\n",
    "val_ds = (val_ds\n",
    "          .batch(batch_size)\n",
    "          .cache()\n",
    "          .prefetch(1)\n",
    "         )"
   ]
  },
  {
   "cell_type": "code",
   "execution_count": 14,
   "id": "ddc13614-815b-4da9-98e2-2ca41b0aab5c",
   "metadata": {
    "execution": {
     "iopub.execute_input": "2025-03-03T11:40:05.325006Z",
     "iopub.status.busy": "2025-03-03T11:40:05.324905Z",
     "iopub.status.idle": "2025-03-03T11:40:11.063452Z",
     "shell.execute_reply": "2025-03-03T11:40:11.063191Z",
     "shell.execute_reply.started": "2025-03-03T11:40:05.324996Z"
    }
   },
   "outputs": [
    {
     "name": "stderr",
     "output_type": "stream",
     "text": [
      "2025-03-03 14:40:05.372898: I tensorflow/core/framework/local_rendezvous.cc:405] Local rendezvous is aborting with status: OUT_OF_RANGE: End of sequence\n"
     ]
    },
    {
     "name": "stdout",
     "output_type": "stream",
     "text": [
      "Размер входа (124, 129, 1)\n"
     ]
    },
    {
     "name": "stderr",
     "output_type": "stream",
     "text": [
      "2025-03-03 14:40:11.059987: I tensorflow/core/framework/local_rendezvous.cc:405] Local rendezvous is aborting with status: OUT_OF_RANGE: End of sequence\n"
     ]
    }
   ],
   "source": [
    "# Получаем размер входных данных \n",
    "for spectrogram, _ in spectrogram_ds.take(1):\n",
    "  input_shape = spectrogram.shape\n",
    "print('Размер входа', input_shape)\n",
    "\n",
    "num_labels = len(commands)\n",
    "\n",
    "norm_layer = layers.Normalization() # Создаём слой нормализации данных\n",
    "\n",
    "# Адаптируем слой нормализации на основе спектрограмм из датасета\n",
    "norm_layer.adapt(data=spectrogram_ds.map(map_func=lambda spec, label: spec))"
   ]
  },
  {
   "cell_type": "code",
   "execution_count": 15,
   "id": "523f5151-d7e6-41cb-a8e2-3e5f41bf3e7a",
   "metadata": {
    "execution": {
     "iopub.execute_input": "2025-03-03T11:40:11.063918Z",
     "iopub.status.busy": "2025-03-03T11:40:11.063808Z",
     "iopub.status.idle": "2025-03-03T11:40:11.099494Z",
     "shell.execute_reply": "2025-03-03T11:40:11.099206Z",
     "shell.execute_reply.started": "2025-03-03T11:40:11.063908Z"
    }
   },
   "outputs": [
    {
     "data": {
      "text/html": [
       "<pre style=\"white-space:pre;overflow-x:auto;line-height:normal;font-family:Menlo,'DejaVu Sans Mono',consolas,'Courier New',monospace\"><span style=\"font-weight: bold\">Model: \"sequential\"</span>\n",
       "</pre>\n"
      ],
      "text/plain": [
       "\u001b[1mModel: \"sequential\"\u001b[0m\n"
      ]
     },
     "metadata": {},
     "output_type": "display_data"
    },
    {
     "data": {
      "text/html": [
       "<pre style=\"white-space:pre;overflow-x:auto;line-height:normal;font-family:Menlo,'DejaVu Sans Mono',consolas,'Courier New',monospace\">┏━━━━━━━━━━━━━━━━━━━━━━━━━━━━━━━━━┳━━━━━━━━━━━━━━━━━━━━━━━━┳━━━━━━━━━━━━━━━┓\n",
       "┃<span style=\"font-weight: bold\"> Layer (type)                    </span>┃<span style=\"font-weight: bold\"> Output Shape           </span>┃<span style=\"font-weight: bold\">       Param # </span>┃\n",
       "┡━━━━━━━━━━━━━━━━━━━━━━━━━━━━━━━━━╇━━━━━━━━━━━━━━━━━━━━━━━━╇━━━━━━━━━━━━━━━┩\n",
       "│ resizing (<span style=\"color: #0087ff; text-decoration-color: #0087ff\">Resizing</span>)             │ (<span style=\"color: #00d7ff; text-decoration-color: #00d7ff\">None</span>, <span style=\"color: #00af00; text-decoration-color: #00af00\">32</span>, <span style=\"color: #00af00; text-decoration-color: #00af00\">32</span>, <span style=\"color: #00af00; text-decoration-color: #00af00\">1</span>)      │             <span style=\"color: #00af00; text-decoration-color: #00af00\">0</span> │\n",
       "├─────────────────────────────────┼────────────────────────┼───────────────┤\n",
       "│ normalization (<span style=\"color: #0087ff; text-decoration-color: #0087ff\">Normalization</span>)   │ (<span style=\"color: #00d7ff; text-decoration-color: #00d7ff\">None</span>, <span style=\"color: #00af00; text-decoration-color: #00af00\">32</span>, <span style=\"color: #00af00; text-decoration-color: #00af00\">32</span>, <span style=\"color: #00af00; text-decoration-color: #00af00\">1</span>)      │             <span style=\"color: #00af00; text-decoration-color: #00af00\">3</span> │\n",
       "├─────────────────────────────────┼────────────────────────┼───────────────┤\n",
       "│ conv2d (<span style=\"color: #0087ff; text-decoration-color: #0087ff\">Conv2D</span>)                 │ (<span style=\"color: #00d7ff; text-decoration-color: #00d7ff\">None</span>, <span style=\"color: #00af00; text-decoration-color: #00af00\">30</span>, <span style=\"color: #00af00; text-decoration-color: #00af00\">30</span>, <span style=\"color: #00af00; text-decoration-color: #00af00\">32</span>)     │           <span style=\"color: #00af00; text-decoration-color: #00af00\">320</span> │\n",
       "├─────────────────────────────────┼────────────────────────┼───────────────┤\n",
       "│ conv2d_1 (<span style=\"color: #0087ff; text-decoration-color: #0087ff\">Conv2D</span>)               │ (<span style=\"color: #00d7ff; text-decoration-color: #00d7ff\">None</span>, <span style=\"color: #00af00; text-decoration-color: #00af00\">28</span>, <span style=\"color: #00af00; text-decoration-color: #00af00\">28</span>, <span style=\"color: #00af00; text-decoration-color: #00af00\">64</span>)     │        <span style=\"color: #00af00; text-decoration-color: #00af00\">18,496</span> │\n",
       "├─────────────────────────────────┼────────────────────────┼───────────────┤\n",
       "│ max_pooling2d (<span style=\"color: #0087ff; text-decoration-color: #0087ff\">MaxPooling2D</span>)    │ (<span style=\"color: #00d7ff; text-decoration-color: #00d7ff\">None</span>, <span style=\"color: #00af00; text-decoration-color: #00af00\">14</span>, <span style=\"color: #00af00; text-decoration-color: #00af00\">14</span>, <span style=\"color: #00af00; text-decoration-color: #00af00\">64</span>)     │             <span style=\"color: #00af00; text-decoration-color: #00af00\">0</span> │\n",
       "├─────────────────────────────────┼────────────────────────┼───────────────┤\n",
       "│ dropout (<span style=\"color: #0087ff; text-decoration-color: #0087ff\">Dropout</span>)               │ (<span style=\"color: #00d7ff; text-decoration-color: #00d7ff\">None</span>, <span style=\"color: #00af00; text-decoration-color: #00af00\">14</span>, <span style=\"color: #00af00; text-decoration-color: #00af00\">14</span>, <span style=\"color: #00af00; text-decoration-color: #00af00\">64</span>)     │             <span style=\"color: #00af00; text-decoration-color: #00af00\">0</span> │\n",
       "├─────────────────────────────────┼────────────────────────┼───────────────┤\n",
       "│ flatten (<span style=\"color: #0087ff; text-decoration-color: #0087ff\">Flatten</span>)               │ (<span style=\"color: #00d7ff; text-decoration-color: #00d7ff\">None</span>, <span style=\"color: #00af00; text-decoration-color: #00af00\">12544</span>)          │             <span style=\"color: #00af00; text-decoration-color: #00af00\">0</span> │\n",
       "├─────────────────────────────────┼────────────────────────┼───────────────┤\n",
       "│ dense (<span style=\"color: #0087ff; text-decoration-color: #0087ff\">Dense</span>)                   │ (<span style=\"color: #00d7ff; text-decoration-color: #00d7ff\">None</span>, <span style=\"color: #00af00; text-decoration-color: #00af00\">128</span>)            │     <span style=\"color: #00af00; text-decoration-color: #00af00\">1,605,760</span> │\n",
       "├─────────────────────────────────┼────────────────────────┼───────────────┤\n",
       "│ dropout_1 (<span style=\"color: #0087ff; text-decoration-color: #0087ff\">Dropout</span>)             │ (<span style=\"color: #00d7ff; text-decoration-color: #00d7ff\">None</span>, <span style=\"color: #00af00; text-decoration-color: #00af00\">128</span>)            │             <span style=\"color: #00af00; text-decoration-color: #00af00\">0</span> │\n",
       "├─────────────────────────────────┼────────────────────────┼───────────────┤\n",
       "│ dense_1 (<span style=\"color: #0087ff; text-decoration-color: #0087ff\">Dense</span>)                 │ (<span style=\"color: #00d7ff; text-decoration-color: #00d7ff\">None</span>, <span style=\"color: #00af00; text-decoration-color: #00af00\">14</span>)             │         <span style=\"color: #00af00; text-decoration-color: #00af00\">1,806</span> │\n",
       "└─────────────────────────────────┴────────────────────────┴───────────────┘\n",
       "</pre>\n"
      ],
      "text/plain": [
       "┏━━━━━━━━━━━━━━━━━━━━━━━━━━━━━━━━━┳━━━━━━━━━━━━━━━━━━━━━━━━┳━━━━━━━━━━━━━━━┓\n",
       "┃\u001b[1m \u001b[0m\u001b[1mLayer (type)                   \u001b[0m\u001b[1m \u001b[0m┃\u001b[1m \u001b[0m\u001b[1mOutput Shape          \u001b[0m\u001b[1m \u001b[0m┃\u001b[1m \u001b[0m\u001b[1m      Param #\u001b[0m\u001b[1m \u001b[0m┃\n",
       "┡━━━━━━━━━━━━━━━━━━━━━━━━━━━━━━━━━╇━━━━━━━━━━━━━━━━━━━━━━━━╇━━━━━━━━━━━━━━━┩\n",
       "│ resizing (\u001b[38;5;33mResizing\u001b[0m)             │ (\u001b[38;5;45mNone\u001b[0m, \u001b[38;5;34m32\u001b[0m, \u001b[38;5;34m32\u001b[0m, \u001b[38;5;34m1\u001b[0m)      │             \u001b[38;5;34m0\u001b[0m │\n",
       "├─────────────────────────────────┼────────────────────────┼───────────────┤\n",
       "│ normalization (\u001b[38;5;33mNormalization\u001b[0m)   │ (\u001b[38;5;45mNone\u001b[0m, \u001b[38;5;34m32\u001b[0m, \u001b[38;5;34m32\u001b[0m, \u001b[38;5;34m1\u001b[0m)      │             \u001b[38;5;34m3\u001b[0m │\n",
       "├─────────────────────────────────┼────────────────────────┼───────────────┤\n",
       "│ conv2d (\u001b[38;5;33mConv2D\u001b[0m)                 │ (\u001b[38;5;45mNone\u001b[0m, \u001b[38;5;34m30\u001b[0m, \u001b[38;5;34m30\u001b[0m, \u001b[38;5;34m32\u001b[0m)     │           \u001b[38;5;34m320\u001b[0m │\n",
       "├─────────────────────────────────┼────────────────────────┼───────────────┤\n",
       "│ conv2d_1 (\u001b[38;5;33mConv2D\u001b[0m)               │ (\u001b[38;5;45mNone\u001b[0m, \u001b[38;5;34m28\u001b[0m, \u001b[38;5;34m28\u001b[0m, \u001b[38;5;34m64\u001b[0m)     │        \u001b[38;5;34m18,496\u001b[0m │\n",
       "├─────────────────────────────────┼────────────────────────┼───────────────┤\n",
       "│ max_pooling2d (\u001b[38;5;33mMaxPooling2D\u001b[0m)    │ (\u001b[38;5;45mNone\u001b[0m, \u001b[38;5;34m14\u001b[0m, \u001b[38;5;34m14\u001b[0m, \u001b[38;5;34m64\u001b[0m)     │             \u001b[38;5;34m0\u001b[0m │\n",
       "├─────────────────────────────────┼────────────────────────┼───────────────┤\n",
       "│ dropout (\u001b[38;5;33mDropout\u001b[0m)               │ (\u001b[38;5;45mNone\u001b[0m, \u001b[38;5;34m14\u001b[0m, \u001b[38;5;34m14\u001b[0m, \u001b[38;5;34m64\u001b[0m)     │             \u001b[38;5;34m0\u001b[0m │\n",
       "├─────────────────────────────────┼────────────────────────┼───────────────┤\n",
       "│ flatten (\u001b[38;5;33mFlatten\u001b[0m)               │ (\u001b[38;5;45mNone\u001b[0m, \u001b[38;5;34m12544\u001b[0m)          │             \u001b[38;5;34m0\u001b[0m │\n",
       "├─────────────────────────────────┼────────────────────────┼───────────────┤\n",
       "│ dense (\u001b[38;5;33mDense\u001b[0m)                   │ (\u001b[38;5;45mNone\u001b[0m, \u001b[38;5;34m128\u001b[0m)            │     \u001b[38;5;34m1,605,760\u001b[0m │\n",
       "├─────────────────────────────────┼────────────────────────┼───────────────┤\n",
       "│ dropout_1 (\u001b[38;5;33mDropout\u001b[0m)             │ (\u001b[38;5;45mNone\u001b[0m, \u001b[38;5;34m128\u001b[0m)            │             \u001b[38;5;34m0\u001b[0m │\n",
       "├─────────────────────────────────┼────────────────────────┼───────────────┤\n",
       "│ dense_1 (\u001b[38;5;33mDense\u001b[0m)                 │ (\u001b[38;5;45mNone\u001b[0m, \u001b[38;5;34m14\u001b[0m)             │         \u001b[38;5;34m1,806\u001b[0m │\n",
       "└─────────────────────────────────┴────────────────────────┴───────────────┘\n"
      ]
     },
     "metadata": {},
     "output_type": "display_data"
    },
    {
     "data": {
      "text/html": [
       "<pre style=\"white-space:pre;overflow-x:auto;line-height:normal;font-family:Menlo,'DejaVu Sans Mono',consolas,'Courier New',monospace\"><span style=\"font-weight: bold\"> Total params: </span><span style=\"color: #00af00; text-decoration-color: #00af00\">1,626,385</span> (6.20 MB)\n",
       "</pre>\n"
      ],
      "text/plain": [
       "\u001b[1m Total params: \u001b[0m\u001b[38;5;34m1,626,385\u001b[0m (6.20 MB)\n"
      ]
     },
     "metadata": {},
     "output_type": "display_data"
    },
    {
     "data": {
      "text/html": [
       "<pre style=\"white-space:pre;overflow-x:auto;line-height:normal;font-family:Menlo,'DejaVu Sans Mono',consolas,'Courier New',monospace\"><span style=\"font-weight: bold\"> Trainable params: </span><span style=\"color: #00af00; text-decoration-color: #00af00\">1,626,382</span> (6.20 MB)\n",
       "</pre>\n"
      ],
      "text/plain": [
       "\u001b[1m Trainable params: \u001b[0m\u001b[38;5;34m1,626,382\u001b[0m (6.20 MB)\n"
      ]
     },
     "metadata": {},
     "output_type": "display_data"
    },
    {
     "data": {
      "text/html": [
       "<pre style=\"white-space:pre;overflow-x:auto;line-height:normal;font-family:Menlo,'DejaVu Sans Mono',consolas,'Courier New',monospace\"><span style=\"font-weight: bold\"> Non-trainable params: </span><span style=\"color: #00af00; text-decoration-color: #00af00\">3</span> (16.00 B)\n",
       "</pre>\n"
      ],
      "text/plain": [
       "\u001b[1m Non-trainable params: \u001b[0m\u001b[38;5;34m3\u001b[0m (16.00 B)\n"
      ]
     },
     "metadata": {},
     "output_type": "display_data"
    }
   ],
   "source": [
    "model = models.Sequential([\n",
    "    layers.Input(shape=input_shape),\n",
    "    layers.Resizing(32, 32), # Изменение размера спектрограммы до 32x32 пикселей\n",
    "    norm_layer, # Применяем нормализацию данных\n",
    "    layers.Conv2D(32, 3, activation='relu'), # Свёрточный слой с 32 фильтрами, ядром 3x3 и активацией ReLU\n",
    "    layers.Conv2D(64, 3, activation='relu'), # Ещё один свёрточный слой, с 64 фильтрами\n",
    "    layers.MaxPooling2D(), # Слой подвыборки (макспулинг) для уменьшения размерности\n",
    "    layers.Dropout(0.25), # Регуляризация: исключаем 25% нейронов для предотвращения переобучения\n",
    "    layers.Flatten(), # Преобразуем 2D-тензор в одномерный вектор\n",
    "    layers.Dense(128, activation='relu'), # Полносвязный слой с 128 нейронами и активацией ReLU\n",
    "    layers.Dropout(0.5), # Ещё один слой Dropout, теперь с 50% вероятностью исключения нейронов\n",
    "    layers.Dense(num_labels), # Выходной слой, количество нейронов равно числу классов\n",
    "])\n",
    "\n",
    "model.summary()"
   ]
  },
  {
   "cell_type": "code",
   "execution_count": 16,
   "id": "4a00910c-4406-49c0-bf36-299776fb09ee",
   "metadata": {
    "execution": {
     "iopub.execute_input": "2025-03-03T11:40:11.100404Z",
     "iopub.status.busy": "2025-03-03T11:40:11.100297Z",
     "iopub.status.idle": "2025-03-03T11:40:11.106224Z",
     "shell.execute_reply": "2025-03-03T11:40:11.105982Z",
     "shell.execute_reply.started": "2025-03-03T11:40:11.100394Z"
    }
   },
   "outputs": [],
   "source": [
    "model.compile(\n",
    "    optimizer=tf.keras.optimizers.Adam(), # Оптимизатор Adam — адаптивный алгоритм градиентного спуска\n",
    "    loss=tf.keras.losses.SparseCategoricalCrossentropy(from_logits=True), # Функция потерь для многоклассовой классификации\n",
    "    metrics=['accuracy'], # Метрика оценки качества модели — точность (accuracy)\n",
    ")"
   ]
  },
  {
   "cell_type": "code",
   "execution_count": 17,
   "id": "cfcee5ca-5383-4d6a-aadf-b3c27d2865e3",
   "metadata": {
    "execution": {
     "iopub.execute_input": "2025-03-03T11:40:11.106670Z",
     "iopub.status.busy": "2025-03-03T11:40:11.106570Z",
     "iopub.status.idle": "2025-03-03T11:41:03.094519Z",
     "shell.execute_reply": "2025-03-03T11:41:03.093818Z",
     "shell.execute_reply.started": "2025-03-03T11:40:11.106660Z"
    }
   },
   "outputs": [
    {
     "name": "stdout",
     "output_type": "stream",
     "text": [
      "Epoch 1/50\n",
      "\u001b[1m100/100\u001b[0m \u001b[32m━━━━━━━━━━━━━━━━━━━━\u001b[0m\u001b[37m\u001b[0m \u001b[1m5s\u001b[0m 41ms/step - accuracy: 0.1729 - loss: 2.5100 - val_accuracy: 0.4125 - val_loss: 1.8991\n",
      "Epoch 2/50\n",
      "\u001b[1m100/100\u001b[0m \u001b[32m━━━━━━━━━━━━━━━━━━━━\u001b[0m\u001b[37m\u001b[0m \u001b[1m4s\u001b[0m 36ms/step - accuracy: 0.4154 - loss: 1.8224 - val_accuracy: 0.6075 - val_loss: 1.3784\n",
      "Epoch 3/50\n",
      "\u001b[1m100/100\u001b[0m \u001b[32m━━━━━━━━━━━━━━━━━━━━\u001b[0m\u001b[37m\u001b[0m \u001b[1m4s\u001b[0m 36ms/step - accuracy: 0.5633 - loss: 1.3691 - val_accuracy: 0.6500 - val_loss: 1.1264\n",
      "Epoch 4/50\n",
      "\u001b[1m100/100\u001b[0m \u001b[32m━━━━━━━━━━━━━━━━━━━━\u001b[0m\u001b[37m\u001b[0m \u001b[1m4s\u001b[0m 37ms/step - accuracy: 0.6538 - loss: 1.0892 - val_accuracy: 0.7150 - val_loss: 0.9130\n",
      "Epoch 5/50\n",
      "\u001b[1m100/100\u001b[0m \u001b[32m━━━━━━━━━━━━━━━━━━━━\u001b[0m\u001b[37m\u001b[0m \u001b[1m4s\u001b[0m 36ms/step - accuracy: 0.7072 - loss: 0.9104 - val_accuracy: 0.7262 - val_loss: 0.8630\n",
      "Epoch 6/50\n",
      "\u001b[1m100/100\u001b[0m \u001b[32m━━━━━━━━━━━━━━━━━━━━\u001b[0m\u001b[37m\u001b[0m \u001b[1m4s\u001b[0m 36ms/step - accuracy: 0.7443 - loss: 0.7980 - val_accuracy: 0.7638 - val_loss: 0.7467\n",
      "Epoch 7/50\n",
      "\u001b[1m100/100\u001b[0m \u001b[32m━━━━━━━━━━━━━━━━━━━━\u001b[0m\u001b[37m\u001b[0m \u001b[1m4s\u001b[0m 36ms/step - accuracy: 0.7634 - loss: 0.7063 - val_accuracy: 0.7525 - val_loss: 0.7308\n",
      "Epoch 8/50\n",
      "\u001b[1m100/100\u001b[0m \u001b[32m━━━━━━━━━━━━━━━━━━━━\u001b[0m\u001b[37m\u001b[0m \u001b[1m4s\u001b[0m 36ms/step - accuracy: 0.8045 - loss: 0.6244 - val_accuracy: 0.7738 - val_loss: 0.7106\n",
      "Epoch 9/50\n",
      "\u001b[1m100/100\u001b[0m \u001b[32m━━━━━━━━━━━━━━━━━━━━\u001b[0m\u001b[37m\u001b[0m \u001b[1m4s\u001b[0m 36ms/step - accuracy: 0.8085 - loss: 0.5839 - val_accuracy: 0.7825 - val_loss: 0.7075\n",
      "Epoch 10/50\n",
      "\u001b[1m100/100\u001b[0m \u001b[32m━━━━━━━━━━━━━━━━━━━━\u001b[0m\u001b[37m\u001b[0m \u001b[1m4s\u001b[0m 36ms/step - accuracy: 0.8171 - loss: 0.5263 - val_accuracy: 0.7950 - val_loss: 0.6705\n",
      "Epoch 11/50\n",
      "\u001b[1m100/100\u001b[0m \u001b[32m━━━━━━━━━━━━━━━━━━━━\u001b[0m\u001b[37m\u001b[0m \u001b[1m4s\u001b[0m 37ms/step - accuracy: 0.8311 - loss: 0.5057 - val_accuracy: 0.7900 - val_loss: 0.6891\n",
      "Epoch 12/50\n",
      "\u001b[1m100/100\u001b[0m \u001b[32m━━━━━━━━━━━━━━━━━━━━\u001b[0m\u001b[37m\u001b[0m \u001b[1m4s\u001b[0m 36ms/step - accuracy: 0.8520 - loss: 0.4548 - val_accuracy: 0.8112 - val_loss: 0.6121\n",
      "Epoch 13/50\n",
      "\u001b[1m100/100\u001b[0m \u001b[32m━━━━━━━━━━━━━━━━━━━━\u001b[0m\u001b[37m\u001b[0m \u001b[1m4s\u001b[0m 37ms/step - accuracy: 0.8701 - loss: 0.4043 - val_accuracy: 0.8062 - val_loss: 0.6452\n",
      "Epoch 14/50\n",
      "\u001b[1m100/100\u001b[0m \u001b[32m━━━━━━━━━━━━━━━━━━━━\u001b[0m\u001b[37m\u001b[0m \u001b[1m4s\u001b[0m 36ms/step - accuracy: 0.8713 - loss: 0.3878 - val_accuracy: 0.7962 - val_loss: 0.6964\n",
      "Epoch 14: early stopping\n"
     ]
    }
   ],
   "source": [
    "EPOCHS = 50\n",
    "history = model.fit(\n",
    "    train_ds, # Тренировочный набор\n",
    "    validation_data=val_ds, # Валидационный набор\n",
    "    epochs=EPOCHS, # Эпохи\n",
    "    callbacks=tf.keras.callbacks.EarlyStopping(verbose=1, patience=2), # Раннее прекращение обучения\n",
    ")"
   ]
  },
  {
   "cell_type": "code",
   "execution_count": 19,
   "id": "bff354c4-5c93-4948-a2a6-62e381309c49",
   "metadata": {
    "execution": {
     "iopub.execute_input": "2025-03-03T11:41:08.768703Z",
     "iopub.status.busy": "2025-03-03T11:41:08.768385Z",
     "iopub.status.idle": "2025-03-03T11:41:08.837158Z",
     "shell.execute_reply": "2025-03-03T11:41:08.836857Z",
     "shell.execute_reply.started": "2025-03-03T11:41:08.768681Z"
    }
   },
   "outputs": [
    {
     "data": {
      "image/png": "[encoded data removed]",
      "text/plain": [
       "<Figure size 640x480 with 1 Axes>"
      ]
     },
     "metadata": {},
     "output_type": "display_data"
    }
   ],
   "source": [
    "metrics = history.history\n",
    "plt.plot(history.epoch, metrics['loss'], metrics['val_loss'])\n",
    "plt.legend(['loss', 'val_loss'])\n",
    "plt.show()"
   ]
  },
  {
   "cell_type": "code",
   "execution_count": 20,
   "id": "8d66de2a-5a6c-4780-afad-e004936d1227",
   "metadata": {
    "execution": {
     "iopub.execute_input": "2025-03-03T11:41:09.495079Z",
     "iopub.status.busy": "2025-03-03T11:41:09.494750Z",
     "iopub.status.idle": "2025-03-03T11:41:09.662395Z",
     "shell.execute_reply": "2025-03-03T11:41:09.662110Z",
     "shell.execute_reply.started": "2025-03-03T11:41:09.495065Z"
    }
   },
   "outputs": [],
   "source": [
    "test_audio = []\n",
    "test_labels = []\n",
    "\n",
    "for audio, label in test_ds:\n",
    "  test_audio.append(audio.numpy()) # Преобразуем тензор в массив NumPy и добавляем в список\n",
    "  test_labels.append(label.numpy()) # Аналогично преобразуем метки\n",
    "\n",
    "# Преобразуем списки в массивы NumPy для удобной обработки\n",
    "test_audio = np.array(test_audio)\n",
    "test_labels = np.array(test_labels)"
   ]
  },
  {
   "cell_type": "code",
   "execution_count": 21,
   "id": "3c1aaa3f-8f12-44c7-9f3f-d850caf94d0b",
   "metadata": {
    "execution": {
     "iopub.execute_input": "2025-03-03T11:41:09.991102Z",
     "iopub.status.busy": "2025-03-03T11:41:09.990777Z",
     "iopub.status.idle": "2025-03-03T11:41:10.213074Z",
     "shell.execute_reply": "2025-03-03T11:41:10.212671Z",
     "shell.execute_reply.started": "2025-03-03T11:41:09.991088Z"
    }
   },
   "outputs": [
    {
     "name": "stdout",
     "output_type": "stream",
     "text": [
      "\u001b[1m25/25\u001b[0m \u001b[32m━━━━━━━━━━━━━━━━━━━━\u001b[0m\u001b[37m\u001b[0m \u001b[1m0s\u001b[0m 4ms/step\n",
      "Точность на тестовом наборе: 80%\n"
     ]
    }
   ],
   "source": [
    "y_pred = np.argmax(model.predict(test_audio), axis=1) # Получаем предсказания модели на тестовом наборе\n",
    "y_true = test_labels # Истинные метки классов\n",
    "\n",
    "test_acc = sum(y_pred == y_true) / len(y_true) # Вычисляем точность на тестовом наборе\n",
    "print(f'Точность на тестовом наборе: {test_acc:.0%}')"
   ]
  },
  {
   "cell_type": "code",
   "execution_count": 24,
   "id": "dbe0ef1a-7bc8-450d-957d-6b7520bd324e",
   "metadata": {
    "execution": {
     "iopub.execute_input": "2025-03-03T11:41:25.347118Z",
     "iopub.status.busy": "2025-03-03T11:41:25.346571Z",
     "iopub.status.idle": "2025-03-03T11:41:25.565262Z",
     "shell.execute_reply": "2025-03-03T11:41:25.564862Z",
     "shell.execute_reply.started": "2025-03-03T11:41:25.347101Z"
    }
   },
   "outputs": [
    {
     "data": {
      "image/png": "[encoded data removed]",
      "text/plain": [
       "<Figure size 1000x800 with 2 Axes>"
      ]
     },
     "metadata": {},
     "output_type": "display_data"
    }
   ],
   "source": [
    "confusion_mtx = tf.math.confusion_matrix(y_true, y_pred) # Вычисляем матрицу ошибок\n",
    "plt.figure(figsize=(10, 8))\n",
    "\n",
    "# Строим тепловую карту (heatmap) для визуализации матрицы ошибок\n",
    "# xticklabels=commands - метки классов для оси X (предсказанные значения)\n",
    "# yticklabels=commands - метки классов для оси Y (истинные значения)\n",
    "# annot=True - отображать значения в ячейках матрицы\n",
    "# fmt='g' - формат отображения чисел (общий формат, без лишних знаков)\n",
    "sns.heatmap(confusion_mtx,\n",
    "            xticklabels=commands,\n",
    "            yticklabels=commands,\n",
    "            annot=True, fmt='g')\n",
    "plt.xlabel('Prediction')\n",
    "plt.ylabel('Label')\n",
    "plt.show()"
   ]
  },
  {
   "cell_type": "code",
   "execution_count": 27,
   "id": "dfa9cc45-2cea-478d-80c4-6e01b602a19d",
   "metadata": {
    "execution": {
     "iopub.execute_input": "2025-03-03T11:41:35.872720Z",
     "iopub.status.busy": "2025-03-03T11:41:35.872390Z",
     "iopub.status.idle": "2025-03-03T11:41:35.930650Z",
     "shell.execute_reply": "2025-03-03T11:41:35.930359Z",
     "shell.execute_reply.started": "2025-03-03T11:41:35.872707Z"
    }
   },
   "outputs": [],
   "source": [
    "model.save('../Models/14cl_simplecnn.keras')"
   ]
  },
  {
   "cell_type": "code",
   "execution_count": null,
   "id": "cede2809-101b-43dc-8bab-6f145c50f71d",
   "metadata": {},
   "outputs": [],
   "source": []
  }
 ],
 "metadata": {
  "kernelspec": {
   "display_name": "Python 3 (ipykernel)",
   "language": "python",
   "name": "python3"
  },
  "language_info": {
   "codemirror_mode": {
    "name": "ipython",
    "version": 3
   },
   "file_extension": ".py",
   "mimetype": "text/x-python",
   "name": "python",
   "nbconvert_exporter": "python",
   "pygments_lexer": "ipython3",
   "version": "3.12.2"
  }
 },
 "nbformat": 4,
 "nbformat_minor": 5
}
