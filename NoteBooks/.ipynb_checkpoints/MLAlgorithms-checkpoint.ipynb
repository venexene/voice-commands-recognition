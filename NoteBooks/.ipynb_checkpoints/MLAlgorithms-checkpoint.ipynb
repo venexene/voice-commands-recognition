{
 "cells": [
  {
   "cell_type": "code",
   "execution_count": 1,
   "id": "cfc2d04d-cc99-4b1b-8a44-f168030b182f",
   "metadata": {
    "execution": {
     "iopub.execute_input": "2025-03-03T17:22:44.498650Z",
     "iopub.status.busy": "2025-03-03T17:22:44.498535Z",
     "iopub.status.idle": "2025-03-03T17:22:46.363733Z",
     "shell.execute_reply": "2025-03-03T17:22:46.363395Z",
     "shell.execute_reply.started": "2025-03-03T17:22:44.498639Z"
    }
   },
   "outputs": [
    {
     "name": "stderr",
     "output_type": "stream",
     "text": [
      "2025-03-03 20:22:45.189079: E external/local_xla/xla/stream_executor/cuda/cuda_fft.cc:477] Unable to register cuFFT factory: Attempting to register factory for plugin cuFFT when one has already been registered\n",
      "WARNING: All log messages before absl::InitializeLog() is called are written to STDERR\n",
      "E0000 00:00:1741022565.200503   31800 cuda_dnn.cc:8310] Unable to register cuDNN factory: Attempting to register factory for plugin cuDNN when one has already been registered\n",
      "E0000 00:00:1741022565.203961   31800 cuda_blas.cc:1418] Unable to register cuBLAS factory: Attempting to register factory for plugin cuBLAS when one has already been registered\n",
      "2025-03-03 20:22:45.216880: I tensorflow/core/platform/cpu_feature_guard.cc:210] This TensorFlow binary is optimized to use available CPU instructions in performance-critical operations.\n",
      "To enable the following instructions: AVX2 FMA, in other operations, rebuild TensorFlow with the appropriate compiler flags.\n"
     ]
    }
   ],
   "source": [
    "from sklearn.svm import SVC\n",
    "from sklearn.ensemble import RandomForestClassifier\n",
    "from sklearn.neighbors import KNeighborsClassifier\n",
    "from sklearn.linear_model import LogisticRegression\n",
    "from sklearn.metrics import accuracy_score\n",
    "import tensorflow as tf\n",
    "import pathlib\n",
    "import numpy as np\n",
    "import os\n",
    "os.environ['CUDA_VISIBLE_DEVICES'] = '-1'"
   ]
  },
  {
   "cell_type": "code",
   "execution_count": 2,
   "id": "829333e6-c937-4039-b058-9f1bb7953c4e",
   "metadata": {
    "execution": {
     "iopub.execute_input": "2025-03-03T17:22:46.364238Z",
     "iopub.status.busy": "2025-03-03T17:22:46.364036Z",
     "iopub.status.idle": "2025-03-03T17:22:46.366203Z",
     "shell.execute_reply": "2025-03-03T17:22:46.365965Z",
     "shell.execute_reply.started": "2025-03-03T17:22:46.364226Z"
    }
   },
   "outputs": [
    {
     "name": "stdout",
     "output_type": "stream",
     "text": [
      "2.18.0\n"
     ]
    }
   ],
   "source": [
    "print(tf.__version__)"
   ]
  },
  {
   "cell_type": "code",
   "execution_count": 3,
   "id": "a44e50a6-12b1-4a90-b4c5-f493621dafac",
   "metadata": {
    "execution": {
     "iopub.execute_input": "2025-03-03T17:22:46.366541Z",
     "iopub.status.busy": "2025-03-03T17:22:46.366442Z",
     "iopub.status.idle": "2025-03-03T17:22:46.372070Z",
     "shell.execute_reply": "2025-03-03T17:22:46.371841Z",
     "shell.execute_reply.started": "2025-03-03T17:22:46.366533Z"
    }
   },
   "outputs": [
    {
     "name": "stdout",
     "output_type": "stream",
     "text": [
      "Команды: ['zero' 'up' 'right' 'three' 'on' 'two' 'four' 'yes' 'five' 'one' 'left'\n",
      " 'down' 'no' 'off']\n"
     ]
    }
   ],
   "source": [
    "dataset_path = '../DataSet/base_train'\n",
    "\n",
    "# Преобразуем путь в объект pathlib.Path для удобной работы с файловой системой\n",
    "data_dir = pathlib.Path(dataset_path)\n",
    "\n",
    "# Получаем список файлов и директорий в указанной директории и преобразуем его в массив NumPy\n",
    "commands = np.array(tf.io.gfile.listdir(str(data_dir)))\n",
    "\n",
    "print('Команды:', commands)"
   ]
  },
  {
   "cell_type": "code",
   "execution_count": 4,
   "id": "76ebc6cb-da69-470b-b2b6-de9b1bbe808a",
   "metadata": {
    "execution": {
     "iopub.execute_input": "2025-03-03T17:22:46.372393Z",
     "iopub.status.busy": "2025-03-03T17:22:46.372297Z",
     "iopub.status.idle": "2025-03-03T17:22:46.429078Z",
     "shell.execute_reply": "2025-03-03T17:22:46.428777Z",
     "shell.execute_reply.started": "2025-03-03T17:22:46.372384Z"
    }
   },
   "outputs": [
    {
     "name": "stdout",
     "output_type": "stream",
     "text": [
      "Количество записей: 33134\n"
     ]
    },
    {
     "name": "stderr",
     "output_type": "stream",
     "text": [
      "2025-03-03 20:22:46.412219: E external/local_xla/xla/stream_executor/cuda/cuda_driver.cc:152] failed call to cuInit: INTERNAL: CUDA error: Failed call to cuInit: CUDA_ERROR_NO_DEVICE: no CUDA-capable device is detected\n",
      "2025-03-03 20:22:46.412240: I external/local_xla/xla/stream_executor/cuda/cuda_diagnostics.cc:137] retrieving CUDA diagnostic information for host: flayven-MS-7C91\n",
      "2025-03-03 20:22:46.412246: I external/local_xla/xla/stream_executor/cuda/cuda_diagnostics.cc:144] hostname: flayven-MS-7C91\n",
      "2025-03-03 20:22:46.412329: I external/local_xla/xla/stream_executor/cuda/cuda_diagnostics.cc:168] libcuda reported version is: 550.120.0\n",
      "2025-03-03 20:22:46.412345: I external/local_xla/xla/stream_executor/cuda/cuda_diagnostics.cc:172] kernel reported version is: 550.120.0\n",
      "2025-03-03 20:22:46.412349: I external/local_xla/xla/stream_executor/cuda/cuda_diagnostics.cc:259] kernel version seems to match DSO: 550.120.0\n"
     ]
    }
   ],
   "source": [
    "file_names = tf.io.gfile.glob(str(data_dir) + '/*/*') # Получаем список всех файлов в подкаталогах указанной директории\n",
    "file_names = tf.random.shuffle(file_names) # Перемешиваем\n",
    "print('Количество записей:', len(file_names))"
   ]
  },
  {
   "cell_type": "code",
   "execution_count": 5,
   "id": "081d5047-dba0-4e47-8897-5e8eaed8864d",
   "metadata": {
    "execution": {
     "iopub.execute_input": "2025-03-03T17:22:46.429474Z",
     "iopub.status.busy": "2025-03-03T17:22:46.429375Z",
     "iopub.status.idle": "2025-03-03T17:22:46.434431Z",
     "shell.execute_reply": "2025-03-03T17:22:46.434166Z",
     "shell.execute_reply.started": "2025-03-03T17:22:46.429464Z"
    }
   },
   "outputs": [
    {
     "name": "stdout",
     "output_type": "stream",
     "text": [
      "Размер обучающего набора: 6400\n",
      "Размер набора валидации: 800\n",
      "Размер тестового набора: 800\n"
     ]
    }
   ],
   "source": [
    "train_files = file_names[:6400]\n",
    "val_files = file_names[6400: 6400 + 800]\n",
    "test_files = file_names[-800:]\n",
    "\n",
    "print('Размер обучающего набора:', len(train_files))\n",
    "print('Размер набора валидации:', len(val_files))\n",
    "print('Размер тестового набора:', len(test_files))"
   ]
  },
  {
   "cell_type": "code",
   "execution_count": 6,
   "id": "3ebe6472-4145-48c9-8221-cf574aacd61c",
   "metadata": {
    "execution": {
     "iopub.execute_input": "2025-03-03T17:22:46.435394Z",
     "iopub.status.busy": "2025-03-03T17:22:46.435287Z",
     "iopub.status.idle": "2025-03-03T17:22:46.437411Z",
     "shell.execute_reply": "2025-03-03T17:22:46.437109Z",
     "shell.execute_reply.started": "2025-03-03T17:22:46.435384Z"
    }
   },
   "outputs": [],
   "source": [
    "def decode_audio(audio_binary):\n",
    "  audio, _ = tf.audio.decode_wav(contents=audio_binary)  # Декодируем бинарные данные в аудиофайл формата WAV\n",
    "  return tf.squeeze(audio, axis=-1) # Убираем лишнее измерение"
   ]
  },
  {
   "cell_type": "code",
   "execution_count": 7,
   "id": "4808154a-49ce-4ff3-b377-209dab747a9f",
   "metadata": {
    "execution": {
     "iopub.execute_input": "2025-03-03T17:22:46.437901Z",
     "iopub.status.busy": "2025-03-03T17:22:46.437763Z",
     "iopub.status.idle": "2025-03-03T17:22:46.441299Z",
     "shell.execute_reply": "2025-03-03T17:22:46.440975Z",
     "shell.execute_reply.started": "2025-03-03T17:22:46.437889Z"
    }
   },
   "outputs": [],
   "source": [
    "def get_label(file_path):\n",
    "  parts = tf.strings.split(input=file_path,sep=os.path.sep) # Разбиваем строку пути к файлу на части, используя разделитель\n",
    "  return parts[-2] # Возвращаем название папки-класса"
   ]
  },
  {
   "cell_type": "code",
   "execution_count": 8,
   "id": "49709f24-6813-4aeb-8776-d02a4d7074bc",
   "metadata": {
    "execution": {
     "iopub.execute_input": "2025-03-03T17:22:46.441697Z",
     "iopub.status.busy": "2025-03-03T17:22:46.441594Z",
     "iopub.status.idle": "2025-03-03T17:22:46.446623Z",
     "shell.execute_reply": "2025-03-03T17:22:46.446386Z",
     "shell.execute_reply.started": "2025-03-03T17:22:46.441687Z"
    }
   },
   "outputs": [],
   "source": [
    "def get_waveform_and_label(file_path):\n",
    "  label = get_label(file_path) \n",
    "  audio_binary = tf.io.read_file(file_path) # Читаем аудиофайл в бинарном формате\n",
    "  waveform = decode_audio(audio_binary)\n",
    "  return waveform, label"
   ]
  },
  {
   "cell_type": "code",
   "execution_count": 9,
   "id": "4b3d2a4b-d616-4d30-bcf5-f56f23f16d35",
   "metadata": {
    "execution": {
     "iopub.execute_input": "2025-03-03T17:22:46.447024Z",
     "iopub.status.busy": "2025-03-03T17:22:46.446917Z",
     "iopub.status.idle": "2025-03-03T17:22:46.450884Z",
     "shell.execute_reply": "2025-03-03T17:22:46.450618Z",
     "shell.execute_reply.started": "2025-03-03T17:22:46.447015Z"
    }
   },
   "outputs": [],
   "source": [
    "def get_spectrogram(waveform):\n",
    "    input_len = 16000\n",
    "    waveform = waveform[:input_len] # Обрезаем аудиосигнал до заданной длины\n",
    "    \n",
    "    # Создаём нулевой тензор для дополнения коротких сигналов до нужной длины\n",
    "    zero_padding = tf.zeros([16000] - tf.shape(waveform), dtype=tf.float32)\n",
    "\n",
    "    # Преобразуем тип данных аудиосигнала в float32\n",
    "    waveform = tf.cast(waveform, dtype=tf.float32)\n",
    "    \n",
    "    # Объединяем оригинальный сигнал с нулевым дополнением, чтобы все сигналы имели одинаковую длину\n",
    "    equal_length = tf.concat([waveform, zero_padding], 0)\n",
    "\n",
    "    # Применяем краткосрочное преобразование Фурье (STFT) для получения спектрограммы\n",
    "    spectrogram = tf.signal.stft(equal_length, frame_length=255, frame_step=128)\n",
    "    spectrogram = tf.abs(spectrogram) # Получаем амплитудный спектр\n",
    "    spectrogram = spectrogram[..., tf.newaxis]  # Добавляем новое измерение\n",
    "    return spectrogram"
   ]
  },
  {
   "cell_type": "code",
   "execution_count": 10,
   "id": "79a3b3f5-a6e8-4ce3-9359-38aa8bb6fdd9",
   "metadata": {
    "execution": {
     "iopub.execute_input": "2025-03-03T17:22:46.452055Z",
     "iopub.status.busy": "2025-03-03T17:22:46.451943Z",
     "iopub.status.idle": "2025-03-03T17:22:46.455622Z",
     "shell.execute_reply": "2025-03-03T17:22:46.455314Z",
     "shell.execute_reply.started": "2025-03-03T17:22:46.452042Z"
    }
   },
   "outputs": [],
   "source": [
    "def get_spectrogram_and_label_id(audio, label):\n",
    "  spectrogram = get_spectrogram(audio)\n",
    "  label_id = tf.argmax(label == commands) # Определяем индекс метки в массиве команд\n",
    "  return spectrogram, label_id"
   ]
  },
  {
   "cell_type": "code",
   "execution_count": 11,
   "id": "7007bdb0-6f09-4d76-80a4-94dd942555a0",
   "metadata": {
    "execution": {
     "iopub.execute_input": "2025-03-03T17:22:46.456075Z",
     "iopub.status.busy": "2025-03-03T17:22:46.455979Z",
     "iopub.status.idle": "2025-03-03T17:22:46.459668Z",
     "shell.execute_reply": "2025-03-03T17:22:46.459433Z",
     "shell.execute_reply.started": "2025-03-03T17:22:46.456066Z"
    }
   },
   "outputs": [],
   "source": [
    "def preprocess_dataset(files):\n",
    "    files_ds = tf.data.Dataset.from_tensor_slices(files) # Создаём TensorFlow Dataset из списка файлов\n",
    "    \n",
    "    # Применяем две функции обработки:\n",
    "    # 1. get_waveform_and_label — загружает аудиофайл, декодирует его в форму волны и извлекает метку\n",
    "    # 2. get_spectrogram_and_label_id — преобразует форму волны в спектрограмму и присваивает числовой идентификатор метке\n",
    "    output_ds = files_ds.map(map_func=get_waveform_and_label).map(map_func=get_spectrogram_and_label_id)\n",
    "    \n",
    "    return output_ds"
   ]
  },
  {
   "cell_type": "code",
   "execution_count": 12,
   "id": "516b5a1a-d719-430d-828a-13000a49eba2",
   "metadata": {
    "execution": {
     "iopub.execute_input": "2025-03-03T17:22:46.460054Z",
     "iopub.status.busy": "2025-03-03T17:22:46.459953Z",
     "iopub.status.idle": "2025-03-03T17:22:46.692393Z",
     "shell.execute_reply": "2025-03-03T17:22:46.692057Z",
     "shell.execute_reply.started": "2025-03-03T17:22:46.460044Z"
    }
   },
   "outputs": [],
   "source": [
    "spectrogram_ds = preprocess_dataset(train_files)\n",
    "train_ds = spectrogram_ds\n",
    "val_ds = preprocess_dataset(val_files)\n",
    "test_ds = preprocess_dataset(test_files)"
   ]
  },
  {
   "cell_type": "code",
   "execution_count": 13,
   "id": "da27cddb-7d4b-475f-b058-6d3c9723896a",
   "metadata": {
    "execution": {
     "iopub.execute_input": "2025-03-03T17:22:46.692828Z",
     "iopub.status.busy": "2025-03-03T17:22:46.692725Z",
     "iopub.status.idle": "2025-03-03T17:22:46.694961Z",
     "shell.execute_reply": "2025-03-03T17:22:46.694641Z",
     "shell.execute_reply.started": "2025-03-03T17:22:46.692818Z"
    }
   },
   "outputs": [],
   "source": [
    "# Функция для преобразования датасета в массивы NumPy\n",
    "def dataset_to_numpy(dataset):\n",
    "    X, y = [], []\n",
    "    for spectrogram, label in dataset:\n",
    "        X.append(tf.reshape(spectrogram, [-1]).numpy())  # Преобразуем спектрограмму в вектор\n",
    "        y.append(label.numpy())  # Метки классов\n",
    "    return np.array(X), np.array(y)"
   ]
  },
  {
   "cell_type": "code",
   "execution_count": 14,
   "id": "aeaccabd-d68e-4e11-95d1-8f3221999bf4",
   "metadata": {
    "execution": {
     "iopub.execute_input": "2025-03-03T17:22:46.695343Z",
     "iopub.status.busy": "2025-03-03T17:22:46.695237Z",
     "iopub.status.idle": "2025-03-03T17:22:48.736530Z",
     "shell.execute_reply": "2025-03-03T17:22:48.736232Z",
     "shell.execute_reply.started": "2025-03-03T17:22:46.695333Z"
    }
   },
   "outputs": [
    {
     "name": "stderr",
     "output_type": "stream",
     "text": [
      "2025-03-03 20:22:48.196531: I tensorflow/core/framework/local_rendezvous.cc:405] Local rendezvous is aborting with status: OUT_OF_RANGE: End of sequence\n",
      "2025-03-03 20:22:48.482128: I tensorflow/core/framework/local_rendezvous.cc:405] Local rendezvous is aborting with status: OUT_OF_RANGE: End of sequence\n"
     ]
    }
   ],
   "source": [
    "# Преобразуем датасеты\n",
    "X_train, y_train = dataset_to_numpy(train_ds)\n",
    "X_val, y_val = dataset_to_numpy(val_ds)\n",
    "X_test, y_test = dataset_to_numpy(test_ds)"
   ]
  },
  {
   "cell_type": "code",
   "execution_count": 15,
   "id": "065f7160-7eef-4f79-80ab-bda5ab212fe4",
   "metadata": {
    "execution": {
     "iopub.execute_input": "2025-03-03T17:22:48.736948Z",
     "iopub.status.busy": "2025-03-03T17:22:48.736835Z",
     "iopub.status.idle": "2025-03-03T17:24:19.532064Z",
     "shell.execute_reply": "2025-03-03T17:24:19.531744Z",
     "shell.execute_reply.started": "2025-03-03T17:22:48.736937Z"
    }
   },
   "outputs": [
    {
     "name": "stdout",
     "output_type": "stream",
     "text": [
      "SVM accuracy on test data: 0.39\n"
     ]
    }
   ],
   "source": [
    "# Создаем и обучаем модель SVM\n",
    "svm_model = SVC(kernel='linear')\n",
    "svm_model.fit(X_train, y_train)\n",
    "\n",
    "y_pred = svm_model.predict(X_test)\n",
    "accuracy = accuracy_score(y_test, y_pred)\n",
    "print(f'SVM accuracy on test data: {accuracy:.2f}')"
   ]
  },
  {
   "cell_type": "code",
   "execution_count": 16,
   "id": "4cb68cd6-b369-4f8b-bc30-045bc3249d20",
   "metadata": {
    "execution": {
     "iopub.execute_input": "2025-03-03T17:24:19.532543Z",
     "iopub.status.busy": "2025-03-03T17:24:19.532429Z",
     "iopub.status.idle": "2025-03-03T17:25:24.421374Z",
     "shell.execute_reply": "2025-03-03T17:25:24.421047Z",
     "shell.execute_reply.started": "2025-03-03T17:24:19.532533Z"
    }
   },
   "outputs": [
    {
     "name": "stdout",
     "output_type": "stream",
     "text": [
      "Random Forest accuracy on test data: 0.61\n"
     ]
    }
   ],
   "source": [
    "# Создаем и обучаем модель Random Forest\n",
    "rf_model = RandomForestClassifier(n_estimators=100, random_state=42)\n",
    "rf_model.fit(X_train, y_train)\n",
    "\n",
    "y_pred = rf_model.predict(X_test)\n",
    "accuracy = accuracy_score(y_test, y_pred)\n",
    "print(f'Random Forest accuracy on test data: {accuracy:.2f}')"
   ]
  },
  {
   "cell_type": "code",
   "execution_count": 17,
   "id": "f382939f-bf34-4871-b40c-1d5692b2d9cd",
   "metadata": {
    "execution": {
     "iopub.execute_input": "2025-03-03T17:25:24.421774Z",
     "iopub.status.busy": "2025-03-03T17:25:24.421662Z",
     "iopub.status.idle": "2025-03-03T17:25:25.635918Z",
     "shell.execute_reply": "2025-03-03T17:25:25.635664Z",
     "shell.execute_reply.started": "2025-03-03T17:25:24.421758Z"
    }
   },
   "outputs": [
    {
     "name": "stdout",
     "output_type": "stream",
     "text": [
      "KNN accuracy on test data: 0.43\n"
     ]
    }
   ],
   "source": [
    "# Создаем и обучаем модель KNN\n",
    "knn_model = KNeighborsClassifier(n_neighbors=5)\n",
    "knn_model.fit(X_train, y_train)\n",
    "\n",
    "y_pred = knn_model.predict(X_test)\n",
    "accuracy = accuracy_score(y_test, y_pred)\n",
    "print(f'KNN accuracy on test data: {accuracy:.2f}')"
   ]
  },
  {
   "cell_type": "code",
   "execution_count": 18,
   "id": "9b3d8211-8e76-44d6-8a25-8cc06ee1b3d6",
   "metadata": {
    "execution": {
     "iopub.execute_input": "2025-03-03T17:25:25.636341Z",
     "iopub.status.busy": "2025-03-03T17:25:25.636238Z",
     "iopub.status.idle": "2025-03-03T17:27:12.180815Z",
     "shell.execute_reply": "2025-03-03T17:27:12.180301Z",
     "shell.execute_reply.started": "2025-03-03T17:25:25.636331Z"
    }
   },
   "outputs": [
    {
     "name": "stdout",
     "output_type": "stream",
     "text": [
      "Logistic Regression accuracy on test data: 0.42\n"
     ]
    }
   ],
   "source": [
    "# Создаем и обучаем модель логистической регрессии\n",
    "logreg_model = LogisticRegression(max_iter=1000)\n",
    "logreg_model.fit(X_train, y_train)\n",
    "\n",
    "y_pred = logreg_model.predict(X_test)\n",
    "accuracy = accuracy_score(y_test, y_pred)\n",
    "print(f'Logistic Regression accuracy on test data: {accuracy:.2f}')"
   ]
  }
 ],
 "metadata": {
  "kernelspec": {
   "display_name": "Python 3 (ipykernel)",
   "language": "python",
   "name": "python3"
  },
  "language_info": {
   "codemirror_mode": {
    "name": "ipython",
    "version": 3
   },
   "file_extension": ".py",
   "mimetype": "text/x-python",
   "name": "python",
   "nbconvert_exporter": "python",
   "pygments_lexer": "ipython3",
   "version": "3.12.2"
  }
 },
 "nbformat": 4,
 "nbformat_minor": 5
}
