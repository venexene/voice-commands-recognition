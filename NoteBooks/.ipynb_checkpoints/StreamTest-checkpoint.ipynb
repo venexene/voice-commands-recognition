{
 "cells": [
  {
   "cell_type": "code",
   "execution_count": 1,
   "id": "c38015ad-6852-4bc8-ab52-0af5defba068",
   "metadata": {
    "execution": {
     "iopub.execute_input": "2025-03-03T12:21:08.542508Z",
     "iopub.status.busy": "2025-03-03T12:21:08.542360Z",
     "iopub.status.idle": "2025-03-03T12:21:10.322745Z",
     "shell.execute_reply": "2025-03-03T12:21:10.322468Z",
     "shell.execute_reply.started": "2025-03-03T12:21:08.542494Z"
    }
   },
   "outputs": [
    {
     "name": "stderr",
     "output_type": "stream",
     "text": [
      "2025-03-03 15:21:08.719509: E external/local_xla/xla/stream_executor/cuda/cuda_fft.cc:477] Unable to register cuFFT factory: Attempting to register factory for plugin cuFFT when one has already been registered\n",
      "WARNING: All log messages before absl::InitializeLog() is called are written to STDERR\n",
      "E0000 00:00:1741004468.730489   21620 cuda_dnn.cc:8310] Unable to register cuDNN factory: Attempting to register factory for plugin cuDNN when one has already been registered\n",
      "E0000 00:00:1741004468.733904   21620 cuda_blas.cc:1418] Unable to register cuBLAS factory: Attempting to register factory for plugin cuBLAS when one has already been registered\n",
      "2025-03-03 15:21:08.745507: I tensorflow/core/platform/cpu_feature_guard.cc:210] This TensorFlow binary is optimized to use available CPU instructions in performance-critical operations.\n",
      "To enable the following instructions: AVX2 FMA, in other operations, rebuild TensorFlow with the appropriate compiler flags.\n"
     ]
    }
   ],
   "source": [
    "import webrtcvad\n",
    "from pynput import keyboard\n",
    "import pyaudio\n",
    "import collections\n",
    "import tensorflow as tf\n",
    "import numpy as np\n",
    "import os\n",
    "os.environ['CUDA_VISIBLE_DEVICES'] = '-1'"
   ]
  },
  {
   "cell_type": "code",
   "execution_count": 2,
   "id": "ae61c43a-571e-4aad-950e-105c70575b75",
   "metadata": {
    "execution": {
     "iopub.execute_input": "2025-03-03T12:16:03.429988Z",
     "iopub.status.busy": "2025-03-03T12:16:03.429783Z",
     "iopub.status.idle": "2025-03-03T12:16:03.432043Z",
     "shell.execute_reply": "2025-03-03T12:16:03.431640Z",
     "shell.execute_reply.started": "2025-03-03T12:16:03.429977Z"
    }
   },
   "outputs": [],
   "source": [
    "# Настройки VAD\n",
    "vad = webrtcvad.Vad()\n",
    "vad.set_mode(3)  # Агрессивный режим"
   ]
  },
  {
   "cell_type": "code",
   "execution_count": 3,
   "id": "24cb2aeb-ae2b-4961-ac54-8320bb1aecc3",
   "metadata": {
    "execution": {
     "iopub.execute_input": "2025-03-03T12:16:03.432505Z",
     "iopub.status.busy": "2025-03-03T12:16:03.432384Z",
     "iopub.status.idle": "2025-03-03T12:16:03.446563Z",
     "shell.execute_reply": "2025-03-03T12:16:03.446173Z",
     "shell.execute_reply.started": "2025-03-03T12:16:03.432494Z"
    }
   },
   "outputs": [],
   "source": [
    "# Настройки аудио\n",
    "RATE_ORIG = 48000  # Исходная частота дискретизации\n",
    "TARGET_RATE = 16000  # Целевая частота дискретизации\n",
    "CHUNK = 960  # Длина фрейма (30 мс для 16000 Гц)\n",
    "FORMAT = pyaudio.paInt16  # 16-битный формат\n",
    "CHANNELS = 1  # Моно\n",
    "audio_buffer = collections.deque(maxlen=int(RATE_ORIG * 1.5))  # Буфер на 1.5 секунды"
   ]
  },
  {
   "cell_type": "code",
   "execution_count": 4,
   "id": "ff13aa41-52fd-4a61-a41f-4aaf6fb575ed",
   "metadata": {
    "execution": {
     "iopub.execute_input": "2025-03-03T12:16:03.446968Z",
     "iopub.status.busy": "2025-03-03T12:16:03.446859Z",
     "iopub.status.idle": "2025-03-03T12:16:03.458861Z",
     "shell.execute_reply": "2025-03-03T12:16:03.458584Z",
     "shell.execute_reply.started": "2025-03-03T12:16:03.446958Z"
    }
   },
   "outputs": [],
   "source": [
    "def is_speech(audio_data):\n",
    "    if isinstance(audio_data, np.ndarray):\n",
    "        audio_data = audio_data.astype(np.int16).tobytes()  # Преобразование массива NumPy в формат байтов (int16)\n",
    "    return vad.is_speech(audio_data, sample_rate=RATE_ORIG) # Использование WebRTC VAD для определения наличия речи"
   ]
  },
  {
   "cell_type": "code",
   "execution_count": 5,
   "id": "b6f54eff-9e46-4682-8e64-9f3e9477e4d3",
   "metadata": {
    "execution": {
     "iopub.execute_input": "2025-03-03T12:16:03.459246Z",
     "iopub.status.busy": "2025-03-03T12:16:03.459145Z",
     "iopub.status.idle": "2025-03-03T12:16:03.471572Z",
     "shell.execute_reply": "2025-03-03T12:16:03.471235Z",
     "shell.execute_reply.started": "2025-03-03T12:16:03.459237Z"
    }
   },
   "outputs": [],
   "source": [
    "def save_audio(waveform, sample_rate, filename=\"output.wav\"):\n",
    "    waveform_int16 = np.int16(waveform * 32767) # Преобразование значений аудиосигнала из диапазона [-1, 1] в 16-битный формат PCM\n",
    "    scipy.io.wavfile.write(filename, sample_rate, waveform_int16) # Сохранение аудиофайла в формате WAV"
   ]
  },
  {
   "cell_type": "code",
   "execution_count": 6,
   "id": "bd076a50-a161-487d-bd4e-87c0b188affd",
   "metadata": {
    "execution": {
     "iopub.execute_input": "2025-03-03T12:16:03.472422Z",
     "iopub.status.busy": "2025-03-03T12:16:03.472310Z",
     "iopub.status.idle": "2025-03-03T12:16:03.484459Z",
     "shell.execute_reply": "2025-03-03T12:16:03.484189Z",
     "shell.execute_reply.started": "2025-03-03T12:16:03.472409Z"
    },
    "scrolled": true
   },
   "outputs": [],
   "source": [
    "def stream_audio(model, commands):\n",
    "    p = pyaudio.PyAudio() # Инициализация PyAudio\n",
    "    stream = p.open(format=FORMAT, channels=CHANNELS, rate=RATE_ORIG, input=True, frames_per_buffer=CHUNK)\n",
    "    print(\"Ожидается команда...\")\n",
    "    \n",
    "    try:\n",
    "        while True:\n",
    "            audio_data = stream.read(CHUNK, exception_on_overflow=False) # Чтение аудиофрагмента\n",
    "            \n",
    "            # Чтение аудиофрагмента (CHUNK = 960 выборок, что соответствует 30 мс при 16 кГц)\n",
    "            audio_np = np.frombuffer(audio_data, dtype=np.int16).astype(np.float32) / 32768.0\n",
    "            audio_buffer.extend(audio_np)  # Добавление данных в буфер (1.5 секунды)\n",
    "\n",
    "             # Проверка наличия речи и достаточного количества данных для обработки\n",
    "            print(is_speech(audio_data))\n",
    "            if is_speech(audio_data) and len(audio_buffer) >= RATE_ORIG:\n",
    "                print(1)\n",
    "                # Преобразование буфера в массив NumPy\n",
    "                waveform_orig = np.array(audio_buffer, dtype=np.float32)\n",
    "\n",
    "                # Изменение частоты дискретизации\n",
    "                waveform_resampled = librosa.resample(waveform_orig, orig_sr=RATE_ORIG, target_sr=TARGET_RATE)\n",
    "                # save_audio(waveform_resampled, TARGET_RATE, \"denoised_output.wav\")\n",
    "\n",
    "                # Преобразование массива в тензор TensorFlow\n",
    "                waveform_tensor = tf.convert_to_tensor(waveform_resampled, dtype=tf.float32)\n",
    "\n",
    "                # Распознавание команды и получение уверенности модели\n",
    "                command_id, confidence = predict_command(model, waveform_tensor)\n",
    "                if confidence > 0.7:\n",
    "                    print(f\"Распознано: {commands[command_id]}\")\n",
    "                    \n",
    "                audio_buffer.clear() # Очистка буфера после обработки\n",
    "    \n",
    "    except KeyboardInterrupt:\n",
    "        # Обработка прерывания (Ctrl+C)\n",
    "        print(\"\\nОстановка...\")\n",
    "        stream.stop_stream()\n",
    "        stream.close()\n",
    "        p.terminate()"
   ]
  },
  {
   "cell_type": "code",
   "execution_count": 20,
   "id": "7108b132-77ec-477d-9e33-c2ae417a2fc5",
   "metadata": {
    "execution": {
     "iopub.execute_input": "2025-03-01T08:43:24.195831Z",
     "iopub.status.busy": "2025-03-01T08:43:24.195401Z",
     "iopub.status.idle": "2025-03-01T08:44:46.333820Z",
     "shell.execute_reply": "2025-03-01T08:44:46.333488Z",
     "shell.execute_reply.started": "2025-03-01T08:43:24.195814Z"
    }
   },
   "outputs": [
    {
     "name": "stdout",
     "output_type": "stream",
     "text": [
      "Ожидается команда...\n",
      "Распознано: up\n",
      "Распознано: no\n",
      "Распознано: up\n",
      "Распознано: off\n",
      "Распознано: off\n",
      "Распознано: on\n",
      "Распознано: off\n",
      "Распознано: right\n",
      "Распознано: five\n",
      "Распознано: two\n",
      "Распознано: two\n",
      "Распознано: right\n",
      "Распознано: left\n",
      "Распознано: up\n",
      "Распознано: right\n",
      "Распознано: two\n",
      "Распознано: up\n",
      "Распознано: left\n",
      "Распознано: left\n",
      "Распознано: yes\n",
      "Распознано: no\n",
      "Распознано: off\n",
      "Распознано: no\n",
      "Распознано: zero\n",
      "Распознано: yes\n",
      "\n",
      "Остановка...\n"
     ]
    }
   ],
   "source": [
    "model = tf.keras.models.load_model('SavedModels/14class_50epochs_base_model.keras')\n",
    "commands = ['zero', 'up', 'right', 'three', 'on', 'two', 'four', 'yes', 'five' ,'one', 'left', 'down', 'no', 'off']\n",
    "\n",
    "stream_audio(model, commands)"
   ]
  },
  {
   "cell_type": "code",
   "execution_count": null,
   "id": "c158f9b7-0193-4731-bd35-f07b25b395bc",
   "metadata": {},
   "outputs": [],
   "source": []
  },
  {
   "cell_type": "code",
   "execution_count": null,
   "id": "dc56d2d4-e2ad-4660-8eb8-02a67c91d9ec",
   "metadata": {},
   "outputs": [],
   "source": []
  }
 ],
 "metadata": {
  "kernelspec": {
   "display_name": "Python 3 (ipykernel)",
   "language": "python",
   "name": "python3"
  },
  "language_info": {
   "codemirror_mode": {
    "name": "ipython",
    "version": 3
   },
   "file_extension": ".py",
   "mimetype": "text/x-python",
   "name": "python",
   "nbconvert_exporter": "python",
   "pygments_lexer": "ipython3",
   "version": "3.12.2"
  }
 },
 "nbformat": 4,
 "nbformat_minor": 5
}
