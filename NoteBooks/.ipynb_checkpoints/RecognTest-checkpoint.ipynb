{
 "cells": [
  {
   "cell_type": "code",
   "execution_count": 1,
   "id": "cc222a26-21b0-44c8-bd4b-297971da5ce8",
   "metadata": {
    "execution": {
     "iopub.execute_input": "2025-03-03T17:38:01.549318Z",
     "iopub.status.busy": "2025-03-03T17:38:01.549219Z",
     "iopub.status.idle": "2025-03-03T17:38:03.464002Z",
     "shell.execute_reply": "2025-03-03T17:38:03.463655Z",
     "shell.execute_reply.started": "2025-03-03T17:38:01.549308Z"
    }
   },
   "outputs": [
    {
     "name": "stderr",
     "output_type": "stream",
     "text": [
      "2025-03-03 20:38:01.934307: E external/local_xla/xla/stream_executor/cuda/cuda_fft.cc:477] Unable to register cuFFT factory: Attempting to register factory for plugin cuFFT when one has already been registered\n",
      "WARNING: All log messages before absl::InitializeLog() is called are written to STDERR\n",
      "E0000 00:00:1741023481.944992   32643 cuda_dnn.cc:8310] Unable to register cuDNN factory: Attempting to register factory for plugin cuDNN when one has already been registered\n",
      "E0000 00:00:1741023481.948343   32643 cuda_blas.cc:1418] Unable to register cuBLAS factory: Attempting to register factory for plugin cuBLAS when one has already been registered\n",
      "2025-03-03 20:38:01.960223: I tensorflow/core/platform/cpu_feature_guard.cc:210] This TensorFlow binary is optimized to use available CPU instructions in performance-critical operations.\n",
      "To enable the following instructions: AVX2 FMA, in other operations, rebuild TensorFlow with the appropriate compiler flags.\n"
     ]
    }
   ],
   "source": [
    "from pynput import keyboard\n",
    "import sounddevice as sd\n",
    "import numpy as np\n",
    "import tensorflow as tf\n",
    "import librosa\n",
    "import os\n",
    "os.environ['CUDA_VISIBLE_DEVICES'] = '-1'"
   ]
  },
  {
   "cell_type": "code",
   "execution_count": 2,
   "id": "9c75bc5e-d63c-47f9-8f3c-d5a064472675",
   "metadata": {
    "execution": {
     "iopub.execute_input": "2025-03-03T17:38:03.464496Z",
     "iopub.status.busy": "2025-03-03T17:38:03.464309Z",
     "iopub.status.idle": "2025-03-03T17:38:03.466488Z",
     "shell.execute_reply": "2025-03-03T17:38:03.466230Z",
     "shell.execute_reply.started": "2025-03-03T17:38:03.464485Z"
    }
   },
   "outputs": [],
   "source": [
    "SAMPLE_RATE = 44100  # Частота дискретизации\n",
    "commands = ['zero', 'up', 'right', 'three', 'on', 'two', 'four', 'yes', 'five', 'one', 'left', 'down', 'no', 'off']\n",
    "recording = False\n",
    "buffer = []"
   ]
  },
  {
   "cell_type": "code",
   "execution_count": 3,
   "id": "37c8d7c2-4e86-48c3-8d70-65b7914b9bc6",
   "metadata": {
    "execution": {
     "iopub.execute_input": "2025-03-03T17:38:03.466933Z",
     "iopub.status.busy": "2025-03-03T17:38:03.466794Z",
     "iopub.status.idle": "2025-03-03T17:38:03.474074Z",
     "shell.execute_reply": "2025-03-03T17:38:03.473702Z",
     "shell.execute_reply.started": "2025-03-03T17:38:03.466923Z"
    }
   },
   "outputs": [],
   "source": [
    "# Функция обратного вызова для записи звука\n",
    "def callback(indata, frames, time, status):\n",
    "    if recording:\n",
    "        buffer.extend(indata[:, 0])\n",
    "        \n",
    "# Обработчик нажатия клавиши ALT\n",
    "def on_press_alt(key):\n",
    "    global recording, buffer\n",
    "    if key == keyboard.Key.alt:\n",
    "        if not recording:\n",
    "            print(\"Началась запись. Говорите команду...\")\n",
    "            buffer = []\n",
    "            recording = True\n",
    "\n",
    "# Обработчик отпускания клавиши ALT\n",
    "def on_release_alt(key):\n",
    "    global recording\n",
    "    if key == keyboard.Key.alt:\n",
    "        if recording:\n",
    "            print(\"Запись завершена.\")\n",
    "            recording = False\n",
    "            process_audio()"
   ]
  },
  {
   "cell_type": "code",
   "execution_count": 4,
   "id": "eec13395-eec7-4481-a1ba-6f333009f155",
   "metadata": {
    "execution": {
     "iopub.execute_input": "2025-03-03T17:38:03.474703Z",
     "iopub.status.busy": "2025-03-03T17:38:03.474423Z",
     "iopub.status.idle": "2025-03-03T17:38:03.478047Z",
     "shell.execute_reply": "2025-03-03T17:38:03.477801Z",
     "shell.execute_reply.started": "2025-03-03T17:38:03.474692Z"
    }
   },
   "outputs": [],
   "source": [
    "def process_audio():\n",
    "    global buffer # Используем глобальный буфер для хранения записанных данных\n",
    "    audio = np.array(buffer, dtype=np.float32)  # Преобразуем буфер в массив numpy с типом float32\n",
    "\n",
    "    # Проверяем, есть ли в аудио речь\n",
    "    if is_silent(audio, 0.03):\n",
    "        print(\"Нет речи, повторите команду...\")\n",
    "        return\n",
    "\n",
    "    # Изменяем частоту дискретизации аудиофайла с 44.1 кГц до 16 кГц\n",
    "    audio_resampled = librosa.resample(audio, orig_sr=44100, target_sr=16000)\n",
    "\n",
    "    # Передаем обработанное аудио в модель для распознавания команды\n",
    "    command_id, confidence= predict_command(loaded_model, audio_resampled)\n",
    "    \n",
    "    print(f\"Распознано: {commands[command_id]} с уверенностью {float(confidence):.3f}\")"
   ]
  },
  {
   "cell_type": "code",
   "execution_count": 5,
   "id": "477eaa9c-65a8-4c1f-bcbc-37bb3d21cbae",
   "metadata": {
    "execution": {
     "iopub.execute_input": "2025-03-03T17:38:03.478482Z",
     "iopub.status.busy": "2025-03-03T17:38:03.478329Z",
     "iopub.status.idle": "2025-03-03T17:38:03.483273Z",
     "shell.execute_reply": "2025-03-03T17:38:03.482970Z",
     "shell.execute_reply.started": "2025-03-03T17:38:03.478472Z"
    }
   },
   "outputs": [],
   "source": [
    "def get_spectrogram(waveform):\n",
    "    input_len = 16000 # Задаем длину входного аудиосигнала\n",
    "    waveform = waveform[:input_len] # Обрезаем аудиосигнал до заданной длины, если он длиннее\n",
    "    \n",
    "    # Вычисляем количество нулей, необходимых для дополнения сигнала до input_len, если он короче\n",
    "    zero_padding = tf.zeros([input_len] - tf.shape(waveform), dtype=tf.float32)\n",
    "    equal_length = tf.concat([waveform, zero_padding], 0) # Дополняем сигнал нулями до нужной длины\n",
    "\n",
    "    # Преобразуем аудиосигнал в спектрограмму с помощью коротковременного преобразования Фурье (STFT)\n",
    "    spectrogram = tf.signal.stft(equal_length, frame_length=255, frame_step=128)\n",
    "    spectrogram = tf.abs(spectrogram)  # Берем модуль комплексных значений спектрограммы, чтобы получить амплитуду\n",
    "    spectrogram = spectrogram[..., tf.newaxis] # Добавляем дополнительное измерение\n",
    "    return spectrogram"
   ]
  },
  {
   "cell_type": "code",
   "execution_count": 6,
   "id": "e4f97b58-1ad0-4de3-9959-d4b5535fdd89",
   "metadata": {
    "execution": {
     "iopub.execute_input": "2025-03-03T17:38:03.484246Z",
     "iopub.status.busy": "2025-03-03T17:38:03.484089Z",
     "iopub.status.idle": "2025-03-03T17:38:03.488986Z",
     "shell.execute_reply": "2025-03-03T17:38:03.488592Z",
     "shell.execute_reply.started": "2025-03-03T17:38:03.484231Z"
    }
   },
   "outputs": [],
   "source": [
    "def predict_command(model, waveform):\n",
    "    spectrogram = get_spectrogram(waveform)\n",
    "\n",
    "    # Изменяем размер спектрограммы до (32, 32) с помощью tf.image.resize\n",
    "    # Это необходимо, чтобы привести данные к размеру, ожидаемому моделью\n",
    "    spectrogram = tf.image.resize(spectrogram, (32, 32))\n",
    "\n",
    "    # Добавляем дополнительное измерение, чтобы спектрограмма имела форму (1, 32, 32, 1)\n",
    "    # Это требуется, так как модель ожидает входные данные в формате (батч, высота, ширина, каналы)\n",
    "    spectrogram = tf.expand_dims(spectrogram, axis=0)\n",
    "\n",
    "    predictions = model(spectrogram, training=False) # Передаем спектрограмму в модель для получения предсказаний\n",
    "    \n",
    "    confidence = np.max(tf.nn.softmax(predictions).numpy()) # Получаем уверенность\n",
    "    \n",
    "    predicted_label = tf.argmax(predictions, axis=1).numpy()[0] # Находим индекс класса с наибольшей вероятностью\n",
    "    \n",
    "    return predicted_label, confidence"
   ]
  },
  {
   "cell_type": "code",
   "execution_count": 7,
   "id": "c8080352-39ce-4846-9be3-a0120ef9f743",
   "metadata": {
    "execution": {
     "iopub.execute_input": "2025-03-03T17:38:03.489381Z",
     "iopub.status.busy": "2025-03-03T17:38:03.489272Z",
     "iopub.status.idle": "2025-03-03T17:38:03.493792Z",
     "shell.execute_reply": "2025-03-03T17:38:03.493499Z",
     "shell.execute_reply.started": "2025-03-03T17:38:03.489372Z"
    }
   },
   "outputs": [],
   "source": [
    "def is_silent(audio, threshold=0.02):\n",
    "    # Вычисляем среднеквадратичное значение (RMS) аудиосигнала\n",
    "    # RMS — это мера средней мощности сигнала\n",
    "    rms = np.sqrt(np.mean(audio**2))\n",
    "    return rms < threshold  # Если RMS меньше заданного порога, считаем сигнал тихим"
   ]
  },
  {
   "cell_type": "code",
   "execution_count": 8,
   "id": "ff457ddd-a57d-4fb8-95b8-e64186550323",
   "metadata": {
    "execution": {
     "iopub.execute_input": "2025-03-03T17:38:03.494364Z",
     "iopub.status.busy": "2025-03-03T17:38:03.494218Z",
     "iopub.status.idle": "2025-03-03T17:38:03.498144Z",
     "shell.execute_reply": "2025-03-03T17:38:03.497798Z",
     "shell.execute_reply.started": "2025-03-03T17:38:03.494355Z"
    },
    "scrolled": true
   },
   "outputs": [
    {
     "name": "stdout",
     "output_type": "stream",
     "text": [
      "Доступные частоты дискретизации: 44100.0\n"
     ]
    }
   ],
   "source": [
    "device_info = sd.query_devices(sd.default.device, 'input')\n",
    "print(\"Доступные частоты дискретизации:\", device_info['default_samplerate'])"
   ]
  },
  {
   "cell_type": "code",
   "execution_count": 9,
   "id": "15aa3931-40b2-4e20-a3a0-0f3a21c22085",
   "metadata": {
    "execution": {
     "iopub.execute_input": "2025-03-03T17:38:03.498644Z",
     "iopub.status.busy": "2025-03-03T17:38:03.498500Z",
     "iopub.status.idle": "2025-03-03T17:38:03.501938Z",
     "shell.execute_reply": "2025-03-03T17:38:03.501599Z",
     "shell.execute_reply.started": "2025-03-03T17:38:03.498631Z"
    }
   },
   "outputs": [],
   "source": [
    "def resample_audio(audio, orig_sr=device_info['default_samplerate'], target_sr=16000):\n",
    "    return librosa.resample(audio, orig_sr=orig_sr, target_sr=target_sr)"
   ]
  },
  {
   "cell_type": "code",
   "execution_count": 10,
   "id": "6f82dd63-89c1-463c-b66d-21c74c3a87e6",
   "metadata": {
    "execution": {
     "iopub.execute_input": "2025-03-03T17:38:03.502440Z",
     "iopub.status.busy": "2025-03-03T17:38:03.502304Z",
     "iopub.status.idle": "2025-03-03T17:38:03.636599Z",
     "shell.execute_reply": "2025-03-03T17:38:03.636236Z",
     "shell.execute_reply.started": "2025-03-03T17:38:03.502428Z"
    },
    "scrolled": true
   },
   "outputs": [
    {
     "name": "stderr",
     "output_type": "stream",
     "text": [
      "2025-03-03 20:38:03.520162: E external/local_xla/xla/stream_executor/cuda/cuda_driver.cc:152] failed call to cuInit: INTERNAL: CUDA error: Failed call to cuInit: CUDA_ERROR_NO_DEVICE: no CUDA-capable device is detected\n",
      "2025-03-03 20:38:03.520189: I external/local_xla/xla/stream_executor/cuda/cuda_diagnostics.cc:137] retrieving CUDA diagnostic information for host: flayven-MS-7C91\n",
      "2025-03-03 20:38:03.520197: I external/local_xla/xla/stream_executor/cuda/cuda_diagnostics.cc:144] hostname: flayven-MS-7C91\n",
      "2025-03-03 20:38:03.520278: I external/local_xla/xla/stream_executor/cuda/cuda_diagnostics.cc:168] libcuda reported version is: 550.120.0\n",
      "2025-03-03 20:38:03.520295: I external/local_xla/xla/stream_executor/cuda/cuda_diagnostics.cc:172] kernel reported version is: 550.120.0\n",
      "2025-03-03 20:38:03.520299: I external/local_xla/xla/stream_executor/cuda/cuda_diagnostics.cc:259] kernel version seems to match DSO: 550.120.0\n"
     ]
    }
   ],
   "source": [
    "loaded_model = tf.keras.models.load_model('../Models/14class.keras')"
   ]
  },
  {
   "cell_type": "code",
   "execution_count": 11,
   "id": "0743f096-fa49-4f1e-a01c-d5e7860a0570",
   "metadata": {
    "execution": {
     "iopub.execute_input": "2025-03-03T17:38:03.637170Z",
     "iopub.status.busy": "2025-03-03T17:38:03.637010Z",
     "iopub.status.idle": "2025-03-03T17:38:16.701690Z",
     "shell.execute_reply": "2025-03-03T17:38:16.701060Z",
     "shell.execute_reply.started": "2025-03-03T17:38:03.637155Z"
    }
   },
   "outputs": [
    {
     "name": "stdout",
     "output_type": "stream",
     "text": [
      "Началась запись. Говорите команду...\n",
      "Запись завершена.\n",
      "Распознано: two с уверенностью 0.999\n",
      "Началась запись. Говорите команду...\n",
      "Запись завершена.\n",
      "Распознано: up с уверенностью 0.971\n",
      "Началась запись. Говорите команду...\n",
      "Запись завершена.\n",
      "Распознано: down с уверенностью 0.548\n",
      "Началась запись. Говорите команду...\n",
      "Запись завершена.\n",
      "Распознано: left с уверенностью 0.998\n",
      "Началась запись. Говорите команду...\n",
      "Запись завершена.\n",
      "Распознано: right с уверенностью 0.999\n",
      "Программа завершена пользователем.\n"
     ]
    }
   ],
   "source": [
    "try:\n",
    "    with sd.InputStream(samplerate=SAMPLE_RATE, channels=1, dtype=np.float32, callback=callback):\n",
    "        with keyboard.Listener(on_press=on_press_alt, on_release=on_release_alt) as listener:\n",
    "            listener.join()\n",
    "except KeyboardInterrupt:\n",
    "    print(\"Программа завершена пользователем.\")\n",
    "except Exception as e:\n",
    "    print(f\"Произошла ошибка: {e}\")"
   ]
  },
  {
   "cell_type": "code",
   "execution_count": null,
   "id": "3ff77ae8-8000-450f-adf1-0e358231bc23",
   "metadata": {},
   "outputs": [],
   "source": []
  }
 ],
 "metadata": {
  "kernelspec": {
   "display_name": "Python 3 (ipykernel)",
   "language": "python",
   "name": "python3"
  },
  "language_info": {
   "codemirror_mode": {
    "name": "ipython",
    "version": 3
   },
   "file_extension": ".py",
   "mimetype": "text/x-python",
   "name": "python",
   "nbconvert_exporter": "python",
   "pygments_lexer": "ipython3",
   "version": "3.12.2"
  }
 },
 "nbformat": 4,
 "nbformat_minor": 5
}
