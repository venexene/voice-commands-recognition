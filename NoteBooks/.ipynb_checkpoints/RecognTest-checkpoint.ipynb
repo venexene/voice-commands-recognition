{
 "cells": [
  {
   "cell_type": "code",
   "execution_count": 1,
   "id": "cc222a26-21b0-44c8-bd4b-297971da5ce8",
   "metadata": {
    "execution": {
     "iopub.execute_input": "2025-03-03T12:04:23.557045Z",
     "iopub.status.busy": "2025-03-03T12:04:23.556824Z",
     "iopub.status.idle": "2025-03-03T12:04:25.338209Z",
     "shell.execute_reply": "2025-03-03T12:04:25.337930Z",
     "shell.execute_reply.started": "2025-03-03T12:04:23.557032Z"
    }
   },
   "outputs": [
    {
     "name": "stderr",
     "output_type": "stream",
     "text": [
      "2025-03-03 15:04:23.780710: E external/local_xla/xla/stream_executor/cuda/cuda_fft.cc:477] Unable to register cuFFT factory: Attempting to register factory for plugin cuFFT when one has already been registered\n",
      "WARNING: All log messages before absl::InitializeLog() is called are written to STDERR\n",
      "E0000 00:00:1741003463.791980   19616 cuda_dnn.cc:8310] Unable to register cuDNN factory: Attempting to register factory for plugin cuDNN when one has already been registered\n",
      "E0000 00:00:1741003463.795516   19616 cuda_blas.cc:1418] Unable to register cuBLAS factory: Attempting to register factory for plugin cuBLAS when one has already been registered\n",
      "2025-03-03 15:04:23.808372: I tensorflow/core/platform/cpu_feature_guard.cc:210] This TensorFlow binary is optimized to use available CPU instructions in performance-critical operations.\n",
      "To enable the following instructions: AVX2 FMA, in other operations, rebuild TensorFlow with the appropriate compiler flags.\n"
     ]
    }
   ],
   "source": [
    "from pynput import keyboard\n",
    "import sounddevice as sd\n",
    "import numpy as np\n",
    "import tensorflow as tf\n",
    "import librosa\n",
    "import os\n",
    "os.environ['CUDA_VISIBLE_DEVICES'] = '-1'"
   ]
  },
  {
   "cell_type": "code",
   "execution_count": 2,
   "id": "9c75bc5e-d63c-47f9-8f3c-d5a064472675",
   "metadata": {
    "execution": {
     "iopub.execute_input": "2025-03-03T12:04:25.338717Z",
     "iopub.status.busy": "2025-03-03T12:04:25.338521Z",
     "iopub.status.idle": "2025-03-03T12:04:25.340697Z",
     "shell.execute_reply": "2025-03-03T12:04:25.340413Z",
     "shell.execute_reply.started": "2025-03-03T12:04:25.338706Z"
    }
   },
   "outputs": [],
   "source": [
    "SAMPLE_RATE = 44100  # Частота дискретизации\n",
    "commands = ['zero', 'up', 'right', 'three', 'on', 'two', 'four', 'yes', 'five', 'one', 'left', 'down', 'no', 'off']\n",
    "recording = False\n",
    "buffer = []"
   ]
  },
  {
   "cell_type": "code",
   "execution_count": 3,
   "id": "37c8d7c2-4e86-48c3-8d70-65b7914b9bc6",
   "metadata": {
    "execution": {
     "iopub.execute_input": "2025-03-03T12:04:25.341104Z",
     "iopub.status.busy": "2025-03-03T12:04:25.341005Z",
     "iopub.status.idle": "2025-03-03T12:04:25.355448Z",
     "shell.execute_reply": "2025-03-03T12:04:25.355126Z",
     "shell.execute_reply.started": "2025-03-03T12:04:25.341095Z"
    }
   },
   "outputs": [],
   "source": [
    "# Функция обратного вызова для записи звука\n",
    "def callback(indata, frames, time, status):\n",
    "    if recording:\n",
    "        buffer.extend(indata[:, 0])\n",
    "        \n",
    "# Обработчик нажатия клавиши ALT\n",
    "def on_press_alt(key):\n",
    "    global recording, buffer\n",
    "    if key == keyboard.Key.alt:\n",
    "        if not recording:\n",
    "            print(\"Началась запись. Говорите команду...\")\n",
    "            buffer = []\n",
    "            recording = True\n",
    "\n",
    "# Обработчик отпускания клавиши ALT\n",
    "def on_release_alt(key):\n",
    "    global recording\n",
    "    if key == keyboard.Key.alt:\n",
    "        if recording:\n",
    "            print(\"Запись завершена.\")\n",
    "            recording = False\n",
    "            process_audio()"
   ]
  },
  {
   "cell_type": "code",
   "execution_count": 4,
   "id": "eec13395-eec7-4481-a1ba-6f333009f155",
   "metadata": {
    "execution": {
     "iopub.execute_input": "2025-03-03T12:04:25.355861Z",
     "iopub.status.busy": "2025-03-03T12:04:25.355751Z",
     "iopub.status.idle": "2025-03-03T12:04:25.370019Z",
     "shell.execute_reply": "2025-03-03T12:04:25.369716Z",
     "shell.execute_reply.started": "2025-03-03T12:04:25.355850Z"
    }
   },
   "outputs": [],
   "source": [
    "def process_audio():\n",
    "    global buffer # Используем глобальный буфер для хранения записанных данных\n",
    "    audio = np.array(buffer, dtype=np.float32)  # Преобразуем буфер в массив numpy с типом float32\n",
    "\n",
    "    # Проверяем, есть ли в аудио речь\n",
    "    if is_silent(audio, 0.03):\n",
    "        print(\"Нет речи, повторите команду...\")\n",
    "        return\n",
    "\n",
    "    # Изменяем частоту дискретизации аудиофайла с 44.1 кГц до 16 кГц\n",
    "    audio_resampled = librosa.resample(audio, orig_sr=44100, target_sr=16000)\n",
    "\n",
    "    # Передаем обработанное аудио в модель для распознавания команды\n",
    "    command_id, confidence= predict_command(loaded_model, audio_resampled)\n",
    "    \n",
    "    print(f\"Распознано: {commands[command_id]} с уверенностью {round(float(confidence), 3)}\")"
   ]
  },
  {
   "cell_type": "code",
   "execution_count": 5,
   "id": "477eaa9c-65a8-4c1f-bcbc-37bb3d21cbae",
   "metadata": {
    "execution": {
     "iopub.execute_input": "2025-03-03T12:04:25.370384Z",
     "iopub.status.busy": "2025-03-03T12:04:25.370284Z",
     "iopub.status.idle": "2025-03-03T12:04:25.387851Z",
     "shell.execute_reply": "2025-03-03T12:04:25.387552Z",
     "shell.execute_reply.started": "2025-03-03T12:04:25.370374Z"
    }
   },
   "outputs": [],
   "source": [
    "def get_spectrogram(waveform):\n",
    "    input_len = 16000 # Задаем длину входного аудиосигнала\n",
    "    waveform = waveform[:input_len] # Обрезаем аудиосигнал до заданной длины, если он длиннее\n",
    "    \n",
    "    # Вычисляем количество нулей, необходимых для дополнения сигнала до input_len, если он короче\n",
    "    zero_padding = tf.zeros([input_len] - tf.shape(waveform), dtype=tf.float32)\n",
    "    equal_length = tf.concat([waveform, zero_padding], 0) # Дополняем сигнал нулями до нужной длины\n",
    "\n",
    "    # Преобразуем аудиосигнал в спектрограмму с помощью коротковременного преобразования Фурье (STFT)\n",
    "    spectrogram = tf.signal.stft(equal_length, frame_length=255, frame_step=128)\n",
    "    spectrogram = tf.abs(spectrogram)  # Берем модуль комплексных значений спектрограммы, чтобы получить амплитуду\n",
    "    spectrogram = spectrogram[..., tf.newaxis] # Добавляем дополнительное измерение\n",
    "    return spectrogram"
   ]
  },
  {
   "cell_type": "code",
   "execution_count": 6,
   "id": "e4f97b58-1ad0-4de3-9959-d4b5535fdd89",
   "metadata": {
    "execution": {
     "iopub.execute_input": "2025-03-03T12:04:25.388710Z",
     "iopub.status.busy": "2025-03-03T12:04:25.388604Z",
     "iopub.status.idle": "2025-03-03T12:04:25.405495Z",
     "shell.execute_reply": "2025-03-03T12:04:25.405231Z",
     "shell.execute_reply.started": "2025-03-03T12:04:25.388700Z"
    }
   },
   "outputs": [],
   "source": [
    "def predict_command(model, waveform):\n",
    "    spectrogram = get_spectrogram(waveform)\n",
    "\n",
    "    # Изменяем размер спектрограммы до (32, 32) с помощью tf.image.resize\n",
    "    # Это необходимо, чтобы привести данные к размеру, ожидаемому моделью\n",
    "    spectrogram = tf.image.resize(spectrogram, (32, 32))\n",
    "\n",
    "    # Добавляем дополнительное измерение, чтобы спектрограмма имела форму (1, 32, 32, 1)\n",
    "    # Это требуется, так как модель ожидает входные данные в формате (батч, высота, ширина, каналы)\n",
    "    spectrogram = tf.expand_dims(spectrogram, axis=0)\n",
    "\n",
    "    predictions = model(spectrogram, training=False) # Передаем спектрограмму в модель для получения предсказаний\n",
    "    \n",
    "    confidence = np.max(tf.nn.softmax(predictions).numpy()) # Получаем уверенность\n",
    "    \n",
    "    predicted_label = tf.argmax(predictions, axis=1).numpy()[0] # Находим индекс класса с наибольшей вероятностью\n",
    "    \n",
    "    return predicted_label, confidence"
   ]
  },
  {
   "cell_type": "code",
   "execution_count": 7,
   "id": "c8080352-39ce-4846-9be3-a0120ef9f743",
   "metadata": {
    "execution": {
     "iopub.execute_input": "2025-03-03T12:04:25.405991Z",
     "iopub.status.busy": "2025-03-03T12:04:25.405854Z",
     "iopub.status.idle": "2025-03-03T12:04:25.422974Z",
     "shell.execute_reply": "2025-03-03T12:04:25.422718Z",
     "shell.execute_reply.started": "2025-03-03T12:04:25.405979Z"
    }
   },
   "outputs": [],
   "source": [
    "def is_silent(audio, threshold=0.02):\n",
    "    # Вычисляем среднеквадратичное значение (RMS) аудиосигнала\n",
    "    # RMS — это мера средней мощности сигнала\n",
    "    rms = np.sqrt(np.mean(audio**2))\n",
    "    return rms < threshold  # Если RMS меньше заданного порога, считаем сигнал тихим"
   ]
  },
  {
   "cell_type": "code",
   "execution_count": 8,
   "id": "ff457ddd-a57d-4fb8-95b8-e64186550323",
   "metadata": {
    "execution": {
     "iopub.execute_input": "2025-03-03T12:04:25.423381Z",
     "iopub.status.busy": "2025-03-03T12:04:25.423264Z",
     "iopub.status.idle": "2025-03-03T12:04:25.437482Z",
     "shell.execute_reply": "2025-03-03T12:04:25.437096Z",
     "shell.execute_reply.started": "2025-03-03T12:04:25.423372Z"
    },
    "scrolled": true
   },
   "outputs": [
    {
     "name": "stdout",
     "output_type": "stream",
     "text": [
      "Доступные частоты дискретизации: 44100.0\n"
     ]
    }
   ],
   "source": [
    "device_info = sd.query_devices(sd.default.device, 'input')\n",
    "print(\"Доступные частоты дискретизации:\", device_info['default_samplerate'])"
   ]
  },
  {
   "cell_type": "code",
   "execution_count": 9,
   "id": "15aa3931-40b2-4e20-a3a0-0f3a21c22085",
   "metadata": {
    "execution": {
     "iopub.execute_input": "2025-03-03T12:04:25.438058Z",
     "iopub.status.busy": "2025-03-03T12:04:25.437934Z",
     "iopub.status.idle": "2025-03-03T12:04:25.451076Z",
     "shell.execute_reply": "2025-03-03T12:04:25.450724Z",
     "shell.execute_reply.started": "2025-03-03T12:04:25.438047Z"
    }
   },
   "outputs": [],
   "source": [
    "def resample_audio(audio, orig_sr=device_info['default_samplerate'], target_sr=16000):\n",
    "    return librosa.resample(audio, orig_sr=orig_sr, target_sr=target_sr)"
   ]
  },
  {
   "cell_type": "code",
   "execution_count": 10,
   "id": "6f82dd63-89c1-463c-b66d-21c74c3a87e6",
   "metadata": {
    "execution": {
     "iopub.execute_input": "2025-03-03T12:04:25.451567Z",
     "iopub.status.busy": "2025-03-03T12:04:25.451391Z",
     "iopub.status.idle": "2025-03-03T12:04:25.602190Z",
     "shell.execute_reply": "2025-03-03T12:04:25.601820Z",
     "shell.execute_reply.started": "2025-03-03T12:04:25.451550Z"
    },
    "scrolled": true
   },
   "outputs": [
    {
     "name": "stderr",
     "output_type": "stream",
     "text": [
      "2025-03-03 15:04:25.479309: E external/local_xla/xla/stream_executor/cuda/cuda_driver.cc:152] failed call to cuInit: INTERNAL: CUDA error: Failed call to cuInit: CUDA_ERROR_NO_DEVICE: no CUDA-capable device is detected\n",
      "2025-03-03 15:04:25.479338: I external/local_xla/xla/stream_executor/cuda/cuda_diagnostics.cc:137] retrieving CUDA diagnostic information for host: flayven-MS-7C91\n",
      "2025-03-03 15:04:25.479347: I external/local_xla/xla/stream_executor/cuda/cuda_diagnostics.cc:144] hostname: flayven-MS-7C91\n",
      "2025-03-03 15:04:25.479446: I external/local_xla/xla/stream_executor/cuda/cuda_diagnostics.cc:168] libcuda reported version is: 550.120.0\n",
      "2025-03-03 15:04:25.479470: I external/local_xla/xla/stream_executor/cuda/cuda_diagnostics.cc:172] kernel reported version is: 550.120.0\n",
      "2025-03-03 15:04:25.479477: I external/local_xla/xla/stream_executor/cuda/cuda_diagnostics.cc:259] kernel version seems to match DSO: 550.120.0\n"
     ]
    }
   ],
   "source": [
    "loaded_model = tf.keras.models.load_model('../Models/14class.keras')"
   ]
  },
  {
   "cell_type": "code",
   "execution_count": null,
   "id": "0743f096-fa49-4f1e-a01c-d5e7860a0570",
   "metadata": {
    "execution": {
     "iopub.execute_input": "2025-03-03T12:04:25.602717Z",
     "iopub.status.busy": "2025-03-03T12:04:25.602579Z"
    }
   },
   "outputs": [
    {
     "name": "stdout",
     "output_type": "stream",
     "text": [
      "Началась запись. Говорите команду...\n",
      "Запись завершена.\n",
      "Распознано: up с уверенностью 1.0\n",
      "Началась запись. Говорите команду...\n",
      "Запись завершена.\n",
      "Распознано: down с уверенностью 0.906\n",
      "Началась запись. Говорите команду...\n",
      "Запись завершена.\n",
      "Распознано: left с уверенностью 0.997\n",
      "Началась запись. Говорите команду...\n",
      "Запись завершена.\n",
      "Распознано: right с уверенностью 1.0\n",
      "Началась запись. Говорите команду...\n",
      "Запись завершена.\n",
      "Распознано: yes с уверенностью 1.0\n",
      "Началась запись. Говорите команду...\n",
      "Запись завершена.\n",
      "Распознано: no с уверенностью 0.657\n",
      "Началась запись. Говорите команду...\n",
      "Запись завершена.\n",
      "Распознано: one с уверенностью 1.0\n",
      "Началась запись. Говорите команду...\n",
      "Запись завершена.\n",
      "Распознано: two с уверенностью 1.0\n",
      "Началась запись. Говорите команду...\n",
      "Запись завершена.\n",
      "Распознано: three с уверенностью 0.867\n",
      "Началась запись. Говорите команду...\n",
      "Запись завершена.\n",
      "Распознано: four с уверенностью 0.985\n",
      "Началась запись. Говорите команду...\n",
      "Запись завершена.\n",
      "Распознано: five с уверенностью 0.999\n",
      "Началась запись. Говорите команду...\n",
      "Запись завершена.\n",
      "Распознано: zero с уверенностью 1.0\n",
      "Началась запись. Говорите команду...\n",
      "Запись завершена.\n",
      "Распознано: off с уверенностью 0.871\n",
      "Началась запись. Говорите команду...\n",
      "Запись завершена.\n",
      "Распознано: off с уверенностью 0.695\n",
      "Началась запись. Говорите команду...\n",
      "Запись завершена.\n",
      "Распознано: four с уверенностью 0.99\n",
      "Началась запись. Говорите команду...\n",
      "Запись завершена.\n",
      "Распознано: off с уверенностью 1.0\n",
      "Началась запись. Говорите команду...\n",
      "Запись завершена.\n",
      "Распознано: on с уверенностью 0.688\n",
      "Началась запись. Говорите команду...\n",
      "Запись завершена.\n",
      "Распознано: off с уверенностью 0.88\n",
      "Началась запись. Говорите команду...\n",
      "Запись завершена.\n",
      "Нет речи, повторите команду...\n"
     ]
    }
   ],
   "source": [
    "try:\n",
    "    with sd.InputStream(samplerate=SAMPLE_RATE, channels=1, dtype=np.float32, callback=callback):\n",
    "        with keyboard.Listener(on_press=on_press_alt, on_release=on_release_alt) as listener:\n",
    "            listener.join()\n",
    "except KeyboardInterrupt:\n",
    "    print(\"Программа завершена пользователем.\")\n",
    "except Exception as e:\n",
    "    print(f\"Произошла ошибка: {e}\")"
   ]
  }
 ],
 "metadata": {
  "kernelspec": {
   "display_name": "Python 3 (ipykernel)",
   "language": "python",
   "name": "python3"
  },
  "language_info": {
   "codemirror_mode": {
    "name": "ipython",
    "version": 3
   },
   "file_extension": ".py",
   "mimetype": "text/x-python",
   "name": "python",
   "nbconvert_exporter": "python",
   "pygments_lexer": "ipython3",
   "version": "3.12.2"
  }
 },
 "nbformat": 4,
 "nbformat_minor": 5
}
