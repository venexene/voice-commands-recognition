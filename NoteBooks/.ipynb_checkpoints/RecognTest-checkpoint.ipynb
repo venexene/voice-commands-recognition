{
 "cells": [
  {
   "cell_type": "code",
   "execution_count": 1,
   "id": "cc222a26-21b0-44c8-bd4b-297971da5ce8",
   "metadata": {
    "execution": {
     "iopub.execute_input": "2025-03-04T17:36:47.181397Z",
     "iopub.status.busy": "2025-03-04T17:36:47.181051Z",
     "iopub.status.idle": "2025-03-04T17:36:49.232734Z",
     "shell.execute_reply": "2025-03-04T17:36:49.232428Z",
     "shell.execute_reply.started": "2025-03-04T17:36:47.181372Z"
    }
   },
   "outputs": [
    {
     "name": "stderr",
     "output_type": "stream",
     "text": [
      "2025-03-04 20:36:47.599067: E external/local_xla/xla/stream_executor/cuda/cuda_fft.cc:477] Unable to register cuFFT factory: Attempting to register factory for plugin cuFFT when one has already been registered\n",
      "WARNING: All log messages before absl::InitializeLog() is called are written to STDERR\n",
      "E0000 00:00:1741109807.614404   67471 cuda_dnn.cc:8310] Unable to register cuDNN factory: Attempting to register factory for plugin cuDNN when one has already been registered\n",
      "E0000 00:00:1741109807.617825   67471 cuda_blas.cc:1418] Unable to register cuBLAS factory: Attempting to register factory for plugin cuBLAS when one has already been registered\n",
      "2025-03-04 20:36:47.631569: I tensorflow/core/platform/cpu_feature_guard.cc:210] This TensorFlow binary is optimized to use available CPU instructions in performance-critical operations.\n",
      "To enable the following instructions: AVX2 FMA, in other operations, rebuild TensorFlow with the appropriate compiler flags.\n"
     ]
    }
   ],
   "source": [
    "from pynput import keyboard\n",
    "import sounddevice as sd\n",
    "import numpy as np\n",
    "import tensorflow as tf\n",
    "import librosa\n",
    "import os\n",
    "os.environ['CUDA_VISIBLE_DEVICES'] = '-1'"
   ]
  },
  {
   "cell_type": "code",
   "execution_count": 2,
   "id": "9c75bc5e-d63c-47f9-8f3c-d5a064472675",
   "metadata": {
    "execution": {
     "iopub.execute_input": "2025-03-04T17:36:49.233413Z",
     "iopub.status.busy": "2025-03-04T17:36:49.233202Z",
     "iopub.status.idle": "2025-03-04T17:36:49.235617Z",
     "shell.execute_reply": "2025-03-04T17:36:49.235271Z",
     "shell.execute_reply.started": "2025-03-04T17:36:49.233402Z"
    }
   },
   "outputs": [],
   "source": [
    "SAMPLE_RATE = 44100  # Частота дискретизации\n",
    "commands = ['eight', 'stop', 'zero', 'up', 'right', 'three', 'on', 'two', 'nine', 'seven', 'four', 'six', 'yes', 'go', 'five', 'one', 'left', 'down', 'no', 'off']\n",
    "recording = False\n",
    "buffer = []"
   ]
  },
  {
   "cell_type": "code",
   "execution_count": 3,
   "id": "37c8d7c2-4e86-48c3-8d70-65b7914b9bc6",
   "metadata": {
    "execution": {
     "iopub.execute_input": "2025-03-04T17:36:49.235978Z",
     "iopub.status.busy": "2025-03-04T17:36:49.235865Z",
     "iopub.status.idle": "2025-03-04T17:36:49.239989Z",
     "shell.execute_reply": "2025-03-04T17:36:49.239681Z",
     "shell.execute_reply.started": "2025-03-04T17:36:49.235965Z"
    }
   },
   "outputs": [],
   "source": [
    "# Функция обратного вызова для записи звука\n",
    "def callback(indata, frames, time, status):\n",
    "    if recording:\n",
    "        buffer.extend(indata[:, 0])\n",
    "        \n",
    "# Обработчик нажатия клавиши ALT\n",
    "def on_press_alt(key):\n",
    "    global recording, buffer\n",
    "    if key == keyboard.Key.alt:\n",
    "        if not recording:\n",
    "            print(\"Началась запись. Говорите команду...\")\n",
    "            buffer = []\n",
    "            recording = True\n",
    "\n",
    "# Обработчик отпускания клавиши ALT\n",
    "def on_release_alt(key):\n",
    "    global recording\n",
    "    if key == keyboard.Key.alt:\n",
    "        if recording:\n",
    "            print(\"Запись завершена.\")\n",
    "            recording = False\n",
    "            process_audio()"
   ]
  },
  {
   "cell_type": "code",
   "execution_count": 4,
   "id": "eec13395-eec7-4481-a1ba-6f333009f155",
   "metadata": {
    "execution": {
     "iopub.execute_input": "2025-03-04T17:36:49.240775Z",
     "iopub.status.busy": "2025-03-04T17:36:49.240668Z",
     "iopub.status.idle": "2025-03-04T17:36:49.245178Z",
     "shell.execute_reply": "2025-03-04T17:36:49.244876Z",
     "shell.execute_reply.started": "2025-03-04T17:36:49.240765Z"
    }
   },
   "outputs": [],
   "source": [
    "def process_audio():\n",
    "    global buffer # Используем глобальный буфер для хранения записанных данных\n",
    "    audio = np.array(buffer, dtype=np.float32)  # Преобразуем буфер в массив numpy с типом float32\n",
    "\n",
    "    # Проверяем, есть ли в аудио речь\n",
    "    if is_silent(audio, 0.03):\n",
    "        print(\"Нет речи, повторите команду...\")\n",
    "        return\n",
    "\n",
    "    # Изменяем частоту дискретизации аудиофайла с 44.1 кГц до 16 кГц\n",
    "    audio_resampled = librosa.resample(audio, orig_sr=44100, target_sr=16000)\n",
    "\n",
    "    # Передаем обработанное аудио в модель для распознавания команды\n",
    "    command_id, confidence= predict_command(loaded_model, audio_resampled)\n",
    "    \n",
    "    print(f\"Распознано: {commands[command_id]} с уверенностью {float(confidence):.3f}\")"
   ]
  },
  {
   "cell_type": "code",
   "execution_count": 5,
   "id": "477eaa9c-65a8-4c1f-bcbc-37bb3d21cbae",
   "metadata": {
    "execution": {
     "iopub.execute_input": "2025-03-04T17:36:49.245683Z",
     "iopub.status.busy": "2025-03-04T17:36:49.245543Z",
     "iopub.status.idle": "2025-03-04T17:36:49.249227Z",
     "shell.execute_reply": "2025-03-04T17:36:49.248894Z",
     "shell.execute_reply.started": "2025-03-04T17:36:49.245671Z"
    }
   },
   "outputs": [],
   "source": [
    "def get_mel_spectrogram(waveform):\n",
    "    # Обрезаем или заполняем нулями до 16000 сэмплов\n",
    "    input_len = 16000\n",
    "    waveform = waveform[:input_len]\n",
    "    zero_padding = tf.zeros([16000] - tf.shape(waveform), dtype=tf.float32)\n",
    "    waveform = tf.concat([waveform, zero_padding], 0)\n",
    "\n",
    "    # Применяем STFT\n",
    "    spectrogram = tf.signal.stft(waveform, frame_length=400, frame_step=160)\n",
    "    spectrogram = tf.abs(spectrogram)\n",
    "\n",
    "    # Создаем фильтр мел-шкал (80 мел-фильтров)\n",
    "    num_mel_bins = 80\n",
    "    linear_to_mel_weight_matrix = tf.signal.linear_to_mel_weight_matrix(\n",
    "        num_mel_bins=num_mel_bins,\n",
    "        num_spectrogram_bins=spectrogram.shape[-1],\n",
    "        sample_rate=16000,\n",
    "        lower_edge_hertz=80.0,\n",
    "        upper_edge_hertz=7600.0\n",
    "    )\n",
    "\n",
    "    # Применяем мел-фильтры для получения мел-спектрограммы\n",
    "    mel_spectrogram = tf.tensordot(spectrogram, linear_to_mel_weight_matrix, 1)\n",
    "    mel_spectrogram = tf.math.log(mel_spectrogram + 1e-6)  # Логарифм для стабильности\n",
    "\n",
    "    mel_spectrogram = mel_spectrogram[..., tf.newaxis]  # Добавляем новое измерение\n",
    "    return mel_spectrogram\n"
   ]
  },
  {
   "cell_type": "code",
   "execution_count": 6,
   "id": "e4f97b58-1ad0-4de3-9959-d4b5535fdd89",
   "metadata": {
    "execution": {
     "iopub.execute_input": "2025-03-04T17:36:49.249687Z",
     "iopub.status.busy": "2025-03-04T17:36:49.249555Z",
     "iopub.status.idle": "2025-03-04T17:36:49.254071Z",
     "shell.execute_reply": "2025-03-04T17:36:49.253691Z",
     "shell.execute_reply.started": "2025-03-04T17:36:49.249673Z"
    }
   },
   "outputs": [],
   "source": [
    "def predict_command(model, waveform):\n",
    "    spectrogram = get_mel_spectrogram(waveform)\n",
    "\n",
    "    # Изменяем размер спектрограммы до (32, 32) с помощью tf.image.resize\n",
    "    # Это необходимо, чтобы привести данные к размеру, ожидаемому моделью\n",
    "    spectrogram = tf.image.resize(spectrogram, (32, 32))\n",
    "\n",
    "    # Добавляем дополнительное измерение, чтобы спектрограмма имела форму (1, 32, 32, 1)\n",
    "    # Это требуется, так как модель ожидает входные данные в формате (батч, высота, ширина, каналы)\n",
    "    spectrogram = tf.expand_dims(spectrogram, axis=0)\n",
    "\n",
    "    predictions = model(spectrogram, training=False) # Передаем спектрограмму в модель для получения предсказаний\n",
    "    \n",
    "    confidence = np.max(tf.nn.softmax(predictions).numpy()) # Получаем уверенность\n",
    "    \n",
    "    predicted_label = tf.argmax(predictions, axis=1).numpy()[0] # Находим индекс класса с наибольшей вероятностью\n",
    "    \n",
    "    return predicted_label, confidence"
   ]
  },
  {
   "cell_type": "code",
   "execution_count": 7,
   "id": "c8080352-39ce-4846-9be3-a0120ef9f743",
   "metadata": {
    "execution": {
     "iopub.execute_input": "2025-03-04T17:36:49.254454Z",
     "iopub.status.busy": "2025-03-04T17:36:49.254343Z",
     "iopub.status.idle": "2025-03-04T17:36:49.258669Z",
     "shell.execute_reply": "2025-03-04T17:36:49.258420Z",
     "shell.execute_reply.started": "2025-03-04T17:36:49.254443Z"
    }
   },
   "outputs": [],
   "source": [
    "def is_silent(audio, threshold=0.02):\n",
    "    # Вычисляем среднеквадратичное значение (RMS) аудиосигнала\n",
    "    # RMS — это мера средней мощности сигнала\n",
    "    rms = np.sqrt(np.mean(audio**2))\n",
    "    return rms < threshold  # Если RMS меньше заданного порога, считаем сигнал тихим"
   ]
  },
  {
   "cell_type": "code",
   "execution_count": 8,
   "id": "ff457ddd-a57d-4fb8-95b8-e64186550323",
   "metadata": {
    "execution": {
     "iopub.execute_input": "2025-03-04T17:36:49.259030Z",
     "iopub.status.busy": "2025-03-04T17:36:49.258937Z",
     "iopub.status.idle": "2025-03-04T17:36:49.262313Z",
     "shell.execute_reply": "2025-03-04T17:36:49.262076Z",
     "shell.execute_reply.started": "2025-03-04T17:36:49.259021Z"
    },
    "scrolled": true
   },
   "outputs": [
    {
     "name": "stdout",
     "output_type": "stream",
     "text": [
      "Доступные частоты дискретизации: 44100.0\n"
     ]
    }
   ],
   "source": [
    "device_info = sd.query_devices(sd.default.device, 'input')\n",
    "print(\"Доступные частоты дискретизации:\", device_info['default_samplerate'])"
   ]
  },
  {
   "cell_type": "code",
   "execution_count": 9,
   "id": "15aa3931-40b2-4e20-a3a0-0f3a21c22085",
   "metadata": {
    "execution": {
     "iopub.execute_input": "2025-03-04T17:36:49.262645Z",
     "iopub.status.busy": "2025-03-04T17:36:49.262556Z",
     "iopub.status.idle": "2025-03-04T17:36:49.265896Z",
     "shell.execute_reply": "2025-03-04T17:36:49.265660Z",
     "shell.execute_reply.started": "2025-03-04T17:36:49.262637Z"
    }
   },
   "outputs": [],
   "source": [
    "def resample_audio(audio, orig_sr=device_info['default_samplerate'], target_sr=16000):\n",
    "    return librosa.resample(audio, orig_sr=orig_sr, target_sr=target_sr)"
   ]
  },
  {
   "cell_type": "code",
   "execution_count": 10,
   "id": "6f82dd63-89c1-463c-b66d-21c74c3a87e6",
   "metadata": {
    "execution": {
     "iopub.execute_input": "2025-03-04T17:36:49.266611Z",
     "iopub.status.busy": "2025-03-04T17:36:49.266514Z",
     "iopub.status.idle": "2025-03-04T17:36:49.440303Z",
     "shell.execute_reply": "2025-03-04T17:36:49.440001Z",
     "shell.execute_reply.started": "2025-03-04T17:36:49.266602Z"
    },
    "scrolled": true
   },
   "outputs": [
    {
     "name": "stderr",
     "output_type": "stream",
     "text": [
      "2025-03-04 20:36:49.283287: E external/local_xla/xla/stream_executor/cuda/cuda_driver.cc:152] failed call to cuInit: INTERNAL: CUDA error: Failed call to cuInit: CUDA_ERROR_NO_DEVICE: no CUDA-capable device is detected\n",
      "2025-03-04 20:36:49.283310: I external/local_xla/xla/stream_executor/cuda/cuda_diagnostics.cc:137] retrieving CUDA diagnostic information for host: flayven-MS-7C91\n",
      "2025-03-04 20:36:49.283317: I external/local_xla/xla/stream_executor/cuda/cuda_diagnostics.cc:144] hostname: flayven-MS-7C91\n",
      "2025-03-04 20:36:49.283406: I external/local_xla/xla/stream_executor/cuda/cuda_diagnostics.cc:168] libcuda reported version is: 550.120.0\n",
      "2025-03-04 20:36:49.283422: I external/local_xla/xla/stream_executor/cuda/cuda_diagnostics.cc:172] kernel reported version is: 550.120.0\n",
      "2025-03-04 20:36:49.283426: I external/local_xla/xla/stream_executor/cuda/cuda_diagnostics.cc:259] kernel version seems to match DSO: 550.120.0\n"
     ]
    }
   ],
   "source": [
    "loaded_model = tf.keras.models.load_model('../Models/mel_cnn.keras')"
   ]
  },
  {
   "cell_type": "code",
   "execution_count": 11,
   "id": "0743f096-fa49-4f1e-a01c-d5e7860a0570",
   "metadata": {
    "execution": {
     "iopub.execute_input": "2025-03-04T17:36:49.440744Z",
     "iopub.status.busy": "2025-03-04T17:36:49.440633Z",
     "iopub.status.idle": "2025-03-04T17:38:53.690831Z",
     "shell.execute_reply": "2025-03-04T17:38:53.690545Z",
     "shell.execute_reply.started": "2025-03-04T17:36:49.440734Z"
    }
   },
   "outputs": [
    {
     "name": "stdout",
     "output_type": "stream",
     "text": [
      "Началась запись. Говорите команду...\n",
      "Запись завершена.\n",
      "Распознано: up с уверенностью 0.999\n",
      "Началась запись. Говорите команду...\n",
      "Запись завершена.\n",
      "Распознано: down с уверенностью 0.549\n",
      "Началась запись. Говорите команду...\n",
      "Запись завершена.\n",
      "Распознано: left с уверенностью 0.863\n",
      "Началась запись. Говорите команду...\n",
      "Запись завершена.\n",
      "Распознано: right с уверенностью 0.755\n",
      "Началась запись. Говорите команду...\n",
      "Запись завершена.\n",
      "Распознано: yes с уверенностью 0.999\n",
      "Началась запись. Говорите команду...\n",
      "Запись завершена.\n",
      "Распознано: zero с уверенностью 0.998\n",
      "Началась запись. Говорите команду...\n",
      "Запись завершена.\n",
      "Распознано: one с уверенностью 0.929\n",
      "Началась запись. Говорите команду...\n",
      "Запись завершена.\n",
      "Распознано: two с уверенностью 0.613\n",
      "Началась запись. Говорите команду...\n",
      "Запись завершена.\n",
      "Распознано: three с уверенностью 0.946\n",
      "Началась запись. Говорите команду...\n",
      "Запись завершена.\n",
      "Распознано: stop с уверенностью 0.473\n",
      "Началась запись. Говорите команду...\n",
      "Запись завершена.\n",
      "Распознано: four с уверенностью 0.948\n",
      "Началась запись. Говорите команду...\n",
      "Запись завершена.\n",
      "Распознано: five с уверенностью 0.877\n",
      "Началась запись. Говорите команду...\n",
      "Запись завершена.\n",
      "Распознано: seven с уверенностью 0.733\n",
      "Началась запись. Говорите команду...\n",
      "Запись завершена.\n",
      "Распознано: stop с уверенностью 0.479\n",
      "Началась запись. Говорите команду...\n",
      "Запись завершена.\n",
      "Распознано: seven с уверенностью 0.410\n",
      "Началась запись. Говорите команду...\n",
      "Запись завершена.\n",
      "Распознано: seven с уверенностью 0.853\n",
      "Началась запись. Говорите команду...\n",
      "Запись завершена.\n",
      "Распознано: up с уверенностью 0.455\n",
      "Началась запись. Говорите команду...\n",
      "Запись завершена.\n",
      "Распознано: seven с уверенностью 0.751\n",
      "Началась запись. Говорите команду...\n",
      "Запись завершена.\n",
      "Распознано: two с уверенностью 0.466\n",
      "Началась запись. Говорите команду...\n",
      "Запись завершена.\n",
      "Распознано: six с уверенностью 0.490\n",
      "Началась запись. Говорите команду...\n",
      "Запись завершена.\n",
      "Распознано: seven с уверенностью 0.771\n",
      "Началась запись. Говорите команду...\n",
      "Запись завершена.\n",
      "Распознано: eight с уверенностью 0.997\n",
      "Началась запись. Говорите команду...\n",
      "Запись завершена.\n",
      "Нет речи, повторите команду...\n",
      "Началась запись. Говорите команду...\n",
      "Запись завершена.\n",
      "Распознано: nine с уверенностью 0.870\n",
      "Началась запись. Говорите команду...\n",
      "Запись завершена.\n",
      "Распознано: off с уверенностью 0.988\n",
      "Началась запись. Говорите команду...\n",
      "Запись завершена.\n",
      "Нет речи, повторите команду...\n",
      "Началась запись. Говорите команду...\n",
      "Запись завершена.\n",
      "Распознано: on с уверенностью 0.996\n",
      "Началась запись. Говорите команду...\n",
      "Запись завершена.\n",
      "Распознано: off с уверенностью 0.967\n",
      "Началась запись. Говорите команду...\n",
      "Запись завершена.\n",
      "Распознано: go с уверенностью 0.830\n",
      "Началась запись. Говорите команду...\n",
      "Запись завершена.\n",
      "Распознано: stop с уверенностью 0.996\n",
      "Началась запись. Говорите команду...\n",
      "Запись завершена.\n",
      "Распознано: no с уверенностью 0.641\n",
      "Началась запись. Говорите команду...\n",
      "Запись завершена.\n",
      "Распознано: six с уверенностью 0.820\n",
      "Началась запись. Говорите команду...\n",
      "Запись завершена.\n",
      "Распознано: six с уверенностью 0.929\n",
      "Началась запись. Говорите команду...\n",
      "Запись завершена.\n",
      "Распознано: six с уверенностью 0.925\n",
      "Началась запись. Говорите команду...\n",
      "Запись завершена.\n",
      "Распознано: six с уверенностью 0.995\n",
      "Началась запись. Говорите команду...\n",
      "Запись завершена.\n",
      "Распознано: six с уверенностью 0.985\n",
      "Началась запись. Говорите команду...\n",
      "Запись завершена.\n",
      "Распознано: seven с уверенностью 0.996\n",
      "Началась запись. Говорите команду...\n",
      "Запись завершена.\n",
      "Распознано: eight с уверенностью 0.546\n",
      "Началась запись. Говорите команду...\n",
      "Запись завершена.\n",
      "Распознано: four с уверенностью 0.445\n",
      "Началась запись. Говорите команду...\n",
      "Запись завершена.\n",
      "Распознано: stop с уверенностью 0.454\n",
      "Началась запись. Говорите команду...\n",
      "Запись завершена.\n",
      "Распознано: four с уверенностью 0.726\n",
      "Началась запись. Говорите команду...\n",
      "Запись завершена.\n",
      "Распознано: four с уверенностью 0.994\n",
      "Началась запись. Говорите команду...\n",
      "Запись завершена.\n",
      "Распознано: four с уверенностью 1.000\n",
      "Программа завершена пользователем.\n"
     ]
    }
   ],
   "source": [
    "try:\n",
    "    with sd.InputStream(samplerate=SAMPLE_RATE, channels=1, dtype=np.float32, callback=callback):\n",
    "        with keyboard.Listener(on_press=on_press_alt, on_release=on_release_alt) as listener:\n",
    "            listener.join()\n",
    "except KeyboardInterrupt:\n",
    "    print(\"Программа завершена пользователем.\")\n",
    "except Exception as e:\n",
    "    print(f\"Произошла ошибка: {e}\")"
   ]
  },
  {
   "cell_type": "code",
   "execution_count": null,
   "id": "3ff77ae8-8000-450f-adf1-0e358231bc23",
   "metadata": {},
   "outputs": [],
   "source": []
  }
 ],
 "metadata": {
  "kernelspec": {
   "display_name": "Python 3 (ipykernel)",
   "language": "python",
   "name": "python3"
  },
  "language_info": {
   "codemirror_mode": {
    "name": "ipython",
    "version": 3
   },
   "file_extension": ".py",
   "mimetype": "text/x-python",
   "name": "python",
   "nbconvert_exporter": "python",
   "pygments_lexer": "ipython3",
   "version": "3.12.2"
  }
 },
 "nbformat": 4,
 "nbformat_minor": 5
}
