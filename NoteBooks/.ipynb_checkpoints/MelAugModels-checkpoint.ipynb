{
 "cells": [
  {
   "cell_type": "code",
   "execution_count": 1,
   "id": "1d17ef5b",
   "metadata": {
    "_cell_guid": "b1076dfc-b9ad-4769-8c92-a6c4dae69d19",
    "_uuid": "8f2839f25d086af736a60e9eeb907d3b93b6e0e5",
    "execution": {
     "iopub.execute_input": "2025-05-15T05:57:18.668751Z",
     "iopub.status.busy": "2025-05-15T05:57:18.668555Z",
     "iopub.status.idle": "2025-05-15T05:57:35.039576Z",
     "shell.execute_reply": "2025-05-15T05:57:35.038875Z"
    },
    "papermill": {
     "duration": 16.384846,
     "end_time": "2025-05-15T05:57:35.041007",
     "exception": false,
     "start_time": "2025-05-15T05:57:18.656161",
     "status": "completed"
    },
    "tags": []
   },
   "outputs": [
    {
     "name": "stderr",
     "output_type": "stream",
     "text": [
      "2025-05-15 05:57:20.323460: E external/local_xla/xla/stream_executor/cuda/cuda_fft.cc:477] Unable to register cuFFT factory: Attempting to register factory for plugin cuFFT when one has already been registered\n",
      "WARNING: All log messages before absl::InitializeLog() is called are written to STDERR\n",
      "E0000 00:00:1747288640.547313      19 cuda_dnn.cc:8310] Unable to register cuDNN factory: Attempting to register factory for plugin cuDNN when one has already been registered\n",
      "E0000 00:00:1747288640.612362      19 cuda_blas.cc:1418] Unable to register cuBLAS factory: Attempting to register factory for plugin cuBLAS when one has already been registered\n",
      "/usr/local/lib/python3.11/dist-packages/tensorflow_io/python/ops/__init__.py:98: UserWarning: unable to load libtensorflow_io_plugins.so: unable to open file: libtensorflow_io_plugins.so, from paths: ['/usr/local/lib/python3.11/dist-packages/tensorflow_io/python/ops/libtensorflow_io_plugins.so']\n",
      "caused by: ['/usr/local/lib/python3.11/dist-packages/tensorflow_io/python/ops/libtensorflow_io_plugins.so: undefined symbol: _ZN3tsl8str_util8EndsWithESt17basic_string_viewIcSt11char_traitsIcEES4_']\n",
      "  warnings.warn(f\"unable to load libtensorflow_io_plugins.so: {e}\")\n",
      "/usr/local/lib/python3.11/dist-packages/tensorflow_io/python/ops/__init__.py:104: UserWarning: file system plugins are not loaded: unable to open file: libtensorflow_io.so, from paths: ['/usr/local/lib/python3.11/dist-packages/tensorflow_io/python/ops/libtensorflow_io.so']\n",
      "caused by: ['/usr/local/lib/python3.11/dist-packages/tensorflow_io/python/ops/libtensorflow_io.so: undefined symbol: _ZN3tsl8str_util9LowercaseB5cxx11ESt17basic_string_viewIcSt11char_traitsIcEE']\n",
      "  warnings.warn(f\"file system plugins are not loaded: {e}\")\n"
     ]
    }
   ],
   "source": [
    "import tensorflow as tf\n",
    "from tensorflow.keras import models, layers\n",
    "from tensorflow.keras.layers import Bidirectional, LSTM, Reshape, GlobalAveragePooling1D, BatchNormalization, Dropout, Dense, Conv2D, MaxPooling2D, Activation, GRU, Input, SeparableConv2D\n",
    "import pathlib\n",
    "import numpy as np\n",
    "import os\n",
    "import matplotlib.pyplot as plt\n",
    "import seaborn as sns\n",
    "import librosa\n",
    "from collections import defaultdict\n",
    "from sklearn.model_selection import train_test_split\n",
    "from sklearn.metrics import classification_report\n",
    "import pandas as pd\n",
    "import tensorflow_io as tfio\n",
    "import shutil\n",
    "from tqdm import tqdm\n",
    "\n",
    "SAMPLE_RATE = 16000"
   ]
  },
  {
   "cell_type": "code",
   "execution_count": 2,
   "id": "ea3d67d3",
   "metadata": {
    "execution": {
     "iopub.execute_input": "2025-05-15T05:57:35.064619Z",
     "iopub.status.busy": "2025-05-15T05:57:35.063625Z",
     "iopub.status.idle": "2025-05-15T05:57:42.779479Z",
     "shell.execute_reply": "2025-05-15T05:57:42.778661Z"
    },
    "papermill": {
     "duration": 7.728418,
     "end_time": "2025-05-15T05:57:42.780889",
     "exception": false,
     "start_time": "2025-05-15T05:57:35.052471",
     "status": "completed"
    },
    "tags": []
   },
   "outputs": [
    {
     "name": "stdout",
     "output_type": "stream",
     "text": [
      "Collecting pyunpack\r\n",
      "  Downloading pyunpack-0.3-py2.py3-none-any.whl.metadata (863 bytes)\r\n",
      "Collecting easyprocess (from pyunpack)\r\n",
      "  Downloading EasyProcess-1.1-py3-none-any.whl.metadata (855 bytes)\r\n",
      "Collecting entrypoint2 (from pyunpack)\r\n",
      "  Downloading entrypoint2-1.1-py2.py3-none-any.whl.metadata (1.0 kB)\r\n",
      "Downloading pyunpack-0.3-py2.py3-none-any.whl (4.1 kB)\r\n",
      "Downloading EasyProcess-1.1-py3-none-any.whl (8.7 kB)\r\n",
      "Downloading entrypoint2-1.1-py2.py3-none-any.whl (9.9 kB)\r\n",
      "Installing collected packages: entrypoint2, easyprocess, pyunpack\r\n",
      "Successfully installed easyprocess-1.1 entrypoint2-1.1 pyunpack-0.3\r\n",
      "Collecting patool\r\n",
      "  Downloading patool-4.0.1-py2.py3-none-any.whl.metadata (4.5 kB)\r\n",
      "Downloading patool-4.0.1-py2.py3-none-any.whl (86 kB)\r\n",
      "\u001b[2K   \u001b[90m━━━━━━━━━━━━━━━━━━━━━━━━━━━━━━━━━━━━━━━━\u001b[0m \u001b[32m86.5/86.5 kB\u001b[0m \u001b[31m3.2 MB/s\u001b[0m eta \u001b[36m0:00:00\u001b[0m\r\n",
      "\u001b[?25hInstalling collected packages: patool\r\n",
      "Successfully installed patool-4.0.1\r\n"
     ]
    }
   ],
   "source": [
    "!pip install pyunpack\n",
    "!pip install patool"
   ]
  },
  {
   "cell_type": "code",
   "execution_count": 3,
   "id": "9de7c9bd",
   "metadata": {
    "execution": {
     "iopub.execute_input": "2025-05-15T05:57:42.804876Z",
     "iopub.status.busy": "2025-05-15T05:57:42.804610Z",
     "iopub.status.idle": "2025-05-15T05:59:16.965138Z",
     "shell.execute_reply": "2025-05-15T05:59:16.964540Z"
    },
    "papermill": {
     "duration": 94.173831,
     "end_time": "2025-05-15T05:59:16.966570",
     "exception": false,
     "start_time": "2025-05-15T05:57:42.792739",
     "status": "completed"
    },
    "tags": []
   },
   "outputs": [],
   "source": [
    "from pyunpack import Archive\n",
    "if not os.path.exists('/kaggle/working/train/'):\n",
    "    os.makedirs('/kaggle/working/train/')\n",
    "Archive('/kaggle/input/tensorflow-speech-recognition-challenge/train.7z').extractall('/kaggle/working/train/')"
   ]
  },
  {
   "cell_type": "code",
   "execution_count": 4,
   "id": "4558abee",
   "metadata": {
    "execution": {
     "iopub.execute_input": "2025-05-15T05:59:16.990102Z",
     "iopub.status.busy": "2025-05-15T05:59:16.989437Z",
     "iopub.status.idle": "2025-05-15T05:59:16.994779Z",
     "shell.execute_reply": "2025-05-15T05:59:16.994179Z"
    },
    "papermill": {
     "duration": 0.01773,
     "end_time": "2025-05-15T05:59:16.995856",
     "exception": false,
     "start_time": "2025-05-15T05:59:16.978126",
     "status": "completed"
    },
    "tags": []
   },
   "outputs": [
    {
     "name": "stdout",
     "output_type": "stream",
     "text": [
      "Команды: ['happy' 'down' 'stop' 'house' 'two' 'six' 'no' 'dog' 'on' 'five' 'right'\n",
      " 'eight' 'wow' 'seven' 'bird' 'off' 'bed' 'tree' 'nine' 'yes' 'zero'\n",
      " 'sheila' 'go' 'four' 'left' 'one' 'three' 'marvin' 'up' 'cat']\n"
     ]
    }
   ],
   "source": [
    "dataset_path = '/kaggle/working/train/train/audio'\n",
    "data_dir = pathlib.Path(dataset_path)\n",
    "\n",
    "commands = [cmd for cmd in tf.io.gfile.listdir(str(data_dir)) if cmd != '_background_noise_']\n",
    "commands = np.array(commands)\n",
    "print('Команды:', commands)"
   ]
  },
  {
   "cell_type": "code",
   "execution_count": 5,
   "id": "a492eec6",
   "metadata": {
    "execution": {
     "iopub.execute_input": "2025-05-15T05:59:17.017598Z",
     "iopub.status.busy": "2025-05-15T05:59:17.017382Z",
     "iopub.status.idle": "2025-05-15T05:59:17.024095Z",
     "shell.execute_reply": "2025-05-15T05:59:17.023426Z"
    },
    "papermill": {
     "duration": 0.018806,
     "end_time": "2025-05-15T05:59:17.025254",
     "exception": false,
     "start_time": "2025-05-15T05:59:17.006448",
     "status": "completed"
    },
    "tags": []
   },
   "outputs": [],
   "source": [
    "def create_stratified_split(source_dir, target_dir, test_val_ratio=0.2, random_seed=42):\n",
    "    os.makedirs(os.path.join(target_dir, 'train'), exist_ok=True)\n",
    "    os.makedirs(os.path.join(target_dir, 'val'), exist_ok=True)\n",
    "    os.makedirs(os.path.join(target_dir, 'test'), exist_ok=True)\n",
    "    \n",
    "    for class_name in os.listdir(source_dir):\n",
    "        class_dir = os.path.join(source_dir, class_name)\n",
    "        if not os.path.isdir(class_dir) or class_name == '_background_noise_':\n",
    "            continue\n",
    "            \n",
    "        all_files = [f for f in os.listdir(class_dir) if f.endswith('.wav')]\n",
    "        if not all_files:\n",
    "            continue\n",
    "            \n",
    "        train_files, temp_files = train_test_split(\n",
    "            all_files,\n",
    "            test_size=test_val_ratio,\n",
    "            random_state=random_seed\n",
    "        )\n",
    "        val_files, test_files = train_test_split(\n",
    "            temp_files,\n",
    "            test_size=0.5,\n",
    "            random_state=random_seed\n",
    "        )\n",
    "        \n",
    "        for folder in ['train', 'val', 'test']:\n",
    "            os.makedirs(os.path.join(target_dir, folder, class_name), exist_ok=True)\n",
    "        \n",
    "        def copy_files(files, target_folder):\n",
    "            for f in files:\n",
    "                src = os.path.join(class_dir, f)\n",
    "                dst = os.path.join(target_dir, target_folder, class_name, f)\n",
    "                shutil.copy2(src, dst)\n",
    "        \n",
    "        copy_files(train_files, 'train')\n",
    "        copy_files(val_files, 'val')\n",
    "        copy_files(test_files, 'test')\n",
    "        \n",
    "        print(f'Class {class_name}: {len(train_files)} train, {len(val_files)} val, {len(test_files)} test')"
   ]
  },
  {
   "cell_type": "code",
   "execution_count": 6,
   "id": "d314d267",
   "metadata": {
    "execution": {
     "iopub.execute_input": "2025-05-15T05:59:17.046735Z",
     "iopub.status.busy": "2025-05-15T05:59:17.046545Z",
     "iopub.status.idle": "2025-05-15T05:59:25.363095Z",
     "shell.execute_reply": "2025-05-15T05:59:25.362144Z"
    },
    "papermill": {
     "duration": 8.328674,
     "end_time": "2025-05-15T05:59:25.364355",
     "exception": false,
     "start_time": "2025-05-15T05:59:17.035681",
     "status": "completed"
    },
    "tags": []
   },
   "outputs": [
    {
     "name": "stdout",
     "output_type": "stream",
     "text": [
      "Class happy: 1393 train, 174 val, 175 test\n",
      "Class down: 1887 train, 236 val, 236 test\n",
      "Class stop: 1904 train, 238 val, 238 test\n",
      "Class house: 1400 train, 175 val, 175 test\n",
      "Class two: 1898 train, 237 val, 238 test\n",
      "Class six: 1895 train, 237 val, 237 test\n",
      "Class no: 1900 train, 237 val, 238 test\n",
      "Class dog: 1396 train, 175 val, 175 test\n",
      "Class on: 1893 train, 237 val, 237 test\n",
      "Class five: 1885 train, 236 val, 236 test\n",
      "Class right: 1893 train, 237 val, 237 test\n",
      "Class eight: 1881 train, 235 val, 236 test\n",
      "Class wow: 1396 train, 174 val, 175 test\n",
      "Class seven: 1901 train, 238 val, 238 test\n",
      "Class bird: 1384 train, 173 val, 174 test\n",
      "Class off: 1885 train, 236 val, 236 test\n",
      "Class bed: 1370 train, 171 val, 172 test\n",
      "Class tree: 1386 train, 173 val, 174 test\n",
      "Class nine: 1891 train, 236 val, 237 test\n",
      "Class yes: 1901 train, 238 val, 238 test\n",
      "Class zero: 1900 train, 238 val, 238 test\n",
      "Class sheila: 1387 train, 173 val, 174 test\n",
      "Class go: 1897 train, 237 val, 238 test\n",
      "Class four: 1897 train, 237 val, 238 test\n",
      "Class left: 1882 train, 235 val, 236 test\n",
      "Class one: 1896 train, 237 val, 237 test\n",
      "Class three: 1884 train, 236 val, 236 test\n",
      "Class marvin: 1396 train, 175 val, 175 test\n",
      "Class up: 1900 train, 237 val, 238 test\n",
      "Class cat: 1386 train, 173 val, 174 test\n",
      "\n",
      "Итоговые размеры:\n",
      "Train: 51764 файлов\n",
      "Val: 6471 файлов\n",
      "Test: 6486 файлов\n"
     ]
    }
   ],
   "source": [
    "SOURCE_DIR = '/kaggle/working/train/train/audio'\n",
    "TARGET_DIR = '/kaggle/working/split_data'\n",
    "    \n",
    "create_stratified_split(SOURCE_DIR, TARGET_DIR)\n",
    "    \n",
    "total_train = sum(len(files) for _, _, files in os.walk(os.path.join(TARGET_DIR, 'train')))\n",
    "total_val = sum(len(files) for _, _, files in os.walk(os.path.join(TARGET_DIR, 'val')))\n",
    "total_test = sum(len(files) for _, _, files in os.walk(os.path.join(TARGET_DIR, 'test')))\n",
    "    \n",
    "print('\\nИтоговые размеры:')\n",
    "print(f'Train: {total_train} файлов')\n",
    "print(f'Val: {total_val} файлов')\n",
    "print(f'Test: {total_test} файлов')"
   ]
  },
  {
   "cell_type": "code",
   "execution_count": 7,
   "id": "ff92e6c2",
   "metadata": {
    "execution": {
     "iopub.execute_input": "2025-05-15T05:59:25.393793Z",
     "iopub.status.busy": "2025-05-15T05:59:25.393568Z",
     "iopub.status.idle": "2025-05-15T05:59:25.397786Z",
     "shell.execute_reply": "2025-05-15T05:59:25.397096Z"
    },
    "papermill": {
     "duration": 0.019445,
     "end_time": "2025-05-15T05:59:25.398939",
     "exception": false,
     "start_time": "2025-05-15T05:59:25.379494",
     "status": "completed"
    },
    "tags": []
   },
   "outputs": [],
   "source": [
    "def add_random_noise(waveform, max_noise_level=0.02):\n",
    "    noise_level = tf.random.uniform(shape=[], maxval=max_noise_level)\n",
    "    noise = tf.random.normal(shape=tf.shape(waveform), mean=0.0, stddev=noise_level)\n",
    "    return waveform + noise"
   ]
  },
  {
   "cell_type": "code",
   "execution_count": 8,
   "id": "d126e5fa",
   "metadata": {
    "execution": {
     "iopub.execute_input": "2025-05-15T05:59:25.426681Z",
     "iopub.status.busy": "2025-05-15T05:59:25.426209Z",
     "iopub.status.idle": "2025-05-15T05:59:25.429896Z",
     "shell.execute_reply": "2025-05-15T05:59:25.429334Z"
    },
    "papermill": {
     "duration": 0.018807,
     "end_time": "2025-05-15T05:59:25.430933",
     "exception": false,
     "start_time": "2025-05-15T05:59:25.412126",
     "status": "completed"
    },
    "tags": []
   },
   "outputs": [],
   "source": [
    "def random_volume(waveform, min_factor=0.5, max_factor=1.5):\n",
    "    factor = tf.random.uniform(shape=[], minval=min_factor, maxval=max_factor)\n",
    "    return waveform * factor"
   ]
  },
  {
   "cell_type": "code",
   "execution_count": 9,
   "id": "fbdffa42",
   "metadata": {
    "execution": {
     "iopub.execute_input": "2025-05-15T05:59:25.503706Z",
     "iopub.status.busy": "2025-05-15T05:59:25.503151Z",
     "iopub.status.idle": "2025-05-15T05:59:25.506811Z",
     "shell.execute_reply": "2025-05-15T05:59:25.506287Z"
    },
    "papermill": {
     "duration": 0.018553,
     "end_time": "2025-05-15T05:59:25.507848",
     "exception": false,
     "start_time": "2025-05-15T05:59:25.489295",
     "status": "completed"
    },
    "tags": []
   },
   "outputs": [],
   "source": [
    "def time_shift(waveform, shift_max=0.2):\n",
    "    shift = int(tf.random.uniform([], -shift_max, shift_max) * SAMPLE_RATE)\n",
    "    return tf.roll(waveform, shift, axis=0)"
   ]
  },
  {
   "cell_type": "code",
   "execution_count": 10,
   "id": "d7e15139",
   "metadata": {
    "execution": {
     "iopub.execute_input": "2025-05-15T05:59:25.532146Z",
     "iopub.status.busy": "2025-05-15T05:59:25.531679Z",
     "iopub.status.idle": "2025-05-15T05:59:25.536813Z",
     "shell.execute_reply": "2025-05-15T05:59:25.536322Z"
    },
    "papermill": {
     "duration": 0.018294,
     "end_time": "2025-05-15T05:59:25.537820",
     "exception": false,
     "start_time": "2025-05-15T05:59:25.519526",
     "status": "completed"
    },
    "tags": []
   },
   "outputs": [],
   "source": [
    "def stretch_time(waveform, min_rate=0.8, max_rate=1.25):\n",
    "    rate = tf.random.uniform([], minval=min_rate, maxval=max_rate)\n",
    "\n",
    "    def _np_stretch(wav_np, rate_np):\n",
    "        import numpy as np\n",
    "        orig_len = wav_np.shape[0]\n",
    "        \n",
    "        target_len = int(orig_len * float(rate_np))\n",
    "        if target_len < 2:\n",
    "            return wav_np\n",
    "\n",
    "        x_old = np.linspace(0, orig_len - 1, orig_len)\n",
    "        x_new = np.linspace(0, orig_len - 1, target_len)\n",
    "        \n",
    "        stretched = np.interp(x_new, x_old, wav_np).astype(np.float32)\n",
    "\n",
    "        if stretched.shape[0] < orig_len:\n",
    "            pad = np.zeros(orig_len - stretched.shape[0], dtype=np.float32)\n",
    "            stretched = np.concatenate([stretched, pad])\n",
    "        else:\n",
    "            stretched = stretched[:orig_len]\n",
    "        return stretched\n",
    "\n",
    "    stretched = tf.numpy_function(_np_stretch, [waveform, rate], tf.float32)\n",
    "    stretched.set_shape(waveform.shape)\n",
    "    return stretched\n"
   ]
  },
  {
   "cell_type": "code",
   "execution_count": 11,
   "id": "b85d9a8b",
   "metadata": {
    "execution": {
     "iopub.execute_input": "2025-05-15T05:59:25.561617Z",
     "iopub.status.busy": "2025-05-15T05:59:25.561442Z",
     "iopub.status.idle": "2025-05-15T05:59:25.564835Z",
     "shell.execute_reply": "2025-05-15T05:59:25.564359Z"
    },
    "papermill": {
     "duration": 0.016395,
     "end_time": "2025-05-15T05:59:25.565819",
     "exception": false,
     "start_time": "2025-05-15T05:59:25.549424",
     "status": "completed"
    },
    "tags": []
   },
   "outputs": [],
   "source": [
    "def decode_audio(audio_binary):\n",
    "  audio, _ = tf.audio.decode_wav(contents=audio_binary)\n",
    "  return tf.squeeze(audio, axis=-1)"
   ]
  },
  {
   "cell_type": "code",
   "execution_count": 12,
   "id": "b640e030",
   "metadata": {
    "execution": {
     "iopub.execute_input": "2025-05-15T05:59:25.589780Z",
     "iopub.status.busy": "2025-05-15T05:59:25.589182Z",
     "iopub.status.idle": "2025-05-15T05:59:25.594080Z",
     "shell.execute_reply": "2025-05-15T05:59:25.593612Z"
    },
    "papermill": {
     "duration": 0.017737,
     "end_time": "2025-05-15T05:59:25.594991",
     "exception": false,
     "start_time": "2025-05-15T05:59:25.577254",
     "status": "completed"
    },
    "tags": []
   },
   "outputs": [],
   "source": [
    "def add_augmented_files(dataset_dir):\n",
    "    for class_name in tqdm(os.listdir(dataset_dir), desc='Processing classes'):\n",
    "        class_dir = os.path.join(dataset_dir, class_name)\n",
    "        if not os.path.isdir(class_dir) or class_name == '_background_noise_':\n",
    "            continue\n",
    "\n",
    "        existing_files = set(os.listdir(class_dir))\n",
    "\n",
    "        for filename in os.listdir(class_dir):\n",
    "            if filename.startswith('aug_'):\n",
    "                continue\n",
    "\n",
    "            input_path = os.path.join(class_dir, filename)\n",
    "            aug_filename = f'aug_{filename}'\n",
    "\n",
    "            if aug_filename not in existing_files:\n",
    "                audio_binary = tf.io.read_file(input_path)\n",
    "                waveform = decode_audio(audio_binary)\n",
    "\n",
    "                augmented = add_random_noise(\n",
    "                    random_volume(\n",
    "                        time_shift(\n",
    "                            stretch_time(waveform)\n",
    "                        )\n",
    "                    )\n",
    "                )\n",
    "\n",
    "                aug_path = os.path.join(class_dir, aug_filename)\n",
    "                wav_data = tf.audio.encode_wav(augmented[:, tf.newaxis], SAMPLE_RATE)\n",
    "                tf.io.write_file(aug_path, wav_data)\n"
   ]
  },
  {
   "cell_type": "code",
   "execution_count": 13,
   "id": "13c865f8",
   "metadata": {
    "execution": {
     "iopub.execute_input": "2025-05-15T05:59:25.618759Z",
     "iopub.status.busy": "2025-05-15T05:59:25.618589Z",
     "iopub.status.idle": "2025-05-15T06:03:45.539596Z",
     "shell.execute_reply": "2025-05-15T06:03:45.538667Z"
    },
    "papermill": {
     "duration": 259.934175,
     "end_time": "2025-05-15T06:03:45.540686",
     "exception": false,
     "start_time": "2025-05-15T05:59:25.606511",
     "status": "completed"
    },
    "tags": []
   },
   "outputs": [
    {
     "name": "stderr",
     "output_type": "stream",
     "text": [
      "Processing classes:   0%|          | 0/30 [00:00<?, ?it/s]I0000 00:00:1747288767.085376      19 gpu_device.cc:2022] Created device /job:localhost/replica:0/task:0/device:GPU:0 with 13942 MB memory:  -> device: 0, name: Tesla T4, pci bus id: 0000:00:04.0, compute capability: 7.5\n",
      "I0000 00:00:1747288767.086140      19 gpu_device.cc:2022] Created device /job:localhost/replica:0/task:0/device:GPU:1 with 13942 MB memory:  -> device: 1, name: Tesla T4, pci bus id: 0000:00:05.0, compute capability: 7.5\n",
      "Processing classes: 100%|██████████| 30/30 [04:19<00:00,  8.66s/it]\n"
     ]
    }
   ],
   "source": [
    "dataset_path = '/kaggle/working/split_data/train'\n",
    "add_augmented_files(dataset_path)"
   ]
  },
  {
   "cell_type": "code",
   "execution_count": 14,
   "id": "f1223ca8",
   "metadata": {
    "execution": {
     "iopub.execute_input": "2025-05-15T06:03:45.568058Z",
     "iopub.status.busy": "2025-05-15T06:03:45.567812Z",
     "iopub.status.idle": "2025-05-15T06:03:45.572088Z",
     "shell.execute_reply": "2025-05-15T06:03:45.571567Z"
    },
    "papermill": {
     "duration": 0.018976,
     "end_time": "2025-05-15T06:03:45.573085",
     "exception": false,
     "start_time": "2025-05-15T06:03:45.554109",
     "status": "completed"
    },
    "tags": []
   },
   "outputs": [],
   "source": [
    "def load_split_dataset(base_dir):\n",
    "    base = pathlib.Path(base_dir)\n",
    "\n",
    "    train_files = [str(p) for p in base.joinpath('train').rglob('*.wav')]\n",
    "    val_files   = [str(p) for p in base.joinpath('val').rglob('*.wav')]\n",
    "    test_files  = [str(p) for p in base.joinpath('test').rglob('*.wav')]\n",
    "\n",
    "    return train_files, val_files, test_files"
   ]
  },
  {
   "cell_type": "code",
   "execution_count": 15,
   "id": "dc3c7170",
   "metadata": {
    "execution": {
     "iopub.execute_input": "2025-05-15T06:03:45.600654Z",
     "iopub.status.busy": "2025-05-15T06:03:45.600445Z",
     "iopub.status.idle": "2025-05-15T06:03:46.590802Z",
     "shell.execute_reply": "2025-05-15T06:03:46.590062Z"
    },
    "papermill": {
     "duration": 1.005499,
     "end_time": "2025-05-15T06:03:46.592000",
     "exception": false,
     "start_time": "2025-05-15T06:03:45.586501",
     "status": "completed"
    },
    "tags": []
   },
   "outputs": [
    {
     "name": "stdout",
     "output_type": "stream",
     "text": [
      "Train files: 103528\n",
      "Val files: 6471\n",
      "Test files: 6486\n"
     ]
    }
   ],
   "source": [
    "train_files, val_files, test_files = load_split_dataset(TARGET_DIR)\n",
    "\n",
    "print(f'Train files: {len(list(train_files))}')\n",
    "print(f'Val files: {len(list(val_files))}')\n",
    "print(f'Test files: {len(list(test_files))}')"
   ]
  },
  {
   "cell_type": "code",
   "execution_count": 16,
   "id": "9515a838",
   "metadata": {
    "execution": {
     "iopub.execute_input": "2025-05-15T06:03:46.619952Z",
     "iopub.status.busy": "2025-05-15T06:03:46.619296Z",
     "iopub.status.idle": "2025-05-15T06:03:46.622832Z",
     "shell.execute_reply": "2025-05-15T06:03:46.622305Z"
    },
    "papermill": {
     "duration": 0.018091,
     "end_time": "2025-05-15T06:03:46.623943",
     "exception": false,
     "start_time": "2025-05-15T06:03:46.605852",
     "status": "completed"
    },
    "tags": []
   },
   "outputs": [],
   "source": [
    "def get_label(file_path):\n",
    "  parts = tf.strings.split(input=file_path,sep=os.path.sep)\n",
    "  return parts[-2]"
   ]
  },
  {
   "cell_type": "code",
   "execution_count": 17,
   "id": "0278c3e3",
   "metadata": {
    "execution": {
     "iopub.execute_input": "2025-05-15T06:03:46.650919Z",
     "iopub.status.busy": "2025-05-15T06:03:46.650708Z",
     "iopub.status.idle": "2025-05-15T06:03:46.653904Z",
     "shell.execute_reply": "2025-05-15T06:03:46.653410Z"
    },
    "papermill": {
     "duration": 0.017656,
     "end_time": "2025-05-15T06:03:46.654911",
     "exception": false,
     "start_time": "2025-05-15T06:03:46.637255",
     "status": "completed"
    },
    "tags": []
   },
   "outputs": [],
   "source": [
    "def get_waveform_and_label(file_path):\n",
    "  label = get_label(file_path) \n",
    "  audio_binary = tf.io.read_file(file_path)\n",
    "  waveform = decode_audio(audio_binary)\n",
    "  return waveform, label"
   ]
  },
  {
   "cell_type": "markdown",
   "id": "3aabc55e",
   "metadata": {
    "papermill": {
     "duration": 0.012769,
     "end_time": "2025-05-15T06:03:46.680661",
     "exception": false,
     "start_time": "2025-05-15T06:03:46.667892",
     "status": "completed"
    },
    "tags": []
   },
   "source": [
    "# MelSpectDataSet"
   ]
  },
  {
   "cell_type": "code",
   "execution_count": 18,
   "id": "a9c42067",
   "metadata": {
    "execution": {
     "iopub.execute_input": "2025-05-15T06:03:46.706934Z",
     "iopub.status.busy": "2025-05-15T06:03:46.706731Z",
     "iopub.status.idle": "2025-05-15T06:03:46.711287Z",
     "shell.execute_reply": "2025-05-15T06:03:46.710802Z"
    },
    "papermill": {
     "duration": 0.018828,
     "end_time": "2025-05-15T06:03:46.712236",
     "exception": false,
     "start_time": "2025-05-15T06:03:46.693408",
     "status": "completed"
    },
    "tags": []
   },
   "outputs": [],
   "source": [
    "def get_mel_spectrogram(waveform):\n",
    "    input_len = 16000\n",
    "    waveform = waveform[:input_len]\n",
    "    zero_padding = tf.zeros([16000] - tf.shape(waveform), dtype=tf.float32)\n",
    "    waveform = tf.concat([waveform, zero_padding], 0)\n",
    "\n",
    "    spectrogram = tf.signal.stft(waveform, frame_length=400, frame_step=160)\n",
    "    spectrogram = tf.abs(spectrogram)\n",
    "\n",
    "    num_mel_bins = 80\n",
    "    linear_to_mel_weight_matrix = tf.signal.linear_to_mel_weight_matrix(\n",
    "        num_mel_bins=num_mel_bins,\n",
    "        num_spectrogram_bins=spectrogram.shape[-1],\n",
    "        sample_rate=16000,\n",
    "        lower_edge_hertz=80.0,\n",
    "        upper_edge_hertz=7600.0\n",
    "    )\n",
    "\n",
    "    mel_spectrogram = tf.tensordot(spectrogram, linear_to_mel_weight_matrix, 1)\n",
    "    mel_spectrogram = tf.math.log(mel_spectrogram + 1e-6)\n",
    "\n",
    "    mel_spectrogram = mel_spectrogram[..., tf.newaxis]\n",
    "    return mel_spectrogram"
   ]
  },
  {
   "cell_type": "code",
   "execution_count": 19,
   "id": "b334f182",
   "metadata": {
    "execution": {
     "iopub.execute_input": "2025-05-15T06:03:46.738898Z",
     "iopub.status.busy": "2025-05-15T06:03:46.738691Z",
     "iopub.status.idle": "2025-05-15T06:03:46.741859Z",
     "shell.execute_reply": "2025-05-15T06:03:46.741366Z"
    },
    "papermill": {
     "duration": 0.017556,
     "end_time": "2025-05-15T06:03:46.742886",
     "exception": false,
     "start_time": "2025-05-15T06:03:46.725330",
     "status": "completed"
    },
    "tags": []
   },
   "outputs": [],
   "source": [
    "def get_mel_spectrogram_and_label_id(audio, label):\n",
    "    mel_spectrogram = get_mel_spectrogram(audio)\n",
    "    label_id = tf.argmax(label == commands)\n",
    "    return mel_spectrogram, label_id"
   ]
  },
  {
   "cell_type": "code",
   "execution_count": 20,
   "id": "afad1f4f",
   "metadata": {
    "execution": {
     "iopub.execute_input": "2025-05-15T06:03:46.769171Z",
     "iopub.status.busy": "2025-05-15T06:03:46.768968Z",
     "iopub.status.idle": "2025-05-15T06:03:46.772447Z",
     "shell.execute_reply": "2025-05-15T06:03:46.771892Z"
    },
    "papermill": {
     "duration": 0.017759,
     "end_time": "2025-05-15T06:03:46.773492",
     "exception": false,
     "start_time": "2025-05-15T06:03:46.755733",
     "status": "completed"
    },
    "tags": []
   },
   "outputs": [],
   "source": [
    "def preprocess_mel_dataset(files):\n",
    "    files_ds = tf.data.Dataset.from_tensor_slices(files)\n",
    "    return (\n",
    "        files_ds\n",
    "        .map(get_waveform_and_label,      num_parallel_calls=tf.data.AUTOTUNE)\n",
    "        .map(get_mel_spectrogram_and_label_id, num_parallel_calls=tf.data.AUTOTUNE)\n",
    "    )\n"
   ]
  },
  {
   "cell_type": "code",
   "execution_count": 21,
   "id": "9a45a72f",
   "metadata": {
    "execution": {
     "iopub.execute_input": "2025-05-15T06:03:46.799729Z",
     "iopub.status.busy": "2025-05-15T06:03:46.799525Z",
     "iopub.status.idle": "2025-05-15T06:03:47.916424Z",
     "shell.execute_reply": "2025-05-15T06:03:47.915848Z"
    },
    "papermill": {
     "duration": 1.131582,
     "end_time": "2025-05-15T06:03:47.917805",
     "exception": false,
     "start_time": "2025-05-15T06:03:46.786223",
     "status": "completed"
    },
    "tags": []
   },
   "outputs": [],
   "source": [
    "spectrogram_mel_ds = preprocess_mel_dataset(train_files)\n",
    "test_mel_ds = preprocess_mel_dataset(test_files)"
   ]
  },
  {
   "cell_type": "code",
   "execution_count": 22,
   "id": "0727f70e",
   "metadata": {
    "execution": {
     "iopub.execute_input": "2025-05-15T06:03:47.946023Z",
     "iopub.status.busy": "2025-05-15T06:03:47.945799Z",
     "iopub.status.idle": "2025-05-15T06:03:50.671936Z",
     "shell.execute_reply": "2025-05-15T06:03:50.671316Z"
    },
    "papermill": {
     "duration": 2.741217,
     "end_time": "2025-05-15T06:03:50.673192",
     "exception": false,
     "start_time": "2025-05-15T06:03:47.931975",
     "status": "completed"
    },
    "tags": []
   },
   "outputs": [],
   "source": [
    "batch_size = 128\n",
    "train_mel_ds = (\n",
    "    preprocess_mel_dataset(train_files)\n",
    "    .cache()\n",
    "    .shuffle(buffer_size=len(train_files), seed=42)\n",
    "    .batch(batch_size)\n",
    "    .prefetch(tf.data.AUTOTUNE)\n",
    ")\n",
    "val_mel_ds = (\n",
    "    preprocess_mel_dataset(val_files)\n",
    "    .batch(batch_size)\n",
    "    .cache()\n",
    "    .prefetch(tf.data.AUTOTUNE)\n",
    ")"
   ]
  },
  {
   "cell_type": "code",
   "execution_count": 23,
   "id": "58f1c743",
   "metadata": {
    "execution": {
     "iopub.execute_input": "2025-05-15T06:03:50.707323Z",
     "iopub.status.busy": "2025-05-15T06:03:50.707054Z",
     "iopub.status.idle": "2025-05-15T06:03:51.034566Z",
     "shell.execute_reply": "2025-05-15T06:03:51.033734Z"
    },
    "papermill": {
     "duration": 0.345879,
     "end_time": "2025-05-15T06:03:51.035858",
     "exception": false,
     "start_time": "2025-05-15T06:03:50.689979",
     "status": "completed"
    },
    "tags": []
   },
   "outputs": [
    {
     "name": "stdout",
     "output_type": "stream",
     "text": [
      "Размер входа (98, 80, 1)\n"
     ]
    }
   ],
   "source": [
    "for mel_spectrogram, _ in spectrogram_mel_ds.take(1):\n",
    "  input_mel_shape = mel_spectrogram.shape\n",
    "print('Размер входа', input_mel_shape)\n",
    "\n",
    "num_labels = len(commands)"
   ]
  },
  {
   "cell_type": "markdown",
   "id": "00514e5a",
   "metadata": {
    "papermill": {
     "duration": 0.012864,
     "end_time": "2025-05-15T06:03:51.063099",
     "exception": false,
     "start_time": "2025-05-15T06:03:51.050235",
     "status": "completed"
    },
    "tags": []
   },
   "source": [
    "# Dense"
   ]
  },
  {
   "cell_type": "code",
   "execution_count": 24,
   "id": "1b12a07c",
   "metadata": {
    "execution": {
     "iopub.execute_input": "2025-05-15T06:03:51.090202Z",
     "iopub.status.busy": "2025-05-15T06:03:51.089732Z",
     "iopub.status.idle": "2025-05-15T06:03:51.889192Z",
     "shell.execute_reply": "2025-05-15T06:03:51.888633Z"
    },
    "papermill": {
     "duration": 0.814125,
     "end_time": "2025-05-15T06:03:51.890157",
     "exception": false,
     "start_time": "2025-05-15T06:03:51.076032",
     "status": "completed"
    },
    "tags": []
   },
   "outputs": [
    {
     "data": {
      "text/html": [
       "<pre style=\"white-space:pre;overflow-x:auto;line-height:normal;font-family:Menlo,'DejaVu Sans Mono',consolas,'Courier New',monospace\"><span style=\"font-weight: bold\">Model: \"sequential\"</span>\n",
       "</pre>\n"
      ],
      "text/plain": [
       "\u001b[1mModel: \"sequential\"\u001b[0m\n"
      ]
     },
     "metadata": {},
     "output_type": "display_data"
    },
    {
     "data": {
      "text/html": [
       "<pre style=\"white-space:pre;overflow-x:auto;line-height:normal;font-family:Menlo,'DejaVu Sans Mono',consolas,'Courier New',monospace\">┏━━━━━━━━━━━━━━━━━━━━━━━━━━━━━━━━━━━━━━┳━━━━━━━━━━━━━━━━━━━━━━━━━━━━━┳━━━━━━━━━━━━━━━━━┓\n",
       "┃<span style=\"font-weight: bold\"> Layer (type)                         </span>┃<span style=\"font-weight: bold\"> Output Shape                </span>┃<span style=\"font-weight: bold\">         Param # </span>┃\n",
       "┡━━━━━━━━━━━━━━━━━━━━━━━━━━━━━━━━━━━━━━╇━━━━━━━━━━━━━━━━━━━━━━━━━━━━━╇━━━━━━━━━━━━━━━━━┩\n",
       "│ dense (<span style=\"color: #0087ff; text-decoration-color: #0087ff\">Dense</span>)                        │ (<span style=\"color: #00d7ff; text-decoration-color: #00d7ff\">None</span>, <span style=\"color: #00af00; text-decoration-color: #00af00\">1024</span>)                │       <span style=\"color: #00af00; text-decoration-color: #00af00\">8,029,184</span> │\n",
       "├──────────────────────────────────────┼─────────────────────────────┼─────────────────┤\n",
       "│ batch_normalization                  │ (<span style=\"color: #00d7ff; text-decoration-color: #00d7ff\">None</span>, <span style=\"color: #00af00; text-decoration-color: #00af00\">1024</span>)                │           <span style=\"color: #00af00; text-decoration-color: #00af00\">4,096</span> │\n",
       "│ (<span style=\"color: #0087ff; text-decoration-color: #0087ff\">BatchNormalization</span>)                 │                             │                 │\n",
       "├──────────────────────────────────────┼─────────────────────────────┼─────────────────┤\n",
       "│ dropout (<span style=\"color: #0087ff; text-decoration-color: #0087ff\">Dropout</span>)                    │ (<span style=\"color: #00d7ff; text-decoration-color: #00d7ff\">None</span>, <span style=\"color: #00af00; text-decoration-color: #00af00\">1024</span>)                │               <span style=\"color: #00af00; text-decoration-color: #00af00\">0</span> │\n",
       "├──────────────────────────────────────┼─────────────────────────────┼─────────────────┤\n",
       "│ dense_1 (<span style=\"color: #0087ff; text-decoration-color: #0087ff\">Dense</span>)                      │ (<span style=\"color: #00d7ff; text-decoration-color: #00d7ff\">None</span>, <span style=\"color: #00af00; text-decoration-color: #00af00\">512</span>)                 │         <span style=\"color: #00af00; text-decoration-color: #00af00\">524,800</span> │\n",
       "├──────────────────────────────────────┼─────────────────────────────┼─────────────────┤\n",
       "│ batch_normalization_1                │ (<span style=\"color: #00d7ff; text-decoration-color: #00d7ff\">None</span>, <span style=\"color: #00af00; text-decoration-color: #00af00\">512</span>)                 │           <span style=\"color: #00af00; text-decoration-color: #00af00\">2,048</span> │\n",
       "│ (<span style=\"color: #0087ff; text-decoration-color: #0087ff\">BatchNormalization</span>)                 │                             │                 │\n",
       "├──────────────────────────────────────┼─────────────────────────────┼─────────────────┤\n",
       "│ dropout_1 (<span style=\"color: #0087ff; text-decoration-color: #0087ff\">Dropout</span>)                  │ (<span style=\"color: #00d7ff; text-decoration-color: #00d7ff\">None</span>, <span style=\"color: #00af00; text-decoration-color: #00af00\">512</span>)                 │               <span style=\"color: #00af00; text-decoration-color: #00af00\">0</span> │\n",
       "├──────────────────────────────────────┼─────────────────────────────┼─────────────────┤\n",
       "│ dense_2 (<span style=\"color: #0087ff; text-decoration-color: #0087ff\">Dense</span>)                      │ (<span style=\"color: #00d7ff; text-decoration-color: #00d7ff\">None</span>, <span style=\"color: #00af00; text-decoration-color: #00af00\">256</span>)                 │         <span style=\"color: #00af00; text-decoration-color: #00af00\">131,328</span> │\n",
       "├──────────────────────────────────────┼─────────────────────────────┼─────────────────┤\n",
       "│ batch_normalization_2                │ (<span style=\"color: #00d7ff; text-decoration-color: #00d7ff\">None</span>, <span style=\"color: #00af00; text-decoration-color: #00af00\">256</span>)                 │           <span style=\"color: #00af00; text-decoration-color: #00af00\">1,024</span> │\n",
       "│ (<span style=\"color: #0087ff; text-decoration-color: #0087ff\">BatchNormalization</span>)                 │                             │                 │\n",
       "├──────────────────────────────────────┼─────────────────────────────┼─────────────────┤\n",
       "│ dropout_2 (<span style=\"color: #0087ff; text-decoration-color: #0087ff\">Dropout</span>)                  │ (<span style=\"color: #00d7ff; text-decoration-color: #00d7ff\">None</span>, <span style=\"color: #00af00; text-decoration-color: #00af00\">256</span>)                 │               <span style=\"color: #00af00; text-decoration-color: #00af00\">0</span> │\n",
       "├──────────────────────────────────────┼─────────────────────────────┼─────────────────┤\n",
       "│ dense_3 (<span style=\"color: #0087ff; text-decoration-color: #0087ff\">Dense</span>)                      │ (<span style=\"color: #00d7ff; text-decoration-color: #00d7ff\">None</span>, <span style=\"color: #00af00; text-decoration-color: #00af00\">128</span>)                 │          <span style=\"color: #00af00; text-decoration-color: #00af00\">32,896</span> │\n",
       "├──────────────────────────────────────┼─────────────────────────────┼─────────────────┤\n",
       "│ dense_4 (<span style=\"color: #0087ff; text-decoration-color: #0087ff\">Dense</span>)                      │ (<span style=\"color: #00d7ff; text-decoration-color: #00d7ff\">None</span>, <span style=\"color: #00af00; text-decoration-color: #00af00\">30</span>)                  │           <span style=\"color: #00af00; text-decoration-color: #00af00\">3,870</span> │\n",
       "└──────────────────────────────────────┴─────────────────────────────┴─────────────────┘\n",
       "</pre>\n"
      ],
      "text/plain": [
       "┏━━━━━━━━━━━━━━━━━━━━━━━━━━━━━━━━━━━━━━┳━━━━━━━━━━━━━━━━━━━━━━━━━━━━━┳━━━━━━━━━━━━━━━━━┓\n",
       "┃\u001b[1m \u001b[0m\u001b[1mLayer (type)                        \u001b[0m\u001b[1m \u001b[0m┃\u001b[1m \u001b[0m\u001b[1mOutput Shape               \u001b[0m\u001b[1m \u001b[0m┃\u001b[1m \u001b[0m\u001b[1m        Param #\u001b[0m\u001b[1m \u001b[0m┃\n",
       "┡━━━━━━━━━━━━━━━━━━━━━━━━━━━━━━━━━━━━━━╇━━━━━━━━━━━━━━━━━━━━━━━━━━━━━╇━━━━━━━━━━━━━━━━━┩\n",
       "│ dense (\u001b[38;5;33mDense\u001b[0m)                        │ (\u001b[38;5;45mNone\u001b[0m, \u001b[38;5;34m1024\u001b[0m)                │       \u001b[38;5;34m8,029,184\u001b[0m │\n",
       "├──────────────────────────────────────┼─────────────────────────────┼─────────────────┤\n",
       "│ batch_normalization                  │ (\u001b[38;5;45mNone\u001b[0m, \u001b[38;5;34m1024\u001b[0m)                │           \u001b[38;5;34m4,096\u001b[0m │\n",
       "│ (\u001b[38;5;33mBatchNormalization\u001b[0m)                 │                             │                 │\n",
       "├──────────────────────────────────────┼─────────────────────────────┼─────────────────┤\n",
       "│ dropout (\u001b[38;5;33mDropout\u001b[0m)                    │ (\u001b[38;5;45mNone\u001b[0m, \u001b[38;5;34m1024\u001b[0m)                │               \u001b[38;5;34m0\u001b[0m │\n",
       "├──────────────────────────────────────┼─────────────────────────────┼─────────────────┤\n",
       "│ dense_1 (\u001b[38;5;33mDense\u001b[0m)                      │ (\u001b[38;5;45mNone\u001b[0m, \u001b[38;5;34m512\u001b[0m)                 │         \u001b[38;5;34m524,800\u001b[0m │\n",
       "├──────────────────────────────────────┼─────────────────────────────┼─────────────────┤\n",
       "│ batch_normalization_1                │ (\u001b[38;5;45mNone\u001b[0m, \u001b[38;5;34m512\u001b[0m)                 │           \u001b[38;5;34m2,048\u001b[0m │\n",
       "│ (\u001b[38;5;33mBatchNormalization\u001b[0m)                 │                             │                 │\n",
       "├──────────────────────────────────────┼─────────────────────────────┼─────────────────┤\n",
       "│ dropout_1 (\u001b[38;5;33mDropout\u001b[0m)                  │ (\u001b[38;5;45mNone\u001b[0m, \u001b[38;5;34m512\u001b[0m)                 │               \u001b[38;5;34m0\u001b[0m │\n",
       "├──────────────────────────────────────┼─────────────────────────────┼─────────────────┤\n",
       "│ dense_2 (\u001b[38;5;33mDense\u001b[0m)                      │ (\u001b[38;5;45mNone\u001b[0m, \u001b[38;5;34m256\u001b[0m)                 │         \u001b[38;5;34m131,328\u001b[0m │\n",
       "├──────────────────────────────────────┼─────────────────────────────┼─────────────────┤\n",
       "│ batch_normalization_2                │ (\u001b[38;5;45mNone\u001b[0m, \u001b[38;5;34m256\u001b[0m)                 │           \u001b[38;5;34m1,024\u001b[0m │\n",
       "│ (\u001b[38;5;33mBatchNormalization\u001b[0m)                 │                             │                 │\n",
       "├──────────────────────────────────────┼─────────────────────────────┼─────────────────┤\n",
       "│ dropout_2 (\u001b[38;5;33mDropout\u001b[0m)                  │ (\u001b[38;5;45mNone\u001b[0m, \u001b[38;5;34m256\u001b[0m)                 │               \u001b[38;5;34m0\u001b[0m │\n",
       "├──────────────────────────────────────┼─────────────────────────────┼─────────────────┤\n",
       "│ dense_3 (\u001b[38;5;33mDense\u001b[0m)                      │ (\u001b[38;5;45mNone\u001b[0m, \u001b[38;5;34m128\u001b[0m)                 │          \u001b[38;5;34m32,896\u001b[0m │\n",
       "├──────────────────────────────────────┼─────────────────────────────┼─────────────────┤\n",
       "│ dense_4 (\u001b[38;5;33mDense\u001b[0m)                      │ (\u001b[38;5;45mNone\u001b[0m, \u001b[38;5;34m30\u001b[0m)                  │           \u001b[38;5;34m3,870\u001b[0m │\n",
       "└──────────────────────────────────────┴─────────────────────────────┴─────────────────┘\n"
      ]
     },
     "metadata": {},
     "output_type": "display_data"
    },
    {
     "data": {
      "text/html": [
       "<pre style=\"white-space:pre;overflow-x:auto;line-height:normal;font-family:Menlo,'DejaVu Sans Mono',consolas,'Courier New',monospace\"><span style=\"font-weight: bold\"> Total params: </span><span style=\"color: #00af00; text-decoration-color: #00af00\">8,729,246</span> (33.30 MB)\n",
       "</pre>\n"
      ],
      "text/plain": [
       "\u001b[1m Total params: \u001b[0m\u001b[38;5;34m8,729,246\u001b[0m (33.30 MB)\n"
      ]
     },
     "metadata": {},
     "output_type": "display_data"
    },
    {
     "data": {
      "text/html": [
       "<pre style=\"white-space:pre;overflow-x:auto;line-height:normal;font-family:Menlo,'DejaVu Sans Mono',consolas,'Courier New',monospace\"><span style=\"font-weight: bold\"> Trainable params: </span><span style=\"color: #00af00; text-decoration-color: #00af00\">8,725,662</span> (33.29 MB)\n",
       "</pre>\n"
      ],
      "text/plain": [
       "\u001b[1m Trainable params: \u001b[0m\u001b[38;5;34m8,725,662\u001b[0m (33.29 MB)\n"
      ]
     },
     "metadata": {},
     "output_type": "display_data"
    },
    {
     "data": {
      "text/html": [
       "<pre style=\"white-space:pre;overflow-x:auto;line-height:normal;font-family:Menlo,'DejaVu Sans Mono',consolas,'Courier New',monospace\"><span style=\"font-weight: bold\"> Non-trainable params: </span><span style=\"color: #00af00; text-decoration-color: #00af00\">3,584</span> (14.00 KB)\n",
       "</pre>\n"
      ],
      "text/plain": [
       "\u001b[1m Non-trainable params: \u001b[0m\u001b[38;5;34m3,584\u001b[0m (14.00 KB)\n"
      ]
     },
     "metadata": {},
     "output_type": "display_data"
    }
   ],
   "source": [
    "model_mel_dense = models.Sequential([\n",
    "    layers.Input(shape=(input_mel_shape[0] * input_mel_shape[1],)),\n",
    "\n",
    "    layers.Dense(1024, activation='relu'),\n",
    "    layers.BatchNormalization(),\n",
    "    layers.Dropout(0.4),\n",
    "\n",
    "    layers.Dense(512, activation='relu'),\n",
    "    layers.BatchNormalization(),\n",
    "    layers.Dropout(0.4),\n",
    "\n",
    "    layers.Dense(256, activation='relu'),\n",
    "    layers.BatchNormalization(),\n",
    "    layers.Dropout(0.3),\n",
    "\n",
    "    layers.Dense(128, activation='relu'),\n",
    "    layers.Dense(num_labels)\n",
    "])\n",
    "\n",
    "model_mel_dense.summary()"
   ]
  },
  {
   "cell_type": "code",
   "execution_count": 25,
   "id": "931dac96",
   "metadata": {
    "execution": {
     "iopub.execute_input": "2025-05-15T06:03:51.919206Z",
     "iopub.status.busy": "2025-05-15T06:03:51.918476Z",
     "iopub.status.idle": "2025-05-15T06:03:51.930338Z",
     "shell.execute_reply": "2025-05-15T06:03:51.929625Z"
    },
    "papermill": {
     "duration": 0.027401,
     "end_time": "2025-05-15T06:03:51.931545",
     "exception": false,
     "start_time": "2025-05-15T06:03:51.904144",
     "status": "completed"
    },
    "tags": []
   },
   "outputs": [],
   "source": [
    "model_mel_dense.compile(\n",
    "    optimizer=tf.keras.optimizers.Adam(),\n",
    "    loss=tf.keras.losses.SparseCategoricalCrossentropy(from_logits=True),\n",
    "    metrics=['accuracy']\n",
    ")"
   ]
  },
  {
   "cell_type": "code",
   "execution_count": 26,
   "id": "dc879b74",
   "metadata": {
    "execution": {
     "iopub.execute_input": "2025-05-15T06:03:51.959626Z",
     "iopub.status.busy": "2025-05-15T06:03:51.959192Z",
     "iopub.status.idle": "2025-05-15T06:03:52.020352Z",
     "shell.execute_reply": "2025-05-15T06:03:52.019841Z"
    },
    "papermill": {
     "duration": 0.076483,
     "end_time": "2025-05-15T06:03:52.021530",
     "exception": false,
     "start_time": "2025-05-15T06:03:51.945047",
     "status": "completed"
    },
    "tags": []
   },
   "outputs": [],
   "source": [
    "train_ds_dense = train_mel_ds.map(lambda x, y: (tf.reshape(x, [-1, input_mel_shape[0] * input_mel_shape[1]]), y))\n",
    "val_ds_dense = val_mel_ds.map(lambda x, y: (tf.reshape(x, [-1, input_mel_shape[0] * input_mel_shape[1]]), y))\n",
    "test_ds_dense = test_mel_ds.map(lambda x, y: (tf.reshape(x, [-1, input_mel_shape[0] * input_mel_shape[1]]), y))"
   ]
  },
  {
   "cell_type": "code",
   "execution_count": 27,
   "id": "2a804b23",
   "metadata": {
    "execution": {
     "iopub.execute_input": "2025-05-15T06:03:52.051286Z",
     "iopub.status.busy": "2025-05-15T06:03:52.051103Z",
     "iopub.status.idle": "2025-05-15T06:07:54.474255Z",
     "shell.execute_reply": "2025-05-15T06:07:54.473643Z"
    },
    "papermill": {
     "duration": 242.439486,
     "end_time": "2025-05-15T06:07:54.475647",
     "exception": false,
     "start_time": "2025-05-15T06:03:52.036161",
     "status": "completed"
    },
    "tags": []
   },
   "outputs": [
    {
     "name": "stdout",
     "output_type": "stream",
     "text": [
      "Epoch 1/200\n"
     ]
    },
    {
     "name": "stderr",
     "output_type": "stream",
     "text": [
      "WARNING: All log messages before absl::InitializeLog() is called are written to STDERR\n",
      "I0000 00:00:1747289080.326597      76 service.cc:148] XLA service 0x7d2f54016fe0 initialized for platform CUDA (this does not guarantee that XLA will be used). Devices:\n",
      "I0000 00:00:1747289080.327742      76 service.cc:156]   StreamExecutor device (0): Tesla T4, Compute Capability 7.5\n",
      "I0000 00:00:1747289080.327767      76 service.cc:156]   StreamExecutor device (1): Tesla T4, Compute Capability 7.5\n",
      "I0000 00:00:1747289080.742736      76 cuda_dnn.cc:529] Loaded cuDNN version 90300\n"
     ]
    },
    {
     "name": "stdout",
     "output_type": "stream",
     "text": [
      "\u001b[1m 26/809\u001b[0m \u001b[37m━━━━━━━━━━━━━━━━━━━━\u001b[0m \u001b[1m4s\u001b[0m 6ms/step - accuracy: 0.0321 - loss: 3.8701"
     ]
    },
    {
     "name": "stderr",
     "output_type": "stream",
     "text": [
      "I0000 00:00:1747289083.737543      76 device_compiler.h:188] Compiled cluster using XLA!  This line is logged at most once for the lifetime of the process.\n"
     ]
    },
    {
     "name": "stdout",
     "output_type": "stream",
     "text": [
      "\u001b[1m809/809\u001b[0m \u001b[32m━━━━━━━━━━━━━━━━━━━━\u001b[0m\u001b[37m\u001b[0m \u001b[1m62s\u001b[0m 13ms/step - accuracy: 0.1000 - loss: 3.2740 - val_accuracy: 0.4063 - val_loss: 1.9477\n",
      "Epoch 2/200\n",
      "\u001b[1m809/809\u001b[0m \u001b[32m━━━━━━━━━━━━━━━━━━━━\u001b[0m\u001b[37m\u001b[0m \u001b[1m4s\u001b[0m 5ms/step - accuracy: 0.3069 - loss: 2.3118 - val_accuracy: 0.4865 - val_loss: 1.6543\n",
      "Epoch 3/200\n",
      "\u001b[1m809/809\u001b[0m \u001b[32m━━━━━━━━━━━━━━━━━━━━\u001b[0m\u001b[37m\u001b[0m \u001b[1m4s\u001b[0m 5ms/step - accuracy: 0.3939 - loss: 2.0077 - val_accuracy: 0.6030 - val_loss: 1.3069\n",
      "Epoch 4/200\n",
      "\u001b[1m809/809\u001b[0m \u001b[32m━━━━━━━━━━━━━━━━━━━━\u001b[0m\u001b[37m\u001b[0m \u001b[1m4s\u001b[0m 5ms/step - accuracy: 0.4486 - loss: 1.8229 - val_accuracy: 0.6535 - val_loss: 1.1604\n",
      "Epoch 5/200\n",
      "\u001b[1m809/809\u001b[0m \u001b[32m━━━━━━━━━━━━━━━━━━━━\u001b[0m\u001b[37m\u001b[0m \u001b[1m4s\u001b[0m 5ms/step - accuracy: 0.4834 - loss: 1.6994 - val_accuracy: 0.7022 - val_loss: 1.0084\n",
      "Epoch 6/200\n",
      "\u001b[1m809/809\u001b[0m \u001b[32m━━━━━━━━━━━━━━━━━━━━\u001b[0m\u001b[37m\u001b[0m \u001b[1m4s\u001b[0m 5ms/step - accuracy: 0.5138 - loss: 1.6006 - val_accuracy: 0.7044 - val_loss: 0.9786\n",
      "Epoch 7/200\n",
      "\u001b[1m809/809\u001b[0m \u001b[32m━━━━━━━━━━━━━━━━━━━━\u001b[0m\u001b[37m\u001b[0m \u001b[1m4s\u001b[0m 5ms/step - accuracy: 0.5361 - loss: 1.5216 - val_accuracy: 0.7291 - val_loss: 0.8969\n",
      "Epoch 8/200\n",
      "\u001b[1m809/809\u001b[0m \u001b[32m━━━━━━━━━━━━━━━━━━━━\u001b[0m\u001b[37m\u001b[0m \u001b[1m4s\u001b[0m 5ms/step - accuracy: 0.5505 - loss: 1.4719 - val_accuracy: 0.7447 - val_loss: 0.8532\n",
      "Epoch 9/200\n",
      "\u001b[1m809/809\u001b[0m \u001b[32m━━━━━━━━━━━━━━━━━━━━\u001b[0m\u001b[37m\u001b[0m \u001b[1m4s\u001b[0m 5ms/step - accuracy: 0.5682 - loss: 1.4161 - val_accuracy: 0.7293 - val_loss: 0.8625\n",
      "Epoch 10/200\n",
      "\u001b[1m809/809\u001b[0m \u001b[32m━━━━━━━━━━━━━━━━━━━━\u001b[0m\u001b[37m\u001b[0m \u001b[1m4s\u001b[0m 5ms/step - accuracy: 0.5807 - loss: 1.3728 - val_accuracy: 0.7602 - val_loss: 0.7994\n",
      "Epoch 11/200\n",
      "\u001b[1m809/809\u001b[0m \u001b[32m━━━━━━━━━━━━━━━━━━━━\u001b[0m\u001b[37m\u001b[0m \u001b[1m4s\u001b[0m 5ms/step - accuracy: 0.5909 - loss: 1.3339 - val_accuracy: 0.7753 - val_loss: 0.7470\n",
      "Epoch 12/200\n",
      "\u001b[1m809/809\u001b[0m \u001b[32m━━━━━━━━━━━━━━━━━━━━\u001b[0m\u001b[37m\u001b[0m \u001b[1m4s\u001b[0m 5ms/step - accuracy: 0.6048 - loss: 1.2951 - val_accuracy: 0.7616 - val_loss: 0.7672\n",
      "Epoch 13/200\n",
      "\u001b[1m809/809\u001b[0m \u001b[32m━━━━━━━━━━━━━━━━━━━━\u001b[0m\u001b[37m\u001b[0m \u001b[1m4s\u001b[0m 5ms/step - accuracy: 0.6045 - loss: 1.2873 - val_accuracy: 0.7835 - val_loss: 0.7191\n",
      "Epoch 14/200\n",
      "\u001b[1m809/809\u001b[0m \u001b[32m━━━━━━━━━━━━━━━━━━━━\u001b[0m\u001b[37m\u001b[0m \u001b[1m4s\u001b[0m 5ms/step - accuracy: 0.6166 - loss: 1.2488 - val_accuracy: 0.7892 - val_loss: 0.7146\n",
      "Epoch 15/200\n",
      "\u001b[1m809/809\u001b[0m \u001b[32m━━━━━━━━━━━━━━━━━━━━\u001b[0m\u001b[37m\u001b[0m \u001b[1m4s\u001b[0m 5ms/step - accuracy: 0.6285 - loss: 1.2155 - val_accuracy: 0.7826 - val_loss: 0.6991\n",
      "Epoch 16/200\n",
      "\u001b[1m809/809\u001b[0m \u001b[32m━━━━━━━━━━━━━━━━━━━━\u001b[0m\u001b[37m\u001b[0m \u001b[1m4s\u001b[0m 5ms/step - accuracy: 0.6326 - loss: 1.1970 - val_accuracy: 0.7886 - val_loss: 0.6812\n",
      "Epoch 17/200\n",
      "\u001b[1m809/809\u001b[0m \u001b[32m━━━━━━━━━━━━━━━━━━━━\u001b[0m\u001b[37m\u001b[0m \u001b[1m4s\u001b[0m 5ms/step - accuracy: 0.6352 - loss: 1.1802 - val_accuracy: 0.7880 - val_loss: 0.6801\n",
      "Epoch 18/200\n",
      "\u001b[1m809/809\u001b[0m \u001b[32m━━━━━━━━━━━━━━━━━━━━\u001b[0m\u001b[37m\u001b[0m \u001b[1m4s\u001b[0m 5ms/step - accuracy: 0.6436 - loss: 1.1608 - val_accuracy: 0.8064 - val_loss: 0.6344\n",
      "Epoch 19/200\n",
      "\u001b[1m809/809\u001b[0m \u001b[32m━━━━━━━━━━━━━━━━━━━━\u001b[0m\u001b[37m\u001b[0m \u001b[1m4s\u001b[0m 5ms/step - accuracy: 0.6530 - loss: 1.1268 - val_accuracy: 0.7942 - val_loss: 0.6872\n",
      "Epoch 20/200\n",
      "\u001b[1m809/809\u001b[0m \u001b[32m━━━━━━━━━━━━━━━━━━━━\u001b[0m\u001b[37m\u001b[0m \u001b[1m4s\u001b[0m 5ms/step - accuracy: 0.6549 - loss: 1.1147 - val_accuracy: 0.8056 - val_loss: 0.6275\n",
      "Epoch 21/200\n",
      "\u001b[1m809/809\u001b[0m \u001b[32m━━━━━━━━━━━━━━━━━━━━\u001b[0m\u001b[37m\u001b[0m \u001b[1m4s\u001b[0m 5ms/step - accuracy: 0.6605 - loss: 1.1005 - val_accuracy: 0.8028 - val_loss: 0.6406\n",
      "Epoch 22/200\n",
      "\u001b[1m809/809\u001b[0m \u001b[32m━━━━━━━━━━━━━━━━━━━━\u001b[0m\u001b[37m\u001b[0m \u001b[1m4s\u001b[0m 5ms/step - accuracy: 0.6721 - loss: 1.0711 - val_accuracy: 0.8110 - val_loss: 0.6161\n",
      "Epoch 23/200\n",
      "\u001b[1m809/809\u001b[0m \u001b[32m━━━━━━━━━━━━━━━━━━━━\u001b[0m\u001b[37m\u001b[0m \u001b[1m4s\u001b[0m 5ms/step - accuracy: 0.6705 - loss: 1.0723 - val_accuracy: 0.8220 - val_loss: 0.5908\n",
      "Epoch 24/200\n",
      "\u001b[1m809/809\u001b[0m \u001b[32m━━━━━━━━━━━━━━━━━━━━\u001b[0m\u001b[37m\u001b[0m \u001b[1m4s\u001b[0m 5ms/step - accuracy: 0.6756 - loss: 1.0463 - val_accuracy: 0.8181 - val_loss: 0.5989\n",
      "Epoch 25/200\n",
      "\u001b[1m809/809\u001b[0m \u001b[32m━━━━━━━━━━━━━━━━━━━━\u001b[0m\u001b[37m\u001b[0m \u001b[1m4s\u001b[0m 5ms/step - accuracy: 0.6792 - loss: 1.0379 - val_accuracy: 0.8139 - val_loss: 0.6121\n",
      "Epoch 26/200\n",
      "\u001b[1m809/809\u001b[0m \u001b[32m━━━━━━━━━━━━━━━━━━━━\u001b[0m\u001b[37m\u001b[0m \u001b[1m4s\u001b[0m 5ms/step - accuracy: 0.6848 - loss: 1.0178 - val_accuracy: 0.8184 - val_loss: 0.5843\n",
      "Epoch 27/200\n",
      "\u001b[1m809/809\u001b[0m \u001b[32m━━━━━━━━━━━━━━━━━━━━\u001b[0m\u001b[37m\u001b[0m \u001b[1m4s\u001b[0m 5ms/step - accuracy: 0.6883 - loss: 1.0047 - val_accuracy: 0.8124 - val_loss: 0.5976\n",
      "Epoch 28/200\n",
      "\u001b[1m809/809\u001b[0m \u001b[32m━━━━━━━━━━━━━━━━━━━━\u001b[0m\u001b[37m\u001b[0m \u001b[1m4s\u001b[0m 5ms/step - accuracy: 0.6904 - loss: 1.0008 - val_accuracy: 0.8121 - val_loss: 0.6069\n",
      "Epoch 29/200\n",
      "\u001b[1m809/809\u001b[0m \u001b[32m━━━━━━━━━━━━━━━━━━━━\u001b[0m\u001b[37m\u001b[0m \u001b[1m4s\u001b[0m 5ms/step - accuracy: 0.6946 - loss: 0.9880 - val_accuracy: 0.8214 - val_loss: 0.5774\n",
      "Epoch 30/200\n",
      "\u001b[1m809/809\u001b[0m \u001b[32m━━━━━━━━━━━━━━━━━━━━\u001b[0m\u001b[37m\u001b[0m \u001b[1m4s\u001b[0m 5ms/step - accuracy: 0.6962 - loss: 0.9778 - val_accuracy: 0.8316 - val_loss: 0.5586\n",
      "Epoch 31/200\n",
      "\u001b[1m809/809\u001b[0m \u001b[32m━━━━━━━━━━━━━━━━━━━━\u001b[0m\u001b[37m\u001b[0m \u001b[1m4s\u001b[0m 5ms/step - accuracy: 0.7020 - loss: 0.9651 - val_accuracy: 0.8235 - val_loss: 0.5770\n",
      "Epoch 32/200\n",
      "\u001b[1m809/809\u001b[0m \u001b[32m━━━━━━━━━━━━━━━━━━━━\u001b[0m\u001b[37m\u001b[0m \u001b[1m4s\u001b[0m 5ms/step - accuracy: 0.7076 - loss: 0.9469 - val_accuracy: 0.8300 - val_loss: 0.5622\n",
      "Epoch 33/200\n",
      "\u001b[1m809/809\u001b[0m \u001b[32m━━━━━━━━━━━━━━━━━━━━\u001b[0m\u001b[37m\u001b[0m \u001b[1m4s\u001b[0m 5ms/step - accuracy: 0.7090 - loss: 0.9373 - val_accuracy: 0.8268 - val_loss: 0.5630\n",
      "Epoch 34/200\n",
      "\u001b[1m809/809\u001b[0m \u001b[32m━━━━━━━━━━━━━━━━━━━━\u001b[0m\u001b[37m\u001b[0m \u001b[1m4s\u001b[0m 5ms/step - accuracy: 0.7133 - loss: 0.9252 - val_accuracy: 0.8311 - val_loss: 0.5537\n",
      "Epoch 35/200\n",
      "\u001b[1m809/809\u001b[0m \u001b[32m━━━━━━━━━━━━━━━━━━━━\u001b[0m\u001b[37m\u001b[0m \u001b[1m4s\u001b[0m 5ms/step - accuracy: 0.7144 - loss: 0.9231 - val_accuracy: 0.8255 - val_loss: 0.5741\n",
      "Epoch 36/200\n",
      "\u001b[1m809/809\u001b[0m \u001b[32m━━━━━━━━━━━━━━━━━━━━\u001b[0m\u001b[37m\u001b[0m \u001b[1m4s\u001b[0m 5ms/step - accuracy: 0.7131 - loss: 0.9262 - val_accuracy: 0.8351 - val_loss: 0.5385\n",
      "Epoch 37/200\n",
      "\u001b[1m809/809\u001b[0m \u001b[32m━━━━━━━━━━━━━━━━━━━━\u001b[0m\u001b[37m\u001b[0m \u001b[1m4s\u001b[0m 5ms/step - accuracy: 0.7204 - loss: 0.9023 - val_accuracy: 0.8333 - val_loss: 0.5307\n",
      "Epoch 38/200\n",
      "\u001b[1m809/809\u001b[0m \u001b[32m━━━━━━━━━━━━━━━━━━━━\u001b[0m\u001b[37m\u001b[0m \u001b[1m4s\u001b[0m 5ms/step - accuracy: 0.7219 - loss: 0.8927 - val_accuracy: 0.8353 - val_loss: 0.5261\n",
      "Epoch 39/200\n",
      "\u001b[1m809/809\u001b[0m \u001b[32m━━━━━━━━━━━━━━━━━━━━\u001b[0m\u001b[37m\u001b[0m \u001b[1m4s\u001b[0m 5ms/step - accuracy: 0.7229 - loss: 0.8899 - val_accuracy: 0.8384 - val_loss: 0.5158\n",
      "Epoch 40/200\n",
      "\u001b[1m809/809\u001b[0m \u001b[32m━━━━━━━━━━━━━━━━━━━━\u001b[0m\u001b[37m\u001b[0m \u001b[1m4s\u001b[0m 5ms/step - accuracy: 0.7246 - loss: 0.8773 - val_accuracy: 0.8326 - val_loss: 0.5404\n",
      "Epoch 41/200\n",
      "\u001b[1m809/809\u001b[0m \u001b[32m━━━━━━━━━━━━━━━━━━━━\u001b[0m\u001b[37m\u001b[0m \u001b[1m4s\u001b[0m 5ms/step - accuracy: 0.7262 - loss: 0.8786 - val_accuracy: 0.8419 - val_loss: 0.5032\n",
      "Epoch 42/200\n",
      "\u001b[1m809/809\u001b[0m \u001b[32m━━━━━━━━━━━━━━━━━━━━\u001b[0m\u001b[37m\u001b[0m \u001b[1m4s\u001b[0m 5ms/step - accuracy: 0.7354 - loss: 0.8531 - val_accuracy: 0.8452 - val_loss: 0.4966\n",
      "Epoch 43/200\n",
      "\u001b[1m809/809\u001b[0m \u001b[32m━━━━━━━━━━━━━━━━━━━━\u001b[0m\u001b[37m\u001b[0m \u001b[1m4s\u001b[0m 5ms/step - accuracy: 0.7311 - loss: 0.8654 - val_accuracy: 0.8328 - val_loss: 0.5300\n",
      "Epoch 44/200\n",
      "\u001b[1m809/809\u001b[0m \u001b[32m━━━━━━━━━━━━━━━━━━━━\u001b[0m\u001b[37m\u001b[0m \u001b[1m4s\u001b[0m 5ms/step - accuracy: 0.7354 - loss: 0.8482 - val_accuracy: 0.8396 - val_loss: 0.5063\n",
      "Epoch 45/200\n",
      "\u001b[1m809/809\u001b[0m \u001b[32m━━━━━━━━━━━━━━━━━━━━\u001b[0m\u001b[37m\u001b[0m \u001b[1m4s\u001b[0m 5ms/step - accuracy: 0.7386 - loss: 0.8378 - val_accuracy: 0.8441 - val_loss: 0.5046\n",
      "Epoch 46/200\n",
      "\u001b[1m809/809\u001b[0m \u001b[32m━━━━━━━━━━━━━━━━━━━━\u001b[0m\u001b[37m\u001b[0m \u001b[1m4s\u001b[0m 5ms/step - accuracy: 0.7390 - loss: 0.8342 - val_accuracy: 0.8422 - val_loss: 0.5082\n"
     ]
    }
   ],
   "source": [
    "EPOCHS = 200\n",
    "history_dense = model_mel_dense.fit(\n",
    "    train_ds_dense,\n",
    "    validation_data=val_ds_dense,\n",
    "    epochs=EPOCHS,\n",
    "    callbacks=tf.keras.callbacks.EarlyStopping(patience=4, restore_best_weights=True)\n",
    ")"
   ]
  },
  {
   "cell_type": "code",
   "execution_count": 28,
   "id": "946ec00f",
   "metadata": {
    "execution": {
     "iopub.execute_input": "2025-05-15T06:07:54.829161Z",
     "iopub.status.busy": "2025-05-15T06:07:54.828883Z",
     "iopub.status.idle": "2025-05-15T06:07:55.813193Z",
     "shell.execute_reply": "2025-05-15T06:07:55.812558Z"
    },
    "papermill": {
     "duration": 1.184493,
     "end_time": "2025-05-15T06:07:55.814992",
     "exception": false,
     "start_time": "2025-05-15T06:07:54.630499",
     "status": "completed"
    },
    "tags": []
   },
   "outputs": [
    {
     "data": {
      "image/png": "[encoded data removed]",
      "text/plain": [
       "<Figure size 1200x500 with 2 Axes>"
      ]
     },
     "metadata": {},
     "output_type": "display_data"
    }
   ],
   "source": [
    "metrics = history_dense.history\n",
    "\n",
    "plt.figure(figsize=(12, 5))\n",
    "plt.subplot(1, 2, 1)\n",
    "plt.plot(history_dense.epoch, metrics['accuracy'], label='Train Accuracy')\n",
    "plt.plot(history_dense.epoch, metrics['val_accuracy'], label='Val Accuracy')\n",
    "plt.title('Точность по эпохам')\n",
    "plt.xlabel('Эпоха')\n",
    "plt.ylabel('Точность')\n",
    "plt.legend()\n",
    "plt.grid(True)\n",
    "\n",
    "plt.subplot(1, 2, 2)\n",
    "plt.plot(history_dense.epoch, metrics['loss'], label='Train Loss')\n",
    "plt.plot(history_dense.epoch, metrics['val_loss'], label='Val Loss')\n",
    "plt.title('Потеря по эпохам')\n",
    "plt.xlabel('Эпоха')\n",
    "plt.ylabel('Потеря')\n",
    "plt.legend()\n",
    "plt.grid(True)\n",
    "\n",
    "plt.tight_layout()\n",
    "plt.savefig(\"training_metrics_mel_dense.png\", dpi=300)\n",
    "plt.show()"
   ]
  },
  {
   "cell_type": "code",
   "execution_count": 29,
   "id": "82f8caf1",
   "metadata": {
    "execution": {
     "iopub.execute_input": "2025-05-15T06:07:56.128303Z",
     "iopub.status.busy": "2025-05-15T06:07:56.128026Z",
     "iopub.status.idle": "2025-05-15T06:08:00.082182Z",
     "shell.execute_reply": "2025-05-15T06:08:00.081620Z"
    },
    "papermill": {
     "duration": 4.108568,
     "end_time": "2025-05-15T06:08:00.083507",
     "exception": false,
     "start_time": "2025-05-15T06:07:55.974939",
     "status": "completed"
    },
    "tags": []
   },
   "outputs": [],
   "source": [
    "test_mel_audio = []\n",
    "test_mel_labels = []\n",
    "\n",
    "for audio, label in test_ds_dense:\n",
    "  test_mel_audio.append(audio.numpy())\n",
    "  test_mel_labels.append(label.numpy())\n",
    "\n",
    "test_mel_audio = np.array(test_mel_audio)\n",
    "test_mel_labels = np.array(test_mel_labels)\n",
    "\n",
    "test_mel_audio = np.squeeze(test_mel_audio, axis=1)"
   ]
  },
  {
   "cell_type": "code",
   "execution_count": 30,
   "id": "466b5985",
   "metadata": {
    "execution": {
     "iopub.execute_input": "2025-05-15T06:08:00.387348Z",
     "iopub.status.busy": "2025-05-15T06:08:00.387113Z",
     "iopub.status.idle": "2025-05-15T06:08:02.585820Z",
     "shell.execute_reply": "2025-05-15T06:08:02.585081Z"
    },
    "papermill": {
     "duration": 2.351643,
     "end_time": "2025-05-15T06:08:02.587187",
     "exception": false,
     "start_time": "2025-05-15T06:08:00.235544",
     "status": "completed"
    },
    "tags": []
   },
   "outputs": [
    {
     "name": "stdout",
     "output_type": "stream",
     "text": [
      "\u001b[1m203/203\u001b[0m \u001b[32m━━━━━━━━━━━━━━━━━━━━\u001b[0m\u001b[37m\u001b[0m \u001b[1m1s\u001b[0m 3ms/step\n",
      "Точность на тестовом наборе: 85%\n"
     ]
    }
   ],
   "source": [
    "y_pred = np.argmax(model_mel_dense.predict(test_mel_audio), axis=1)\n",
    "y_true = test_mel_labels\n",
    "\n",
    "test_acc = sum(y_pred == y_true) / len(y_true)\n",
    "print(f'Точность на тестовом наборе: {test_acc:.0%}')"
   ]
  },
  {
   "cell_type": "code",
   "execution_count": 31,
   "id": "414b4cce",
   "metadata": {
    "execution": {
     "iopub.execute_input": "2025-05-15T06:08:02.921131Z",
     "iopub.status.busy": "2025-05-15T06:08:02.920649Z",
     "iopub.status.idle": "2025-05-15T06:08:02.936357Z",
     "shell.execute_reply": "2025-05-15T06:08:02.935423Z"
    },
    "papermill": {
     "duration": 0.181772,
     "end_time": "2025-05-15T06:08:02.937635",
     "exception": false,
     "start_time": "2025-05-15T06:08:02.755863",
     "status": "completed"
    },
    "tags": []
   },
   "outputs": [
    {
     "name": "stdout",
     "output_type": "stream",
     "text": [
      "              precision    recall  f1-score   support\n",
      "\n",
      "       happy     0.9379    0.9486    0.9432       175\n",
      "        down     0.8182    0.7627    0.7895       236\n",
      "        stop     0.8447    0.9370    0.8884       238\n",
      "       house     0.9600    0.9600    0.9600       175\n",
      "         two     0.8268    0.8824    0.8537       238\n",
      "         six     0.9191    0.9114    0.9153       237\n",
      "          no     0.7165    0.7647    0.7398       238\n",
      "         dog     0.7730    0.8171    0.7944       175\n",
      "          on     0.8683    0.7511    0.8054       237\n",
      "        five     0.8311    0.7712    0.8000       236\n",
      "       right     0.9437    0.8481    0.8933       237\n",
      "       eight     0.8750    0.9195    0.8967       236\n",
      "         wow     0.8994    0.8686    0.8837       175\n",
      "       seven     0.8926    0.9076    0.9000       238\n",
      "        bird     0.9119    0.8333    0.8709       174\n",
      "         off     0.8652    0.8432    0.8541       236\n",
      "         bed     0.7538    0.8547    0.8011       172\n",
      "        tree     0.7861    0.8448    0.8144       174\n",
      "        nine     0.8235    0.8270    0.8253       237\n",
      "         yes     0.9339    0.9496    0.9417       238\n",
      "        zero     0.9221    0.8950    0.9083       238\n",
      "      sheila     0.9330    0.9598    0.9462       174\n",
      "          go     0.6054    0.6639    0.6333       238\n",
      "        four     0.9214    0.8866    0.9036       238\n",
      "        left     0.8712    0.8602    0.8657       236\n",
      "         one     0.8659    0.8987    0.8820       237\n",
      "       three     0.8104    0.7246    0.7651       236\n",
      "      marvin     0.9383    0.8686    0.9021       175\n",
      "          up     0.7918    0.8151    0.8033       238\n",
      "         cat     0.8652    0.8851    0.8750       174\n",
      "\n",
      "    accuracy                         0.8526      6486\n",
      "   macro avg     0.8568    0.8553    0.8552      6486\n",
      "weighted avg     0.8550    0.8526    0.8529      6486\n",
      "\n"
     ]
    }
   ],
   "source": [
    "report = classification_report(y_true, y_pred, target_names=commands, digits=4)\n",
    "print(report)"
   ]
  },
  {
   "cell_type": "code",
   "execution_count": 32,
   "id": "3b1af457",
   "metadata": {
    "execution": {
     "iopub.execute_input": "2025-05-15T06:08:03.247031Z",
     "iopub.status.busy": "2025-05-15T06:08:03.246307Z",
     "iopub.status.idle": "2025-05-15T06:08:06.115026Z",
     "shell.execute_reply": "2025-05-15T06:08:06.114285Z"
    },
    "papermill": {
     "duration": 3.022528,
     "end_time": "2025-05-15T06:08:06.117677",
     "exception": false,
     "start_time": "2025-05-15T06:08:03.095149",
     "status": "completed"
    },
    "tags": []
   },
   "outputs": [
    {
     "data": {
      "image/png": "[encoded data removed]",
      "text/plain": [
       "<Figure size 1000x700 with 2 Axes>"
      ]
     },
     "metadata": {},
     "output_type": "display_data"
    }
   ],
   "source": [
    "confusion_mtx = tf.math.confusion_matrix(y_true, y_pred)\n",
    "plt.figure(figsize=(10, 7))\n",
    "\n",
    "sns.heatmap(confusion_mtx,\n",
    "            xticklabels=commands,\n",
    "            yticklabels=commands,\n",
    "            annot=True, fmt='g',\n",
    "            cmap='Blues')\n",
    "plt.xlabel('Предсказание')\n",
    "plt.ylabel('Метка')\n",
    "plt.savefig(\"conf_matrix_mel_dense.png\", dpi=300)\n",
    "plt.show()"
   ]
  },
  {
   "cell_type": "code",
   "execution_count": 33,
   "id": "54bdc3fa",
   "metadata": {
    "execution": {
     "iopub.execute_input": "2025-05-15T06:08:06.490887Z",
     "iopub.status.busy": "2025-05-15T06:08:06.490632Z",
     "iopub.status.idle": "2025-05-15T06:08:06.918262Z",
     "shell.execute_reply": "2025-05-15T06:08:06.917449Z"
    },
    "papermill": {
     "duration": 0.587755,
     "end_time": "2025-05-15T06:08:06.919646",
     "exception": false,
     "start_time": "2025-05-15T06:08:06.331891",
     "status": "completed"
    },
    "tags": []
   },
   "outputs": [],
   "source": [
    "model_mel_dense.save('mel_dense.keras')"
   ]
  },
  {
   "cell_type": "markdown",
   "id": "ba4df1f7",
   "metadata": {
    "papermill": {
     "duration": 0.152299,
     "end_time": "2025-05-15T06:08:07.227425",
     "exception": false,
     "start_time": "2025-05-15T06:08:07.075126",
     "status": "completed"
    },
    "tags": []
   },
   "source": [
    "# CNNLight"
   ]
  },
  {
   "cell_type": "code",
   "execution_count": 34,
   "id": "66ffde36",
   "metadata": {
    "execution": {
     "iopub.execute_input": "2025-05-15T06:08:07.532915Z",
     "iopub.status.busy": "2025-05-15T06:08:07.532664Z",
     "iopub.status.idle": "2025-05-15T06:13:37.362332Z",
     "shell.execute_reply": "2025-05-15T06:13:37.361694Z"
    },
    "papermill": {
     "duration": 329.984403,
     "end_time": "2025-05-15T06:13:37.363819",
     "exception": false,
     "start_time": "2025-05-15T06:08:07.379416",
     "status": "completed"
    },
    "tags": []
   },
   "outputs": [],
   "source": [
    "norm_layer = layers.Normalization()\n",
    "norm_layer.adapt(data=spectrogram_mel_ds.map(map_func=lambda spec, label: spec))"
   ]
  },
  {
   "cell_type": "code",
   "execution_count": 35,
   "id": "372f00c7",
   "metadata": {
    "execution": {
     "iopub.execute_input": "2025-05-15T06:13:37.672206Z",
     "iopub.status.busy": "2025-05-15T06:13:37.671607Z",
     "iopub.status.idle": "2025-05-15T06:13:38.013069Z",
     "shell.execute_reply": "2025-05-15T06:13:38.011999Z"
    },
    "papermill": {
     "duration": 0.494568,
     "end_time": "2025-05-15T06:13:38.014129",
     "exception": true,
     "start_time": "2025-05-15T06:13:37.519561",
     "status": "failed"
    },
    "tags": []
   },
   "outputs": [
    {
     "ename": "ValueError",
     "evalue": "Computed output size would be negative. Received `inputs shape=(None, 5, 5, 128)`, `kernel shape=(7, 7, 128, 256)`, `dilation_rate=[1 1]`.",
     "output_type": "error",
     "traceback": [
      "\u001b[0;31m---------------------------------------------------------------------------\u001b[0m",
      "\u001b[0;31mValueError\u001b[0m                                Traceback (most recent call last)",
      "\u001b[0;32m/tmp/ipykernel_19/2287302644.py\u001b[0m in \u001b[0;36m<cell line: 0>\u001b[0;34m()\u001b[0m\n\u001b[0;32m----> 1\u001b[0;31m model_mel_cnn_light = models.Sequential([\n\u001b[0m\u001b[1;32m      2\u001b[0m     \u001b[0mlayers\u001b[0m\u001b[0;34m.\u001b[0m\u001b[0mInput\u001b[0m\u001b[0;34m(\u001b[0m\u001b[0mshape\u001b[0m\u001b[0;34m=\u001b[0m\u001b[0minput_mel_shape\u001b[0m\u001b[0;34m)\u001b[0m\u001b[0;34m,\u001b[0m\u001b[0;34m\u001b[0m\u001b[0;34m\u001b[0m\u001b[0m\n\u001b[1;32m      3\u001b[0m     \u001b[0mlayers\u001b[0m\u001b[0;34m.\u001b[0m\u001b[0mResizing\u001b[0m\u001b[0;34m(\u001b[0m\u001b[0;36m32\u001b[0m\u001b[0;34m,\u001b[0m \u001b[0;36m32\u001b[0m\u001b[0;34m)\u001b[0m\u001b[0;34m,\u001b[0m\u001b[0;34m\u001b[0m\u001b[0;34m\u001b[0m\u001b[0m\n\u001b[1;32m      4\u001b[0m     \u001b[0mnorm_layer\u001b[0m\u001b[0;34m,\u001b[0m\u001b[0;34m\u001b[0m\u001b[0;34m\u001b[0m\u001b[0m\n\u001b[1;32m      5\u001b[0m \u001b[0;34m\u001b[0m\u001b[0m\n",
      "\u001b[0;32m/usr/local/lib/python3.11/dist-packages/keras/src/models/sequential.py\u001b[0m in \u001b[0;36m__init__\u001b[0;34m(self, layers, trainable, name)\u001b[0m\n\u001b[1;32m     73\u001b[0m             \u001b[0;32mfor\u001b[0m \u001b[0mlayer\u001b[0m \u001b[0;32min\u001b[0m \u001b[0mlayers\u001b[0m\u001b[0;34m:\u001b[0m\u001b[0;34m\u001b[0m\u001b[0;34m\u001b[0m\u001b[0m\n\u001b[1;32m     74\u001b[0m                 \u001b[0mself\u001b[0m\u001b[0;34m.\u001b[0m\u001b[0madd\u001b[0m\u001b[0;34m(\u001b[0m\u001b[0mlayer\u001b[0m\u001b[0;34m,\u001b[0m \u001b[0mrebuild\u001b[0m\u001b[0;34m=\u001b[0m\u001b[0;32mFalse\u001b[0m\u001b[0;34m)\u001b[0m\u001b[0;34m\u001b[0m\u001b[0;34m\u001b[0m\u001b[0m\n\u001b[0;32m---> 75\u001b[0;31m             \u001b[0mself\u001b[0m\u001b[0;34m.\u001b[0m\u001b[0m_maybe_rebuild\u001b[0m\u001b[0;34m(\u001b[0m\u001b[0;34m)\u001b[0m\u001b[0;34m\u001b[0m\u001b[0;34m\u001b[0m\u001b[0m\n\u001b[0m\u001b[1;32m     76\u001b[0m \u001b[0;34m\u001b[0m\u001b[0m\n\u001b[1;32m     77\u001b[0m     \u001b[0;32mdef\u001b[0m \u001b[0madd\u001b[0m\u001b[0;34m(\u001b[0m\u001b[0mself\u001b[0m\u001b[0;34m,\u001b[0m \u001b[0mlayer\u001b[0m\u001b[0;34m,\u001b[0m \u001b[0mrebuild\u001b[0m\u001b[0;34m=\u001b[0m\u001b[0;32mTrue\u001b[0m\u001b[0;34m)\u001b[0m\u001b[0;34m:\u001b[0m\u001b[0;34m\u001b[0m\u001b[0;34m\u001b[0m\u001b[0m\n",
      "\u001b[0;32m/usr/local/lib/python3.11/dist-packages/keras/src/models/sequential.py\u001b[0m in \u001b[0;36m_maybe_rebuild\u001b[0;34m(self)\u001b[0m\n\u001b[1;32m    138\u001b[0m         \u001b[0;32mif\u001b[0m \u001b[0misinstance\u001b[0m\u001b[0;34m(\u001b[0m\u001b[0mself\u001b[0m\u001b[0;34m.\u001b[0m\u001b[0m_layers\u001b[0m\u001b[0;34m[\u001b[0m\u001b[0;36m0\u001b[0m\u001b[0;34m]\u001b[0m\u001b[0;34m,\u001b[0m \u001b[0mInputLayer\u001b[0m\u001b[0;34m)\u001b[0m \u001b[0;32mand\u001b[0m \u001b[0mlen\u001b[0m\u001b[0;34m(\u001b[0m\u001b[0mself\u001b[0m\u001b[0;34m.\u001b[0m\u001b[0m_layers\u001b[0m\u001b[0;34m)\u001b[0m \u001b[0;34m>\u001b[0m \u001b[0;36m1\u001b[0m\u001b[0;34m:\u001b[0m\u001b[0;34m\u001b[0m\u001b[0;34m\u001b[0m\u001b[0m\n\u001b[1;32m    139\u001b[0m             \u001b[0minput_shape\u001b[0m \u001b[0;34m=\u001b[0m \u001b[0mself\u001b[0m\u001b[0;34m.\u001b[0m\u001b[0m_layers\u001b[0m\u001b[0;34m[\u001b[0m\u001b[0;36m0\u001b[0m\u001b[0;34m]\u001b[0m\u001b[0;34m.\u001b[0m\u001b[0mbatch_shape\u001b[0m\u001b[0;34m\u001b[0m\u001b[0;34m\u001b[0m\u001b[0m\n\u001b[0;32m--> 140\u001b[0;31m             \u001b[0mself\u001b[0m\u001b[0;34m.\u001b[0m\u001b[0mbuild\u001b[0m\u001b[0;34m(\u001b[0m\u001b[0minput_shape\u001b[0m\u001b[0;34m)\u001b[0m\u001b[0;34m\u001b[0m\u001b[0;34m\u001b[0m\u001b[0m\n\u001b[0m\u001b[1;32m    141\u001b[0m         \u001b[0;32melif\u001b[0m \u001b[0mhasattr\u001b[0m\u001b[0;34m(\u001b[0m\u001b[0mself\u001b[0m\u001b[0;34m.\u001b[0m\u001b[0m_layers\u001b[0m\u001b[0;34m[\u001b[0m\u001b[0;36m0\u001b[0m\u001b[0;34m]\u001b[0m\u001b[0;34m,\u001b[0m \u001b[0;34m\"input_shape\"\u001b[0m\u001b[0;34m)\u001b[0m \u001b[0;32mand\u001b[0m \u001b[0mlen\u001b[0m\u001b[0;34m(\u001b[0m\u001b[0mself\u001b[0m\u001b[0;34m.\u001b[0m\u001b[0m_layers\u001b[0m\u001b[0;34m)\u001b[0m \u001b[0;34m>\u001b[0m \u001b[0;36m1\u001b[0m\u001b[0;34m:\u001b[0m\u001b[0;34m\u001b[0m\u001b[0;34m\u001b[0m\u001b[0m\n\u001b[1;32m    142\u001b[0m             \u001b[0;31m# We can build the Sequential model if the first layer has the\u001b[0m\u001b[0;34m\u001b[0m\u001b[0;34m\u001b[0m\u001b[0m\n",
      "\u001b[0;32m/usr/local/lib/python3.11/dist-packages/keras/src/layers/layer.py\u001b[0m in \u001b[0;36mbuild_wrapper\u001b[0;34m(*args, **kwargs)\u001b[0m\n\u001b[1;32m    224\u001b[0m             \u001b[0;32mwith\u001b[0m \u001b[0mobj\u001b[0m\u001b[0;34m.\u001b[0m\u001b[0m_open_name_scope\u001b[0m\u001b[0;34m(\u001b[0m\u001b[0;34m)\u001b[0m\u001b[0;34m:\u001b[0m\u001b[0;34m\u001b[0m\u001b[0;34m\u001b[0m\u001b[0m\n\u001b[1;32m    225\u001b[0m                 \u001b[0mobj\u001b[0m\u001b[0;34m.\u001b[0m\u001b[0m_path\u001b[0m \u001b[0;34m=\u001b[0m \u001b[0mcurrent_path\u001b[0m\u001b[0;34m(\u001b[0m\u001b[0;34m)\u001b[0m\u001b[0;34m\u001b[0m\u001b[0;34m\u001b[0m\u001b[0m\n\u001b[0;32m--> 226\u001b[0;31m                 \u001b[0moriginal_build_method\u001b[0m\u001b[0;34m(\u001b[0m\u001b[0;34m*\u001b[0m\u001b[0margs\u001b[0m\u001b[0;34m,\u001b[0m \u001b[0;34m**\u001b[0m\u001b[0mkwargs\u001b[0m\u001b[0;34m)\u001b[0m\u001b[0;34m\u001b[0m\u001b[0;34m\u001b[0m\u001b[0m\n\u001b[0m\u001b[1;32m    227\u001b[0m             \u001b[0;31m# Record build config.\u001b[0m\u001b[0;34m\u001b[0m\u001b[0;34m\u001b[0m\u001b[0m\n\u001b[1;32m    228\u001b[0m             \u001b[0msignature\u001b[0m \u001b[0;34m=\u001b[0m \u001b[0minspect\u001b[0m\u001b[0;34m.\u001b[0m\u001b[0msignature\u001b[0m\u001b[0;34m(\u001b[0m\u001b[0moriginal_build_method\u001b[0m\u001b[0;34m)\u001b[0m\u001b[0;34m\u001b[0m\u001b[0;34m\u001b[0m\u001b[0m\n",
      "\u001b[0;32m/usr/local/lib/python3.11/dist-packages/keras/src/models/sequential.py\u001b[0m in \u001b[0;36mbuild\u001b[0;34m(self, input_shape)\u001b[0m\n\u001b[1;32m    184\u001b[0m         \u001b[0;32mfor\u001b[0m \u001b[0mlayer\u001b[0m \u001b[0;32min\u001b[0m \u001b[0mself\u001b[0m\u001b[0;34m.\u001b[0m\u001b[0m_layers\u001b[0m\u001b[0;34m[\u001b[0m\u001b[0;36m1\u001b[0m\u001b[0;34m:\u001b[0m\u001b[0;34m]\u001b[0m\u001b[0;34m:\u001b[0m\u001b[0;34m\u001b[0m\u001b[0;34m\u001b[0m\u001b[0m\n\u001b[1;32m    185\u001b[0m             \u001b[0;32mtry\u001b[0m\u001b[0;34m:\u001b[0m\u001b[0;34m\u001b[0m\u001b[0;34m\u001b[0m\u001b[0m\n\u001b[0;32m--> 186\u001b[0;31m                 \u001b[0mx\u001b[0m \u001b[0;34m=\u001b[0m \u001b[0mlayer\u001b[0m\u001b[0;34m(\u001b[0m\u001b[0mx\u001b[0m\u001b[0;34m)\u001b[0m\u001b[0;34m\u001b[0m\u001b[0;34m\u001b[0m\u001b[0m\n\u001b[0m\u001b[1;32m    187\u001b[0m             \u001b[0;32mexcept\u001b[0m \u001b[0mNotImplementedError\u001b[0m\u001b[0;34m:\u001b[0m\u001b[0;34m\u001b[0m\u001b[0;34m\u001b[0m\u001b[0m\n\u001b[1;32m    188\u001b[0m                 \u001b[0;31m# Can happen if shape inference is not implemented.\u001b[0m\u001b[0;34m\u001b[0m\u001b[0;34m\u001b[0m\u001b[0m\n",
      "\u001b[0;32m/usr/local/lib/python3.11/dist-packages/keras/src/utils/traceback_utils.py\u001b[0m in \u001b[0;36merror_handler\u001b[0;34m(*args, **kwargs)\u001b[0m\n\u001b[1;32m    120\u001b[0m             \u001b[0;31m# To get the full stack trace, call:\u001b[0m\u001b[0;34m\u001b[0m\u001b[0;34m\u001b[0m\u001b[0m\n\u001b[1;32m    121\u001b[0m             \u001b[0;31m# `keras.config.disable_traceback_filtering()`\u001b[0m\u001b[0;34m\u001b[0m\u001b[0;34m\u001b[0m\u001b[0m\n\u001b[0;32m--> 122\u001b[0;31m             \u001b[0;32mraise\u001b[0m \u001b[0me\u001b[0m\u001b[0;34m.\u001b[0m\u001b[0mwith_traceback\u001b[0m\u001b[0;34m(\u001b[0m\u001b[0mfiltered_tb\u001b[0m\u001b[0;34m)\u001b[0m \u001b[0;32mfrom\u001b[0m \u001b[0;32mNone\u001b[0m\u001b[0;34m\u001b[0m\u001b[0;34m\u001b[0m\u001b[0m\n\u001b[0m\u001b[1;32m    123\u001b[0m         \u001b[0;32mfinally\u001b[0m\u001b[0;34m:\u001b[0m\u001b[0;34m\u001b[0m\u001b[0;34m\u001b[0m\u001b[0m\n\u001b[1;32m    124\u001b[0m             \u001b[0;32mdel\u001b[0m \u001b[0mfiltered_tb\u001b[0m\u001b[0;34m\u001b[0m\u001b[0;34m\u001b[0m\u001b[0m\n",
      "\u001b[0;32m/usr/local/lib/python3.11/dist-packages/keras/src/ops/operation_utils.py\u001b[0m in \u001b[0;36mcompute_conv_output_shape\u001b[0;34m(input_shape, filters, kernel_size, strides, padding, data_format, dilation_rate)\u001b[0m\n\u001b[1;32m    219\u001b[0m         \u001b[0;32mfor\u001b[0m \u001b[0mi\u001b[0m \u001b[0;32min\u001b[0m \u001b[0mrange\u001b[0m\u001b[0;34m(\u001b[0m\u001b[0mlen\u001b[0m\u001b[0;34m(\u001b[0m\u001b[0moutput_spatial_shape\u001b[0m\u001b[0;34m)\u001b[0m\u001b[0;34m)\u001b[0m\u001b[0;34m:\u001b[0m\u001b[0;34m\u001b[0m\u001b[0;34m\u001b[0m\u001b[0m\n\u001b[1;32m    220\u001b[0m             \u001b[0;32mif\u001b[0m \u001b[0mi\u001b[0m \u001b[0;32mnot\u001b[0m \u001b[0;32min\u001b[0m \u001b[0mnone_dims\u001b[0m \u001b[0;32mand\u001b[0m \u001b[0moutput_spatial_shape\u001b[0m\u001b[0;34m[\u001b[0m\u001b[0mi\u001b[0m\u001b[0;34m]\u001b[0m \u001b[0;34m<\u001b[0m \u001b[0;36m0\u001b[0m\u001b[0;34m:\u001b[0m\u001b[0;34m\u001b[0m\u001b[0;34m\u001b[0m\u001b[0m\n\u001b[0;32m--> 221\u001b[0;31m                 raise ValueError(\n\u001b[0m\u001b[1;32m    222\u001b[0m                     \u001b[0;34m\"Computed output size would be negative. Received \"\u001b[0m\u001b[0;34m\u001b[0m\u001b[0;34m\u001b[0m\u001b[0m\n\u001b[1;32m    223\u001b[0m                     \u001b[0;34mf\"`inputs shape={input_shape}`, \"\u001b[0m\u001b[0;34m\u001b[0m\u001b[0;34m\u001b[0m\u001b[0m\n",
      "\u001b[0;31mValueError\u001b[0m: Computed output size would be negative. Received `inputs shape=(None, 5, 5, 128)`, `kernel shape=(7, 7, 128, 256)`, `dilation_rate=[1 1]`."
     ]
    }
   ],
   "source": [
    "model_mel_cnn_light = models.Sequential([\n",
    "    layers.Input(shape=input_mel_shape),\n",
    "    layers.Resizing(32, 32),\n",
    "    norm_layer,\n",
    "    \n",
    "    layers.Conv2D(32, 3),\n",
    "    layers.Activation('relu'),\n",
    "    \n",
    "    layers.Conv2D(64, 3),\n",
    "    layers.Activation('relu'),\n",
    "    layers.MaxPooling2D(),\n",
    "    layers.Dropout(0.25),\n",
    "\n",
    "    layers.Conv2D(128, 5),\n",
    "    layers.Activation('relu'),\n",
    "    layers.MaxPooling2D(),\n",
    "    layers.Dropout(0.25),\n",
    "\n",
    "    layers.Conv2D(256, 7),\n",
    "    layers.Activation('relu'),\n",
    "    layers.MaxPooling2D(),\n",
    "    layers.Dropout(0.25),\n",
    "    \n",
    "    layers.Flatten(),\n",
    "    layers.Dense(128, activation='relu'),\n",
    "    layers.Dropout(0.5),\n",
    "    \n",
    "    layers.Dense(num_labels),\n",
    "])\n",
    "\n",
    "model_mel_cnn_light.summary()"
   ]
  },
  {
   "cell_type": "code",
   "execution_count": null,
   "id": "234408bd",
   "metadata": {
    "execution": {
     "iopub.execute_input": "2025-05-08T13:41:48.366872Z",
     "iopub.status.busy": "2025-05-08T13:41:48.366673Z",
     "iopub.status.idle": "2025-05-08T13:41:48.374196Z",
     "shell.execute_reply": "2025-05-08T13:41:48.373643Z",
     "shell.execute_reply.started": "2025-05-08T13:41:48.366857Z"
    },
    "papermill": {
     "duration": null,
     "end_time": null,
     "exception": null,
     "start_time": null,
     "status": "pending"
    },
    "tags": []
   },
   "outputs": [],
   "source": [
    "model_mel_cnn_light.compile(\n",
    "    optimizer=tf.keras.optimizers.Adam(),\n",
    "    loss=tf.keras.losses.SparseCategoricalCrossentropy(from_logits=True),\n",
    "    metrics=['accuracy'],\n",
    ")"
   ]
  },
  {
   "cell_type": "code",
   "execution_count": null,
   "id": "481b1f9a",
   "metadata": {
    "execution": {
     "iopub.execute_input": "2025-05-08T13:41:48.375077Z",
     "iopub.status.busy": "2025-05-08T13:41:48.374856Z",
     "iopub.status.idle": "2025-05-08T13:45:23.846937Z",
     "shell.execute_reply": "2025-05-08T13:45:23.846417Z",
     "shell.execute_reply.started": "2025-05-08T13:41:48.375055Z"
    },
    "papermill": {
     "duration": null,
     "end_time": null,
     "exception": null,
     "start_time": null,
     "status": "pending"
    },
    "tags": []
   },
   "outputs": [],
   "source": [
    "EPOCHS = 50\n",
    "history = model_mel_cnn_light.fit(\n",
    "    train_mel_ds,\n",
    "    validation_data=val_mel_ds,\n",
    "    epochs=EPOCHS,\n",
    "    callbacks=tf.keras.callbacks.EarlyStopping(verbose=1, patience=4),\n",
    ")\n",
    "metrics = history.history"
   ]
  },
  {
   "cell_type": "code",
   "execution_count": null,
   "id": "095ca23c",
   "metadata": {
    "execution": {
     "iopub.execute_input": "2025-05-08T13:45:23.848267Z",
     "iopub.status.busy": "2025-05-08T13:45:23.847771Z",
     "iopub.status.idle": "2025-05-08T13:45:24.821068Z",
     "shell.execute_reply": "2025-05-08T13:45:24.820187Z",
     "shell.execute_reply.started": "2025-05-08T13:45:23.848241Z"
    },
    "papermill": {
     "duration": null,
     "end_time": null,
     "exception": null,
     "start_time": null,
     "status": "pending"
    },
    "tags": []
   },
   "outputs": [],
   "source": [
    "plt.figure(figsize=(12, 5))\n",
    "plt.subplot(1, 2, 1)\n",
    "plt.plot(history.epoch, metrics['accuracy'], label='Train Accuracy')\n",
    "plt.plot(history.epoch, metrics['val_accuracy'], label='Val Accuracy')\n",
    "plt.title('Точность по эпохам')\n",
    "plt.xlabel('Эпоха')\n",
    "plt.ylabel('Точность')\n",
    "plt.legend()\n",
    "plt.grid(True)\n",
    "\n",
    "plt.subplot(1, 2, 2)\n",
    "plt.plot(history.epoch, metrics['loss'], label='Train Loss')\n",
    "plt.plot(history.epoch, metrics['val_loss'], label='Val Loss')\n",
    "plt.title('Потеря по эпохам')\n",
    "plt.xlabel('Эпоха')\n",
    "plt.ylabel('Потеря')\n",
    "plt.legend()\n",
    "plt.grid(True)\n",
    "\n",
    "plt.tight_layout()\n",
    "plt.savefig(\"training_metrics_mel_cnn_light.png\", dpi=300)\n",
    "plt.show()"
   ]
  },
  {
   "cell_type": "code",
   "execution_count": null,
   "id": "db61043a",
   "metadata": {
    "execution": {
     "iopub.execute_input": "2025-05-08T13:45:24.822546Z",
     "iopub.status.busy": "2025-05-08T13:45:24.822177Z",
     "iopub.status.idle": "2025-05-08T13:45:28.923775Z",
     "shell.execute_reply": "2025-05-08T13:45:28.923034Z",
     "shell.execute_reply.started": "2025-05-08T13:45:24.822521Z"
    },
    "papermill": {
     "duration": null,
     "end_time": null,
     "exception": null,
     "start_time": null,
     "status": "pending"
    },
    "tags": []
   },
   "outputs": [],
   "source": [
    "test_mel_audio = []\n",
    "test_mel_labels = []\n",
    "\n",
    "for audio, label in test_mel_ds:\n",
    "  test_mel_audio.append(audio.numpy())\n",
    "  test_mel_labels.append(label.numpy())\n",
    "\n",
    "test_mel_audio = np.array(test_mel_audio)\n",
    "test_mel_labels = np.array(test_mel_labels)"
   ]
  },
  {
   "cell_type": "code",
   "execution_count": null,
   "id": "7a6045b7",
   "metadata": {
    "execution": {
     "iopub.execute_input": "2025-05-08T13:45:28.925266Z",
     "iopub.status.busy": "2025-05-08T13:45:28.924703Z",
     "iopub.status.idle": "2025-05-08T13:45:31.301465Z",
     "shell.execute_reply": "2025-05-08T13:45:31.300803Z",
     "shell.execute_reply.started": "2025-05-08T13:45:28.925241Z"
    },
    "papermill": {
     "duration": null,
     "end_time": null,
     "exception": null,
     "start_time": null,
     "status": "pending"
    },
    "tags": []
   },
   "outputs": [],
   "source": [
    "y_pred = np.argmax(model_mel_cnn_light.predict(test_mel_audio), axis=1)\n",
    "y_true = test_mel_labels\n",
    "\n",
    "test_acc = sum(y_pred == y_true) / len(y_true)\n",
    "print(f'Точность на тестовом наборе: {test_acc:.0%}')"
   ]
  },
  {
   "cell_type": "code",
   "execution_count": null,
   "id": "241f3383",
   "metadata": {
    "execution": {
     "iopub.execute_input": "2025-05-08T13:45:31.302525Z",
     "iopub.status.busy": "2025-05-08T13:45:31.302298Z",
     "iopub.status.idle": "2025-05-08T13:45:31.318229Z",
     "shell.execute_reply": "2025-05-08T13:45:31.317641Z",
     "shell.execute_reply.started": "2025-05-08T13:45:31.302509Z"
    },
    "papermill": {
     "duration": null,
     "end_time": null,
     "exception": null,
     "start_time": null,
     "status": "pending"
    },
    "tags": []
   },
   "outputs": [],
   "source": [
    "report = classification_report(y_true, y_pred, target_names=commands, digits=4)\n",
    "print(report)"
   ]
  },
  {
   "cell_type": "code",
   "execution_count": null,
   "id": "31a20295",
   "metadata": {
    "execution": {
     "iopub.execute_input": "2025-05-08T13:45:31.319425Z",
     "iopub.status.busy": "2025-05-08T13:45:31.319210Z",
     "iopub.status.idle": "2025-05-08T13:45:33.946902Z",
     "shell.execute_reply": "2025-05-08T13:45:33.946147Z",
     "shell.execute_reply.started": "2025-05-08T13:45:31.319405Z"
    },
    "papermill": {
     "duration": null,
     "end_time": null,
     "exception": null,
     "start_time": null,
     "status": "pending"
    },
    "tags": []
   },
   "outputs": [],
   "source": [
    "confusion_mtx = tf.math.confusion_matrix(y_true, y_pred)\n",
    "plt.figure(figsize=(10, 7))\n",
    "\n",
    "sns.heatmap(confusion_mtx,\n",
    "            xticklabels=commands,\n",
    "            yticklabels=commands,\n",
    "            annot=True, fmt='g',\n",
    "            cmap='Blues')\n",
    "plt.xlabel('Предсказание')\n",
    "plt.ylabel('Метка')\n",
    "plt.savefig(\"conf_matrix_mel_cnn_light.png\", dpi=300)\n",
    "plt.show()"
   ]
  },
  {
   "cell_type": "code",
   "execution_count": null,
   "id": "f4f79de2",
   "metadata": {
    "execution": {
     "iopub.execute_input": "2025-05-08T13:45:33.947946Z",
     "iopub.status.busy": "2025-05-08T13:45:33.947682Z",
     "iopub.status.idle": "2025-05-08T13:45:34.017071Z",
     "shell.execute_reply": "2025-05-08T13:45:34.016571Z",
     "shell.execute_reply.started": "2025-05-08T13:45:33.947919Z"
    },
    "papermill": {
     "duration": null,
     "end_time": null,
     "exception": null,
     "start_time": null,
     "status": "pending"
    },
    "tags": []
   },
   "outputs": [],
   "source": [
    "model_mel_cnn_light.save('mel_cnn_light.keras')"
   ]
  },
  {
   "cell_type": "markdown",
   "id": "f1aa3ed0",
   "metadata": {
    "papermill": {
     "duration": null,
     "end_time": null,
     "exception": null,
     "start_time": null,
     "status": "pending"
    },
    "tags": []
   },
   "source": [
    "# CNNHard"
   ]
  },
  {
   "cell_type": "code",
   "execution_count": null,
   "id": "866dc668",
   "metadata": {
    "execution": {
     "iopub.execute_input": "2025-05-08T13:45:34.017949Z",
     "iopub.status.busy": "2025-05-08T13:45:34.017752Z",
     "iopub.status.idle": "2025-05-08T13:50:32.376883Z",
     "shell.execute_reply": "2025-05-08T13:50:32.376297Z",
     "shell.execute_reply.started": "2025-05-08T13:45:34.017933Z"
    },
    "papermill": {
     "duration": null,
     "end_time": null,
     "exception": null,
     "start_time": null,
     "status": "pending"
    },
    "tags": []
   },
   "outputs": [],
   "source": [
    "norm_layer = layers.Normalization()\n",
    "norm_layer.adapt(data=spectrogram_mel_ds.map(map_func=lambda spec, label: spec))"
   ]
  },
  {
   "cell_type": "code",
   "execution_count": null,
   "id": "96da19aa",
   "metadata": {
    "execution": {
     "iopub.execute_input": "2025-05-08T13:50:32.377940Z",
     "iopub.status.busy": "2025-05-08T13:50:32.377717Z",
     "iopub.status.idle": "2025-05-08T13:50:32.519594Z",
     "shell.execute_reply": "2025-05-08T13:50:32.519030Z",
     "shell.execute_reply.started": "2025-05-08T13:50:32.377921Z"
    },
    "papermill": {
     "duration": null,
     "end_time": null,
     "exception": null,
     "start_time": null,
     "status": "pending"
    },
    "tags": []
   },
   "outputs": [],
   "source": [
    "model_mel_cnn = models.Sequential([\n",
    "    layers.Input(shape=input_mel_shape),\n",
    "    layers.Resizing(64, 64),\n",
    "    norm_layer,\n",
    "\n",
    "    layers.Conv2D(32, kernel_size=3, padding='same'),\n",
    "    layers.BatchNormalization(),\n",
    "    layers.Activation('relu'),\n",
    "\n",
    "    layers.Conv2D(64, kernel_size=3, padding='same'),\n",
    "    layers.BatchNormalization(),\n",
    "    layers.Activation('relu'),\n",
    "    layers.MaxPooling2D(),\n",
    "    layers.Dropout(0.3),\n",
    "\n",
    "    layers.Conv2D(128, kernel_size=5, padding='same'),\n",
    "    layers.BatchNormalization(),\n",
    "    layers.Activation('relu'),\n",
    "    layers.MaxPooling2D(),\n",
    "    layers.Dropout(0.4),\n",
    "\n",
    "    layers.Conv2D(256, kernel_size=5, padding='same'),\n",
    "    layers.BatchNormalization(),\n",
    "    layers.Activation('relu'),\n",
    "    layers.MaxPooling2D(),\n",
    "    layers.Dropout(0.4),\n",
    "\n",
    "    layers.Conv2D(512, kernel_size=7, padding='same'),\n",
    "    layers.BatchNormalization(),\n",
    "    layers.Activation('relu'),\n",
    "    layers.MaxPooling2D(),\n",
    "    layers.Dropout(0.4),\n",
    "\n",
    "    layers.Flatten(),\n",
    "    layers.Dense(256, activation='relu'),\n",
    "    layers.BatchNormalization(),\n",
    "    layers.Dropout(0.5),\n",
    "\n",
    "    layers.Dense(num_labels)\n",
    "])\n",
    "\n",
    "model_mel_cnn.summary()"
   ]
  },
  {
   "cell_type": "code",
   "execution_count": null,
   "id": "5e78ebcc",
   "metadata": {
    "execution": {
     "iopub.execute_input": "2025-05-08T13:50:32.520518Z",
     "iopub.status.busy": "2025-05-08T13:50:32.520278Z",
     "iopub.status.idle": "2025-05-08T13:50:32.527764Z",
     "shell.execute_reply": "2025-05-08T13:50:32.527033Z",
     "shell.execute_reply.started": "2025-05-08T13:50:32.520485Z"
    },
    "papermill": {
     "duration": null,
     "end_time": null,
     "exception": null,
     "start_time": null,
     "status": "pending"
    },
    "tags": []
   },
   "outputs": [],
   "source": [
    "model_mel_cnn.compile(\n",
    "    optimizer=tf.keras.optimizers.Adam(),\n",
    "    loss=tf.keras.losses.SparseCategoricalCrossentropy(from_logits=True),\n",
    "    metrics=['accuracy'],\n",
    ")"
   ]
  },
  {
   "cell_type": "code",
   "execution_count": null,
   "id": "dc734104",
   "metadata": {
    "execution": {
     "iopub.execute_input": "2025-05-08T13:50:32.528830Z",
     "iopub.status.busy": "2025-05-08T13:50:32.528644Z",
     "iopub.status.idle": "2025-05-08T14:16:19.897930Z",
     "shell.execute_reply": "2025-05-08T14:16:19.897409Z",
     "shell.execute_reply.started": "2025-05-08T13:50:32.528815Z"
    },
    "papermill": {
     "duration": null,
     "end_time": null,
     "exception": null,
     "start_time": null,
     "status": "pending"
    },
    "tags": []
   },
   "outputs": [],
   "source": [
    "EPOCHS = 50\n",
    "history = model_mel_cnn.fit(\n",
    "    train_mel_ds,\n",
    "    validation_data=val_mel_ds,\n",
    "    epochs=EPOCHS,\n",
    "    callbacks=tf.keras.callbacks.EarlyStopping(verbose=1, patience=4),\n",
    ")\n",
    "metrics = history.history"
   ]
  },
  {
   "cell_type": "code",
   "execution_count": null,
   "id": "19bb2622",
   "metadata": {
    "execution": {
     "iopub.execute_input": "2025-05-08T14:16:19.898850Z",
     "iopub.status.busy": "2025-05-08T14:16:19.898630Z",
     "iopub.status.idle": "2025-05-08T14:16:20.895061Z",
     "shell.execute_reply": "2025-05-08T14:16:20.894298Z",
     "shell.execute_reply.started": "2025-05-08T14:16:19.898826Z"
    },
    "papermill": {
     "duration": null,
     "end_time": null,
     "exception": null,
     "start_time": null,
     "status": "pending"
    },
    "tags": []
   },
   "outputs": [],
   "source": [
    "plt.figure(figsize=(12, 5))\n",
    "plt.subplot(1, 2, 1)\n",
    "plt.plot(history.epoch, metrics['accuracy'], label='Train Accuracy')\n",
    "plt.plot(history.epoch, metrics['val_accuracy'], label='Val Accuracy')\n",
    "plt.title('Точность по эпохам')\n",
    "plt.xlabel('Эпоха')\n",
    "plt.ylabel('Точность')\n",
    "plt.legend()\n",
    "plt.grid(True)\n",
    "\n",
    "plt.subplot(1, 2, 2)\n",
    "plt.plot(history.epoch, metrics['loss'], label='Train Loss')\n",
    "plt.plot(history.epoch, metrics['val_loss'], label='Val Loss')\n",
    "plt.title('Потеря по эпохам')\n",
    "plt.xlabel('Эпоха')\n",
    "plt.ylabel('Потеря')\n",
    "plt.legend()\n",
    "plt.grid(True)\n",
    "\n",
    "plt.tight_layout()\n",
    "plt.savefig(\"training_metrics_mel_cnn.png\", dpi=300)\n",
    "plt.show()"
   ]
  },
  {
   "cell_type": "code",
   "execution_count": null,
   "id": "1b7368b7",
   "metadata": {
    "execution": {
     "iopub.execute_input": "2025-05-08T14:16:20.896314Z",
     "iopub.status.busy": "2025-05-08T14:16:20.895982Z",
     "iopub.status.idle": "2025-05-08T14:16:26.184609Z",
     "shell.execute_reply": "2025-05-08T14:16:26.184055Z",
     "shell.execute_reply.started": "2025-05-08T14:16:20.896288Z"
    },
    "papermill": {
     "duration": null,
     "end_time": null,
     "exception": null,
     "start_time": null,
     "status": "pending"
    },
    "tags": []
   },
   "outputs": [],
   "source": [
    "test_mel_audio = []\n",
    "test_mel_labels = []\n",
    "\n",
    "for audio, label in test_mel_ds:\n",
    "  test_mel_audio.append(audio.numpy())\n",
    "  test_mel_labels.append(label.numpy())\n",
    "\n",
    "test_mel_audio = np.array(test_mel_audio)\n",
    "test_mel_labels = np.array(test_mel_labels)"
   ]
  },
  {
   "cell_type": "code",
   "execution_count": null,
   "id": "1fd5c8d0",
   "metadata": {
    "execution": {
     "iopub.execute_input": "2025-05-08T14:16:26.185582Z",
     "iopub.status.busy": "2025-05-08T14:16:26.185321Z",
     "iopub.status.idle": "2025-05-08T14:16:33.160720Z",
     "shell.execute_reply": "2025-05-08T14:16:33.159916Z",
     "shell.execute_reply.started": "2025-05-08T14:16:26.185559Z"
    },
    "papermill": {
     "duration": null,
     "end_time": null,
     "exception": null,
     "start_time": null,
     "status": "pending"
    },
    "tags": []
   },
   "outputs": [],
   "source": [
    "y_pred = np.argmax(model_mel_cnn.predict(test_mel_audio), axis=1)\n",
    "y_true = test_mel_labels\n",
    "\n",
    "test_acc = sum(y_pred == y_true) / len(y_true)\n",
    "print(f'Точность на тестовом наборе: {test_acc:.0%}')"
   ]
  },
  {
   "cell_type": "code",
   "execution_count": null,
   "id": "33d5846d",
   "metadata": {
    "execution": {
     "iopub.execute_input": "2025-05-08T14:16:33.161962Z",
     "iopub.status.busy": "2025-05-08T14:16:33.161654Z",
     "iopub.status.idle": "2025-05-08T14:16:33.178574Z",
     "shell.execute_reply": "2025-05-08T14:16:33.177979Z",
     "shell.execute_reply.started": "2025-05-08T14:16:33.161931Z"
    },
    "papermill": {
     "duration": null,
     "end_time": null,
     "exception": null,
     "start_time": null,
     "status": "pending"
    },
    "tags": []
   },
   "outputs": [],
   "source": [
    "report = classification_report(y_true, y_pred, target_names=commands, digits=4)\n",
    "print(report)"
   ]
  },
  {
   "cell_type": "code",
   "execution_count": null,
   "id": "c8b4a56f",
   "metadata": {
    "execution": {
     "iopub.execute_input": "2025-05-08T14:16:33.179603Z",
     "iopub.status.busy": "2025-05-08T14:16:33.179305Z",
     "iopub.status.idle": "2025-05-08T14:16:36.176018Z",
     "shell.execute_reply": "2025-05-08T14:16:36.175290Z",
     "shell.execute_reply.started": "2025-05-08T14:16:33.179575Z"
    },
    "papermill": {
     "duration": null,
     "end_time": null,
     "exception": null,
     "start_time": null,
     "status": "pending"
    },
    "tags": []
   },
   "outputs": [],
   "source": [
    "confusion_mtx = tf.math.confusion_matrix(y_true, y_pred)\n",
    "plt.figure(figsize=(10, 7))\n",
    "\n",
    "sns.heatmap(confusion_mtx,\n",
    "            xticklabels=commands,\n",
    "            yticklabels=commands,\n",
    "            annot=True, fmt='g',\n",
    "            cmap='Blues')\n",
    "plt.xlabel('Предсказание')\n",
    "plt.ylabel('Метка')\n",
    "plt.savefig(\"conf_matrix_mel_cnn.png\", dpi=300)\n",
    "plt.show()"
   ]
  },
  {
   "cell_type": "code",
   "execution_count": null,
   "id": "a4904a11",
   "metadata": {
    "execution": {
     "iopub.execute_input": "2025-05-08T14:16:36.177272Z",
     "iopub.status.busy": "2025-05-08T14:16:36.176989Z",
     "iopub.status.idle": "2025-05-08T14:16:36.643740Z",
     "shell.execute_reply": "2025-05-08T14:16:36.643153Z",
     "shell.execute_reply.started": "2025-05-08T14:16:36.177253Z"
    },
    "papermill": {
     "duration": null,
     "end_time": null,
     "exception": null,
     "start_time": null,
     "status": "pending"
    },
    "tags": []
   },
   "outputs": [],
   "source": [
    "model_mel_cnn.save('mel_cnn.keras')"
   ]
  },
  {
   "cell_type": "markdown",
   "id": "96ba7ff7",
   "metadata": {
    "papermill": {
     "duration": null,
     "end_time": null,
     "exception": null,
     "start_time": null,
     "status": "pending"
    },
    "tags": []
   },
   "source": [
    "# TCN"
   ]
  },
  {
   "cell_type": "code",
   "execution_count": null,
   "id": "7c9563d6",
   "metadata": {
    "execution": {
     "iopub.execute_input": "2025-05-08T14:16:36.645207Z",
     "iopub.status.busy": "2025-05-08T14:16:36.644558Z",
     "iopub.status.idle": "2025-05-08T14:16:36.649429Z",
     "shell.execute_reply": "2025-05-08T14:16:36.648687Z",
     "shell.execute_reply.started": "2025-05-08T14:16:36.645174Z"
    },
    "papermill": {
     "duration": null,
     "end_time": null,
     "exception": null,
     "start_time": null,
     "status": "pending"
    },
    "tags": []
   },
   "outputs": [],
   "source": [
    "def get_mel_spectrogram_and_label_id(audio, label):\n",
    "    mel_spectrogram = get_mel_spectrogram(audio)\n",
    "    mel_spectrogram = tf.squeeze(mel_spectrogram, axis=-1)\n",
    "    label_id = tf.argmax(label == commands)\n",
    "    return mel_spectrogram, label_id"
   ]
  },
  {
   "cell_type": "code",
   "execution_count": null,
   "id": "b1da4cb5",
   "metadata": {
    "execution": {
     "iopub.execute_input": "2025-05-08T14:16:36.650493Z",
     "iopub.status.busy": "2025-05-08T14:16:36.650210Z",
     "iopub.status.idle": "2025-05-08T14:16:37.631963Z",
     "shell.execute_reply": "2025-05-08T14:16:37.631453Z",
     "shell.execute_reply.started": "2025-05-08T14:16:36.650460Z"
    },
    "papermill": {
     "duration": null,
     "end_time": null,
     "exception": null,
     "start_time": null,
     "status": "pending"
    },
    "tags": []
   },
   "outputs": [],
   "source": [
    "spectrogram_mel_ds = preprocess_mel_dataset(train_files)\n",
    "test_mel_ds = preprocess_mel_dataset(test_files)"
   ]
  },
  {
   "cell_type": "code",
   "execution_count": null,
   "id": "0628b054",
   "metadata": {
    "execution": {
     "iopub.execute_input": "2025-05-08T14:16:37.633212Z",
     "iopub.status.busy": "2025-05-08T14:16:37.632849Z",
     "iopub.status.idle": "2025-05-08T14:16:38.586067Z",
     "shell.execute_reply": "2025-05-08T14:16:38.585527Z",
     "shell.execute_reply.started": "2025-05-08T14:16:37.633185Z"
    },
    "papermill": {
     "duration": null,
     "end_time": null,
     "exception": null,
     "start_time": null,
     "status": "pending"
    },
    "tags": []
   },
   "outputs": [],
   "source": [
    "batch_size = 128\n",
    "\n",
    "train_mel_ds = (\n",
    "    preprocess_mel_dataset(train_files)\n",
    "    .cache()\n",
    "    .shuffle(buffer_size=len(train_files), seed=42)\n",
    "    .batch(batch_size)\n",
    "    .prefetch(tf.data.AUTOTUNE)\n",
    ")\n",
    "\n",
    "val_mel_ds = (\n",
    "    preprocess_mel_dataset(val_files)\n",
    "    .batch(batch_size)\n",
    "    .cache()\n",
    "    .prefetch(tf.data.AUTOTUNE)\n",
    ")"
   ]
  },
  {
   "cell_type": "code",
   "execution_count": null,
   "id": "e2c89d26",
   "metadata": {
    "execution": {
     "iopub.execute_input": "2025-05-08T14:16:38.587070Z",
     "iopub.status.busy": "2025-05-08T14:16:38.586856Z",
     "iopub.status.idle": "2025-05-08T14:16:38.734430Z",
     "shell.execute_reply": "2025-05-08T14:16:38.733611Z",
     "shell.execute_reply.started": "2025-05-08T14:16:38.587053Z"
    },
    "papermill": {
     "duration": null,
     "end_time": null,
     "exception": null,
     "start_time": null,
     "status": "pending"
    },
    "tags": []
   },
   "outputs": [],
   "source": [
    "for mel_spectrogram, _ in spectrogram_mel_ds.take(1):\n",
    "  input_shape = mel_spectrogram.shape\n",
    "print('Размер входа', input_shape)\n",
    "\n",
    "num_labels = len(commands)"
   ]
  },
  {
   "cell_type": "code",
   "execution_count": null,
   "id": "10c95161",
   "metadata": {
    "execution": {
     "iopub.execute_input": "2025-05-08T14:16:38.735845Z",
     "iopub.status.busy": "2025-05-08T14:16:38.735297Z",
     "iopub.status.idle": "2025-05-08T14:21:42.607986Z",
     "shell.execute_reply": "2025-05-08T14:21:42.607131Z",
     "shell.execute_reply.started": "2025-05-08T14:16:38.735816Z"
    },
    "papermill": {
     "duration": null,
     "end_time": null,
     "exception": null,
     "start_time": null,
     "status": "pending"
    },
    "tags": []
   },
   "outputs": [],
   "source": [
    "norm_layer = layers.Normalization()\n",
    "norm_layer.adapt(spectrogram_mel_ds.map(lambda x, y: x))"
   ]
  },
  {
   "cell_type": "code",
   "execution_count": null,
   "id": "2bcd34ae",
   "metadata": {
    "execution": {
     "iopub.execute_input": "2025-05-08T14:57:08.247104Z",
     "iopub.status.busy": "2025-05-08T14:57:08.246379Z",
     "iopub.status.idle": "2025-05-08T14:57:08.402146Z",
     "shell.execute_reply": "2025-05-08T14:57:08.401560Z",
     "shell.execute_reply.started": "2025-05-08T14:57:08.247080Z"
    },
    "papermill": {
     "duration": null,
     "end_time": null,
     "exception": null,
     "start_time": null,
     "status": "pending"
    },
    "tags": []
   },
   "outputs": [],
   "source": [
    "model_mel_tcn = models.Sequential([\n",
    "    layers.Input(shape=input_shape),\n",
    "    norm_layer,\n",
    "    \n",
    "    layers.Conv1D(64, kernel_size=3, dilation_rate=1, padding='causal', activation='relu'),\n",
    "    layers.BatchNormalization(),\n",
    "    layers.Conv1D(64, kernel_size=3, dilation_rate=1, padding='causal', activation='relu'),\n",
    "    layers.BatchNormalization(),\n",
    "    layers.Dropout(0.3),\n",
    "    layers.MaxPooling1D(pool_size=2),\n",
    "    \n",
    "    layers.Conv1D(128, kernel_size=3, dilation_rate=2, padding='causal', activation='relu'),\n",
    "    layers.BatchNormalization(),\n",
    "    layers.Conv1D(128, kernel_size=3, dilation_rate=2, padding='causal', activation='relu'),\n",
    "    layers.BatchNormalization(),\n",
    "    layers.Dropout(0.4),\n",
    "    layers.MaxPooling1D(pool_size=2),\n",
    "    \n",
    "    layers.Conv1D(256, kernel_size=3, dilation_rate=4, padding='causal', activation='relu'),\n",
    "    layers.BatchNormalization(),\n",
    "    layers.Conv1D(256, kernel_size=3, dilation_rate=4, padding='causal', activation='relu'),\n",
    "    layers.BatchNormalization(),\n",
    "    layers.Dropout(0.5),\n",
    "    \n",
    "    layers.Conv1D(256, kernel_size=3, dilation_rate=8, padding='causal', activation='relu'),\n",
    "    layers.BatchNormalization(),\n",
    "    layers.Dropout(0.5),\n",
    "    \n",
    "    layers.GlobalAveragePooling1D(),\n",
    "    layers.Dense(256, activation='relu'),\n",
    "    layers.Dropout(0.5),\n",
    "    layers.Dense(num_labels, activation='softmax')\n",
    "])\n",
    "\n",
    "model_mel_tcn.summary()"
   ]
  },
  {
   "cell_type": "code",
   "execution_count": null,
   "id": "45e863fa",
   "metadata": {
    "execution": {
     "iopub.execute_input": "2025-05-08T14:57:08.628092Z",
     "iopub.status.busy": "2025-05-08T14:57:08.627841Z",
     "iopub.status.idle": "2025-05-08T14:57:08.636630Z",
     "shell.execute_reply": "2025-05-08T14:57:08.636052Z",
     "shell.execute_reply.started": "2025-05-08T14:57:08.628075Z"
    },
    "papermill": {
     "duration": null,
     "end_time": null,
     "exception": null,
     "start_time": null,
     "status": "pending"
    },
    "tags": []
   },
   "outputs": [],
   "source": [
    "model_mel_tcn.compile(\n",
    "    optimizer=tf.keras.optimizers.Adam(learning_rate=0.001),\n",
    "    loss=tf.keras.losses.SparseCategoricalCrossentropy(from_logits=True),\n",
    "    metrics=['accuracy']\n",
    ")"
   ]
  },
  {
   "cell_type": "code",
   "execution_count": null,
   "id": "7a0d5289",
   "metadata": {
    "execution": {
     "iopub.execute_input": "2025-05-08T14:57:10.671110Z",
     "iopub.status.busy": "2025-05-08T14:57:10.670483Z",
     "iopub.status.idle": "2025-05-08T15:03:05.550658Z",
     "shell.execute_reply": "2025-05-08T15:03:05.550121Z",
     "shell.execute_reply.started": "2025-05-08T14:57:10.671087Z"
    },
    "papermill": {
     "duration": null,
     "end_time": null,
     "exception": null,
     "start_time": null,
     "status": "pending"
    },
    "tags": []
   },
   "outputs": [],
   "source": [
    "EPOCHS = 50\n",
    "history_tcn = model_mel_tcn.fit(\n",
    "    train_mel_ds,\n",
    "    validation_data=val_mel_ds,\n",
    "    epochs=EPOCHS,\n",
    "    callbacks=tf.keras.callbacks.EarlyStopping(patience=6, restore_best_weights=True)\n",
    ")"
   ]
  },
  {
   "cell_type": "code",
   "execution_count": null,
   "id": "a04e048d",
   "metadata": {
    "execution": {
     "iopub.execute_input": "2025-05-08T15:05:17.452182Z",
     "iopub.status.busy": "2025-05-08T15:05:17.451518Z",
     "iopub.status.idle": "2025-05-08T15:05:17.579701Z",
     "shell.execute_reply": "2025-05-08T15:05:17.578801Z",
     "shell.execute_reply.started": "2025-05-08T15:05:17.452158Z"
    },
    "papermill": {
     "duration": null,
     "end_time": null,
     "exception": null,
     "start_time": null,
     "status": "pending"
    },
    "tags": []
   },
   "outputs": [],
   "source": [
    "model_mel_tcn.save(\"mel_tcn.keras\")"
   ]
  },
  {
   "cell_type": "code",
   "execution_count": null,
   "id": "edd2c6b6",
   "metadata": {
    "execution": {
     "iopub.execute_input": "2025-05-08T15:05:17.815025Z",
     "iopub.status.busy": "2025-05-08T15:05:17.814747Z",
     "iopub.status.idle": "2025-05-08T15:05:18.797155Z",
     "shell.execute_reply": "2025-05-08T15:05:18.796253Z",
     "shell.execute_reply.started": "2025-05-08T15:05:17.815003Z"
    },
    "papermill": {
     "duration": null,
     "end_time": null,
     "exception": null,
     "start_time": null,
     "status": "pending"
    },
    "tags": []
   },
   "outputs": [],
   "source": [
    "metrics = history_tcn.history\n",
    "\n",
    "plt.figure(figsize=(12, 5))\n",
    "plt.subplot(1, 2, 1)\n",
    "plt.plot(history_tcn.epoch, metrics['accuracy'], label='Train Accuracy')\n",
    "plt.plot(history_tcn.epoch, metrics['val_accuracy'], label='Val Accuracy')\n",
    "plt.title('Точность по эпохам')\n",
    "plt.xlabel('Эпоха')\n",
    "plt.ylabel('Точность')\n",
    "plt.legend()\n",
    "plt.grid(True)\n",
    "\n",
    "plt.subplot(1, 2, 2)\n",
    "plt.plot(history_tcn.epoch, metrics['loss'], label='Train Loss')\n",
    "plt.plot(history_tcn.epoch, metrics['val_loss'], label='Val Loss')\n",
    "plt.title('Потеря по эпохам')\n",
    "plt.xlabel('Эпоха')\n",
    "plt.ylabel('Потеря')\n",
    "plt.legend()\n",
    "plt.grid(True)\n",
    "\n",
    "plt.tight_layout()\n",
    "plt.savefig(\"training_metrics_mel_tcn.png\", dpi=300)\n",
    "plt.show()"
   ]
  },
  {
   "cell_type": "code",
   "execution_count": null,
   "id": "686a6aa7",
   "metadata": {
    "execution": {
     "iopub.execute_input": "2025-05-08T15:05:18.799222Z",
     "iopub.status.busy": "2025-05-08T15:05:18.798456Z",
     "iopub.status.idle": "2025-05-08T15:05:23.153681Z",
     "shell.execute_reply": "2025-05-08T15:05:23.153036Z",
     "shell.execute_reply.started": "2025-05-08T15:05:18.799197Z"
    },
    "papermill": {
     "duration": null,
     "end_time": null,
     "exception": null,
     "start_time": null,
     "status": "pending"
    },
    "tags": []
   },
   "outputs": [],
   "source": [
    "test_audio = []\n",
    "test_labels = []\n",
    "\n",
    "for audio, label in test_mel_ds:\n",
    "  test_audio.append(audio.numpy())\n",
    "  test_labels.append(label.numpy())\n",
    "    \n",
    "\n",
    "test_audio = np.array(test_audio)\n",
    "test_labels = np.array(test_labels)"
   ]
  },
  {
   "cell_type": "code",
   "execution_count": null,
   "id": "8472d3e1",
   "metadata": {
    "execution": {
     "iopub.execute_input": "2025-05-08T15:05:23.155090Z",
     "iopub.status.busy": "2025-05-08T15:05:23.154840Z",
     "iopub.status.idle": "2025-05-08T15:05:27.434657Z",
     "shell.execute_reply": "2025-05-08T15:05:27.433579Z",
     "shell.execute_reply.started": "2025-05-08T15:05:23.155071Z"
    },
    "papermill": {
     "duration": null,
     "end_time": null,
     "exception": null,
     "start_time": null,
     "status": "pending"
    },
    "tags": []
   },
   "outputs": [],
   "source": [
    "y_pred = np.argmax(model_mel_tcn.predict(test_audio), axis=1)\n",
    "y_true = test_labels\n",
    "\n",
    "test_acc = sum(y_pred == y_true) / len(y_true)\n",
    "print(f'Точность на тестовом наборе: {test_acc:.0%}')"
   ]
  },
  {
   "cell_type": "code",
   "execution_count": null,
   "id": "a68f84cc",
   "metadata": {
    "execution": {
     "iopub.execute_input": "2025-05-08T15:05:30.191505Z",
     "iopub.status.busy": "2025-05-08T15:05:30.191231Z",
     "iopub.status.idle": "2025-05-08T15:05:30.209912Z",
     "shell.execute_reply": "2025-05-08T15:05:30.209035Z",
     "shell.execute_reply.started": "2025-05-08T15:05:30.191486Z"
    },
    "papermill": {
     "duration": null,
     "end_time": null,
     "exception": null,
     "start_time": null,
     "status": "pending"
    },
    "tags": []
   },
   "outputs": [],
   "source": [
    "report = classification_report(y_true, y_pred, target_names=commands, digits=4)\n",
    "print(report)"
   ]
  },
  {
   "cell_type": "code",
   "execution_count": null,
   "id": "62c272e2",
   "metadata": {
    "execution": {
     "iopub.execute_input": "2025-05-08T15:05:30.345048Z",
     "iopub.status.busy": "2025-05-08T15:05:30.344228Z",
     "iopub.status.idle": "2025-05-08T15:05:33.312985Z",
     "shell.execute_reply": "2025-05-08T15:05:33.311844Z",
     "shell.execute_reply.started": "2025-05-08T15:05:30.345014Z"
    },
    "papermill": {
     "duration": null,
     "end_time": null,
     "exception": null,
     "start_time": null,
     "status": "pending"
    },
    "tags": []
   },
   "outputs": [],
   "source": [
    "confusion_mtx = tf.math.confusion_matrix(y_true, y_pred)\n",
    "plt.figure(figsize=(10, 7))\n",
    "\n",
    "sns.heatmap(confusion_mtx,\n",
    "            xticklabels=commands,\n",
    "            yticklabels=commands,\n",
    "            annot=True, fmt='g',\n",
    "            cmap='Blues')\n",
    "plt.xlabel('Предсказание')\n",
    "plt.ylabel('Метка')\n",
    "plt.savefig(\"conf_matrix_mel_tcn.png\", dpi=300)\n",
    "plt.show()"
   ]
  },
  {
   "cell_type": "markdown",
   "id": "745081d2",
   "metadata": {
    "papermill": {
     "duration": null,
     "end_time": null,
     "exception": null,
     "start_time": null,
     "status": "pending"
    },
    "tags": []
   },
   "source": [
    "# CRNN"
   ]
  },
  {
   "cell_type": "code",
   "execution_count": null,
   "id": "265d88a0",
   "metadata": {
    "execution": {
     "iopub.execute_input": "2025-05-08T15:05:49.753867Z",
     "iopub.status.busy": "2025-05-08T15:05:49.753037Z",
     "iopub.status.idle": "2025-05-08T15:05:49.758014Z",
     "shell.execute_reply": "2025-05-08T15:05:49.757259Z",
     "shell.execute_reply.started": "2025-05-08T15:05:49.753841Z"
    },
    "papermill": {
     "duration": null,
     "end_time": null,
     "exception": null,
     "start_time": null,
     "status": "pending"
    },
    "tags": []
   },
   "outputs": [],
   "source": [
    "def get_mel_spectrogram_and_label_id(audio, label):\n",
    "    mel_spectrogram = get_mel_spectrogram(audio)\n",
    "    label_id = tf.argmax(label == commands)\n",
    "    return mel_spectrogram, label_id"
   ]
  },
  {
   "cell_type": "code",
   "execution_count": null,
   "id": "790d437e",
   "metadata": {
    "execution": {
     "iopub.execute_input": "2025-05-08T15:05:49.922418Z",
     "iopub.status.busy": "2025-05-08T15:05:49.922138Z",
     "iopub.status.idle": "2025-05-08T15:05:50.986245Z",
     "shell.execute_reply": "2025-05-08T15:05:50.985572Z",
     "shell.execute_reply.started": "2025-05-08T15:05:49.922398Z"
    },
    "papermill": {
     "duration": null,
     "end_time": null,
     "exception": null,
     "start_time": null,
     "status": "pending"
    },
    "tags": []
   },
   "outputs": [],
   "source": [
    "spectrogram_mel_ds = preprocess_mel_dataset(train_files)\n",
    "test_mel_ds = preprocess_mel_dataset(test_files)"
   ]
  },
  {
   "cell_type": "code",
   "execution_count": null,
   "id": "d65f6418",
   "metadata": {
    "execution": {
     "iopub.execute_input": "2025-05-08T15:05:50.988720Z",
     "iopub.status.busy": "2025-05-08T15:05:50.988402Z",
     "iopub.status.idle": "2025-05-08T15:05:52.267879Z",
     "shell.execute_reply": "2025-05-08T15:05:52.267177Z",
     "shell.execute_reply.started": "2025-05-08T15:05:50.988698Z"
    },
    "papermill": {
     "duration": null,
     "end_time": null,
     "exception": null,
     "start_time": null,
     "status": "pending"
    },
    "tags": []
   },
   "outputs": [],
   "source": [
    "batch_size = 64\n",
    "\n",
    "train_mel_ds = (\n",
    "    preprocess_mel_dataset(train_files)\n",
    "    .cache()\n",
    "    .shuffle(buffer_size=len(train_files), seed=42)\n",
    "    .batch(batch_size)\n",
    "    .prefetch(tf.data.AUTOTUNE)\n",
    ")\n",
    "\n",
    "val_mel_ds = (\n",
    "    preprocess_mel_dataset(val_files)\n",
    "    .batch(batch_size)\n",
    "    .cache()\n",
    "    .prefetch(tf.data.AUTOTUNE)\n",
    ")"
   ]
  },
  {
   "cell_type": "code",
   "execution_count": null,
   "id": "bcb21407",
   "metadata": {
    "execution": {
     "iopub.execute_input": "2025-05-08T15:05:52.270350Z",
     "iopub.status.busy": "2025-05-08T15:05:52.270056Z",
     "iopub.status.idle": "2025-05-08T15:05:52.452030Z",
     "shell.execute_reply": "2025-05-08T15:05:52.451335Z",
     "shell.execute_reply.started": "2025-05-08T15:05:52.270329Z"
    },
    "papermill": {
     "duration": null,
     "end_time": null,
     "exception": null,
     "start_time": null,
     "status": "pending"
    },
    "tags": []
   },
   "outputs": [],
   "source": [
    "for mel_spectrogram, _ in spectrogram_mel_ds.take(1):\n",
    "  input_shape = mel_spectrogram.shape\n",
    "print('Размер входа', input_shape)\n",
    "\n",
    "num_labels = len(commands)"
   ]
  },
  {
   "cell_type": "code",
   "execution_count": null,
   "id": "0d14ac13",
   "metadata": {
    "execution": {
     "iopub.execute_input": "2025-05-08T15:05:52.453328Z",
     "iopub.status.busy": "2025-05-08T15:05:52.452979Z",
     "iopub.status.idle": "2025-05-08T15:10:58.483624Z",
     "shell.execute_reply": "2025-05-08T15:10:58.483044Z",
     "shell.execute_reply.started": "2025-05-08T15:05:52.453298Z"
    },
    "papermill": {
     "duration": null,
     "end_time": null,
     "exception": null,
     "start_time": null,
     "status": "pending"
    },
    "tags": []
   },
   "outputs": [],
   "source": [
    "norm_layer = layers.Normalization()\n",
    "norm_layer.adapt(spectrogram_mel_ds.map(lambda x, y: x))"
   ]
  },
  {
   "cell_type": "code",
   "execution_count": null,
   "id": "aff0248a",
   "metadata": {
    "execution": {
     "iopub.execute_input": "2025-05-08T15:14:10.320336Z",
     "iopub.status.busy": "2025-05-08T15:14:10.319636Z",
     "iopub.status.idle": "2025-05-08T15:14:10.483407Z",
     "shell.execute_reply": "2025-05-08T15:14:10.482864Z",
     "shell.execute_reply.started": "2025-05-08T15:14:10.320314Z"
    },
    "papermill": {
     "duration": null,
     "end_time": null,
     "exception": null,
     "start_time": null,
     "status": "pending"
    },
    "tags": []
   },
   "outputs": [],
   "source": [
    "model_mel_crnn = models.Sequential([\n",
    "    layers.Input(shape=input_shape),\n",
    "    norm_layer,\n",
    "    \n",
    "    Conv2D(32, 3, activation='relu', padding='same'),\n",
    "    BatchNormalization(),\n",
    "    MaxPooling2D(2),\n",
    "    Dropout(0.2),\n",
    "    \n",
    "    Conv2D(64, 5, activation='relu', padding='same'),\n",
    "    BatchNormalization(),\n",
    "    MaxPooling2D(2),\n",
    "    Dropout(0.3),\n",
    "    \n",
    "    Conv2D(128, 7, activation='relu', padding='same'),\n",
    "    BatchNormalization(),\n",
    "    MaxPooling2D(2)),\n",
    "    Dropout(0.4),\n",
    "    \n",
    "    Reshape((-1, 128)),\n",
    "    \n",
    "    Bidirectional(LSTM(128, return_sequences=True)),\n",
    "    Dropout(0.5),\n",
    "    Bidirectional(LSTM(64)),\n",
    "    Dropout(0.5),\n",
    "    \n",
    "    Dense(128, activation='relu'),\n",
    "    Dropout(0.4),\n",
    "    Dense(num_labels, activation='softmax')\n",
    "])\n",
    "\n",
    "\n",
    "model_mel_crnn.summary()"
   ]
  },
  {
   "cell_type": "code",
   "execution_count": null,
   "id": "f9bf2f33",
   "metadata": {
    "execution": {
     "iopub.execute_input": "2025-05-08T15:14:13.128809Z",
     "iopub.status.busy": "2025-05-08T15:14:13.128486Z",
     "iopub.status.idle": "2025-05-08T15:14:13.138406Z",
     "shell.execute_reply": "2025-05-08T15:14:13.137549Z",
     "shell.execute_reply.started": "2025-05-08T15:14:13.128786Z"
    },
    "papermill": {
     "duration": null,
     "end_time": null,
     "exception": null,
     "start_time": null,
     "status": "pending"
    },
    "tags": []
   },
   "outputs": [],
   "source": [
    "model_mel_crnn.compile(\n",
    "    optimizer=tf.keras.optimizers.Adam(learning_rate=0.0005),\n",
    "    loss=tf.keras.losses.SparseCategoricalCrossentropy(from_logits=True),\n",
    "    metrics=['accuracy']\n",
    ")"
   ]
  },
  {
   "cell_type": "code",
   "execution_count": null,
   "id": "11ad6297",
   "metadata": {
    "execution": {
     "iopub.execute_input": "2025-05-08T15:14:13.964009Z",
     "iopub.status.busy": "2025-05-08T15:14:13.963718Z",
     "iopub.status.idle": "2025-05-08T16:23:47.911000Z",
     "shell.execute_reply": "2025-05-08T16:23:47.910418Z",
     "shell.execute_reply.started": "2025-05-08T15:14:13.963986Z"
    },
    "papermill": {
     "duration": null,
     "end_time": null,
     "exception": null,
     "start_time": null,
     "status": "pending"
    },
    "tags": []
   },
   "outputs": [],
   "source": [
    "# Обучение\n",
    "EPOCHS = 150\n",
    "history_crnn = model_mel_crnn.fit(\n",
    "    train_mel_ds,\n",
    "    validation_data=val_mel_ds,\n",
    "    epochs=EPOCHS,\n",
    "    callbacks=tf.keras.callbacks.EarlyStopping(patience=5, restore_best_weights=True)\n",
    ")"
   ]
  },
  {
   "cell_type": "code",
   "execution_count": null,
   "id": "bbc599c5",
   "metadata": {
    "execution": {
     "iopub.execute_input": "2025-05-08T16:23:47.912647Z",
     "iopub.status.busy": "2025-05-08T16:23:47.912313Z",
     "iopub.status.idle": "2025-05-08T16:23:48.006640Z",
     "shell.execute_reply": "2025-05-08T16:23:48.006144Z",
     "shell.execute_reply.started": "2025-05-08T16:23:47.912628Z"
    },
    "papermill": {
     "duration": null,
     "end_time": null,
     "exception": null,
     "start_time": null,
     "status": "pending"
    },
    "tags": []
   },
   "outputs": [],
   "source": [
    "model_mel_crnn.save(\"mel_crnn.keras\")"
   ]
  },
  {
   "cell_type": "code",
   "execution_count": null,
   "id": "171d2b03",
   "metadata": {
    "execution": {
     "iopub.execute_input": "2025-05-08T16:23:48.007523Z",
     "iopub.status.busy": "2025-05-08T16:23:48.007281Z",
     "iopub.status.idle": "2025-05-08T16:23:48.903928Z",
     "shell.execute_reply": "2025-05-08T16:23:48.903202Z",
     "shell.execute_reply.started": "2025-05-08T16:23:48.007505Z"
    },
    "papermill": {
     "duration": null,
     "end_time": null,
     "exception": null,
     "start_time": null,
     "status": "pending"
    },
    "tags": []
   },
   "outputs": [],
   "source": [
    "metrics = history_crnn.history\n",
    "\n",
    "plt.figure(figsize=(12, 5))\n",
    "plt.subplot(1, 2, 1)\n",
    "plt.plot(history_crnn.epoch, metrics['accuracy'], label='Train Accuracy')\n",
    "plt.plot(history_crnn.epoch, metrics['val_accuracy'], label='Val Accuracy')\n",
    "plt.title('Точность по эпохам')\n",
    "plt.xlabel('Эпоха')\n",
    "plt.ylabel('Точность')\n",
    "plt.legend()\n",
    "plt.grid(True)\n",
    "\n",
    "plt.subplot(1, 2, 2)\n",
    "plt.plot(history_crnn.epoch, metrics['loss'], label='Train Loss')\n",
    "plt.plot(history_crnn.epoch, metrics['val_loss'], label='Val Loss')\n",
    "plt.title('Потеря по эпохам')\n",
    "plt.xlabel('Эпоха')\n",
    "plt.ylabel('Потеря')\n",
    "plt.legend()\n",
    "plt.grid(True)\n",
    "\n",
    "plt.tight_layout()\n",
    "plt.savefig(\"training_metrics_mel_crnn.png\", dpi=300)\n",
    "plt.show()"
   ]
  },
  {
   "cell_type": "code",
   "execution_count": null,
   "id": "e9e2389e",
   "metadata": {
    "execution": {
     "iopub.execute_input": "2025-05-08T16:23:48.906027Z",
     "iopub.status.busy": "2025-05-08T16:23:48.905814Z",
     "iopub.status.idle": "2025-05-08T16:23:53.060701Z",
     "shell.execute_reply": "2025-05-08T16:23:53.060153Z",
     "shell.execute_reply.started": "2025-05-08T16:23:48.906010Z"
    },
    "papermill": {
     "duration": null,
     "end_time": null,
     "exception": null,
     "start_time": null,
     "status": "pending"
    },
    "tags": []
   },
   "outputs": [],
   "source": [
    "test_audio = []\n",
    "test_labels = []\n",
    "\n",
    "for audio, label in test_mel_ds:\n",
    "  test_audio.append(audio.numpy())\n",
    "  test_labels.append(label.numpy())\n",
    "\n",
    "test_audio = np.array(test_audio)\n",
    "test_labels = np.array(test_labels)"
   ]
  },
  {
   "cell_type": "code",
   "execution_count": null,
   "id": "4618f105",
   "metadata": {
    "execution": {
     "iopub.execute_input": "2025-05-08T16:23:53.061568Z",
     "iopub.status.busy": "2025-05-08T16:23:53.061372Z",
     "iopub.status.idle": "2025-05-08T16:23:57.139708Z",
     "shell.execute_reply": "2025-05-08T16:23:57.138966Z",
     "shell.execute_reply.started": "2025-05-08T16:23:53.061553Z"
    },
    "papermill": {
     "duration": null,
     "end_time": null,
     "exception": null,
     "start_time": null,
     "status": "pending"
    },
    "tags": []
   },
   "outputs": [],
   "source": [
    "y_pred = np.argmax(model_mel_crnn.predict(test_audio), axis=1)\n",
    "y_true = test_labels\n",
    "\n",
    "test_acc = sum(y_pred == y_true) / len(y_true)\n",
    "print(f'Точность на тестовом наборе: {test_acc:.0%}')"
   ]
  },
  {
   "cell_type": "code",
   "execution_count": null,
   "id": "2c63fc05",
   "metadata": {
    "execution": {
     "iopub.execute_input": "2025-05-08T16:23:57.140805Z",
     "iopub.status.busy": "2025-05-08T16:23:57.140538Z",
     "iopub.status.idle": "2025-05-08T16:23:57.157306Z",
     "shell.execute_reply": "2025-05-08T16:23:57.156624Z",
     "shell.execute_reply.started": "2025-05-08T16:23:57.140779Z"
    },
    "papermill": {
     "duration": null,
     "end_time": null,
     "exception": null,
     "start_time": null,
     "status": "pending"
    },
    "tags": []
   },
   "outputs": [],
   "source": [
    "report = classification_report(y_true, y_pred, target_names=commands, digits=4)\n",
    "print(report)"
   ]
  },
  {
   "cell_type": "code",
   "execution_count": null,
   "id": "cf842467",
   "metadata": {
    "execution": {
     "iopub.execute_input": "2025-05-08T16:23:57.158392Z",
     "iopub.status.busy": "2025-05-08T16:23:57.158132Z",
     "iopub.status.idle": "2025-05-08T16:23:59.853853Z",
     "shell.execute_reply": "2025-05-08T16:23:59.853180Z",
     "shell.execute_reply.started": "2025-05-08T16:23:57.158372Z"
    },
    "papermill": {
     "duration": null,
     "end_time": null,
     "exception": null,
     "start_time": null,
     "status": "pending"
    },
    "tags": []
   },
   "outputs": [],
   "source": [
    "confusion_mtx = tf.math.confusion_matrix(y_true, y_pred)\n",
    "plt.figure(figsize=(10, 7))\n",
    "\n",
    "sns.heatmap(confusion_mtx,\n",
    "            xticklabels=commands,\n",
    "            yticklabels=commands,\n",
    "            annot=True, fmt='g',\n",
    "            cmap='Blues')\n",
    "plt.xlabel('Предсказание')\n",
    "plt.ylabel('Метка')\n",
    "plt.savefig(\"conf_matrix_mel_crnn.png\", dpi=300)\n",
    "plt.show()"
   ]
  },
  {
   "cell_type": "code",
   "execution_count": null,
   "id": "95b8114b",
   "metadata": {
    "papermill": {
     "duration": null,
     "end_time": null,
     "exception": null,
     "start_time": null,
     "status": "pending"
    },
    "tags": []
   },
   "outputs": [],
   "source": []
  }
 ],
 "metadata": {
  "kaggle": {
   "accelerator": "nvidiaTeslaT4",
   "dataSources": [
    {
     "databundleVersionId": 46676,
     "sourceId": 7634,
     "sourceType": "competition"
    }
   ],
   "dockerImageVersionId": 31011,
   "isGpuEnabled": true,
   "isInternetEnabled": true,
   "language": "python",
   "sourceType": "notebook"
  },
  "kernelspec": {
   "display_name": "Python 3 (ipykernel)",
   "language": "python",
   "name": "python3"
  },
  "language_info": {
   "codemirror_mode": {
    "name": "ipython",
    "version": 3
   },
   "file_extension": ".py",
   "mimetype": "text/x-python",
   "name": "python",
   "nbconvert_exporter": "python",
   "pygments_lexer": "ipython3",
   "version": "3.12.2"
  },
  "papermill": {
   "default_parameters": {},
   "duration": 987.765128,
   "end_time": "2025-05-15T06:13:42.165898",
   "environment_variables": {},
   "exception": true,
   "input_path": "__notebook__.ipynb",
   "output_path": "__notebook__.ipynb",
   "parameters": {},
   "start_time": "2025-05-15T05:57:14.400770",
   "version": "2.6.0"
  }
 },
 "nbformat": 4,
 "nbformat_minor": 5
}
