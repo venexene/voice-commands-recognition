{
 "cells": [
  {
   "cell_type": "code",
   "execution_count": 2,
   "id": "a0baff14-e29e-4156-a8ff-ab5b44b4a5b7",
   "metadata": {
    "execution": {
     "iopub.execute_input": "2025-03-04T06:47:38.756824Z",
     "iopub.status.busy": "2025-03-04T06:47:38.756498Z",
     "iopub.status.idle": "2025-03-04T06:47:42.670992Z",
     "shell.execute_reply": "2025-03-04T06:47:42.670702Z",
     "shell.execute_reply.started": "2025-03-04T06:47:38.756812Z"
    }
   },
   "outputs": [
    {
     "name": "stderr",
     "output_type": "stream",
     "text": [
      "2025-03-04 09:47:39.435842: E external/local_xla/xla/stream_executor/cuda/cuda_fft.cc:477] Unable to register cuFFT factory: Attempting to register factory for plugin cuFFT when one has already been registered\n",
      "WARNING: All log messages before absl::InitializeLog() is called are written to STDERR\n",
      "E0000 00:00:1741070859.523419    4493 cuda_dnn.cc:8310] Unable to register cuDNN factory: Attempting to register factory for plugin cuDNN when one has already been registered\n",
      "E0000 00:00:1741070859.548615    4493 cuda_blas.cc:1418] Unable to register cuBLAS factory: Attempting to register factory for plugin cuBLAS when one has already been registered\n",
      "2025-03-04 09:47:39.764091: I tensorflow/core/platform/cpu_feature_guard.cc:210] This TensorFlow binary is optimized to use available CPU instructions in performance-critical operations.\n",
      "To enable the following instructions: AVX2 FMA, in other operations, rebuild TensorFlow with the appropriate compiler flags.\n"
     ]
    }
   ],
   "source": [
    "import tensorflow as tf\n",
    "from tensorflow.keras import layers\n",
    "from tensorflow.keras import models\n",
    "import pathlib\n",
    "import numpy as np\n",
    "import os\n",
    "import matplotlib.pyplot as plt\n",
    "import seaborn as sns\n",
    "\n",
    "os.environ['CUDA_VISIBLE_DEVICES'] = '-1'"
   ]
  },
  {
   "cell_type": "code",
   "execution_count": 3,
   "id": "4f0a1aa1-2c79-40ac-b836-b5618567cf67",
   "metadata": {
    "execution": {
     "iopub.execute_input": "2025-03-04T06:47:42.671598Z",
     "iopub.status.busy": "2025-03-04T06:47:42.671442Z",
     "iopub.status.idle": "2025-03-04T06:47:42.673555Z",
     "shell.execute_reply": "2025-03-04T06:47:42.673252Z",
     "shell.execute_reply.started": "2025-03-04T06:47:42.671587Z"
    }
   },
   "outputs": [
    {
     "name": "stdout",
     "output_type": "stream",
     "text": [
      "2.18.0\n"
     ]
    }
   ],
   "source": [
    "print(tf.__version__)"
   ]
  },
  {
   "cell_type": "markdown",
   "id": "606c394d-536f-463a-9f42-b1196e334164",
   "metadata": {
    "execution": {
     "iopub.execute_input": "2025-03-03T17:56:13.510415Z",
     "iopub.status.busy": "2025-03-03T17:56:13.509944Z",
     "iopub.status.idle": "2025-03-03T17:56:13.511990Z",
     "shell.execute_reply": "2025-03-03T17:56:13.511736Z",
     "shell.execute_reply.started": "2025-03-03T17:56:13.510404Z"
    },
    "jp-MarkdownHeadingCollapsed": true
   },
   "source": [
    "# Создание датасета"
   ]
  },
  {
   "cell_type": "code",
   "execution_count": 4,
   "id": "8e51aee5-17a3-4751-9309-69b286c4b16c",
   "metadata": {
    "execution": {
     "iopub.execute_input": "2025-03-04T06:47:42.673930Z",
     "iopub.status.busy": "2025-03-04T06:47:42.673832Z",
     "iopub.status.idle": "2025-03-04T06:47:42.680203Z",
     "shell.execute_reply": "2025-03-04T06:47:42.679910Z",
     "shell.execute_reply.started": "2025-03-04T06:47:42.673921Z"
    }
   },
   "outputs": [
    {
     "name": "stdout",
     "output_type": "stream",
     "text": [
      "Команды: ['zero' 'up' 'right' 'three' 'on' 'two' 'four' 'yes' 'five' 'one' 'left'\n",
      " 'down' 'no' 'off']\n"
     ]
    }
   ],
   "source": [
    "dataset_path = '../DataSet/base_train'\n",
    "\n",
    "# Преобразуем путь в объект pathlib.Path для удобной работы с файловой системой\n",
    "data_dir = pathlib.Path(dataset_path)\n",
    "\n",
    "# Получаем список файлов и директорий в указанной директории и преобразуем его в массив NumPy\n",
    "commands = np.array(tf.io.gfile.listdir(str(data_dir)))\n",
    "\n",
    "print('Команды:', commands)"
   ]
  },
  {
   "cell_type": "code",
   "execution_count": 5,
   "id": "56d38722-7050-417f-92a3-b0c68c017f89",
   "metadata": {
    "execution": {
     "iopub.execute_input": "2025-03-04T06:47:42.680937Z",
     "iopub.status.busy": "2025-03-04T06:47:42.680821Z",
     "iopub.status.idle": "2025-03-04T06:47:42.786643Z",
     "shell.execute_reply": "2025-03-04T06:47:42.786329Z",
     "shell.execute_reply.started": "2025-03-04T06:47:42.680927Z"
    }
   },
   "outputs": [
    {
     "name": "stdout",
     "output_type": "stream",
     "text": [
      "Количество записей: 33134\n"
     ]
    },
    {
     "name": "stderr",
     "output_type": "stream",
     "text": [
      "2025-03-04 09:47:42.769708: E external/local_xla/xla/stream_executor/cuda/cuda_driver.cc:152] failed call to cuInit: INTERNAL: CUDA error: Failed call to cuInit: CUDA_ERROR_NO_DEVICE: no CUDA-capable device is detected\n",
      "2025-03-04 09:47:42.769732: I external/local_xla/xla/stream_executor/cuda/cuda_diagnostics.cc:137] retrieving CUDA diagnostic information for host: flayven-MS-7C91\n",
      "2025-03-04 09:47:42.769737: I external/local_xla/xla/stream_executor/cuda/cuda_diagnostics.cc:144] hostname: flayven-MS-7C91\n",
      "2025-03-04 09:47:42.769814: I external/local_xla/xla/stream_executor/cuda/cuda_diagnostics.cc:168] libcuda reported version is: 550.120.0\n",
      "2025-03-04 09:47:42.769830: I external/local_xla/xla/stream_executor/cuda/cuda_diagnostics.cc:172] kernel reported version is: 550.120.0\n",
      "2025-03-04 09:47:42.769834: I external/local_xla/xla/stream_executor/cuda/cuda_diagnostics.cc:259] kernel version seems to match DSO: 550.120.0\n"
     ]
    }
   ],
   "source": [
    "file_names = tf.io.gfile.glob(str(data_dir) + '/*/*') # Получаем список всех файлов в подкаталогах указанной директории\n",
    "file_names = tf.random.shuffle(file_names) # Перемешиваем\n",
    "print('Количество записей:', len(file_names))"
   ]
  },
  {
   "cell_type": "code",
   "execution_count": 6,
   "id": "9c732c22-d2a5-4793-8da6-be526ff1b83a",
   "metadata": {
    "execution": {
     "iopub.execute_input": "2025-03-04T06:47:42.787056Z",
     "iopub.status.busy": "2025-03-04T06:47:42.786943Z",
     "iopub.status.idle": "2025-03-04T06:47:42.795176Z",
     "shell.execute_reply": "2025-03-04T06:47:42.794865Z",
     "shell.execute_reply.started": "2025-03-04T06:47:42.787046Z"
    }
   },
   "outputs": [
    {
     "name": "stdout",
     "output_type": "stream",
     "text": [
      "Размер обучающего набора: 6400\n",
      "Размер набора валидации: 800\n",
      "Размер тестового набора: 800\n"
     ]
    }
   ],
   "source": [
    "train_files = file_names[:6400]\n",
    "val_files = file_names[6400: 6400 + 800]\n",
    "test_files = file_names[-800:]\n",
    "\n",
    "print('Размер обучающего набора:', len(train_files))\n",
    "print('Размер набора валидации:', len(val_files))\n",
    "print('Размер тестового набора:', len(test_files))"
   ]
  },
  {
   "cell_type": "code",
   "execution_count": 7,
   "id": "81931993-9381-430c-9807-be085c4dba01",
   "metadata": {
    "execution": {
     "iopub.execute_input": "2025-03-04T06:47:42.795582Z",
     "iopub.status.busy": "2025-03-04T06:47:42.795476Z",
     "iopub.status.idle": "2025-03-04T06:47:42.797551Z",
     "shell.execute_reply": "2025-03-04T06:47:42.797261Z",
     "shell.execute_reply.started": "2025-03-04T06:47:42.795572Z"
    }
   },
   "outputs": [],
   "source": [
    "def decode_audio(audio_binary):\n",
    "  audio, _ = tf.audio.decode_wav(contents=audio_binary)  # Декодируем бинарные данные в аудиофайл формата WAV\n",
    "  return tf.squeeze(audio, axis=-1) # Убираем лишнее измерение"
   ]
  },
  {
   "cell_type": "code",
   "execution_count": 8,
   "id": "8167af92-51e5-4be7-bb30-62090a599884",
   "metadata": {
    "execution": {
     "iopub.execute_input": "2025-03-04T06:47:42.797988Z",
     "iopub.status.busy": "2025-03-04T06:47:42.797874Z",
     "iopub.status.idle": "2025-03-04T06:47:42.802431Z",
     "shell.execute_reply": "2025-03-04T06:47:42.802114Z",
     "shell.execute_reply.started": "2025-03-04T06:47:42.797975Z"
    }
   },
   "outputs": [],
   "source": [
    "def get_label(file_path):\n",
    "  parts = tf.strings.split(input=file_path,sep=os.path.sep) # Разбиваем строку пути к файлу на части, используя разделитель\n",
    "  return parts[-2] # Возвращаем название папки-класса"
   ]
  },
  {
   "cell_type": "code",
   "execution_count": 9,
   "id": "433b6503-57cd-4606-b5cb-b1604d099607",
   "metadata": {
    "execution": {
     "iopub.execute_input": "2025-03-04T06:47:42.802876Z",
     "iopub.status.busy": "2025-03-04T06:47:42.802734Z",
     "iopub.status.idle": "2025-03-04T06:47:42.806010Z",
     "shell.execute_reply": "2025-03-04T06:47:42.805783Z",
     "shell.execute_reply.started": "2025-03-04T06:47:42.802862Z"
    }
   },
   "outputs": [],
   "source": [
    "def get_waveform_and_label(file_path):\n",
    "  label = get_label(file_path) \n",
    "  audio_binary = tf.io.read_file(file_path) # Читаем аудиофайл в бинарном формате\n",
    "  waveform = decode_audio(audio_binary)\n",
    "  return waveform, label"
   ]
  },
  {
   "cell_type": "code",
   "execution_count": 10,
   "id": "2490505a-c66e-42c0-bda6-dafac5d8e415",
   "metadata": {
    "execution": {
     "iopub.execute_input": "2025-03-04T06:47:42.806439Z",
     "iopub.status.busy": "2025-03-04T06:47:42.806293Z",
     "iopub.status.idle": "2025-03-04T06:47:42.813949Z",
     "shell.execute_reply": "2025-03-04T06:47:42.813630Z",
     "shell.execute_reply.started": "2025-03-04T06:47:42.806425Z"
    }
   },
   "outputs": [],
   "source": [
    "def get_spectrogram(waveform):\n",
    "    input_len = 16000\n",
    "    waveform = waveform[:input_len] # Обрезаем аудиосигнал до заданной длины\n",
    "    \n",
    "    # Создаём нулевой тензор для дополнения коротких сигналов до нужной длины\n",
    "    zero_padding = tf.zeros([16000] - tf.shape(waveform), dtype=tf.float32)\n",
    "\n",
    "    # Преобразуем тип данных аудиосигнала в float32\n",
    "    waveform = tf.cast(waveform, dtype=tf.float32)\n",
    "    \n",
    "    # Объединяем оригинальный сигнал с нулевым дополнением, чтобы все сигналы имели одинаковую длину\n",
    "    equal_length = tf.concat([waveform, zero_padding], 0)\n",
    "\n",
    "    # Применяем краткосрочное преобразование Фурье (STFT) для получения спектрограммы\n",
    "    spectrogram = tf.signal.stft(equal_length, frame_length=255, frame_step=128)\n",
    "    spectrogram = tf.abs(spectrogram) # Получаем амплитудный спектр\n",
    "    spectrogram = spectrogram[..., tf.newaxis]  # Добавляем новое измерение\n",
    "    return spectrogram"
   ]
  },
  {
   "cell_type": "code",
   "execution_count": 11,
   "id": "37e07917-2c62-4a50-8b2a-e5a104c40e17",
   "metadata": {
    "execution": {
     "iopub.execute_input": "2025-03-04T06:47:42.814823Z",
     "iopub.status.busy": "2025-03-04T06:47:42.814716Z",
     "iopub.status.idle": "2025-03-04T06:47:42.818671Z",
     "shell.execute_reply": "2025-03-04T06:47:42.818390Z",
     "shell.execute_reply.started": "2025-03-04T06:47:42.814813Z"
    }
   },
   "outputs": [],
   "source": [
    "def get_spectrogram_and_label_id(audio, label):\n",
    "  spectrogram = get_spectrogram(audio)\n",
    "  label_id = tf.argmax(label == commands) # Определяем индекс метки в массиве команд\n",
    "  return spectrogram, label_id"
   ]
  },
  {
   "cell_type": "code",
   "execution_count": 12,
   "id": "adb1c246-7f50-46b0-99ef-306f42ee108e",
   "metadata": {
    "execution": {
     "iopub.execute_input": "2025-03-04T06:47:42.819246Z",
     "iopub.status.busy": "2025-03-04T06:47:42.819074Z",
     "iopub.status.idle": "2025-03-04T06:47:42.822665Z",
     "shell.execute_reply": "2025-03-04T06:47:42.822377Z",
     "shell.execute_reply.started": "2025-03-04T06:47:42.819230Z"
    }
   },
   "outputs": [],
   "source": [
    "def preprocess_dataset(files):\n",
    "    files_ds = tf.data.Dataset.from_tensor_slices(files) # Создаём TensorFlow Dataset из списка файлов\n",
    "    \n",
    "    # Применяем две функции обработки:\n",
    "    # 1. get_waveform_and_label — загружает аудиофайл, декодирует его в форму волны и извлекает метку\n",
    "    # 2. get_spectrogram_and_label_id — преобразует форму волны в спектрограмму и присваивает числовой идентификатор метке\n",
    "    output_ds = files_ds.map(map_func=get_waveform_and_label).map(map_func=get_spectrogram_and_label_id)\n",
    "    \n",
    "    return output_ds"
   ]
  },
  {
   "cell_type": "code",
   "execution_count": 13,
   "id": "63f6c023-fd44-492a-adc1-f1330967acdd",
   "metadata": {
    "execution": {
     "iopub.execute_input": "2025-03-04T06:47:42.823066Z",
     "iopub.status.busy": "2025-03-04T06:47:42.822965Z",
     "iopub.status.idle": "2025-03-04T06:47:43.072888Z",
     "shell.execute_reply": "2025-03-04T06:47:43.072606Z",
     "shell.execute_reply.started": "2025-03-04T06:47:42.823057Z"
    }
   },
   "outputs": [],
   "source": [
    "spectrogram_ds = preprocess_dataset(train_files)\n",
    "train_ds = spectrogram_ds\n",
    "val_ds = preprocess_dataset(val_files)\n",
    "test_ds = preprocess_dataset(test_files)"
   ]
  },
  {
   "cell_type": "code",
   "execution_count": 14,
   "id": "2f731aa2-fee4-4099-8c39-7602b1c1788a",
   "metadata": {
    "execution": {
     "iopub.execute_input": "2025-03-04T06:47:43.073329Z",
     "iopub.status.busy": "2025-03-04T06:47:43.073222Z",
     "iopub.status.idle": "2025-03-04T06:47:43.081255Z",
     "shell.execute_reply": "2025-03-04T06:47:43.080965Z",
     "shell.execute_reply.started": "2025-03-04T06:47:43.073320Z"
    }
   },
   "outputs": [],
   "source": [
    "batch_size = 128\n",
    "\n",
    "train_ds = (train_ds\n",
    "            .batch(batch_size) # Группируем данные в батчи размером 64\n",
    "            .cache() # Кешируем данные в памяти для ускорения обучения\n",
    "            .prefetch(1) # Загружаем следующий батч данных заранее для увеличения скорости обучения\n",
    "           )\n",
    "\n",
    "val_ds = (val_ds\n",
    "          .batch(batch_size)\n",
    "          .cache()\n",
    "          .prefetch(1)\n",
    "         )"
   ]
  },
  {
   "cell_type": "markdown",
   "id": "bd4e5cfe-a8cb-4ea1-a86d-ef501bd26ab8",
   "metadata": {
    "execution": {
     "iopub.execute_input": "2025-03-03T17:57:14.605920Z",
     "iopub.status.busy": "2025-03-03T17:57:14.605270Z",
     "iopub.status.idle": "2025-03-03T17:57:14.608454Z",
     "shell.execute_reply": "2025-03-03T17:57:14.608044Z",
     "shell.execute_reply.started": "2025-03-03T17:57:14.605897Z"
    },
    "jp-MarkdownHeadingCollapsed": true
   },
   "source": [
    "# Полносвязная нейронная сеть"
   ]
  },
  {
   "cell_type": "code",
   "execution_count": 15,
   "id": "0fd504bf-77ce-447e-8fd4-b8998dadcf43",
   "metadata": {
    "execution": {
     "iopub.execute_input": "2025-03-03T18:16:39.078326Z",
     "iopub.status.busy": "2025-03-03T18:16:39.078218Z",
     "iopub.status.idle": "2025-03-03T18:16:39.124519Z",
     "shell.execute_reply": "2025-03-03T18:16:39.124168Z",
     "shell.execute_reply.started": "2025-03-03T18:16:39.078315Z"
    }
   },
   "outputs": [
    {
     "data": {
      "text/html": [
       "<pre style=\"white-space:pre;overflow-x:auto;line-height:normal;font-family:Menlo,'DejaVu Sans Mono',consolas,'Courier New',monospace\"><span style=\"font-weight: bold\">Model: \"sequential\"</span>\n",
       "</pre>\n"
      ],
      "text/plain": [
       "\u001b[1mModel: \"sequential\"\u001b[0m\n"
      ]
     },
     "metadata": {},
     "output_type": "display_data"
    },
    {
     "data": {
      "text/html": [
       "<pre style=\"white-space:pre;overflow-x:auto;line-height:normal;font-family:Menlo,'DejaVu Sans Mono',consolas,'Courier New',monospace\">┏━━━━━━━━━━━━━━━━━━━━━━━━━━━━━━━━━┳━━━━━━━━━━━━━━━━━━━━━━━━┳━━━━━━━━━━━━━━━┓\n",
       "┃<span style=\"font-weight: bold\"> Layer (type)                    </span>┃<span style=\"font-weight: bold\"> Output Shape           </span>┃<span style=\"font-weight: bold\">       Param # </span>┃\n",
       "┡━━━━━━━━━━━━━━━━━━━━━━━━━━━━━━━━━╇━━━━━━━━━━━━━━━━━━━━━━━━╇━━━━━━━━━━━━━━━┩\n",
       "│ dense (<span style=\"color: #0087ff; text-decoration-color: #0087ff\">Dense</span>)                   │ (<span style=\"color: #00d7ff; text-decoration-color: #00d7ff\">None</span>, <span style=\"color: #00af00; text-decoration-color: #00af00\">512</span>)            │     <span style=\"color: #00af00; text-decoration-color: #00af00\">8,190,464</span> │\n",
       "├─────────────────────────────────┼────────────────────────┼───────────────┤\n",
       "│ dropout (<span style=\"color: #0087ff; text-decoration-color: #0087ff\">Dropout</span>)               │ (<span style=\"color: #00d7ff; text-decoration-color: #00d7ff\">None</span>, <span style=\"color: #00af00; text-decoration-color: #00af00\">512</span>)            │             <span style=\"color: #00af00; text-decoration-color: #00af00\">0</span> │\n",
       "├─────────────────────────────────┼────────────────────────┼───────────────┤\n",
       "│ dense_1 (<span style=\"color: #0087ff; text-decoration-color: #0087ff\">Dense</span>)                 │ (<span style=\"color: #00d7ff; text-decoration-color: #00d7ff\">None</span>, <span style=\"color: #00af00; text-decoration-color: #00af00\">256</span>)            │       <span style=\"color: #00af00; text-decoration-color: #00af00\">131,328</span> │\n",
       "├─────────────────────────────────┼────────────────────────┼───────────────┤\n",
       "│ dropout_1 (<span style=\"color: #0087ff; text-decoration-color: #0087ff\">Dropout</span>)             │ (<span style=\"color: #00d7ff; text-decoration-color: #00d7ff\">None</span>, <span style=\"color: #00af00; text-decoration-color: #00af00\">256</span>)            │             <span style=\"color: #00af00; text-decoration-color: #00af00\">0</span> │\n",
       "├─────────────────────────────────┼────────────────────────┼───────────────┤\n",
       "│ dense_2 (<span style=\"color: #0087ff; text-decoration-color: #0087ff\">Dense</span>)                 │ (<span style=\"color: #00d7ff; text-decoration-color: #00d7ff\">None</span>, <span style=\"color: #00af00; text-decoration-color: #00af00\">128</span>)            │        <span style=\"color: #00af00; text-decoration-color: #00af00\">32,896</span> │\n",
       "├─────────────────────────────────┼────────────────────────┼───────────────┤\n",
       "│ dense_3 (<span style=\"color: #0087ff; text-decoration-color: #0087ff\">Dense</span>)                 │ (<span style=\"color: #00d7ff; text-decoration-color: #00d7ff\">None</span>, <span style=\"color: #00af00; text-decoration-color: #00af00\">14</span>)             │         <span style=\"color: #00af00; text-decoration-color: #00af00\">1,806</span> │\n",
       "└─────────────────────────────────┴────────────────────────┴───────────────┘\n",
       "</pre>\n"
      ],
      "text/plain": [
       "┏━━━━━━━━━━━━━━━━━━━━━━━━━━━━━━━━━┳━━━━━━━━━━━━━━━━━━━━━━━━┳━━━━━━━━━━━━━━━┓\n",
       "┃\u001b[1m \u001b[0m\u001b[1mLayer (type)                   \u001b[0m\u001b[1m \u001b[0m┃\u001b[1m \u001b[0m\u001b[1mOutput Shape          \u001b[0m\u001b[1m \u001b[0m┃\u001b[1m \u001b[0m\u001b[1m      Param #\u001b[0m\u001b[1m \u001b[0m┃\n",
       "┡━━━━━━━━━━━━━━━━━━━━━━━━━━━━━━━━━╇━━━━━━━━━━━━━━━━━━━━━━━━╇━━━━━━━━━━━━━━━┩\n",
       "│ dense (\u001b[38;5;33mDense\u001b[0m)                   │ (\u001b[38;5;45mNone\u001b[0m, \u001b[38;5;34m512\u001b[0m)            │     \u001b[38;5;34m8,190,464\u001b[0m │\n",
       "├─────────────────────────────────┼────────────────────────┼───────────────┤\n",
       "│ dropout (\u001b[38;5;33mDropout\u001b[0m)               │ (\u001b[38;5;45mNone\u001b[0m, \u001b[38;5;34m512\u001b[0m)            │             \u001b[38;5;34m0\u001b[0m │\n",
       "├─────────────────────────────────┼────────────────────────┼───────────────┤\n",
       "│ dense_1 (\u001b[38;5;33mDense\u001b[0m)                 │ (\u001b[38;5;45mNone\u001b[0m, \u001b[38;5;34m256\u001b[0m)            │       \u001b[38;5;34m131,328\u001b[0m │\n",
       "├─────────────────────────────────┼────────────────────────┼───────────────┤\n",
       "│ dropout_1 (\u001b[38;5;33mDropout\u001b[0m)             │ (\u001b[38;5;45mNone\u001b[0m, \u001b[38;5;34m256\u001b[0m)            │             \u001b[38;5;34m0\u001b[0m │\n",
       "├─────────────────────────────────┼────────────────────────┼───────────────┤\n",
       "│ dense_2 (\u001b[38;5;33mDense\u001b[0m)                 │ (\u001b[38;5;45mNone\u001b[0m, \u001b[38;5;34m128\u001b[0m)            │        \u001b[38;5;34m32,896\u001b[0m │\n",
       "├─────────────────────────────────┼────────────────────────┼───────────────┤\n",
       "│ dense_3 (\u001b[38;5;33mDense\u001b[0m)                 │ (\u001b[38;5;45mNone\u001b[0m, \u001b[38;5;34m14\u001b[0m)             │         \u001b[38;5;34m1,806\u001b[0m │\n",
       "└─────────────────────────────────┴────────────────────────┴───────────────┘\n"
      ]
     },
     "metadata": {},
     "output_type": "display_data"
    },
    {
     "data": {
      "text/html": [
       "<pre style=\"white-space:pre;overflow-x:auto;line-height:normal;font-family:Menlo,'DejaVu Sans Mono',consolas,'Courier New',monospace\"><span style=\"font-weight: bold\"> Total params: </span><span style=\"color: #00af00; text-decoration-color: #00af00\">8,356,494</span> (31.88 MB)\n",
       "</pre>\n"
      ],
      "text/plain": [
       "\u001b[1m Total params: \u001b[0m\u001b[38;5;34m8,356,494\u001b[0m (31.88 MB)\n"
      ]
     },
     "metadata": {},
     "output_type": "display_data"
    },
    {
     "data": {
      "text/html": [
       "<pre style=\"white-space:pre;overflow-x:auto;line-height:normal;font-family:Menlo,'DejaVu Sans Mono',consolas,'Courier New',monospace\"><span style=\"font-weight: bold\"> Trainable params: </span><span style=\"color: #00af00; text-decoration-color: #00af00\">8,356,494</span> (31.88 MB)\n",
       "</pre>\n"
      ],
      "text/plain": [
       "\u001b[1m Trainable params: \u001b[0m\u001b[38;5;34m8,356,494\u001b[0m (31.88 MB)\n"
      ]
     },
     "metadata": {},
     "output_type": "display_data"
    },
    {
     "data": {
      "text/html": [
       "<pre style=\"white-space:pre;overflow-x:auto;line-height:normal;font-family:Menlo,'DejaVu Sans Mono',consolas,'Courier New',monospace\"><span style=\"font-weight: bold\"> Non-trainable params: </span><span style=\"color: #00af00; text-decoration-color: #00af00\">0</span> (0.00 B)\n",
       "</pre>\n"
      ],
      "text/plain": [
       "\u001b[1m Non-trainable params: \u001b[0m\u001b[38;5;34m0\u001b[0m (0.00 B)\n"
      ]
     },
     "metadata": {},
     "output_type": "display_data"
    }
   ],
   "source": [
    "model_mlp = models.Sequential([\n",
    "    layers.Input(shape=(input_shape[0] * input_shape[1],)),  # Разворачиваем спектрограмму в вектор\n",
    "    layers.Dense(512, activation='relu'),\n",
    "    layers.Dropout(0.3),  # Регуляризация для предотвращения переобучения\n",
    "    layers.Dense(256, activation='relu'),\n",
    "    layers.Dropout(0.3),\n",
    "    layers.Dense(128, activation='relu'),\n",
    "    layers.Dense(num_labels)  # Выходной слой, количество нейронов равно числу классов\n",
    "])\n",
    "\n",
    "model_mlp.summary()"
   ]
  },
  {
   "cell_type": "code",
   "execution_count": 16,
   "id": "8cf74afc-d068-4cf5-9dba-2f6c229162dd",
   "metadata": {
    "execution": {
     "iopub.execute_input": "2025-03-03T18:16:39.124867Z",
     "iopub.status.busy": "2025-03-03T18:16:39.124759Z",
     "iopub.status.idle": "2025-03-03T18:16:39.129908Z",
     "shell.execute_reply": "2025-03-03T18:16:39.129645Z",
     "shell.execute_reply.started": "2025-03-03T18:16:39.124856Z"
    }
   },
   "outputs": [],
   "source": [
    "model_mlp.compile(\n",
    "    optimizer=tf.keras.optimizers.Adam(),\n",
    "    loss=tf.keras.losses.SparseCategoricalCrossentropy(from_logits=True),\n",
    "    metrics=['accuracy']\n",
    ")"
   ]
  },
  {
   "cell_type": "code",
   "execution_count": 17,
   "id": "c8b2c096-60e6-40d4-99c7-e6acb2727547",
   "metadata": {
    "execution": {
     "iopub.execute_input": "2025-03-03T18:16:39.130324Z",
     "iopub.status.busy": "2025-03-03T18:16:39.130224Z",
     "iopub.status.idle": "2025-03-03T18:16:39.161961Z",
     "shell.execute_reply": "2025-03-03T18:16:39.161641Z",
     "shell.execute_reply.started": "2025-03-03T18:16:39.130315Z"
    }
   },
   "outputs": [],
   "source": [
    "train_ds_mlp = train_ds.map(lambda x, y: (tf.reshape(x, [-1, input_shape[0] * input_shape[1]]), y))\n",
    "val_ds_mlp = val_ds.map(lambda x, y: (tf.reshape(x, [-1, input_shape[0] * input_shape[1]]), y))\n",
    "test_ds_mlp = test_ds.map(lambda x, y: (tf.reshape(x, [-1, input_shape[0] * input_shape[1]]), y))"
   ]
  },
  {
   "cell_type": "code",
   "execution_count": 18,
   "id": "0dc3d0c9-30bd-482d-ba80-185d1bd377ad",
   "metadata": {
    "execution": {
     "iopub.execute_input": "2025-03-03T18:16:39.162422Z",
     "iopub.status.busy": "2025-03-03T18:16:39.162312Z",
     "iopub.status.idle": "2025-03-03T18:17:48.543626Z",
     "shell.execute_reply": "2025-03-03T18:17:48.543272Z",
     "shell.execute_reply.started": "2025-03-03T18:16:39.162410Z"
    }
   },
   "outputs": [
    {
     "name": "stdout",
     "output_type": "stream",
     "text": [
      "Epoch 1/50\n",
      "\u001b[1m100/100\u001b[0m \u001b[32m━━━━━━━━━━━━━━━━━━━━\u001b[0m\u001b[37m\u001b[0m \u001b[1m6s\u001b[0m 53ms/step - accuracy: 0.1667 - loss: 2.8458 - val_accuracy: 0.3525 - val_loss: 2.1378\n",
      "Epoch 2/50\n",
      "\u001b[1m100/100\u001b[0m \u001b[32m━━━━━━━━━━━━━━━━━━━━\u001b[0m\u001b[37m\u001b[0m \u001b[1m5s\u001b[0m 48ms/step - accuracy: 0.3310 - loss: 2.1556 - val_accuracy: 0.4575 - val_loss: 1.8974\n",
      "Epoch 3/50\n",
      "\u001b[1m100/100\u001b[0m \u001b[32m━━━━━━━━━━━━━━━━━━━━\u001b[0m\u001b[37m\u001b[0m \u001b[1m5s\u001b[0m 48ms/step - accuracy: 0.4271 - loss: 1.8689 - val_accuracy: 0.5100 - val_loss: 1.8192\n",
      "Epoch 4/50\n",
      "\u001b[1m100/100\u001b[0m \u001b[32m━━━━━━━━━━━━━━━━━━━━\u001b[0m\u001b[37m\u001b[0m \u001b[1m5s\u001b[0m 48ms/step - accuracy: 0.4927 - loss: 1.7036 - val_accuracy: 0.5525 - val_loss: 1.5984\n",
      "Epoch 5/50\n",
      "\u001b[1m100/100\u001b[0m \u001b[32m━━━━━━━━━━━━━━━━━━━━\u001b[0m\u001b[37m\u001b[0m \u001b[1m5s\u001b[0m 50ms/step - accuracy: 0.5687 - loss: 1.4558 - val_accuracy: 0.5975 - val_loss: 1.5499\n",
      "Epoch 6/50\n",
      "\u001b[1m100/100\u001b[0m \u001b[32m━━━━━━━━━━━━━━━━━━━━\u001b[0m\u001b[37m\u001b[0m \u001b[1m5s\u001b[0m 51ms/step - accuracy: 0.6090 - loss: 1.3075 - val_accuracy: 0.5987 - val_loss: 1.5083\n",
      "Epoch 7/50\n",
      "\u001b[1m100/100\u001b[0m \u001b[32m━━━━━━━━━━━━━━━━━━━━\u001b[0m\u001b[37m\u001b[0m \u001b[1m5s\u001b[0m 48ms/step - accuracy: 0.6463 - loss: 1.1716 - val_accuracy: 0.6237 - val_loss: 1.4163\n",
      "Epoch 8/50\n",
      "\u001b[1m100/100\u001b[0m \u001b[32m━━━━━━━━━━━━━━━━━━━━\u001b[0m\u001b[37m\u001b[0m \u001b[1m5s\u001b[0m 48ms/step - accuracy: 0.6787 - loss: 1.0786 - val_accuracy: 0.6338 - val_loss: 1.4865\n",
      "Epoch 9/50\n",
      "\u001b[1m100/100\u001b[0m \u001b[32m━━━━━━━━━━━━━━━━━━━━\u001b[0m\u001b[37m\u001b[0m \u001b[1m5s\u001b[0m 50ms/step - accuracy: 0.6988 - loss: 0.9816 - val_accuracy: 0.6825 - val_loss: 1.2847\n",
      "Epoch 10/50\n",
      "\u001b[1m100/100\u001b[0m \u001b[32m━━━━━━━━━━━━━━━━━━━━\u001b[0m\u001b[37m\u001b[0m \u001b[1m5s\u001b[0m 48ms/step - accuracy: 0.7351 - loss: 0.8686 - val_accuracy: 0.6637 - val_loss: 1.3460\n",
      "Epoch 11/50\n",
      "\u001b[1m100/100\u001b[0m \u001b[32m━━━━━━━━━━━━━━━━━━━━\u001b[0m\u001b[37m\u001b[0m \u001b[1m5s\u001b[0m 48ms/step - accuracy: 0.7426 - loss: 0.8539 - val_accuracy: 0.6875 - val_loss: 1.2549\n",
      "Epoch 12/50\n",
      "\u001b[1m100/100\u001b[0m \u001b[32m━━━━━━━━━━━━━━━━━━━━\u001b[0m\u001b[37m\u001b[0m \u001b[1m5s\u001b[0m 48ms/step - accuracy: 0.7527 - loss: 0.8144 - val_accuracy: 0.7138 - val_loss: 1.1485\n",
      "Epoch 13/50\n",
      "\u001b[1m100/100\u001b[0m \u001b[32m━━━━━━━━━━━━━━━━━━━━\u001b[0m\u001b[37m\u001b[0m \u001b[1m5s\u001b[0m 48ms/step - accuracy: 0.7842 - loss: 0.7085 - val_accuracy: 0.6988 - val_loss: 1.3207\n",
      "Epoch 14/50\n",
      "\u001b[1m100/100\u001b[0m \u001b[32m━━━━━━━━━━━━━━━━━━━━\u001b[0m\u001b[37m\u001b[0m \u001b[1m5s\u001b[0m 49ms/step - accuracy: 0.7985 - loss: 0.6787 - val_accuracy: 0.7125 - val_loss: 1.2487\n",
      "Epoch 14: early stopping\n"
     ]
    }
   ],
   "source": [
    "EPOCHS = 50\n",
    "history_mlp = model_mlp.fit(\n",
    "    train_ds_mlp,\n",
    "    validation_data=val_ds_mlp,\n",
    "    epochs=EPOCHS,\n",
    "    callbacks=tf.keras.callbacks.EarlyStopping(monitor='val_loss', patience=2, verbose=1)\n",
    ")"
   ]
  },
  {
   "cell_type": "code",
   "execution_count": 19,
   "id": "ced62b45-d141-4c25-be25-b779e52bd4af",
   "metadata": {
    "execution": {
     "iopub.execute_input": "2025-03-03T18:17:48.544199Z",
     "iopub.status.busy": "2025-03-03T18:17:48.544069Z",
     "iopub.status.idle": "2025-03-03T18:17:48.614114Z",
     "shell.execute_reply": "2025-03-03T18:17:48.613779Z",
     "shell.execute_reply.started": "2025-03-03T18:17:48.544187Z"
    }
   },
   "outputs": [
    {
     "data": {
      "image/png": "[encoded data removed]",
      "text/plain": [
       "<Figure size 640x480 with 1 Axes>"
      ]
     },
     "metadata": {},
     "output_type": "display_data"
    }
   ],
   "source": [
    "metrics = history_mlp.history\n",
    "plt.plot(history_mlp.epoch, metrics['loss'], metrics['val_loss'])\n",
    "plt.legend(['loss', 'val_loss'])\n",
    "plt.show()"
   ]
  },
  {
   "cell_type": "code",
   "execution_count": 20,
   "id": "d6d29362-85d8-4cd5-803f-f21bc8d40a31",
   "metadata": {
    "execution": {
     "iopub.execute_input": "2025-03-03T18:17:48.614570Z",
     "iopub.status.busy": "2025-03-03T18:17:48.614445Z",
     "iopub.status.idle": "2025-03-03T18:17:48.781559Z",
     "shell.execute_reply": "2025-03-03T18:17:48.781280Z",
     "shell.execute_reply.started": "2025-03-03T18:17:48.614558Z"
    }
   },
   "outputs": [],
   "source": [
    "test_audio = []\n",
    "test_labels = []\n",
    "\n",
    "for audio, label in test_ds_mlp:\n",
    "  test_audio.append(audio.numpy()) # Преобразуем тензор в массив NumPy и добавляем в список\n",
    "  test_labels.append(label.numpy()) # Аналогично преобразуем метки\n",
    "\n",
    "# Преобразуем списки в массивы NumPy для удобной обработки\n",
    "test_audio = np.array(test_audio)\n",
    "test_labels = np.array(test_labels)\n",
    "\n",
    "# Убираем лишнее измерение\n",
    "test_audio = np.squeeze(test_audio, axis=1)"
   ]
  },
  {
   "cell_type": "code",
   "execution_count": 21,
   "id": "ccf97201-2e42-46b3-b011-01abb1f88302",
   "metadata": {
    "execution": {
     "iopub.execute_input": "2025-03-03T18:17:48.782883Z",
     "iopub.status.busy": "2025-03-03T18:17:48.782768Z",
     "iopub.status.idle": "2025-03-03T18:17:48.979350Z",
     "shell.execute_reply": "2025-03-03T18:17:48.979027Z",
     "shell.execute_reply.started": "2025-03-03T18:17:48.782872Z"
    }
   },
   "outputs": [
    {
     "name": "stdout",
     "output_type": "stream",
     "text": [
      "\u001b[1m25/25\u001b[0m \u001b[32m━━━━━━━━━━━━━━━━━━━━\u001b[0m\u001b[37m\u001b[0m \u001b[1m0s\u001b[0m 3ms/step\n",
      "Точность на тестовом наборе: 72%\n"
     ]
    }
   ],
   "source": [
    "y_pred = np.argmax(model_mlp.predict(test_audio), axis=1) # Получаем предсказания модели на тестовом наборе\n",
    "y_true = test_labels # Истинные метки классов\n",
    "\n",
    "test_acc = sum(y_pred == y_true) / len(y_true) # Вычисляем точность на тестовом наборе\n",
    "print(f'Точность на тестовом наборе: {test_acc:.0%}')"
   ]
  },
  {
   "cell_type": "code",
   "execution_count": 22,
   "id": "e6255b84-e23a-4046-9d32-bf4124badcfa",
   "metadata": {
    "execution": {
     "iopub.execute_input": "2025-03-03T18:17:48.979826Z",
     "iopub.status.busy": "2025-03-03T18:17:48.979697Z",
     "iopub.status.idle": "2025-03-03T18:17:49.294840Z",
     "shell.execute_reply": "2025-03-03T18:17:49.294501Z",
     "shell.execute_reply.started": "2025-03-03T18:17:48.979813Z"
    }
   },
   "outputs": [
    {
     "data": {
      "image/png": "[encoded data removed]",
      "text/plain": [
       "<Figure size 1000x800 with 2 Axes>"
      ]
     },
     "metadata": {},
     "output_type": "display_data"
    }
   ],
   "source": [
    "confusion_mtx = tf.math.confusion_matrix(y_true, y_pred) # Вычисляем матрицу ошибок\n",
    "plt.figure(figsize=(10, 8))\n",
    "\n",
    "# Строим тепловую карту (heatmap) для визуализации матрицы ошибок\n",
    "# xticklabels=commands - метки классов для оси X (предсказанные значения)\n",
    "# yticklabels=commands - метки классов для оси Y (истинные значения)\n",
    "# annot=True - отображать значения в ячейках матрицы\n",
    "# fmt='g' - формат отображения чисел (общий формат, без лишних знаков)\n",
    "sns.heatmap(confusion_mtx,\n",
    "            xticklabels=commands,\n",
    "            yticklabels=commands,\n",
    "            annot=True, fmt='g')\n",
    "plt.xlabel('Prediction')\n",
    "plt.ylabel('Label')\n",
    "plt.show()"
   ]
  },
  {
   "cell_type": "code",
   "execution_count": 23,
   "id": "120f5b71-96d1-4808-a6b4-c54c6bef9a9e",
   "metadata": {
    "execution": {
     "iopub.execute_input": "2025-03-03T18:17:49.295236Z",
     "iopub.status.busy": "2025-03-03T18:17:49.295138Z",
     "iopub.status.idle": "2025-03-03T18:17:49.623683Z",
     "shell.execute_reply": "2025-03-03T18:17:49.623193Z",
     "shell.execute_reply.started": "2025-03-03T18:17:49.295226Z"
    }
   },
   "outputs": [
    {
     "ename": "NameError",
     "evalue": "name 'model_cnn' is not defined",
     "output_type": "error",
     "traceback": [
      "\u001b[0;31m---------------------------------------------------------------------------\u001b[0m",
      "\u001b[0;31mNameError\u001b[0m                                 Traceback (most recent call last)",
      "Cell \u001b[0;32mIn[23], line 1\u001b[0m\n\u001b[0;32m----> 1\u001b[0m model_cnn\u001b[38;5;241m.\u001b[39msave(\u001b[38;5;124m'\u001b[39m\u001b[38;5;124m../Models/mlp.keras\u001b[39m\u001b[38;5;124m'\u001b[39m)\n",
      "\u001b[0;31mNameError\u001b[0m: name 'model_cnn' is not defined"
     ]
    }
   ],
   "source": [
    "model_cnn.save('../Models/mlp.keras')"
   ]
  },
  {
   "cell_type": "markdown",
   "id": "d68a470d-7522-44a1-b82c-a4da17f5e5e6",
   "metadata": {
    "jp-MarkdownHeadingCollapsed": true
   },
   "source": [
    "# Сверточная нейронная сеть"
   ]
  },
  {
   "cell_type": "code",
   "execution_count": null,
   "id": "244d9092-7a72-41dd-889e-6ddfa787769b",
   "metadata": {},
   "outputs": [],
   "source": [
    "# Получаем размер входных данных \n",
    "for spectrogram, _ in spectrogram_ds.take(1):\n",
    "  input_shape = spectrogram.shape\n",
    "print('Размер входа', input_shape)\n",
    "\n",
    "num_labels = len(commands)\n",
    "\n",
    "norm_layer = layers.Normalization() # Создаём слой нормализации данных\n",
    "\n",
    "# Адаптируем слой нормализации на основе спектрограмм из датасета\n",
    "norm_layer.adapt(data=spectrogram_ds.map(map_func=lambda spec, label: spec))"
   ]
  },
  {
   "cell_type": "code",
   "execution_count": 24,
   "id": "523f5151-d7e6-41cb-a8e2-3e5f41bf3e7a",
   "metadata": {
    "execution": {
     "iopub.execute_input": "2025-03-03T19:27:11.175953Z",
     "iopub.status.busy": "2025-03-03T19:27:11.175662Z",
     "iopub.status.idle": "2025-03-03T19:27:11.233253Z",
     "shell.execute_reply": "2025-03-03T19:27:11.232989Z",
     "shell.execute_reply.started": "2025-03-03T19:27:11.175939Z"
    }
   },
   "outputs": [
    {
     "data": {
      "text/html": [
       "<pre style=\"white-space:pre;overflow-x:auto;line-height:normal;font-family:Menlo,'DejaVu Sans Mono',consolas,'Courier New',monospace\"><span style=\"font-weight: bold\">Model: \"sequential_3\"</span>\n",
       "</pre>\n"
      ],
      "text/plain": [
       "\u001b[1mModel: \"sequential_3\"\u001b[0m\n"
      ]
     },
     "metadata": {},
     "output_type": "display_data"
    },
    {
     "data": {
      "text/html": [
       "<pre style=\"white-space:pre;overflow-x:auto;line-height:normal;font-family:Menlo,'DejaVu Sans Mono',consolas,'Courier New',monospace\">┏━━━━━━━━━━━━━━━━━━━━━━━━━━━━━━━━━┳━━━━━━━━━━━━━━━━━━━━━━━━┳━━━━━━━━━━━━━━━┓\n",
       "┃<span style=\"font-weight: bold\"> Layer (type)                    </span>┃<span style=\"font-weight: bold\"> Output Shape           </span>┃<span style=\"font-weight: bold\">       Param # </span>┃\n",
       "┡━━━━━━━━━━━━━━━━━━━━━━━━━━━━━━━━━╇━━━━━━━━━━━━━━━━━━━━━━━━╇━━━━━━━━━━━━━━━┩\n",
       "│ resizing_3 (<span style=\"color: #0087ff; text-decoration-color: #0087ff\">Resizing</span>)           │ (<span style=\"color: #00d7ff; text-decoration-color: #00d7ff\">None</span>, <span style=\"color: #00af00; text-decoration-color: #00af00\">32</span>, <span style=\"color: #00af00; text-decoration-color: #00af00\">32</span>, <span style=\"color: #00af00; text-decoration-color: #00af00\">1</span>)      │             <span style=\"color: #00af00; text-decoration-color: #00af00\">0</span> │\n",
       "├─────────────────────────────────┼────────────────────────┼───────────────┤\n",
       "│ normalization (<span style=\"color: #0087ff; text-decoration-color: #0087ff\">Normalization</span>)   │ (<span style=\"color: #00d7ff; text-decoration-color: #00d7ff\">None</span>, <span style=\"color: #00af00; text-decoration-color: #00af00\">32</span>, <span style=\"color: #00af00; text-decoration-color: #00af00\">32</span>, <span style=\"color: #00af00; text-decoration-color: #00af00\">1</span>)      │             <span style=\"color: #00af00; text-decoration-color: #00af00\">3</span> │\n",
       "├─────────────────────────────────┼────────────────────────┼───────────────┤\n",
       "│ conv2d_15 (<span style=\"color: #0087ff; text-decoration-color: #0087ff\">Conv2D</span>)              │ (<span style=\"color: #00d7ff; text-decoration-color: #00d7ff\">None</span>, <span style=\"color: #00af00; text-decoration-color: #00af00\">30</span>, <span style=\"color: #00af00; text-decoration-color: #00af00\">30</span>, <span style=\"color: #00af00; text-decoration-color: #00af00\">32</span>)     │           <span style=\"color: #00af00; text-decoration-color: #00af00\">320</span> │\n",
       "├─────────────────────────────────┼────────────────────────┼───────────────┤\n",
       "│ activation_15 (<span style=\"color: #0087ff; text-decoration-color: #0087ff\">Activation</span>)      │ (<span style=\"color: #00d7ff; text-decoration-color: #00d7ff\">None</span>, <span style=\"color: #00af00; text-decoration-color: #00af00\">30</span>, <span style=\"color: #00af00; text-decoration-color: #00af00\">30</span>, <span style=\"color: #00af00; text-decoration-color: #00af00\">32</span>)     │             <span style=\"color: #00af00; text-decoration-color: #00af00\">0</span> │\n",
       "├─────────────────────────────────┼────────────────────────┼───────────────┤\n",
       "│ conv2d_16 (<span style=\"color: #0087ff; text-decoration-color: #0087ff\">Conv2D</span>)              │ (<span style=\"color: #00d7ff; text-decoration-color: #00d7ff\">None</span>, <span style=\"color: #00af00; text-decoration-color: #00af00\">28</span>, <span style=\"color: #00af00; text-decoration-color: #00af00\">28</span>, <span style=\"color: #00af00; text-decoration-color: #00af00\">64</span>)     │        <span style=\"color: #00af00; text-decoration-color: #00af00\">18,496</span> │\n",
       "├─────────────────────────────────┼────────────────────────┼───────────────┤\n",
       "│ activation_16 (<span style=\"color: #0087ff; text-decoration-color: #0087ff\">Activation</span>)      │ (<span style=\"color: #00d7ff; text-decoration-color: #00d7ff\">None</span>, <span style=\"color: #00af00; text-decoration-color: #00af00\">28</span>, <span style=\"color: #00af00; text-decoration-color: #00af00\">28</span>, <span style=\"color: #00af00; text-decoration-color: #00af00\">64</span>)     │             <span style=\"color: #00af00; text-decoration-color: #00af00\">0</span> │\n",
       "├─────────────────────────────────┼────────────────────────┼───────────────┤\n",
       "│ max_pooling2d_12 (<span style=\"color: #0087ff; text-decoration-color: #0087ff\">MaxPooling2D</span>) │ (<span style=\"color: #00d7ff; text-decoration-color: #00d7ff\">None</span>, <span style=\"color: #00af00; text-decoration-color: #00af00\">14</span>, <span style=\"color: #00af00; text-decoration-color: #00af00\">14</span>, <span style=\"color: #00af00; text-decoration-color: #00af00\">64</span>)     │             <span style=\"color: #00af00; text-decoration-color: #00af00\">0</span> │\n",
       "├─────────────────────────────────┼────────────────────────┼───────────────┤\n",
       "│ dropout_15 (<span style=\"color: #0087ff; text-decoration-color: #0087ff\">Dropout</span>)            │ (<span style=\"color: #00d7ff; text-decoration-color: #00d7ff\">None</span>, <span style=\"color: #00af00; text-decoration-color: #00af00\">14</span>, <span style=\"color: #00af00; text-decoration-color: #00af00\">14</span>, <span style=\"color: #00af00; text-decoration-color: #00af00\">64</span>)     │             <span style=\"color: #00af00; text-decoration-color: #00af00\">0</span> │\n",
       "├─────────────────────────────────┼────────────────────────┼───────────────┤\n",
       "│ conv2d_17 (<span style=\"color: #0087ff; text-decoration-color: #0087ff\">Conv2D</span>)              │ (<span style=\"color: #00d7ff; text-decoration-color: #00d7ff\">None</span>, <span style=\"color: #00af00; text-decoration-color: #00af00\">12</span>, <span style=\"color: #00af00; text-decoration-color: #00af00\">12</span>, <span style=\"color: #00af00; text-decoration-color: #00af00\">128</span>)    │        <span style=\"color: #00af00; text-decoration-color: #00af00\">73,856</span> │\n",
       "├─────────────────────────────────┼────────────────────────┼───────────────┤\n",
       "│ activation_17 (<span style=\"color: #0087ff; text-decoration-color: #0087ff\">Activation</span>)      │ (<span style=\"color: #00d7ff; text-decoration-color: #00d7ff\">None</span>, <span style=\"color: #00af00; text-decoration-color: #00af00\">12</span>, <span style=\"color: #00af00; text-decoration-color: #00af00\">12</span>, <span style=\"color: #00af00; text-decoration-color: #00af00\">128</span>)    │             <span style=\"color: #00af00; text-decoration-color: #00af00\">0</span> │\n",
       "├─────────────────────────────────┼────────────────────────┼───────────────┤\n",
       "│ max_pooling2d_13 (<span style=\"color: #0087ff; text-decoration-color: #0087ff\">MaxPooling2D</span>) │ (<span style=\"color: #00d7ff; text-decoration-color: #00d7ff\">None</span>, <span style=\"color: #00af00; text-decoration-color: #00af00\">6</span>, <span style=\"color: #00af00; text-decoration-color: #00af00\">6</span>, <span style=\"color: #00af00; text-decoration-color: #00af00\">128</span>)      │             <span style=\"color: #00af00; text-decoration-color: #00af00\">0</span> │\n",
       "├─────────────────────────────────┼────────────────────────┼───────────────┤\n",
       "│ dropout_16 (<span style=\"color: #0087ff; text-decoration-color: #0087ff\">Dropout</span>)            │ (<span style=\"color: #00d7ff; text-decoration-color: #00d7ff\">None</span>, <span style=\"color: #00af00; text-decoration-color: #00af00\">6</span>, <span style=\"color: #00af00; text-decoration-color: #00af00\">6</span>, <span style=\"color: #00af00; text-decoration-color: #00af00\">128</span>)      │             <span style=\"color: #00af00; text-decoration-color: #00af00\">0</span> │\n",
       "├─────────────────────────────────┼────────────────────────┼───────────────┤\n",
       "│ conv2d_18 (<span style=\"color: #0087ff; text-decoration-color: #0087ff\">Conv2D</span>)              │ (<span style=\"color: #00d7ff; text-decoration-color: #00d7ff\">None</span>, <span style=\"color: #00af00; text-decoration-color: #00af00\">4</span>, <span style=\"color: #00af00; text-decoration-color: #00af00\">4</span>, <span style=\"color: #00af00; text-decoration-color: #00af00\">256</span>)      │       <span style=\"color: #00af00; text-decoration-color: #00af00\">295,168</span> │\n",
       "├─────────────────────────────────┼────────────────────────┼───────────────┤\n",
       "│ activation_18 (<span style=\"color: #0087ff; text-decoration-color: #0087ff\">Activation</span>)      │ (<span style=\"color: #00d7ff; text-decoration-color: #00d7ff\">None</span>, <span style=\"color: #00af00; text-decoration-color: #00af00\">4</span>, <span style=\"color: #00af00; text-decoration-color: #00af00\">4</span>, <span style=\"color: #00af00; text-decoration-color: #00af00\">256</span>)      │             <span style=\"color: #00af00; text-decoration-color: #00af00\">0</span> │\n",
       "├─────────────────────────────────┼────────────────────────┼───────────────┤\n",
       "│ max_pooling2d_14 (<span style=\"color: #0087ff; text-decoration-color: #0087ff\">MaxPooling2D</span>) │ (<span style=\"color: #00d7ff; text-decoration-color: #00d7ff\">None</span>, <span style=\"color: #00af00; text-decoration-color: #00af00\">2</span>, <span style=\"color: #00af00; text-decoration-color: #00af00\">2</span>, <span style=\"color: #00af00; text-decoration-color: #00af00\">256</span>)      │             <span style=\"color: #00af00; text-decoration-color: #00af00\">0</span> │\n",
       "├─────────────────────────────────┼────────────────────────┼───────────────┤\n",
       "│ dropout_17 (<span style=\"color: #0087ff; text-decoration-color: #0087ff\">Dropout</span>)            │ (<span style=\"color: #00d7ff; text-decoration-color: #00d7ff\">None</span>, <span style=\"color: #00af00; text-decoration-color: #00af00\">2</span>, <span style=\"color: #00af00; text-decoration-color: #00af00\">2</span>, <span style=\"color: #00af00; text-decoration-color: #00af00\">256</span>)      │             <span style=\"color: #00af00; text-decoration-color: #00af00\">0</span> │\n",
       "├─────────────────────────────────┼────────────────────────┼───────────────┤\n",
       "│ flatten_3 (<span style=\"color: #0087ff; text-decoration-color: #0087ff\">Flatten</span>)             │ (<span style=\"color: #00d7ff; text-decoration-color: #00d7ff\">None</span>, <span style=\"color: #00af00; text-decoration-color: #00af00\">1024</span>)           │             <span style=\"color: #00af00; text-decoration-color: #00af00\">0</span> │\n",
       "├─────────────────────────────────┼────────────────────────┼───────────────┤\n",
       "│ dense_6 (<span style=\"color: #0087ff; text-decoration-color: #0087ff\">Dense</span>)                 │ (<span style=\"color: #00d7ff; text-decoration-color: #00d7ff\">None</span>, <span style=\"color: #00af00; text-decoration-color: #00af00\">128</span>)            │       <span style=\"color: #00af00; text-decoration-color: #00af00\">131,200</span> │\n",
       "├─────────────────────────────────┼────────────────────────┼───────────────┤\n",
       "│ dropout_18 (<span style=\"color: #0087ff; text-decoration-color: #0087ff\">Dropout</span>)            │ (<span style=\"color: #00d7ff; text-decoration-color: #00d7ff\">None</span>, <span style=\"color: #00af00; text-decoration-color: #00af00\">128</span>)            │             <span style=\"color: #00af00; text-decoration-color: #00af00\">0</span> │\n",
       "├─────────────────────────────────┼────────────────────────┼───────────────┤\n",
       "│ dense_7 (<span style=\"color: #0087ff; text-decoration-color: #0087ff\">Dense</span>)                 │ (<span style=\"color: #00d7ff; text-decoration-color: #00d7ff\">None</span>, <span style=\"color: #00af00; text-decoration-color: #00af00\">14</span>)             │         <span style=\"color: #00af00; text-decoration-color: #00af00\">1,806</span> │\n",
       "└─────────────────────────────────┴────────────────────────┴───────────────┘\n",
       "</pre>\n"
      ],
      "text/plain": [
       "┏━━━━━━━━━━━━━━━━━━━━━━━━━━━━━━━━━┳━━━━━━━━━━━━━━━━━━━━━━━━┳━━━━━━━━━━━━━━━┓\n",
       "┃\u001b[1m \u001b[0m\u001b[1mLayer (type)                   \u001b[0m\u001b[1m \u001b[0m┃\u001b[1m \u001b[0m\u001b[1mOutput Shape          \u001b[0m\u001b[1m \u001b[0m┃\u001b[1m \u001b[0m\u001b[1m      Param #\u001b[0m\u001b[1m \u001b[0m┃\n",
       "┡━━━━━━━━━━━━━━━━━━━━━━━━━━━━━━━━━╇━━━━━━━━━━━━━━━━━━━━━━━━╇━━━━━━━━━━━━━━━┩\n",
       "│ resizing_3 (\u001b[38;5;33mResizing\u001b[0m)           │ (\u001b[38;5;45mNone\u001b[0m, \u001b[38;5;34m32\u001b[0m, \u001b[38;5;34m32\u001b[0m, \u001b[38;5;34m1\u001b[0m)      │             \u001b[38;5;34m0\u001b[0m │\n",
       "├─────────────────────────────────┼────────────────────────┼───────────────┤\n",
       "│ normalization (\u001b[38;5;33mNormalization\u001b[0m)   │ (\u001b[38;5;45mNone\u001b[0m, \u001b[38;5;34m32\u001b[0m, \u001b[38;5;34m32\u001b[0m, \u001b[38;5;34m1\u001b[0m)      │             \u001b[38;5;34m3\u001b[0m │\n",
       "├─────────────────────────────────┼────────────────────────┼───────────────┤\n",
       "│ conv2d_15 (\u001b[38;5;33mConv2D\u001b[0m)              │ (\u001b[38;5;45mNone\u001b[0m, \u001b[38;5;34m30\u001b[0m, \u001b[38;5;34m30\u001b[0m, \u001b[38;5;34m32\u001b[0m)     │           \u001b[38;5;34m320\u001b[0m │\n",
       "├─────────────────────────────────┼────────────────────────┼───────────────┤\n",
       "│ activation_15 (\u001b[38;5;33mActivation\u001b[0m)      │ (\u001b[38;5;45mNone\u001b[0m, \u001b[38;5;34m30\u001b[0m, \u001b[38;5;34m30\u001b[0m, \u001b[38;5;34m32\u001b[0m)     │             \u001b[38;5;34m0\u001b[0m │\n",
       "├─────────────────────────────────┼────────────────────────┼───────────────┤\n",
       "│ conv2d_16 (\u001b[38;5;33mConv2D\u001b[0m)              │ (\u001b[38;5;45mNone\u001b[0m, \u001b[38;5;34m28\u001b[0m, \u001b[38;5;34m28\u001b[0m, \u001b[38;5;34m64\u001b[0m)     │        \u001b[38;5;34m18,496\u001b[0m │\n",
       "├─────────────────────────────────┼────────────────────────┼───────────────┤\n",
       "│ activation_16 (\u001b[38;5;33mActivation\u001b[0m)      │ (\u001b[38;5;45mNone\u001b[0m, \u001b[38;5;34m28\u001b[0m, \u001b[38;5;34m28\u001b[0m, \u001b[38;5;34m64\u001b[0m)     │             \u001b[38;5;34m0\u001b[0m │\n",
       "├─────────────────────────────────┼────────────────────────┼───────────────┤\n",
       "│ max_pooling2d_12 (\u001b[38;5;33mMaxPooling2D\u001b[0m) │ (\u001b[38;5;45mNone\u001b[0m, \u001b[38;5;34m14\u001b[0m, \u001b[38;5;34m14\u001b[0m, \u001b[38;5;34m64\u001b[0m)     │             \u001b[38;5;34m0\u001b[0m │\n",
       "├─────────────────────────────────┼────────────────────────┼───────────────┤\n",
       "│ dropout_15 (\u001b[38;5;33mDropout\u001b[0m)            │ (\u001b[38;5;45mNone\u001b[0m, \u001b[38;5;34m14\u001b[0m, \u001b[38;5;34m14\u001b[0m, \u001b[38;5;34m64\u001b[0m)     │             \u001b[38;5;34m0\u001b[0m │\n",
       "├─────────────────────────────────┼────────────────────────┼───────────────┤\n",
       "│ conv2d_17 (\u001b[38;5;33mConv2D\u001b[0m)              │ (\u001b[38;5;45mNone\u001b[0m, \u001b[38;5;34m12\u001b[0m, \u001b[38;5;34m12\u001b[0m, \u001b[38;5;34m128\u001b[0m)    │        \u001b[38;5;34m73,856\u001b[0m │\n",
       "├─────────────────────────────────┼────────────────────────┼───────────────┤\n",
       "│ activation_17 (\u001b[38;5;33mActivation\u001b[0m)      │ (\u001b[38;5;45mNone\u001b[0m, \u001b[38;5;34m12\u001b[0m, \u001b[38;5;34m12\u001b[0m, \u001b[38;5;34m128\u001b[0m)    │             \u001b[38;5;34m0\u001b[0m │\n",
       "├─────────────────────────────────┼────────────────────────┼───────────────┤\n",
       "│ max_pooling2d_13 (\u001b[38;5;33mMaxPooling2D\u001b[0m) │ (\u001b[38;5;45mNone\u001b[0m, \u001b[38;5;34m6\u001b[0m, \u001b[38;5;34m6\u001b[0m, \u001b[38;5;34m128\u001b[0m)      │             \u001b[38;5;34m0\u001b[0m │\n",
       "├─────────────────────────────────┼────────────────────────┼───────────────┤\n",
       "│ dropout_16 (\u001b[38;5;33mDropout\u001b[0m)            │ (\u001b[38;5;45mNone\u001b[0m, \u001b[38;5;34m6\u001b[0m, \u001b[38;5;34m6\u001b[0m, \u001b[38;5;34m128\u001b[0m)      │             \u001b[38;5;34m0\u001b[0m │\n",
       "├─────────────────────────────────┼────────────────────────┼───────────────┤\n",
       "│ conv2d_18 (\u001b[38;5;33mConv2D\u001b[0m)              │ (\u001b[38;5;45mNone\u001b[0m, \u001b[38;5;34m4\u001b[0m, \u001b[38;5;34m4\u001b[0m, \u001b[38;5;34m256\u001b[0m)      │       \u001b[38;5;34m295,168\u001b[0m │\n",
       "├─────────────────────────────────┼────────────────────────┼───────────────┤\n",
       "│ activation_18 (\u001b[38;5;33mActivation\u001b[0m)      │ (\u001b[38;5;45mNone\u001b[0m, \u001b[38;5;34m4\u001b[0m, \u001b[38;5;34m4\u001b[0m, \u001b[38;5;34m256\u001b[0m)      │             \u001b[38;5;34m0\u001b[0m │\n",
       "├─────────────────────────────────┼────────────────────────┼───────────────┤\n",
       "│ max_pooling2d_14 (\u001b[38;5;33mMaxPooling2D\u001b[0m) │ (\u001b[38;5;45mNone\u001b[0m, \u001b[38;5;34m2\u001b[0m, \u001b[38;5;34m2\u001b[0m, \u001b[38;5;34m256\u001b[0m)      │             \u001b[38;5;34m0\u001b[0m │\n",
       "├─────────────────────────────────┼────────────────────────┼───────────────┤\n",
       "│ dropout_17 (\u001b[38;5;33mDropout\u001b[0m)            │ (\u001b[38;5;45mNone\u001b[0m, \u001b[38;5;34m2\u001b[0m, \u001b[38;5;34m2\u001b[0m, \u001b[38;5;34m256\u001b[0m)      │             \u001b[38;5;34m0\u001b[0m │\n",
       "├─────────────────────────────────┼────────────────────────┼───────────────┤\n",
       "│ flatten_3 (\u001b[38;5;33mFlatten\u001b[0m)             │ (\u001b[38;5;45mNone\u001b[0m, \u001b[38;5;34m1024\u001b[0m)           │             \u001b[38;5;34m0\u001b[0m │\n",
       "├─────────────────────────────────┼────────────────────────┼───────────────┤\n",
       "│ dense_6 (\u001b[38;5;33mDense\u001b[0m)                 │ (\u001b[38;5;45mNone\u001b[0m, \u001b[38;5;34m128\u001b[0m)            │       \u001b[38;5;34m131,200\u001b[0m │\n",
       "├─────────────────────────────────┼────────────────────────┼───────────────┤\n",
       "│ dropout_18 (\u001b[38;5;33mDropout\u001b[0m)            │ (\u001b[38;5;45mNone\u001b[0m, \u001b[38;5;34m128\u001b[0m)            │             \u001b[38;5;34m0\u001b[0m │\n",
       "├─────────────────────────────────┼────────────────────────┼───────────────┤\n",
       "│ dense_7 (\u001b[38;5;33mDense\u001b[0m)                 │ (\u001b[38;5;45mNone\u001b[0m, \u001b[38;5;34m14\u001b[0m)             │         \u001b[38;5;34m1,806\u001b[0m │\n",
       "└─────────────────────────────────┴────────────────────────┴───────────────┘\n"
      ]
     },
     "metadata": {},
     "output_type": "display_data"
    },
    {
     "data": {
      "text/html": [
       "<pre style=\"white-space:pre;overflow-x:auto;line-height:normal;font-family:Menlo,'DejaVu Sans Mono',consolas,'Courier New',monospace\"><span style=\"font-weight: bold\"> Total params: </span><span style=\"color: #00af00; text-decoration-color: #00af00\">520,849</span> (1.99 MB)\n",
       "</pre>\n"
      ],
      "text/plain": [
       "\u001b[1m Total params: \u001b[0m\u001b[38;5;34m520,849\u001b[0m (1.99 MB)\n"
      ]
     },
     "metadata": {},
     "output_type": "display_data"
    },
    {
     "data": {
      "text/html": [
       "<pre style=\"white-space:pre;overflow-x:auto;line-height:normal;font-family:Menlo,'DejaVu Sans Mono',consolas,'Courier New',monospace\"><span style=\"font-weight: bold\"> Trainable params: </span><span style=\"color: #00af00; text-decoration-color: #00af00\">520,846</span> (1.99 MB)\n",
       "</pre>\n"
      ],
      "text/plain": [
       "\u001b[1m Trainable params: \u001b[0m\u001b[38;5;34m520,846\u001b[0m (1.99 MB)\n"
      ]
     },
     "metadata": {},
     "output_type": "display_data"
    },
    {
     "data": {
      "text/html": [
       "<pre style=\"white-space:pre;overflow-x:auto;line-height:normal;font-family:Menlo,'DejaVu Sans Mono',consolas,'Courier New',monospace\"><span style=\"font-weight: bold\"> Non-trainable params: </span><span style=\"color: #00af00; text-decoration-color: #00af00\">3</span> (16.00 B)\n",
       "</pre>\n"
      ],
      "text/plain": [
       "\u001b[1m Non-trainable params: \u001b[0m\u001b[38;5;34m3\u001b[0m (16.00 B)\n"
      ]
     },
     "metadata": {},
     "output_type": "display_data"
    }
   ],
   "source": [
    "model_cnn = models.Sequential([\n",
    "    layers.Input(shape=input_shape),\n",
    "    layers.Resizing(32, 32), # Изменение размера спектрограммы до 32x32 пикселей\n",
    "    norm_layer, # Применяем нормализацию данных\n",
    "    \n",
    "    layers.Conv2D(32, 3),\n",
    "    # layers.BatchNormalization(),\n",
    "    layers.Activation('relu'),\n",
    "    \n",
    "    layers.Conv2D(64, 3),\n",
    "    # layers.BatchNormalization(),\n",
    "    layers.Activation('relu'),\n",
    "    layers.MaxPooling2D(), # Слой подвыборки (макспулинг) для уменьшения размерности\n",
    "    layers.Dropout(0.25), # Регуляризация: исключаем 25% нейронов для предотвращения переобучения\n",
    "\n",
    "    layers.Conv2D(128, 3),\n",
    "    # layers.BatchNormalization(),\n",
    "    layers.Activation('relu'),\n",
    "    layers.MaxPooling2D(), # Слой подвыборки (макспулинг) для уменьшения размерности\n",
    "    layers.Dropout(0.25), # Регуляризация: исключаем 25% нейронов для предотвращения переобучения\n",
    "\n",
    "    layers.Conv2D(256, 3),\n",
    "    # layers.BatchNormalization(),\n",
    "    layers.Activation('relu'),\n",
    "    layers.MaxPooling2D(), # Слой подвыборки (макспулинг) для уменьшения размерности\n",
    "    layers.Dropout(0.25), # Регуляризация: исключаем 25% нейронов для предотвращения переобучения\n",
    "    \n",
    "    layers.Flatten(), # Преобразуем 2D-тензор в одномерный вектор\n",
    "    layers.Dense(128, activation='relu'), # Полносвязный слой с 128 нейронами и активацией ReLU\n",
    "    layers.Dropout(0.5), # Ещё один слой Dropout, теперь с 50% вероятностью исключения нейронов\n",
    "    \n",
    "    layers.Dense(num_labels), # Выходной слой, количество нейронов равно числу классов\n",
    "])\n",
    "\n",
    "model_cnn.summary()\n"
   ]
  },
  {
   "cell_type": "code",
   "execution_count": 25,
   "id": "4a00910c-4406-49c0-bf36-299776fb09ee",
   "metadata": {
    "execution": {
     "iopub.execute_input": "2025-03-03T19:27:11.331708Z",
     "iopub.status.busy": "2025-03-03T19:27:11.331293Z",
     "iopub.status.idle": "2025-03-03T19:27:11.337955Z",
     "shell.execute_reply": "2025-03-03T19:27:11.337366Z",
     "shell.execute_reply.started": "2025-03-03T19:27:11.331694Z"
    }
   },
   "outputs": [],
   "source": [
    "model_cnn.compile(\n",
    "    optimizer=tf.keras.optimizers.Adam(), # Оптимизатор Adam — адаптивный алгоритм градиентного спуска\n",
    "    loss=tf.keras.losses.SparseCategoricalCrossentropy(from_logits=True), # Функция потерь для многоклассовой классификации\n",
    "    metrics=['accuracy'], # Метрика оценки качества модели — точность (accuracy)\n",
    ")"
   ]
  },
  {
   "cell_type": "code",
   "execution_count": 26,
   "id": "cfcee5ca-5383-4d6a-aadf-b3c27d2865e3",
   "metadata": {
    "execution": {
     "iopub.execute_input": "2025-03-03T19:27:11.462093Z",
     "iopub.status.busy": "2025-03-03T19:27:11.461745Z",
     "iopub.status.idle": "2025-03-03T19:28:50.123861Z",
     "shell.execute_reply": "2025-03-03T19:28:50.123473Z",
     "shell.execute_reply.started": "2025-03-03T19:27:11.462076Z"
    }
   },
   "outputs": [
    {
     "name": "stdout",
     "output_type": "stream",
     "text": [
      "Epoch 1/50\n",
      "\u001b[1m50/50\u001b[0m \u001b[32m━━━━━━━━━━━━━━━━━━━━\u001b[0m\u001b[37m\u001b[0m \u001b[1m6s\u001b[0m 95ms/step - accuracy: 0.0910 - loss: 2.6244 - val_accuracy: 0.2675 - val_loss: 2.3952\n",
      "Epoch 2/50\n",
      "\u001b[1m50/50\u001b[0m \u001b[32m━━━━━━━━━━━━━━━━━━━━\u001b[0m\u001b[37m\u001b[0m \u001b[1m4s\u001b[0m 89ms/step - accuracy: 0.2132 - loss: 2.4004 - val_accuracy: 0.3887 - val_loss: 2.0277\n",
      "Epoch 3/50\n",
      "\u001b[1m50/50\u001b[0m \u001b[32m━━━━━━━━━━━━━━━━━━━━\u001b[0m\u001b[37m\u001b[0m \u001b[1m4s\u001b[0m 84ms/step - accuracy: 0.3230 - loss: 2.0874 - val_accuracy: 0.5113 - val_loss: 1.6946\n",
      "Epoch 4/50\n",
      "\u001b[1m50/50\u001b[0m \u001b[32m━━━━━━━━━━━━━━━━━━━━\u001b[0m\u001b[37m\u001b[0m \u001b[1m4s\u001b[0m 83ms/step - accuracy: 0.4513 - loss: 1.6967 - val_accuracy: 0.6125 - val_loss: 1.2849\n",
      "Epoch 5/50\n",
      "\u001b[1m50/50\u001b[0m \u001b[32m━━━━━━━━━━━━━━━━━━━━\u001b[0m\u001b[37m\u001b[0m \u001b[1m4s\u001b[0m 84ms/step - accuracy: 0.5329 - loss: 1.4014 - val_accuracy: 0.7013 - val_loss: 1.0169\n",
      "Epoch 6/50\n",
      "\u001b[1m50/50\u001b[0m \u001b[32m━━━━━━━━━━━━━━━━━━━━\u001b[0m\u001b[37m\u001b[0m \u001b[1m4s\u001b[0m 84ms/step - accuracy: 0.6197 - loss: 1.1530 - val_accuracy: 0.7675 - val_loss: 0.8290\n",
      "Epoch 7/50\n",
      "\u001b[1m50/50\u001b[0m \u001b[32m━━━━━━━━━━━━━━━━━━━━\u001b[0m\u001b[37m\u001b[0m \u001b[1m4s\u001b[0m 84ms/step - accuracy: 0.6817 - loss: 0.9759 - val_accuracy: 0.7837 - val_loss: 0.7098\n",
      "Epoch 8/50\n",
      "\u001b[1m50/50\u001b[0m \u001b[32m━━━━━━━━━━━━━━━━━━━━\u001b[0m\u001b[37m\u001b[0m \u001b[1m4s\u001b[0m 84ms/step - accuracy: 0.7370 - loss: 0.8050 - val_accuracy: 0.8075 - val_loss: 0.6330\n",
      "Epoch 9/50\n",
      "\u001b[1m50/50\u001b[0m \u001b[32m━━━━━━━━━━━━━━━━━━━━\u001b[0m\u001b[37m\u001b[0m \u001b[1m4s\u001b[0m 85ms/step - accuracy: 0.7641 - loss: 0.7376 - val_accuracy: 0.8150 - val_loss: 0.5734\n",
      "Epoch 10/50\n",
      "\u001b[1m50/50\u001b[0m \u001b[32m━━━━━━━━━━━━━━━━━━━━\u001b[0m\u001b[37m\u001b[0m \u001b[1m4s\u001b[0m 85ms/step - accuracy: 0.7841 - loss: 0.6636 - val_accuracy: 0.8200 - val_loss: 0.5555\n",
      "Epoch 11/50\n",
      "\u001b[1m50/50\u001b[0m \u001b[32m━━━━━━━━━━━━━━━━━━━━\u001b[0m\u001b[37m\u001b[0m \u001b[1m4s\u001b[0m 84ms/step - accuracy: 0.7962 - loss: 0.6201 - val_accuracy: 0.8375 - val_loss: 0.5287\n",
      "Epoch 12/50\n",
      "\u001b[1m50/50\u001b[0m \u001b[32m━━━━━━━━━━━━━━━━━━━━\u001b[0m\u001b[37m\u001b[0m \u001b[1m4s\u001b[0m 83ms/step - accuracy: 0.8164 - loss: 0.5611 - val_accuracy: 0.8375 - val_loss: 0.5067\n",
      "Epoch 13/50\n",
      "\u001b[1m50/50\u001b[0m \u001b[32m━━━━━━━━━━━━━━━━━━━━\u001b[0m\u001b[37m\u001b[0m \u001b[1m4s\u001b[0m 83ms/step - accuracy: 0.8311 - loss: 0.5296 - val_accuracy: 0.8425 - val_loss: 0.4603\n",
      "Epoch 14/50\n",
      "\u001b[1m50/50\u001b[0m \u001b[32m━━━━━━━━━━━━━━━━━━━━\u001b[0m\u001b[37m\u001b[0m \u001b[1m4s\u001b[0m 84ms/step - accuracy: 0.8522 - loss: 0.4595 - val_accuracy: 0.8487 - val_loss: 0.4569\n",
      "Epoch 15/50\n",
      "\u001b[1m50/50\u001b[0m \u001b[32m━━━━━━━━━━━━━━━━━━━━\u001b[0m\u001b[37m\u001b[0m \u001b[1m4s\u001b[0m 87ms/step - accuracy: 0.8545 - loss: 0.4578 - val_accuracy: 0.8600 - val_loss: 0.4586\n",
      "Epoch 16/50\n",
      "\u001b[1m50/50\u001b[0m \u001b[32m━━━━━━━━━━━━━━━━━━━━\u001b[0m\u001b[37m\u001b[0m \u001b[1m4s\u001b[0m 85ms/step - accuracy: 0.8731 - loss: 0.4018 - val_accuracy: 0.8625 - val_loss: 0.4514\n",
      "Epoch 17/50\n",
      "\u001b[1m50/50\u001b[0m \u001b[32m━━━━━━━━━━━━━━━━━━━━\u001b[0m\u001b[37m\u001b[0m \u001b[1m4s\u001b[0m 85ms/step - accuracy: 0.8647 - loss: 0.4312 - val_accuracy: 0.8737 - val_loss: 0.4177\n",
      "Epoch 18/50\n",
      "\u001b[1m50/50\u001b[0m \u001b[32m━━━━━━━━━━━━━━━━━━━━\u001b[0m\u001b[37m\u001b[0m \u001b[1m4s\u001b[0m 85ms/step - accuracy: 0.8793 - loss: 0.3701 - val_accuracy: 0.8662 - val_loss: 0.4382\n",
      "Epoch 19/50\n",
      "\u001b[1m50/50\u001b[0m \u001b[32m━━━━━━━━━━━━━━━━━━━━\u001b[0m\u001b[37m\u001b[0m \u001b[1m4s\u001b[0m 84ms/step - accuracy: 0.8879 - loss: 0.3556 - val_accuracy: 0.8850 - val_loss: 0.3998\n",
      "Epoch 20/50\n",
      "\u001b[1m50/50\u001b[0m \u001b[32m━━━━━━━━━━━━━━━━━━━━\u001b[0m\u001b[37m\u001b[0m \u001b[1m4s\u001b[0m 83ms/step - accuracy: 0.8919 - loss: 0.3394 - val_accuracy: 0.8800 - val_loss: 0.4136\n",
      "Epoch 21/50\n",
      "\u001b[1m50/50\u001b[0m \u001b[32m━━━━━━━━━━━━━━━━━━━━\u001b[0m\u001b[37m\u001b[0m \u001b[1m4s\u001b[0m 84ms/step - accuracy: 0.8907 - loss: 0.3285 - val_accuracy: 0.8838 - val_loss: 0.3989\n",
      "Epoch 22/50\n",
      "\u001b[1m50/50\u001b[0m \u001b[32m━━━━━━━━━━━━━━━━━━━━\u001b[0m\u001b[37m\u001b[0m \u001b[1m4s\u001b[0m 83ms/step - accuracy: 0.9002 - loss: 0.3137 - val_accuracy: 0.8662 - val_loss: 0.4666\n",
      "Epoch 23/50\n",
      "\u001b[1m50/50\u001b[0m \u001b[32m━━━━━━━━━━━━━━━━━━━━\u001b[0m\u001b[37m\u001b[0m \u001b[1m4s\u001b[0m 84ms/step - accuracy: 0.9078 - loss: 0.2896 - val_accuracy: 0.8700 - val_loss: 0.4095\n",
      "Epoch 23: early stopping\n"
     ]
    }
   ],
   "source": [
    "EPOCHS = 50\n",
    "history = model_cnn.fit(\n",
    "    train_ds, # Тренировочный набор\n",
    "    validation_data=val_ds, # Валидационный набор\n",
    "    epochs=EPOCHS, # Эпохи\n",
    "    callbacks=tf.keras.callbacks.EarlyStopping(verbose=1, patience=2), # Раннее прекращение обучения\n",
    ")"
   ]
  },
  {
   "cell_type": "code",
   "execution_count": 27,
   "id": "bff354c4-5c93-4948-a2a6-62e381309c49",
   "metadata": {
    "execution": {
     "iopub.execute_input": "2025-03-03T19:28:50.124775Z",
     "iopub.status.busy": "2025-03-03T19:28:50.124474Z",
     "iopub.status.idle": "2025-03-03T19:28:50.188572Z",
     "shell.execute_reply": "2025-03-03T19:28:50.188313Z",
     "shell.execute_reply.started": "2025-03-03T19:28:50.124760Z"
    }
   },
   "outputs": [
    {
     "data": {
      "image/png": "[encoded data removed]",
      "text/plain": [
       "<Figure size 640x480 with 1 Axes>"
      ]
     },
     "metadata": {},
     "output_type": "display_data"
    }
   ],
   "source": [
    "metrics = history.history\n",
    "plt.plot(history.epoch, metrics['loss'], metrics['val_loss'])\n",
    "plt.legend(['loss', 'val_loss'])\n",
    "plt.show()"
   ]
  },
  {
   "cell_type": "code",
   "execution_count": 28,
   "id": "8d66de2a-5a6c-4780-afad-e004936d1227",
   "metadata": {
    "execution": {
     "iopub.execute_input": "2025-03-03T19:28:50.189015Z",
     "iopub.status.busy": "2025-03-03T19:28:50.188912Z",
     "iopub.status.idle": "2025-03-03T19:28:50.335038Z",
     "shell.execute_reply": "2025-03-03T19:28:50.334678Z",
     "shell.execute_reply.started": "2025-03-03T19:28:50.189005Z"
    }
   },
   "outputs": [],
   "source": [
    "test_audio = []\n",
    "test_labels = []\n",
    "\n",
    "for audio, label in test_ds:\n",
    "  test_audio.append(audio.numpy()) # Преобразуем тензор в массив NumPy и добавляем в список\n",
    "  test_labels.append(label.numpy()) # Аналогично преобразуем метки\n",
    "\n",
    "# Преобразуем списки в массивы NumPy для удобной обработки\n",
    "test_audio = np.array(test_audio)\n",
    "test_labels = np.array(test_labels)"
   ]
  },
  {
   "cell_type": "code",
   "execution_count": 29,
   "id": "3c1aaa3f-8f12-44c7-9f3f-d850caf94d0b",
   "metadata": {
    "execution": {
     "iopub.execute_input": "2025-03-03T19:28:50.335724Z",
     "iopub.status.busy": "2025-03-03T19:28:50.335618Z",
     "iopub.status.idle": "2025-03-03T19:28:50.583587Z",
     "shell.execute_reply": "2025-03-03T19:28:50.583275Z",
     "shell.execute_reply.started": "2025-03-03T19:28:50.335714Z"
    }
   },
   "outputs": [
    {
     "name": "stdout",
     "output_type": "stream",
     "text": [
      "\u001b[1m25/25\u001b[0m \u001b[32m━━━━━━━━━━━━━━━━━━━━\u001b[0m\u001b[37m\u001b[0m \u001b[1m0s\u001b[0m 5ms/step\n",
      "Точность на тестовом наборе: 88%\n"
     ]
    }
   ],
   "source": [
    "y_pred = np.argmax(model_cnn.predict(test_audio), axis=1) # Получаем предсказания модели на тестовом наборе\n",
    "y_true = test_labels # Истинные метки классов\n",
    "\n",
    "test_acc = sum(y_pred == y_true) / len(y_true) # Вычисляем точность на тестовом наборе\n",
    "print(f'Точность на тестовом наборе: {test_acc:.0%}')"
   ]
  },
  {
   "cell_type": "code",
   "execution_count": null,
   "id": "89cfb3fe-eab5-48b3-bfb2-494e3cdf9e04",
   "metadata": {
    "execution": {
     "iopub.execute_input": "2025-03-03T19:28:50.584036Z",
     "iopub.status.busy": "2025-03-03T19:28:50.583927Z",
     "iopub.status.idle": "2025-03-03T19:28:50.809019Z",
     "shell.execute_reply": "2025-03-03T19:28:50.807614Z",
     "shell.execute_reply.started": "2025-03-03T19:28:50.584026Z"
    }
   },
   "outputs": [],
   "source": [
    "confusion_mtx = tf.math.confusion_matrix(y_true, y_pred) # Вычисляем матрицу ошибок\n",
    "plt.figure(figsize=(10, 8))\n",
    "\n",
    "# Строим тепловую карту (heatmap) для визуализации матрицы ошибок\n",
    "# xticklabels=commands - метки классов для оси X (предсказанные значения)\n",
    "# yticklabels=commands - метки классов для оси Y (истинные значения)\n",
    "# annot=True - отображать значения в ячейках матрицы\n",
    "# fmt='g' - формат отображения чисел (общий формат, без лишних знаков)\n",
    "sns.heatmap(confusion_mtx,\n",
    "            xticklabels=commands,\n",
    "            yticklabels=commands,\n",
    "            annot=True, fmt='g')\n",
    "plt.xlabel('Prediction')\n",
    "plt.ylabel('Label')\n",
    "plt.show()"
   ]
  },
  {
   "cell_type": "code",
   "execution_count": 31,
   "id": "dfa9cc45-2cea-478d-80c4-6e01b602a19d",
   "metadata": {
    "execution": {
     "iopub.execute_input": "2025-03-03T19:28:50.809560Z",
     "iopub.status.busy": "2025-03-03T19:28:50.809407Z",
     "iopub.status.idle": "2025-03-03T19:28:50.879897Z",
     "shell.execute_reply": "2025-03-03T19:28:50.876711Z",
     "shell.execute_reply.started": "2025-03-03T19:28:50.809546Z"
    }
   },
   "outputs": [],
   "source": [
    "model_cnn.save('../Models/cnn_improved.keras')"
   ]
  },
  {
   "cell_type": "code",
   "execution_count": null,
   "id": "f860b7b6-bec6-4b79-8f55-555de674fd77",
   "metadata": {},
   "outputs": [],
   "source": []
  },
  {
   "cell_type": "code",
   "execution_count": null,
   "id": "2cbbfeac-b490-4627-8e98-afb4c5a2bcb5",
   "metadata": {},
   "outputs": [],
   "source": []
  }
 ],
 "metadata": {
  "kernelspec": {
   "display_name": "Python 3 (ipykernel)",
   "language": "python",
   "name": "python3"
  },
  "language_info": {
   "codemirror_mode": {
    "name": "ipython",
    "version": 3
   },
   "file_extension": ".py",
   "mimetype": "text/x-python",
   "name": "python",
   "nbconvert_exporter": "python",
   "pygments_lexer": "ipython3",
   "version": "3.12.2"
  }
 },
 "nbformat": 4,
 "nbformat_minor": 5
}
