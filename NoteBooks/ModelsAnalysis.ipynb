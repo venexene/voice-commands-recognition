{
 "cells": [
  {
   "cell_type": "code",
   "execution_count": 1,
   "id": "a0baff14-e29e-4156-a8ff-ab5b44b4a5b7",
   "metadata": {
    "execution": {
     "iopub.execute_input": "2025-03-04T17:15:32.490483Z",
     "iopub.status.busy": "2025-03-04T17:15:32.490366Z",
     "iopub.status.idle": "2025-03-04T17:15:34.501113Z",
     "shell.execute_reply": "2025-03-04T17:15:34.500718Z",
     "shell.execute_reply.started": "2025-03-04T17:15:32.490470Z"
    }
   },
   "outputs": [
    {
     "name": "stderr",
     "output_type": "stream",
     "text": [
      "2025-03-04 20:15:32.634285: E external/local_xla/xla/stream_executor/cuda/cuda_fft.cc:477] Unable to register cuFFT factory: Attempting to register factory for plugin cuFFT when one has already been registered\n",
      "WARNING: All log messages before absl::InitializeLog() is called are written to STDERR\n",
      "E0000 00:00:1741108532.646112   61432 cuda_dnn.cc:8310] Unable to register cuDNN factory: Attempting to register factory for plugin cuDNN when one has already been registered\n",
      "E0000 00:00:1741108532.649882   61432 cuda_blas.cc:1418] Unable to register cuBLAS factory: Attempting to register factory for plugin cuBLAS when one has already been registered\n",
      "2025-03-04 20:15:32.662550: I tensorflow/core/platform/cpu_feature_guard.cc:210] This TensorFlow binary is optimized to use available CPU instructions in performance-critical operations.\n",
      "To enable the following instructions: AVX2 FMA, in other operations, rebuild TensorFlow with the appropriate compiler flags.\n"
     ]
    }
   ],
   "source": [
    "import tensorflow as tf\n",
    "from tensorflow.keras import layers\n",
    "from tensorflow.keras import models\n",
    "import pathlib\n",
    "import numpy as np\n",
    "import os\n",
    "import matplotlib.pyplot as plt\n",
    "import seaborn as sns\n",
    "from sklearn.svm import SVC\n",
    "from sklearn.ensemble import RandomForestClassifier\n",
    "from sklearn.neighbors import KNeighborsClassifier\n",
    "from sklearn.linear_model import LogisticRegression\n",
    "from sklearn.metrics import accuracy_score\n",
    "\n",
    "os.environ['CUDA_VISIBLE_DEVICES'] = '-1'"
   ]
  },
  {
   "cell_type": "code",
   "execution_count": 2,
   "id": "4f0a1aa1-2c79-40ac-b836-b5618567cf67",
   "metadata": {
    "execution": {
     "iopub.execute_input": "2025-03-04T17:15:34.502968Z",
     "iopub.status.busy": "2025-03-04T17:15:34.502813Z",
     "iopub.status.idle": "2025-03-04T17:15:34.504974Z",
     "shell.execute_reply": "2025-03-04T17:15:34.504715Z",
     "shell.execute_reply.started": "2025-03-04T17:15:34.502951Z"
    }
   },
   "outputs": [
    {
     "name": "stdout",
     "output_type": "stream",
     "text": [
      "2.18.0\n"
     ]
    }
   ],
   "source": [
    "print(tf.__version__)"
   ]
  },
  {
   "cell_type": "code",
   "execution_count": 3,
   "id": "d81d62aa-7b82-4d08-bcfc-c6cc3a5f990a",
   "metadata": {
    "execution": {
     "iopub.execute_input": "2025-03-04T17:15:34.505610Z",
     "iopub.status.busy": "2025-03-04T17:15:34.505502Z",
     "iopub.status.idle": "2025-03-04T17:15:34.510369Z",
     "shell.execute_reply": "2025-03-04T17:15:34.510113Z",
     "shell.execute_reply.started": "2025-03-04T17:15:34.505600Z"
    }
   },
   "outputs": [],
   "source": [
    "# Функция для преобразования датасета в массивы NumPy\n",
    "def dataset_to_numpy(dataset):\n",
    "    X, y = [], []\n",
    "    for spectrogram, label in dataset:\n",
    "        X.append(tf.reshape(spectrogram, [-1]).numpy())  # Преобразуем спектрограмму в вектор\n",
    "        y.append(label.numpy())  # Метки классов\n",
    "    return np.array(X), np.array(y)"
   ]
  },
  {
   "cell_type": "markdown",
   "id": "606c394d-536f-463a-9f42-b1196e334164",
   "metadata": {
    "execution": {
     "iopub.execute_input": "2025-03-03T17:56:13.510415Z",
     "iopub.status.busy": "2025-03-03T17:56:13.509944Z",
     "iopub.status.idle": "2025-03-03T17:56:13.511990Z",
     "shell.execute_reply": "2025-03-03T17:56:13.511736Z",
     "shell.execute_reply.started": "2025-03-03T17:56:13.510404Z"
    }
   },
   "source": [
    "# Создание датасета спектрограм"
   ]
  },
  {
   "cell_type": "code",
   "execution_count": 4,
   "id": "8e51aee5-17a3-4751-9309-69b286c4b16c",
   "metadata": {
    "execution": {
     "iopub.execute_input": "2025-03-04T17:15:34.510827Z",
     "iopub.status.busy": "2025-03-04T17:15:34.510643Z",
     "iopub.status.idle": "2025-03-04T17:15:34.514266Z",
     "shell.execute_reply": "2025-03-04T17:15:34.514028Z",
     "shell.execute_reply.started": "2025-03-04T17:15:34.510818Z"
    }
   },
   "outputs": [
    {
     "name": "stdout",
     "output_type": "stream",
     "text": [
      "Команды: ['eight' 'stop' 'zero' 'up' 'right' 'three' 'on' 'two' 'nine' 'seven'\n",
      " 'four' 'six' 'yes' 'go' 'five' 'one' 'left' 'down' 'no' 'off']\n"
     ]
    }
   ],
   "source": [
    "dataset_path = '../DataSet/base_train'\n",
    "\n",
    "# Преобразуем путь в объект pathlib.Path для удобной работы с файловой системой\n",
    "data_dir = pathlib.Path(dataset_path)\n",
    "\n",
    "# Получаем список файлов и директорий в указанной директории и преобразуем его в массив NumPy\n",
    "commands = np.array(tf.io.gfile.listdir(str(data_dir)))\n",
    "\n",
    "print('Команды:', commands)"
   ]
  },
  {
   "cell_type": "code",
   "execution_count": 5,
   "id": "56d38722-7050-417f-92a3-b0c68c017f89",
   "metadata": {
    "execution": {
     "iopub.execute_input": "2025-03-04T17:15:34.514623Z",
     "iopub.status.busy": "2025-03-04T17:15:34.514524Z",
     "iopub.status.idle": "2025-03-04T17:15:34.593331Z",
     "shell.execute_reply": "2025-03-04T17:15:34.593040Z",
     "shell.execute_reply.started": "2025-03-04T17:15:34.514613Z"
    }
   },
   "outputs": [
    {
     "name": "stdout",
     "output_type": "stream",
     "text": [
      "Количество записей: 47348\n"
     ]
    },
    {
     "name": "stderr",
     "output_type": "stream",
     "text": [
      "2025-03-04 20:15:34.572974: E external/local_xla/xla/stream_executor/cuda/cuda_driver.cc:152] failed call to cuInit: INTERNAL: CUDA error: Failed call to cuInit: CUDA_ERROR_NO_DEVICE: no CUDA-capable device is detected\n",
      "2025-03-04 20:15:34.572998: I external/local_xla/xla/stream_executor/cuda/cuda_diagnostics.cc:137] retrieving CUDA diagnostic information for host: flayven-MS-7C91\n",
      "2025-03-04 20:15:34.573006: I external/local_xla/xla/stream_executor/cuda/cuda_diagnostics.cc:144] hostname: flayven-MS-7C91\n",
      "2025-03-04 20:15:34.573099: I external/local_xla/xla/stream_executor/cuda/cuda_diagnostics.cc:168] libcuda reported version is: 550.120.0\n",
      "2025-03-04 20:15:34.573116: I external/local_xla/xla/stream_executor/cuda/cuda_diagnostics.cc:172] kernel reported version is: 550.120.0\n",
      "2025-03-04 20:15:34.573120: I external/local_xla/xla/stream_executor/cuda/cuda_diagnostics.cc:259] kernel version seems to match DSO: 550.120.0\n"
     ]
    }
   ],
   "source": [
    "file_names = tf.io.gfile.glob(str(data_dir) + '/*/*') # Получаем список всех файлов в подкаталогах указанной директории\n",
    "file_names = tf.random.shuffle(file_names) # Перемешиваем\n",
    "print('Количество записей:', len(file_names))"
   ]
  },
  {
   "cell_type": "code",
   "execution_count": 6,
   "id": "9c732c22-d2a5-4793-8da6-be526ff1b83a",
   "metadata": {
    "execution": {
     "iopub.execute_input": "2025-03-04T17:15:34.593722Z",
     "iopub.status.busy": "2025-03-04T17:15:34.593621Z",
     "iopub.status.idle": "2025-03-04T17:15:34.598827Z",
     "shell.execute_reply": "2025-03-04T17:15:34.598567Z",
     "shell.execute_reply.started": "2025-03-04T17:15:34.593712Z"
    }
   },
   "outputs": [
    {
     "name": "stdout",
     "output_type": "stream",
     "text": [
      "Размер обучающего набора: 6400\n",
      "Размер набора валидации: 800\n",
      "Размер тестового набора: 800\n"
     ]
    }
   ],
   "source": [
    "train_files = file_names[:6400]\n",
    "val_files = file_names[6400: 6400 + 800]\n",
    "test_files = file_names[-800:]\n",
    "\n",
    "print('Размер обучающего набора:', len(train_files))\n",
    "print('Размер набора валидации:', len(val_files))\n",
    "print('Размер тестового набора:', len(test_files))"
   ]
  },
  {
   "cell_type": "code",
   "execution_count": 7,
   "id": "81931993-9381-430c-9807-be085c4dba01",
   "metadata": {
    "execution": {
     "iopub.execute_input": "2025-03-04T17:15:34.599218Z",
     "iopub.status.busy": "2025-03-04T17:15:34.599112Z",
     "iopub.status.idle": "2025-03-04T17:15:34.601260Z",
     "shell.execute_reply": "2025-03-04T17:15:34.601026Z",
     "shell.execute_reply.started": "2025-03-04T17:15:34.599208Z"
    }
   },
   "outputs": [],
   "source": [
    "def decode_audio(audio_binary):\n",
    "  audio, _ = tf.audio.decode_wav(contents=audio_binary)  # Декодируем бинарные данные в аудиофайл формата WAV\n",
    "  return tf.squeeze(audio, axis=-1) # Убираем лишнее измерение"
   ]
  },
  {
   "cell_type": "code",
   "execution_count": 8,
   "id": "8167af92-51e5-4be7-bb30-62090a599884",
   "metadata": {
    "execution": {
     "iopub.execute_input": "2025-03-04T17:15:34.601853Z",
     "iopub.status.busy": "2025-03-04T17:15:34.601589Z",
     "iopub.status.idle": "2025-03-04T17:15:34.604948Z",
     "shell.execute_reply": "2025-03-04T17:15:34.604587Z",
     "shell.execute_reply.started": "2025-03-04T17:15:34.601838Z"
    }
   },
   "outputs": [],
   "source": [
    "def get_label(file_path):\n",
    "  parts = tf.strings.split(input=file_path,sep=os.path.sep) # Разбиваем строку пути к файлу на части, используя разделитель\n",
    "  return parts[-2] # Возвращаем название папки-класса"
   ]
  },
  {
   "cell_type": "code",
   "execution_count": 9,
   "id": "433b6503-57cd-4606-b5cb-b1604d099607",
   "metadata": {
    "execution": {
     "iopub.execute_input": "2025-03-04T17:15:34.606698Z",
     "iopub.status.busy": "2025-03-04T17:15:34.606437Z",
     "iopub.status.idle": "2025-03-04T17:15:34.608667Z",
     "shell.execute_reply": "2025-03-04T17:15:34.608366Z",
     "shell.execute_reply.started": "2025-03-04T17:15:34.606685Z"
    }
   },
   "outputs": [],
   "source": [
    "def get_waveform_and_label(file_path):\n",
    "  label = get_label(file_path) \n",
    "  audio_binary = tf.io.read_file(file_path) # Читаем аудиофайл в бинарном формате\n",
    "  waveform = decode_audio(audio_binary)\n",
    "  return waveform, label"
   ]
  },
  {
   "cell_type": "code",
   "execution_count": 10,
   "id": "2490505a-c66e-42c0-bda6-dafac5d8e415",
   "metadata": {
    "execution": {
     "iopub.execute_input": "2025-03-04T17:15:34.609105Z",
     "iopub.status.busy": "2025-03-04T17:15:34.608980Z",
     "iopub.status.idle": "2025-03-04T17:15:34.612529Z",
     "shell.execute_reply": "2025-03-04T17:15:34.612274Z",
     "shell.execute_reply.started": "2025-03-04T17:15:34.609093Z"
    }
   },
   "outputs": [],
   "source": [
    "def get_spectrogram(waveform):\n",
    "    input_len = 16000\n",
    "    waveform = waveform[:input_len] # Обрезаем аудиосигнал до заданной длины\n",
    "    \n",
    "    # Создаём нулевой тензор для дополнения коротких сигналов до нужной длины\n",
    "    zero_padding = tf.zeros([16000] - tf.shape(waveform), dtype=tf.float32)\n",
    "\n",
    "    # Преобразуем тип данных аудиосигнала в float32\n",
    "    waveform = tf.cast(waveform, dtype=tf.float32)\n",
    "    \n",
    "    # Объединяем оригинальный сигнал с нулевым дополнением, чтобы все сигналы имели одинаковую длину\n",
    "    equal_length = tf.concat([waveform, zero_padding], 0)\n",
    "\n",
    "    # Применяем краткосрочное преобразование Фурье (STFT) для получения спектрограммы\n",
    "    spectrogram = tf.signal.stft(equal_length, frame_length=255, frame_step=128)\n",
    "    spectrogram = tf.abs(spectrogram) # Получаем амплитудный спектр\n",
    "    spectrogram = spectrogram[..., tf.newaxis]  # Добавляем новое измерение\n",
    "    return spectrogram"
   ]
  },
  {
   "cell_type": "code",
   "execution_count": 11,
   "id": "37e07917-2c62-4a50-8b2a-e5a104c40e17",
   "metadata": {
    "execution": {
     "iopub.execute_input": "2025-03-04T17:15:34.612916Z",
     "iopub.status.busy": "2025-03-04T17:15:34.612809Z",
     "iopub.status.idle": "2025-03-04T17:15:34.617422Z",
     "shell.execute_reply": "2025-03-04T17:15:34.617114Z",
     "shell.execute_reply.started": "2025-03-04T17:15:34.612905Z"
    }
   },
   "outputs": [],
   "source": [
    "def get_spectrogram_and_label_id(audio, label):\n",
    "  spectrogram = get_spectrogram(audio)\n",
    "  label_id = tf.argmax(label == commands) # Определяем индекс метки в массиве команд\n",
    "  return spectrogram, label_id"
   ]
  },
  {
   "cell_type": "code",
   "execution_count": 12,
   "id": "adb1c246-7f50-46b0-99ef-306f42ee108e",
   "metadata": {
    "execution": {
     "iopub.execute_input": "2025-03-04T17:15:34.617900Z",
     "iopub.status.busy": "2025-03-04T17:15:34.617773Z",
     "iopub.status.idle": "2025-03-04T17:15:34.621039Z",
     "shell.execute_reply": "2025-03-04T17:15:34.620777Z",
     "shell.execute_reply.started": "2025-03-04T17:15:34.617887Z"
    }
   },
   "outputs": [],
   "source": [
    "def preprocess_dataset(files):\n",
    "    files_ds = tf.data.Dataset.from_tensor_slices(files) # Создаём TensorFlow Dataset из списка файлов\n",
    "    \n",
    "    # Применяем две функции обработки:\n",
    "    # 1. get_waveform_and_label — загружает аудиофайл, декодирует его в форму волны и извлекает метку\n",
    "    # 2. get_spectrogram_and_label_id — преобразует форму волны в спектрограмму и присваивает числовой идентификатор метке\n",
    "    output_ds = files_ds.map(map_func=get_waveform_and_label).map(map_func=get_spectrogram_and_label_id)\n",
    "    \n",
    "    return output_ds"
   ]
  },
  {
   "cell_type": "code",
   "execution_count": 13,
   "id": "63f6c023-fd44-492a-adc1-f1330967acdd",
   "metadata": {
    "execution": {
     "iopub.execute_input": "2025-03-04T17:15:34.621442Z",
     "iopub.status.busy": "2025-03-04T17:15:34.621332Z",
     "iopub.status.idle": "2025-03-04T17:15:34.884431Z",
     "shell.execute_reply": "2025-03-04T17:15:34.884116Z",
     "shell.execute_reply.started": "2025-03-04T17:15:34.621431Z"
    }
   },
   "outputs": [],
   "source": [
    "spectrogram_ds = preprocess_dataset(train_files)\n",
    "train_ds = spectrogram_ds\n",
    "val_ds = preprocess_dataset(val_files)\n",
    "test_ds = preprocess_dataset(test_files)"
   ]
  },
  {
   "cell_type": "code",
   "execution_count": 14,
   "id": "38f971ba-ea10-47f1-bf7a-af985ebdb2c7",
   "metadata": {
    "execution": {
     "iopub.execute_input": "2025-03-04T17:15:34.884976Z",
     "iopub.status.busy": "2025-03-04T17:15:34.884829Z",
     "iopub.status.idle": "2025-03-04T17:15:37.120388Z",
     "shell.execute_reply": "2025-03-04T17:15:37.120063Z",
     "shell.execute_reply.started": "2025-03-04T17:15:34.884961Z"
    }
   },
   "outputs": [
    {
     "name": "stderr",
     "output_type": "stream",
     "text": [
      "2025-03-04 20:15:36.571785: I tensorflow/core/framework/local_rendezvous.cc:405] Local rendezvous is aborting with status: OUT_OF_RANGE: End of sequence\n",
      "2025-03-04 20:15:36.860809: I tensorflow/core/framework/local_rendezvous.cc:405] Local rendezvous is aborting with status: OUT_OF_RANGE: End of sequence\n"
     ]
    }
   ],
   "source": [
    "# Преобразуем датасеты для обучения на алгоритмах машинного обучения\n",
    "X_train, y_train = dataset_to_numpy(train_ds)\n",
    "X_val, y_val = dataset_to_numpy(val_ds)\n",
    "X_test, y_test = dataset_to_numpy(test_ds)"
   ]
  },
  {
   "cell_type": "code",
   "execution_count": 15,
   "id": "2f731aa2-fee4-4099-8c39-7602b1c1788a",
   "metadata": {
    "execution": {
     "iopub.execute_input": "2025-03-04T17:15:37.120827Z",
     "iopub.status.busy": "2025-03-04T17:15:37.120725Z",
     "iopub.status.idle": "2025-03-04T17:15:37.128119Z",
     "shell.execute_reply": "2025-03-04T17:15:37.127837Z",
     "shell.execute_reply.started": "2025-03-04T17:15:37.120816Z"
    }
   },
   "outputs": [],
   "source": [
    "batch_size = 128\n",
    "\n",
    "train_ds = (train_ds\n",
    "            .batch(batch_size) # Группируем данные в батчи размером 64\n",
    "            .cache() # Кешируем данные в памяти для ускорения обучения\n",
    "            .prefetch(1) # Загружаем следующий батч данных заранее для увеличения скорости обучения\n",
    "           )\n",
    "\n",
    "val_ds = (val_ds\n",
    "          .batch(batch_size)\n",
    "          .cache()\n",
    "          .prefetch(1)\n",
    "         )"
   ]
  },
  {
   "cell_type": "code",
   "execution_count": 16,
   "id": "a37cdea1-526c-42b8-9148-841b5108bea3",
   "metadata": {
    "execution": {
     "iopub.execute_input": "2025-03-04T17:15:37.128567Z",
     "iopub.status.busy": "2025-03-04T17:15:37.128464Z",
     "iopub.status.idle": "2025-03-04T17:15:37.172113Z",
     "shell.execute_reply": "2025-03-04T17:15:37.171832Z",
     "shell.execute_reply.started": "2025-03-04T17:15:37.128557Z"
    }
   },
   "outputs": [
    {
     "name": "stdout",
     "output_type": "stream",
     "text": [
      "Размер входа (124, 129, 1)\n"
     ]
    },
    {
     "name": "stderr",
     "output_type": "stream",
     "text": [
      "2025-03-04 20:15:37.169716: I tensorflow/core/framework/local_rendezvous.cc:405] Local rendezvous is aborting with status: OUT_OF_RANGE: End of sequence\n"
     ]
    }
   ],
   "source": [
    "# Получаем размер входных данных \n",
    "for spectrogram, _ in spectrogram_ds.take(1):\n",
    "  input_shape = spectrogram.shape\n",
    "print('Размер входа', input_shape)\n",
    "\n",
    "num_labels = len(commands)"
   ]
  },
  {
   "cell_type": "markdown",
   "id": "816f188f-a28c-4a99-802c-628ef54040f5",
   "metadata": {},
   "source": [
    "# ML-алгоритмы на спектрограммах"
   ]
  },
  {
   "cell_type": "code",
   "execution_count": 17,
   "id": "546166dd-fb5b-4f78-9186-42442e60c0c7",
   "metadata": {
    "execution": {
     "iopub.execute_input": "2025-03-04T17:15:37.172549Z",
     "iopub.status.busy": "2025-03-04T17:15:37.172446Z",
     "iopub.status.idle": "2025-03-04T17:17:09.911816Z",
     "shell.execute_reply": "2025-03-04T17:17:09.911523Z",
     "shell.execute_reply.started": "2025-03-04T17:15:37.172539Z"
    }
   },
   "outputs": [
    {
     "name": "stdout",
     "output_type": "stream",
     "text": [
      "SVM accuracy on test data: 0.31\n"
     ]
    }
   ],
   "source": [
    "# Создаем и обучаем модель SVM\n",
    "svm_model = SVC(kernel='linear')\n",
    "svm_model.fit(X_train, y_train)\n",
    "\n",
    "y_pred = svm_model.predict(X_test)\n",
    "accuracy = accuracy_score(y_test, y_pred)\n",
    "print(f'SVM accuracy on test data: {accuracy:.2f}')"
   ]
  },
  {
   "cell_type": "code",
   "execution_count": 18,
   "id": "1e26aa62-71d5-488c-923d-7e3fbbebb6da",
   "metadata": {
    "execution": {
     "iopub.execute_input": "2025-03-04T17:17:09.912258Z",
     "iopub.status.busy": "2025-03-04T17:17:09.912140Z",
     "iopub.status.idle": "2025-03-04T17:18:25.719185Z",
     "shell.execute_reply": "2025-03-04T17:18:25.718909Z",
     "shell.execute_reply.started": "2025-03-04T17:17:09.912247Z"
    }
   },
   "outputs": [
    {
     "name": "stdout",
     "output_type": "stream",
     "text": [
      "Random Forest accuracy on test data: 0.52\n"
     ]
    }
   ],
   "source": [
    "# Создаем и обучаем модель Random Forest\n",
    "rf_model = RandomForestClassifier(n_estimators=100, random_state=42)\n",
    "rf_model.fit(X_train, y_train)\n",
    "\n",
    "y_pred = rf_model.predict(X_test)\n",
    "accuracy = accuracy_score(y_test, y_pred)\n",
    "print(f'Random Forest accuracy on test data: {accuracy:.2f}')"
   ]
  },
  {
   "cell_type": "code",
   "execution_count": 19,
   "id": "98c3fd3e-17ac-4006-a670-cbba85fa0f7b",
   "metadata": {
    "execution": {
     "iopub.execute_input": "2025-03-04T17:18:25.719611Z",
     "iopub.status.busy": "2025-03-04T17:18:25.719507Z",
     "iopub.status.idle": "2025-03-04T17:18:26.915932Z",
     "shell.execute_reply": "2025-03-04T17:18:26.915658Z",
     "shell.execute_reply.started": "2025-03-04T17:18:25.719601Z"
    }
   },
   "outputs": [
    {
     "name": "stdout",
     "output_type": "stream",
     "text": [
      "KNN accuracy on test data: 0.35\n"
     ]
    }
   ],
   "source": [
    "# Создаем и обучаем модель KNN\n",
    "knn_model = KNeighborsClassifier(n_neighbors=5)\n",
    "knn_model.fit(X_train, y_train)\n",
    "\n",
    "y_pred = knn_model.predict(X_test)\n",
    "accuracy = accuracy_score(y_test, y_pred)\n",
    "print(f'KNN accuracy on test data: {accuracy:.2f}')"
   ]
  },
  {
   "cell_type": "code",
   "execution_count": 20,
   "id": "9294be33-7852-44f1-8331-99d1b96c14dc",
   "metadata": {
    "execution": {
     "iopub.execute_input": "2025-03-04T17:18:26.916390Z",
     "iopub.status.busy": "2025-03-04T17:18:26.916256Z",
     "iopub.status.idle": "2025-03-04T17:20:10.827207Z",
     "shell.execute_reply": "2025-03-04T17:20:10.826875Z",
     "shell.execute_reply.started": "2025-03-04T17:18:26.916376Z"
    }
   },
   "outputs": [
    {
     "name": "stdout",
     "output_type": "stream",
     "text": [
      "Logistic Regression accuracy on test data: 0.38\n"
     ]
    }
   ],
   "source": [
    "# Создаем и обучаем модель логистической регрессии\n",
    "logreg_model = LogisticRegression(max_iter=1000)\n",
    "logreg_model.fit(X_train, y_train)\n",
    "\n",
    "y_pred = logreg_model.predict(X_test)\n",
    "accuracy = accuracy_score(y_test, y_pred)\n",
    "print(f'Logistic Regression accuracy on test data: {accuracy:.2f}')"
   ]
  },
  {
   "cell_type": "markdown",
   "id": "bd4e5cfe-a8cb-4ea1-a86d-ef501bd26ab8",
   "metadata": {
    "execution": {
     "iopub.execute_input": "2025-03-03T17:57:14.605920Z",
     "iopub.status.busy": "2025-03-03T17:57:14.605270Z",
     "iopub.status.idle": "2025-03-03T17:57:14.608454Z",
     "shell.execute_reply": "2025-03-03T17:57:14.608044Z",
     "shell.execute_reply.started": "2025-03-03T17:57:14.605897Z"
    }
   },
   "source": [
    "# Полносвязная нейронная сеть, обученная на спектрограммах"
   ]
  },
  {
   "cell_type": "code",
   "execution_count": 21,
   "id": "0fd504bf-77ce-447e-8fd4-b8998dadcf43",
   "metadata": {
    "execution": {
     "iopub.execute_input": "2025-03-04T17:20:10.827761Z",
     "iopub.status.busy": "2025-03-04T17:20:10.827567Z",
     "iopub.status.idle": "2025-03-04T17:20:10.907462Z",
     "shell.execute_reply": "2025-03-04T17:20:10.907206Z",
     "shell.execute_reply.started": "2025-03-04T17:20:10.827748Z"
    }
   },
   "outputs": [
    {
     "data": {
      "text/html": [
       "<pre style=\"white-space:pre;overflow-x:auto;line-height:normal;font-family:Menlo,'DejaVu Sans Mono',consolas,'Courier New',monospace\"><span style=\"font-weight: bold\">Model: \"sequential\"</span>\n",
       "</pre>\n"
      ],
      "text/plain": [
       "\u001b[1mModel: \"sequential\"\u001b[0m\n"
      ]
     },
     "metadata": {},
     "output_type": "display_data"
    },
    {
     "data": {
      "text/html": [
       "<pre style=\"white-space:pre;overflow-x:auto;line-height:normal;font-family:Menlo,'DejaVu Sans Mono',consolas,'Courier New',monospace\">┏━━━━━━━━━━━━━━━━━━━━━━━━━━━━━━━━━┳━━━━━━━━━━━━━━━━━━━━━━━━┳━━━━━━━━━━━━━━━┓\n",
       "┃<span style=\"font-weight: bold\"> Layer (type)                    </span>┃<span style=\"font-weight: bold\"> Output Shape           </span>┃<span style=\"font-weight: bold\">       Param # </span>┃\n",
       "┡━━━━━━━━━━━━━━━━━━━━━━━━━━━━━━━━━╇━━━━━━━━━━━━━━━━━━━━━━━━╇━━━━━━━━━━━━━━━┩\n",
       "│ dense (<span style=\"color: #0087ff; text-decoration-color: #0087ff\">Dense</span>)                   │ (<span style=\"color: #00d7ff; text-decoration-color: #00d7ff\">None</span>, <span style=\"color: #00af00; text-decoration-color: #00af00\">512</span>)            │     <span style=\"color: #00af00; text-decoration-color: #00af00\">8,190,464</span> │\n",
       "├─────────────────────────────────┼────────────────────────┼───────────────┤\n",
       "│ dropout (<span style=\"color: #0087ff; text-decoration-color: #0087ff\">Dropout</span>)               │ (<span style=\"color: #00d7ff; text-decoration-color: #00d7ff\">None</span>, <span style=\"color: #00af00; text-decoration-color: #00af00\">512</span>)            │             <span style=\"color: #00af00; text-decoration-color: #00af00\">0</span> │\n",
       "├─────────────────────────────────┼────────────────────────┼───────────────┤\n",
       "│ dense_1 (<span style=\"color: #0087ff; text-decoration-color: #0087ff\">Dense</span>)                 │ (<span style=\"color: #00d7ff; text-decoration-color: #00d7ff\">None</span>, <span style=\"color: #00af00; text-decoration-color: #00af00\">256</span>)            │       <span style=\"color: #00af00; text-decoration-color: #00af00\">131,328</span> │\n",
       "├─────────────────────────────────┼────────────────────────┼───────────────┤\n",
       "│ dropout_1 (<span style=\"color: #0087ff; text-decoration-color: #0087ff\">Dropout</span>)             │ (<span style=\"color: #00d7ff; text-decoration-color: #00d7ff\">None</span>, <span style=\"color: #00af00; text-decoration-color: #00af00\">256</span>)            │             <span style=\"color: #00af00; text-decoration-color: #00af00\">0</span> │\n",
       "├─────────────────────────────────┼────────────────────────┼───────────────┤\n",
       "│ dense_2 (<span style=\"color: #0087ff; text-decoration-color: #0087ff\">Dense</span>)                 │ (<span style=\"color: #00d7ff; text-decoration-color: #00d7ff\">None</span>, <span style=\"color: #00af00; text-decoration-color: #00af00\">128</span>)            │        <span style=\"color: #00af00; text-decoration-color: #00af00\">32,896</span> │\n",
       "├─────────────────────────────────┼────────────────────────┼───────────────┤\n",
       "│ dense_3 (<span style=\"color: #0087ff; text-decoration-color: #0087ff\">Dense</span>)                 │ (<span style=\"color: #00d7ff; text-decoration-color: #00d7ff\">None</span>, <span style=\"color: #00af00; text-decoration-color: #00af00\">20</span>)             │         <span style=\"color: #00af00; text-decoration-color: #00af00\">2,580</span> │\n",
       "└─────────────────────────────────┴────────────────────────┴───────────────┘\n",
       "</pre>\n"
      ],
      "text/plain": [
       "┏━━━━━━━━━━━━━━━━━━━━━━━━━━━━━━━━━┳━━━━━━━━━━━━━━━━━━━━━━━━┳━━━━━━━━━━━━━━━┓\n",
       "┃\u001b[1m \u001b[0m\u001b[1mLayer (type)                   \u001b[0m\u001b[1m \u001b[0m┃\u001b[1m \u001b[0m\u001b[1mOutput Shape          \u001b[0m\u001b[1m \u001b[0m┃\u001b[1m \u001b[0m\u001b[1m      Param #\u001b[0m\u001b[1m \u001b[0m┃\n",
       "┡━━━━━━━━━━━━━━━━━━━━━━━━━━━━━━━━━╇━━━━━━━━━━━━━━━━━━━━━━━━╇━━━━━━━━━━━━━━━┩\n",
       "│ dense (\u001b[38;5;33mDense\u001b[0m)                   │ (\u001b[38;5;45mNone\u001b[0m, \u001b[38;5;34m512\u001b[0m)            │     \u001b[38;5;34m8,190,464\u001b[0m │\n",
       "├─────────────────────────────────┼────────────────────────┼───────────────┤\n",
       "│ dropout (\u001b[38;5;33mDropout\u001b[0m)               │ (\u001b[38;5;45mNone\u001b[0m, \u001b[38;5;34m512\u001b[0m)            │             \u001b[38;5;34m0\u001b[0m │\n",
       "├─────────────────────────────────┼────────────────────────┼───────────────┤\n",
       "│ dense_1 (\u001b[38;5;33mDense\u001b[0m)                 │ (\u001b[38;5;45mNone\u001b[0m, \u001b[38;5;34m256\u001b[0m)            │       \u001b[38;5;34m131,328\u001b[0m │\n",
       "├─────────────────────────────────┼────────────────────────┼───────────────┤\n",
       "│ dropout_1 (\u001b[38;5;33mDropout\u001b[0m)             │ (\u001b[38;5;45mNone\u001b[0m, \u001b[38;5;34m256\u001b[0m)            │             \u001b[38;5;34m0\u001b[0m │\n",
       "├─────────────────────────────────┼────────────────────────┼───────────────┤\n",
       "│ dense_2 (\u001b[38;5;33mDense\u001b[0m)                 │ (\u001b[38;5;45mNone\u001b[0m, \u001b[38;5;34m128\u001b[0m)            │        \u001b[38;5;34m32,896\u001b[0m │\n",
       "├─────────────────────────────────┼────────────────────────┼───────────────┤\n",
       "│ dense_3 (\u001b[38;5;33mDense\u001b[0m)                 │ (\u001b[38;5;45mNone\u001b[0m, \u001b[38;5;34m20\u001b[0m)             │         \u001b[38;5;34m2,580\u001b[0m │\n",
       "└─────────────────────────────────┴────────────────────────┴───────────────┘\n"
      ]
     },
     "metadata": {},
     "output_type": "display_data"
    },
    {
     "data": {
      "text/html": [
       "<pre style=\"white-space:pre;overflow-x:auto;line-height:normal;font-family:Menlo,'DejaVu Sans Mono',consolas,'Courier New',monospace\"><span style=\"font-weight: bold\"> Total params: </span><span style=\"color: #00af00; text-decoration-color: #00af00\">8,357,268</span> (31.88 MB)\n",
       "</pre>\n"
      ],
      "text/plain": [
       "\u001b[1m Total params: \u001b[0m\u001b[38;5;34m8,357,268\u001b[0m (31.88 MB)\n"
      ]
     },
     "metadata": {},
     "output_type": "display_data"
    },
    {
     "data": {
      "text/html": [
       "<pre style=\"white-space:pre;overflow-x:auto;line-height:normal;font-family:Menlo,'DejaVu Sans Mono',consolas,'Courier New',monospace\"><span style=\"font-weight: bold\"> Trainable params: </span><span style=\"color: #00af00; text-decoration-color: #00af00\">8,357,268</span> (31.88 MB)\n",
       "</pre>\n"
      ],
      "text/plain": [
       "\u001b[1m Trainable params: \u001b[0m\u001b[38;5;34m8,357,268\u001b[0m (31.88 MB)\n"
      ]
     },
     "metadata": {},
     "output_type": "display_data"
    },
    {
     "data": {
      "text/html": [
       "<pre style=\"white-space:pre;overflow-x:auto;line-height:normal;font-family:Menlo,'DejaVu Sans Mono',consolas,'Courier New',monospace\"><span style=\"font-weight: bold\"> Non-trainable params: </span><span style=\"color: #00af00; text-decoration-color: #00af00\">0</span> (0.00 B)\n",
       "</pre>\n"
      ],
      "text/plain": [
       "\u001b[1m Non-trainable params: \u001b[0m\u001b[38;5;34m0\u001b[0m (0.00 B)\n"
      ]
     },
     "metadata": {},
     "output_type": "display_data"
    }
   ],
   "source": [
    "model_spect_mlp = models.Sequential([\n",
    "    layers.Input(shape=(input_shape[0] * input_shape[1],)),  # Разворачиваем спектрограмму в вектор\n",
    "    \n",
    "    layers.Dense(512, activation='relu'),\n",
    "    layers.Dropout(0.3),  # Регуляризация для предотвращения переобучения\n",
    "    \n",
    "    layers.Dense(256, activation='relu'),\n",
    "    layers.Dropout(0.3),\n",
    "    \n",
    "    layers.Dense(128, activation='relu'),\n",
    "    layers.Dense(num_labels)  # Выходной слой, количество нейронов равно числу классов\n",
    "])\n",
    "\n",
    "model_spect_mlp.summary()"
   ]
  },
  {
   "cell_type": "code",
   "execution_count": 22,
   "id": "8cf74afc-d068-4cf5-9dba-2f6c229162dd",
   "metadata": {
    "execution": {
     "iopub.execute_input": "2025-03-04T17:20:10.907927Z",
     "iopub.status.busy": "2025-03-04T17:20:10.907806Z",
     "iopub.status.idle": "2025-03-04T17:20:10.914071Z",
     "shell.execute_reply": "2025-03-04T17:20:10.913796Z",
     "shell.execute_reply.started": "2025-03-04T17:20:10.907915Z"
    }
   },
   "outputs": [],
   "source": [
    "model_spect_mlp.compile(\n",
    "    optimizer=tf.keras.optimizers.Adam(),\n",
    "    loss=tf.keras.losses.SparseCategoricalCrossentropy(from_logits=True),\n",
    "    metrics=['accuracy']\n",
    ")"
   ]
  },
  {
   "cell_type": "code",
   "execution_count": 23,
   "id": "c8b2c096-60e6-40d4-99c7-e6acb2727547",
   "metadata": {
    "execution": {
     "iopub.execute_input": "2025-03-04T17:20:10.914500Z",
     "iopub.status.busy": "2025-03-04T17:20:10.914387Z",
     "iopub.status.idle": "2025-03-04T17:20:10.947395Z",
     "shell.execute_reply": "2025-03-04T17:20:10.947114Z",
     "shell.execute_reply.started": "2025-03-04T17:20:10.914487Z"
    }
   },
   "outputs": [],
   "source": [
    "train_ds_mlp = train_ds.map(lambda x, y: (tf.reshape(x, [-1, input_shape[0] * input_shape[1]]), y))\n",
    "val_ds_mlp = val_ds.map(lambda x, y: (tf.reshape(x, [-1, input_shape[0] * input_shape[1]]), y))\n",
    "test_ds_mlp = test_ds.map(lambda x, y: (tf.reshape(x, [-1, input_shape[0] * input_shape[1]]), y))"
   ]
  },
  {
   "cell_type": "code",
   "execution_count": 24,
   "id": "0dc3d0c9-30bd-482d-ba80-185d1bd377ad",
   "metadata": {
    "execution": {
     "iopub.execute_input": "2025-03-04T17:20:10.947864Z",
     "iopub.status.busy": "2025-03-04T17:20:10.947761Z",
     "iopub.status.idle": "2025-03-04T17:20:47.007576Z",
     "shell.execute_reply": "2025-03-04T17:20:47.007269Z",
     "shell.execute_reply.started": "2025-03-04T17:20:10.947854Z"
    }
   },
   "outputs": [
    {
     "name": "stdout",
     "output_type": "stream",
     "text": [
      "Epoch 1/50\n",
      "\u001b[1m50/50\u001b[0m \u001b[32m━━━━━━━━━━━━━━━━━━━━\u001b[0m\u001b[37m\u001b[0m \u001b[1m4s\u001b[0m 58ms/step - accuracy: 0.1076 - loss: 3.1614 - val_accuracy: 0.2675 - val_loss: 2.5346\n",
      "Epoch 2/50\n",
      "\u001b[1m50/50\u001b[0m \u001b[32m━━━━━━━━━━━━━━━━━━━━\u001b[0m\u001b[37m\u001b[0m \u001b[1m2s\u001b[0m 50ms/step - accuracy: 0.2622 - loss: 2.5409 - val_accuracy: 0.3850 - val_loss: 2.2088\n",
      "Epoch 3/50\n",
      "\u001b[1m50/50\u001b[0m \u001b[32m━━━━━━━━━━━━━━━━━━━━\u001b[0m\u001b[37m\u001b[0m \u001b[1m2s\u001b[0m 50ms/step - accuracy: 0.3435 - loss: 2.2643 - val_accuracy: 0.4512 - val_loss: 2.0220\n",
      "Epoch 4/50\n",
      "\u001b[1m50/50\u001b[0m \u001b[32m━━━━━━━━━━━━━━━━━━━━\u001b[0m\u001b[37m\u001b[0m \u001b[1m2s\u001b[0m 49ms/step - accuracy: 0.4088 - loss: 2.0039 - val_accuracy: 0.4913 - val_loss: 1.8899\n",
      "Epoch 5/50\n",
      "\u001b[1m50/50\u001b[0m \u001b[32m━━━━━━━━━━━━━━━━━━━━\u001b[0m\u001b[37m\u001b[0m \u001b[1m2s\u001b[0m 49ms/step - accuracy: 0.4612 - loss: 1.8209 - val_accuracy: 0.5362 - val_loss: 1.7766\n",
      "Epoch 6/50\n",
      "\u001b[1m50/50\u001b[0m \u001b[32m━━━━━━━━━━━━━━━━━━━━\u001b[0m\u001b[37m\u001b[0m \u001b[1m2s\u001b[0m 49ms/step - accuracy: 0.4983 - loss: 1.6619 - val_accuracy: 0.5537 - val_loss: 1.6315\n",
      "Epoch 7/50\n",
      "\u001b[1m50/50\u001b[0m \u001b[32m━━━━━━━━━━━━━━━━━━━━\u001b[0m\u001b[37m\u001b[0m \u001b[1m2s\u001b[0m 49ms/step - accuracy: 0.5370 - loss: 1.5445 - val_accuracy: 0.5900 - val_loss: 1.6006\n",
      "Epoch 8/50\n",
      "\u001b[1m50/50\u001b[0m \u001b[32m━━━━━━━━━━━━━━━━━━━━\u001b[0m\u001b[37m\u001b[0m \u001b[1m3s\u001b[0m 55ms/step - accuracy: 0.5838 - loss: 1.4020 - val_accuracy: 0.5675 - val_loss: 1.6878\n",
      "Epoch 9/50\n",
      "\u001b[1m50/50\u001b[0m \u001b[32m━━━━━━━━━━━━━━━━━━━━\u001b[0m\u001b[37m\u001b[0m \u001b[1m2s\u001b[0m 49ms/step - accuracy: 0.6140 - loss: 1.2939 - val_accuracy: 0.6162 - val_loss: 1.5155\n",
      "Epoch 10/50\n",
      "\u001b[1m50/50\u001b[0m \u001b[32m━━━━━━━━━━━━━━━━━━━━\u001b[0m\u001b[37m\u001b[0m \u001b[1m2s\u001b[0m 49ms/step - accuracy: 0.6457 - loss: 1.1813 - val_accuracy: 0.6275 - val_loss: 1.4738\n",
      "Epoch 11/50\n",
      "\u001b[1m50/50\u001b[0m \u001b[32m━━━━━━━━━━━━━━━━━━━━\u001b[0m\u001b[37m\u001b[0m \u001b[1m2s\u001b[0m 48ms/step - accuracy: 0.6699 - loss: 1.1216 - val_accuracy: 0.6350 - val_loss: 1.4989\n",
      "Epoch 12/50\n",
      "\u001b[1m50/50\u001b[0m \u001b[32m━━━━━━━━━━━━━━━━━━━━\u001b[0m\u001b[37m\u001b[0m \u001b[1m3s\u001b[0m 50ms/step - accuracy: 0.7008 - loss: 1.0498 - val_accuracy: 0.6587 - val_loss: 1.4062\n",
      "Epoch 13/50\n",
      "\u001b[1m50/50\u001b[0m \u001b[32m━━━━━━━━━━━━━━━━━━━━\u001b[0m\u001b[37m\u001b[0m \u001b[1m2s\u001b[0m 50ms/step - accuracy: 0.7256 - loss: 0.9536 - val_accuracy: 0.6525 - val_loss: 1.4397\n",
      "Epoch 14/50\n",
      "\u001b[1m50/50\u001b[0m \u001b[32m━━━━━━━━━━━━━━━━━━━━\u001b[0m\u001b[37m\u001b[0m \u001b[1m2s\u001b[0m 49ms/step - accuracy: 0.7431 - loss: 0.8888 - val_accuracy: 0.6500 - val_loss: 1.4797\n",
      "Epoch 14: early stopping\n"
     ]
    }
   ],
   "source": [
    "EPOCHS = 50\n",
    "history_mlp = model_spect_mlp.fit(\n",
    "    train_ds_mlp,\n",
    "    validation_data=val_ds_mlp,\n",
    "    epochs=EPOCHS,\n",
    "    callbacks=tf.keras.callbacks.EarlyStopping(monitor='val_loss', patience=2, verbose=1)\n",
    ")"
   ]
  },
  {
   "cell_type": "code",
   "execution_count": 25,
   "id": "ced62b45-d141-4c25-be25-b779e52bd4af",
   "metadata": {
    "execution": {
     "iopub.execute_input": "2025-03-04T17:20:47.008166Z",
     "iopub.status.busy": "2025-03-04T17:20:47.008034Z",
     "iopub.status.idle": "2025-03-04T17:20:47.073441Z",
     "shell.execute_reply": "2025-03-04T17:20:47.073190Z",
     "shell.execute_reply.started": "2025-03-04T17:20:47.008153Z"
    }
   },
   "outputs": [
    {
     "data": {
      "image/png": "[encoded data removed]",
      "text/plain": [
       "<Figure size 640x480 with 1 Axes>"
      ]
     },
     "metadata": {},
     "output_type": "display_data"
    }
   ],
   "source": [
    "metrics = history_mlp.history\n",
    "plt.plot(history_mlp.epoch, metrics['loss'], metrics['val_loss'])\n",
    "plt.legend(['loss', 'val_loss'])\n",
    "plt.show()"
   ]
  },
  {
   "cell_type": "code",
   "execution_count": 26,
   "id": "d6d29362-85d8-4cd5-803f-f21bc8d40a31",
   "metadata": {
    "execution": {
     "iopub.execute_input": "2025-03-04T17:20:47.073863Z",
     "iopub.status.busy": "2025-03-04T17:20:47.073754Z",
     "iopub.status.idle": "2025-03-04T17:20:47.225429Z",
     "shell.execute_reply": "2025-03-04T17:20:47.225138Z",
     "shell.execute_reply.started": "2025-03-04T17:20:47.073852Z"
    }
   },
   "outputs": [],
   "source": [
    "test_audio = []\n",
    "test_labels = []\n",
    "\n",
    "for audio, label in test_ds_mlp:\n",
    "  test_audio.append(audio.numpy()) # Преобразуем тензор в массив NumPy и добавляем в список\n",
    "  test_labels.append(label.numpy()) # Аналогично преобразуем метки\n",
    "\n",
    "# Преобразуем списки в массивы NumPy для удобной обработки\n",
    "test_audio = np.array(test_audio)\n",
    "test_labels = np.array(test_labels)\n",
    "\n",
    "# Убираем лишнее измерение\n",
    "test_audio = np.squeeze(test_audio, axis=1)"
   ]
  },
  {
   "cell_type": "code",
   "execution_count": 27,
   "id": "ccf97201-2e42-46b3-b011-01abb1f88302",
   "metadata": {
    "execution": {
     "iopub.execute_input": "2025-03-04T17:20:47.227824Z",
     "iopub.status.busy": "2025-03-04T17:20:47.227626Z",
     "iopub.status.idle": "2025-03-04T17:20:47.412766Z",
     "shell.execute_reply": "2025-03-04T17:20:47.412396Z",
     "shell.execute_reply.started": "2025-03-04T17:20:47.227813Z"
    }
   },
   "outputs": [
    {
     "name": "stdout",
     "output_type": "stream",
     "text": [
      "\u001b[1m25/25\u001b[0m \u001b[32m━━━━━━━━━━━━━━━━━━━━\u001b[0m\u001b[37m\u001b[0m \u001b[1m0s\u001b[0m 2ms/step \n",
      "Точность на тестовом наборе: 66%\n"
     ]
    }
   ],
   "source": [
    "y_pred = np.argmax(model_spect_mlp.predict(test_audio), axis=1) # Получаем предсказания модели на тестовом наборе\n",
    "y_true = test_labels # Истинные метки классов\n",
    "\n",
    "test_acc = sum(y_pred == y_true) / len(y_true) # Вычисляем точность на тестовом наборе\n",
    "print(f'Точность на тестовом наборе: {test_acc:.0%}')"
   ]
  },
  {
   "cell_type": "code",
   "execution_count": 28,
   "id": "e6255b84-e23a-4046-9d32-bf4124badcfa",
   "metadata": {
    "execution": {
     "iopub.execute_input": "2025-03-04T17:20:47.413245Z",
     "iopub.status.busy": "2025-03-04T17:20:47.413099Z",
     "iopub.status.idle": "2025-03-04T17:20:47.744026Z",
     "shell.execute_reply": "2025-03-04T17:20:47.743712Z",
     "shell.execute_reply.started": "2025-03-04T17:20:47.413233Z"
    }
   },
   "outputs": [
    {
     "data": {
      "image/png": "[encoded data removed]",
      "text/plain": [
       "<Figure size 1000x800 with 2 Axes>"
      ]
     },
     "metadata": {},
     "output_type": "display_data"
    }
   ],
   "source": [
    "confusion_mtx = tf.math.confusion_matrix(y_true, y_pred) # Вычисляем матрицу ошибок\n",
    "plt.figure(figsize=(10, 8))\n",
    "\n",
    "# Строим тепловую карту (heatmap) для визуализации матрицы ошибок\n",
    "# xticklabels=commands - метки классов для оси X (предсказанные значения)\n",
    "# yticklabels=commands - метки классов для оси Y (истинные значения)\n",
    "# annot=True - отображать значения в ячейках матрицы\n",
    "# fmt='g' - формат отображения чисел (общий формат, без лишних знаков)\n",
    "sns.heatmap(confusion_mtx,\n",
    "            xticklabels=commands,\n",
    "            yticklabels=commands,\n",
    "            annot=True, fmt='g')\n",
    "plt.xlabel('Prediction')\n",
    "plt.ylabel('Label')\n",
    "plt.show()"
   ]
  },
  {
   "cell_type": "code",
   "execution_count": 29,
   "id": "120f5b71-96d1-4808-a6b4-c54c6bef9a9e",
   "metadata": {
    "execution": {
     "iopub.execute_input": "2025-03-04T17:20:47.744483Z",
     "iopub.status.busy": "2025-03-04T17:20:47.744362Z",
     "iopub.status.idle": "2025-03-04T17:20:48.130061Z",
     "shell.execute_reply": "2025-03-04T17:20:48.129652Z",
     "shell.execute_reply.started": "2025-03-04T17:20:47.744471Z"
    }
   },
   "outputs": [],
   "source": [
    "model_spect_mlp.save('../Models/spect_mlp.keras')"
   ]
  },
  {
   "cell_type": "markdown",
   "id": "d68a470d-7522-44a1-b82c-a4da17f5e5e6",
   "metadata": {},
   "source": [
    "# Сверточная нейронная сеть, обученная на спектрограммах"
   ]
  },
  {
   "cell_type": "code",
   "execution_count": 30,
   "id": "244d9092-7a72-41dd-889e-6ddfa787769b",
   "metadata": {
    "execution": {
     "iopub.execute_input": "2025-03-04T17:20:48.130729Z",
     "iopub.status.busy": "2025-03-04T17:20:48.130553Z",
     "iopub.status.idle": "2025-03-04T17:20:53.818855Z",
     "shell.execute_reply": "2025-03-04T17:20:53.818556Z",
     "shell.execute_reply.started": "2025-03-04T17:20:48.130713Z"
    }
   },
   "outputs": [],
   "source": [
    "norm_layer = layers.Normalization() # Создаём слой нормализации данных\n",
    "\n",
    "# Адаптируем слой нормализации на основе спектрограмм из датасета\n",
    "norm_layer.adapt(data=spectrogram_ds.map(map_func=lambda spec, label: spec))"
   ]
  },
  {
   "cell_type": "code",
   "execution_count": 31,
   "id": "523f5151-d7e6-41cb-a8e2-3e5f41bf3e7a",
   "metadata": {
    "execution": {
     "iopub.execute_input": "2025-03-04T17:20:53.819331Z",
     "iopub.status.busy": "2025-03-04T17:20:53.819217Z",
     "iopub.status.idle": "2025-03-04T17:20:53.861511Z",
     "shell.execute_reply": "2025-03-04T17:20:53.861209Z",
     "shell.execute_reply.started": "2025-03-04T17:20:53.819320Z"
    }
   },
   "outputs": [
    {
     "data": {
      "text/html": [
       "<pre style=\"white-space:pre;overflow-x:auto;line-height:normal;font-family:Menlo,'DejaVu Sans Mono',consolas,'Courier New',monospace\"><span style=\"font-weight: bold\">Model: \"sequential_1\"</span>\n",
       "</pre>\n"
      ],
      "text/plain": [
       "\u001b[1mModel: \"sequential_1\"\u001b[0m\n"
      ]
     },
     "metadata": {},
     "output_type": "display_data"
    },
    {
     "data": {
      "text/html": [
       "<pre style=\"white-space:pre;overflow-x:auto;line-height:normal;font-family:Menlo,'DejaVu Sans Mono',consolas,'Courier New',monospace\">┏━━━━━━━━━━━━━━━━━━━━━━━━━━━━━━━━━┳━━━━━━━━━━━━━━━━━━━━━━━━┳━━━━━━━━━━━━━━━┓\n",
       "┃<span style=\"font-weight: bold\"> Layer (type)                    </span>┃<span style=\"font-weight: bold\"> Output Shape           </span>┃<span style=\"font-weight: bold\">       Param # </span>┃\n",
       "┡━━━━━━━━━━━━━━━━━━━━━━━━━━━━━━━━━╇━━━━━━━━━━━━━━━━━━━━━━━━╇━━━━━━━━━━━━━━━┩\n",
       "│ resizing (<span style=\"color: #0087ff; text-decoration-color: #0087ff\">Resizing</span>)             │ (<span style=\"color: #00d7ff; text-decoration-color: #00d7ff\">None</span>, <span style=\"color: #00af00; text-decoration-color: #00af00\">32</span>, <span style=\"color: #00af00; text-decoration-color: #00af00\">32</span>, <span style=\"color: #00af00; text-decoration-color: #00af00\">1</span>)      │             <span style=\"color: #00af00; text-decoration-color: #00af00\">0</span> │\n",
       "├─────────────────────────────────┼────────────────────────┼───────────────┤\n",
       "│ normalization (<span style=\"color: #0087ff; text-decoration-color: #0087ff\">Normalization</span>)   │ (<span style=\"color: #00d7ff; text-decoration-color: #00d7ff\">None</span>, <span style=\"color: #00af00; text-decoration-color: #00af00\">32</span>, <span style=\"color: #00af00; text-decoration-color: #00af00\">32</span>, <span style=\"color: #00af00; text-decoration-color: #00af00\">1</span>)      │             <span style=\"color: #00af00; text-decoration-color: #00af00\">3</span> │\n",
       "├─────────────────────────────────┼────────────────────────┼───────────────┤\n",
       "│ conv2d (<span style=\"color: #0087ff; text-decoration-color: #0087ff\">Conv2D</span>)                 │ (<span style=\"color: #00d7ff; text-decoration-color: #00d7ff\">None</span>, <span style=\"color: #00af00; text-decoration-color: #00af00\">30</span>, <span style=\"color: #00af00; text-decoration-color: #00af00\">30</span>, <span style=\"color: #00af00; text-decoration-color: #00af00\">32</span>)     │           <span style=\"color: #00af00; text-decoration-color: #00af00\">320</span> │\n",
       "├─────────────────────────────────┼────────────────────────┼───────────────┤\n",
       "│ activation (<span style=\"color: #0087ff; text-decoration-color: #0087ff\">Activation</span>)         │ (<span style=\"color: #00d7ff; text-decoration-color: #00d7ff\">None</span>, <span style=\"color: #00af00; text-decoration-color: #00af00\">30</span>, <span style=\"color: #00af00; text-decoration-color: #00af00\">30</span>, <span style=\"color: #00af00; text-decoration-color: #00af00\">32</span>)     │             <span style=\"color: #00af00; text-decoration-color: #00af00\">0</span> │\n",
       "├─────────────────────────────────┼────────────────────────┼───────────────┤\n",
       "│ conv2d_1 (<span style=\"color: #0087ff; text-decoration-color: #0087ff\">Conv2D</span>)               │ (<span style=\"color: #00d7ff; text-decoration-color: #00d7ff\">None</span>, <span style=\"color: #00af00; text-decoration-color: #00af00\">28</span>, <span style=\"color: #00af00; text-decoration-color: #00af00\">28</span>, <span style=\"color: #00af00; text-decoration-color: #00af00\">64</span>)     │        <span style=\"color: #00af00; text-decoration-color: #00af00\">18,496</span> │\n",
       "├─────────────────────────────────┼────────────────────────┼───────────────┤\n",
       "│ activation_1 (<span style=\"color: #0087ff; text-decoration-color: #0087ff\">Activation</span>)       │ (<span style=\"color: #00d7ff; text-decoration-color: #00d7ff\">None</span>, <span style=\"color: #00af00; text-decoration-color: #00af00\">28</span>, <span style=\"color: #00af00; text-decoration-color: #00af00\">28</span>, <span style=\"color: #00af00; text-decoration-color: #00af00\">64</span>)     │             <span style=\"color: #00af00; text-decoration-color: #00af00\">0</span> │\n",
       "├─────────────────────────────────┼────────────────────────┼───────────────┤\n",
       "│ max_pooling2d (<span style=\"color: #0087ff; text-decoration-color: #0087ff\">MaxPooling2D</span>)    │ (<span style=\"color: #00d7ff; text-decoration-color: #00d7ff\">None</span>, <span style=\"color: #00af00; text-decoration-color: #00af00\">14</span>, <span style=\"color: #00af00; text-decoration-color: #00af00\">14</span>, <span style=\"color: #00af00; text-decoration-color: #00af00\">64</span>)     │             <span style=\"color: #00af00; text-decoration-color: #00af00\">0</span> │\n",
       "├─────────────────────────────────┼────────────────────────┼───────────────┤\n",
       "│ dropout_2 (<span style=\"color: #0087ff; text-decoration-color: #0087ff\">Dropout</span>)             │ (<span style=\"color: #00d7ff; text-decoration-color: #00d7ff\">None</span>, <span style=\"color: #00af00; text-decoration-color: #00af00\">14</span>, <span style=\"color: #00af00; text-decoration-color: #00af00\">14</span>, <span style=\"color: #00af00; text-decoration-color: #00af00\">64</span>)     │             <span style=\"color: #00af00; text-decoration-color: #00af00\">0</span> │\n",
       "├─────────────────────────────────┼────────────────────────┼───────────────┤\n",
       "│ conv2d_2 (<span style=\"color: #0087ff; text-decoration-color: #0087ff\">Conv2D</span>)               │ (<span style=\"color: #00d7ff; text-decoration-color: #00d7ff\">None</span>, <span style=\"color: #00af00; text-decoration-color: #00af00\">12</span>, <span style=\"color: #00af00; text-decoration-color: #00af00\">12</span>, <span style=\"color: #00af00; text-decoration-color: #00af00\">128</span>)    │        <span style=\"color: #00af00; text-decoration-color: #00af00\">73,856</span> │\n",
       "├─────────────────────────────────┼────────────────────────┼───────────────┤\n",
       "│ activation_2 (<span style=\"color: #0087ff; text-decoration-color: #0087ff\">Activation</span>)       │ (<span style=\"color: #00d7ff; text-decoration-color: #00d7ff\">None</span>, <span style=\"color: #00af00; text-decoration-color: #00af00\">12</span>, <span style=\"color: #00af00; text-decoration-color: #00af00\">12</span>, <span style=\"color: #00af00; text-decoration-color: #00af00\">128</span>)    │             <span style=\"color: #00af00; text-decoration-color: #00af00\">0</span> │\n",
       "├─────────────────────────────────┼────────────────────────┼───────────────┤\n",
       "│ max_pooling2d_1 (<span style=\"color: #0087ff; text-decoration-color: #0087ff\">MaxPooling2D</span>)  │ (<span style=\"color: #00d7ff; text-decoration-color: #00d7ff\">None</span>, <span style=\"color: #00af00; text-decoration-color: #00af00\">6</span>, <span style=\"color: #00af00; text-decoration-color: #00af00\">6</span>, <span style=\"color: #00af00; text-decoration-color: #00af00\">128</span>)      │             <span style=\"color: #00af00; text-decoration-color: #00af00\">0</span> │\n",
       "├─────────────────────────────────┼────────────────────────┼───────────────┤\n",
       "│ dropout_3 (<span style=\"color: #0087ff; text-decoration-color: #0087ff\">Dropout</span>)             │ (<span style=\"color: #00d7ff; text-decoration-color: #00d7ff\">None</span>, <span style=\"color: #00af00; text-decoration-color: #00af00\">6</span>, <span style=\"color: #00af00; text-decoration-color: #00af00\">6</span>, <span style=\"color: #00af00; text-decoration-color: #00af00\">128</span>)      │             <span style=\"color: #00af00; text-decoration-color: #00af00\">0</span> │\n",
       "├─────────────────────────────────┼────────────────────────┼───────────────┤\n",
       "│ conv2d_3 (<span style=\"color: #0087ff; text-decoration-color: #0087ff\">Conv2D</span>)               │ (<span style=\"color: #00d7ff; text-decoration-color: #00d7ff\">None</span>, <span style=\"color: #00af00; text-decoration-color: #00af00\">4</span>, <span style=\"color: #00af00; text-decoration-color: #00af00\">4</span>, <span style=\"color: #00af00; text-decoration-color: #00af00\">256</span>)      │       <span style=\"color: #00af00; text-decoration-color: #00af00\">295,168</span> │\n",
       "├─────────────────────────────────┼────────────────────────┼───────────────┤\n",
       "│ activation_3 (<span style=\"color: #0087ff; text-decoration-color: #0087ff\">Activation</span>)       │ (<span style=\"color: #00d7ff; text-decoration-color: #00d7ff\">None</span>, <span style=\"color: #00af00; text-decoration-color: #00af00\">4</span>, <span style=\"color: #00af00; text-decoration-color: #00af00\">4</span>, <span style=\"color: #00af00; text-decoration-color: #00af00\">256</span>)      │             <span style=\"color: #00af00; text-decoration-color: #00af00\">0</span> │\n",
       "├─────────────────────────────────┼────────────────────────┼───────────────┤\n",
       "│ max_pooling2d_2 (<span style=\"color: #0087ff; text-decoration-color: #0087ff\">MaxPooling2D</span>)  │ (<span style=\"color: #00d7ff; text-decoration-color: #00d7ff\">None</span>, <span style=\"color: #00af00; text-decoration-color: #00af00\">2</span>, <span style=\"color: #00af00; text-decoration-color: #00af00\">2</span>, <span style=\"color: #00af00; text-decoration-color: #00af00\">256</span>)      │             <span style=\"color: #00af00; text-decoration-color: #00af00\">0</span> │\n",
       "├─────────────────────────────────┼────────────────────────┼───────────────┤\n",
       "│ dropout_4 (<span style=\"color: #0087ff; text-decoration-color: #0087ff\">Dropout</span>)             │ (<span style=\"color: #00d7ff; text-decoration-color: #00d7ff\">None</span>, <span style=\"color: #00af00; text-decoration-color: #00af00\">2</span>, <span style=\"color: #00af00; text-decoration-color: #00af00\">2</span>, <span style=\"color: #00af00; text-decoration-color: #00af00\">256</span>)      │             <span style=\"color: #00af00; text-decoration-color: #00af00\">0</span> │\n",
       "├─────────────────────────────────┼────────────────────────┼───────────────┤\n",
       "│ flatten (<span style=\"color: #0087ff; text-decoration-color: #0087ff\">Flatten</span>)               │ (<span style=\"color: #00d7ff; text-decoration-color: #00d7ff\">None</span>, <span style=\"color: #00af00; text-decoration-color: #00af00\">1024</span>)           │             <span style=\"color: #00af00; text-decoration-color: #00af00\">0</span> │\n",
       "├─────────────────────────────────┼────────────────────────┼───────────────┤\n",
       "│ dense_4 (<span style=\"color: #0087ff; text-decoration-color: #0087ff\">Dense</span>)                 │ (<span style=\"color: #00d7ff; text-decoration-color: #00d7ff\">None</span>, <span style=\"color: #00af00; text-decoration-color: #00af00\">128</span>)            │       <span style=\"color: #00af00; text-decoration-color: #00af00\">131,200</span> │\n",
       "├─────────────────────────────────┼────────────────────────┼───────────────┤\n",
       "│ dropout_5 (<span style=\"color: #0087ff; text-decoration-color: #0087ff\">Dropout</span>)             │ (<span style=\"color: #00d7ff; text-decoration-color: #00d7ff\">None</span>, <span style=\"color: #00af00; text-decoration-color: #00af00\">128</span>)            │             <span style=\"color: #00af00; text-decoration-color: #00af00\">0</span> │\n",
       "├─────────────────────────────────┼────────────────────────┼───────────────┤\n",
       "│ dense_5 (<span style=\"color: #0087ff; text-decoration-color: #0087ff\">Dense</span>)                 │ (<span style=\"color: #00d7ff; text-decoration-color: #00d7ff\">None</span>, <span style=\"color: #00af00; text-decoration-color: #00af00\">20</span>)             │         <span style=\"color: #00af00; text-decoration-color: #00af00\">2,580</span> │\n",
       "└─────────────────────────────────┴────────────────────────┴───────────────┘\n",
       "</pre>\n"
      ],
      "text/plain": [
       "┏━━━━━━━━━━━━━━━━━━━━━━━━━━━━━━━━━┳━━━━━━━━━━━━━━━━━━━━━━━━┳━━━━━━━━━━━━━━━┓\n",
       "┃\u001b[1m \u001b[0m\u001b[1mLayer (type)                   \u001b[0m\u001b[1m \u001b[0m┃\u001b[1m \u001b[0m\u001b[1mOutput Shape          \u001b[0m\u001b[1m \u001b[0m┃\u001b[1m \u001b[0m\u001b[1m      Param #\u001b[0m\u001b[1m \u001b[0m┃\n",
       "┡━━━━━━━━━━━━━━━━━━━━━━━━━━━━━━━━━╇━━━━━━━━━━━━━━━━━━━━━━━━╇━━━━━━━━━━━━━━━┩\n",
       "│ resizing (\u001b[38;5;33mResizing\u001b[0m)             │ (\u001b[38;5;45mNone\u001b[0m, \u001b[38;5;34m32\u001b[0m, \u001b[38;5;34m32\u001b[0m, \u001b[38;5;34m1\u001b[0m)      │             \u001b[38;5;34m0\u001b[0m │\n",
       "├─────────────────────────────────┼────────────────────────┼───────────────┤\n",
       "│ normalization (\u001b[38;5;33mNormalization\u001b[0m)   │ (\u001b[38;5;45mNone\u001b[0m, \u001b[38;5;34m32\u001b[0m, \u001b[38;5;34m32\u001b[0m, \u001b[38;5;34m1\u001b[0m)      │             \u001b[38;5;34m3\u001b[0m │\n",
       "├─────────────────────────────────┼────────────────────────┼───────────────┤\n",
       "│ conv2d (\u001b[38;5;33mConv2D\u001b[0m)                 │ (\u001b[38;5;45mNone\u001b[0m, \u001b[38;5;34m30\u001b[0m, \u001b[38;5;34m30\u001b[0m, \u001b[38;5;34m32\u001b[0m)     │           \u001b[38;5;34m320\u001b[0m │\n",
       "├─────────────────────────────────┼────────────────────────┼───────────────┤\n",
       "│ activation (\u001b[38;5;33mActivation\u001b[0m)         │ (\u001b[38;5;45mNone\u001b[0m, \u001b[38;5;34m30\u001b[0m, \u001b[38;5;34m30\u001b[0m, \u001b[38;5;34m32\u001b[0m)     │             \u001b[38;5;34m0\u001b[0m │\n",
       "├─────────────────────────────────┼────────────────────────┼───────────────┤\n",
       "│ conv2d_1 (\u001b[38;5;33mConv2D\u001b[0m)               │ (\u001b[38;5;45mNone\u001b[0m, \u001b[38;5;34m28\u001b[0m, \u001b[38;5;34m28\u001b[0m, \u001b[38;5;34m64\u001b[0m)     │        \u001b[38;5;34m18,496\u001b[0m │\n",
       "├─────────────────────────────────┼────────────────────────┼───────────────┤\n",
       "│ activation_1 (\u001b[38;5;33mActivation\u001b[0m)       │ (\u001b[38;5;45mNone\u001b[0m, \u001b[38;5;34m28\u001b[0m, \u001b[38;5;34m28\u001b[0m, \u001b[38;5;34m64\u001b[0m)     │             \u001b[38;5;34m0\u001b[0m │\n",
       "├─────────────────────────────────┼────────────────────────┼───────────────┤\n",
       "│ max_pooling2d (\u001b[38;5;33mMaxPooling2D\u001b[0m)    │ (\u001b[38;5;45mNone\u001b[0m, \u001b[38;5;34m14\u001b[0m, \u001b[38;5;34m14\u001b[0m, \u001b[38;5;34m64\u001b[0m)     │             \u001b[38;5;34m0\u001b[0m │\n",
       "├─────────────────────────────────┼────────────────────────┼───────────────┤\n",
       "│ dropout_2 (\u001b[38;5;33mDropout\u001b[0m)             │ (\u001b[38;5;45mNone\u001b[0m, \u001b[38;5;34m14\u001b[0m, \u001b[38;5;34m14\u001b[0m, \u001b[38;5;34m64\u001b[0m)     │             \u001b[38;5;34m0\u001b[0m │\n",
       "├─────────────────────────────────┼────────────────────────┼───────────────┤\n",
       "│ conv2d_2 (\u001b[38;5;33mConv2D\u001b[0m)               │ (\u001b[38;5;45mNone\u001b[0m, \u001b[38;5;34m12\u001b[0m, \u001b[38;5;34m12\u001b[0m, \u001b[38;5;34m128\u001b[0m)    │        \u001b[38;5;34m73,856\u001b[0m │\n",
       "├─────────────────────────────────┼────────────────────────┼───────────────┤\n",
       "│ activation_2 (\u001b[38;5;33mActivation\u001b[0m)       │ (\u001b[38;5;45mNone\u001b[0m, \u001b[38;5;34m12\u001b[0m, \u001b[38;5;34m12\u001b[0m, \u001b[38;5;34m128\u001b[0m)    │             \u001b[38;5;34m0\u001b[0m │\n",
       "├─────────────────────────────────┼────────────────────────┼───────────────┤\n",
       "│ max_pooling2d_1 (\u001b[38;5;33mMaxPooling2D\u001b[0m)  │ (\u001b[38;5;45mNone\u001b[0m, \u001b[38;5;34m6\u001b[0m, \u001b[38;5;34m6\u001b[0m, \u001b[38;5;34m128\u001b[0m)      │             \u001b[38;5;34m0\u001b[0m │\n",
       "├─────────────────────────────────┼────────────────────────┼───────────────┤\n",
       "│ dropout_3 (\u001b[38;5;33mDropout\u001b[0m)             │ (\u001b[38;5;45mNone\u001b[0m, \u001b[38;5;34m6\u001b[0m, \u001b[38;5;34m6\u001b[0m, \u001b[38;5;34m128\u001b[0m)      │             \u001b[38;5;34m0\u001b[0m │\n",
       "├─────────────────────────────────┼────────────────────────┼───────────────┤\n",
       "│ conv2d_3 (\u001b[38;5;33mConv2D\u001b[0m)               │ (\u001b[38;5;45mNone\u001b[0m, \u001b[38;5;34m4\u001b[0m, \u001b[38;5;34m4\u001b[0m, \u001b[38;5;34m256\u001b[0m)      │       \u001b[38;5;34m295,168\u001b[0m │\n",
       "├─────────────────────────────────┼────────────────────────┼───────────────┤\n",
       "│ activation_3 (\u001b[38;5;33mActivation\u001b[0m)       │ (\u001b[38;5;45mNone\u001b[0m, \u001b[38;5;34m4\u001b[0m, \u001b[38;5;34m4\u001b[0m, \u001b[38;5;34m256\u001b[0m)      │             \u001b[38;5;34m0\u001b[0m │\n",
       "├─────────────────────────────────┼────────────────────────┼───────────────┤\n",
       "│ max_pooling2d_2 (\u001b[38;5;33mMaxPooling2D\u001b[0m)  │ (\u001b[38;5;45mNone\u001b[0m, \u001b[38;5;34m2\u001b[0m, \u001b[38;5;34m2\u001b[0m, \u001b[38;5;34m256\u001b[0m)      │             \u001b[38;5;34m0\u001b[0m │\n",
       "├─────────────────────────────────┼────────────────────────┼───────────────┤\n",
       "│ dropout_4 (\u001b[38;5;33mDropout\u001b[0m)             │ (\u001b[38;5;45mNone\u001b[0m, \u001b[38;5;34m2\u001b[0m, \u001b[38;5;34m2\u001b[0m, \u001b[38;5;34m256\u001b[0m)      │             \u001b[38;5;34m0\u001b[0m │\n",
       "├─────────────────────────────────┼────────────────────────┼───────────────┤\n",
       "│ flatten (\u001b[38;5;33mFlatten\u001b[0m)               │ (\u001b[38;5;45mNone\u001b[0m, \u001b[38;5;34m1024\u001b[0m)           │             \u001b[38;5;34m0\u001b[0m │\n",
       "├─────────────────────────────────┼────────────────────────┼───────────────┤\n",
       "│ dense_4 (\u001b[38;5;33mDense\u001b[0m)                 │ (\u001b[38;5;45mNone\u001b[0m, \u001b[38;5;34m128\u001b[0m)            │       \u001b[38;5;34m131,200\u001b[0m │\n",
       "├─────────────────────────────────┼────────────────────────┼───────────────┤\n",
       "│ dropout_5 (\u001b[38;5;33mDropout\u001b[0m)             │ (\u001b[38;5;45mNone\u001b[0m, \u001b[38;5;34m128\u001b[0m)            │             \u001b[38;5;34m0\u001b[0m │\n",
       "├─────────────────────────────────┼────────────────────────┼───────────────┤\n",
       "│ dense_5 (\u001b[38;5;33mDense\u001b[0m)                 │ (\u001b[38;5;45mNone\u001b[0m, \u001b[38;5;34m20\u001b[0m)             │         \u001b[38;5;34m2,580\u001b[0m │\n",
       "└─────────────────────────────────┴────────────────────────┴───────────────┘\n"
      ]
     },
     "metadata": {},
     "output_type": "display_data"
    },
    {
     "data": {
      "text/html": [
       "<pre style=\"white-space:pre;overflow-x:auto;line-height:normal;font-family:Menlo,'DejaVu Sans Mono',consolas,'Courier New',monospace\"><span style=\"font-weight: bold\"> Total params: </span><span style=\"color: #00af00; text-decoration-color: #00af00\">521,623</span> (1.99 MB)\n",
       "</pre>\n"
      ],
      "text/plain": [
       "\u001b[1m Total params: \u001b[0m\u001b[38;5;34m521,623\u001b[0m (1.99 MB)\n"
      ]
     },
     "metadata": {},
     "output_type": "display_data"
    },
    {
     "data": {
      "text/html": [
       "<pre style=\"white-space:pre;overflow-x:auto;line-height:normal;font-family:Menlo,'DejaVu Sans Mono',consolas,'Courier New',monospace\"><span style=\"font-weight: bold\"> Trainable params: </span><span style=\"color: #00af00; text-decoration-color: #00af00\">521,620</span> (1.99 MB)\n",
       "</pre>\n"
      ],
      "text/plain": [
       "\u001b[1m Trainable params: \u001b[0m\u001b[38;5;34m521,620\u001b[0m (1.99 MB)\n"
      ]
     },
     "metadata": {},
     "output_type": "display_data"
    },
    {
     "data": {
      "text/html": [
       "<pre style=\"white-space:pre;overflow-x:auto;line-height:normal;font-family:Menlo,'DejaVu Sans Mono',consolas,'Courier New',monospace\"><span style=\"font-weight: bold\"> Non-trainable params: </span><span style=\"color: #00af00; text-decoration-color: #00af00\">3</span> (16.00 B)\n",
       "</pre>\n"
      ],
      "text/plain": [
       "\u001b[1m Non-trainable params: \u001b[0m\u001b[38;5;34m3\u001b[0m (16.00 B)\n"
      ]
     },
     "metadata": {},
     "output_type": "display_data"
    }
   ],
   "source": [
    "model_spect_cnn = models.Sequential([\n",
    "    layers.Input(shape=input_shape),\n",
    "    layers.Resizing(32, 32), # Изменение размера спектрограммы до 32x32 пикселей\n",
    "    norm_layer, # Применяем нормализацию данных\n",
    "    \n",
    "    layers.Conv2D(32, 3),\n",
    "    layers.Activation('relu'),\n",
    "    \n",
    "    layers.Conv2D(64, 3),\n",
    "    layers.Activation('relu'),\n",
    "    layers.MaxPooling2D(), # Слой подвыборки для уменьшения размерности\n",
    "    layers.Dropout(0.25), # Регуляризация: исключаем 25% нейронов для предотвращения переобучения\n",
    "\n",
    "    layers.Conv2D(128, 3),\n",
    "    layers.Activation('relu'),\n",
    "    layers.MaxPooling2D(),\n",
    "    layers.Dropout(0.25),\n",
    "\n",
    "    layers.Conv2D(256, 3),\n",
    "    layers.Activation('relu'),\n",
    "    layers.MaxPooling2D(),\n",
    "    layers.Dropout(0.25),\n",
    "    \n",
    "    layers.Flatten(), # Преобразуем 2D-тензор в одномерный вектор\n",
    "    layers.Dense(128, activation='relu'), # Полносвязный слой с 128 нейронами и активацией ReLU\n",
    "    layers.Dropout(0.5),\n",
    "    \n",
    "    layers.Dense(num_labels), # Выходной слой, количество нейронов равно числу классов\n",
    "])\n",
    "\n",
    "model_spect_cnn.summary()\n"
   ]
  },
  {
   "cell_type": "code",
   "execution_count": 32,
   "id": "4a00910c-4406-49c0-bf36-299776fb09ee",
   "metadata": {
    "execution": {
     "iopub.execute_input": "2025-03-04T17:20:53.861923Z",
     "iopub.status.busy": "2025-03-04T17:20:53.861819Z",
     "iopub.status.idle": "2025-03-04T17:20:53.865794Z",
     "shell.execute_reply": "2025-03-04T17:20:53.865505Z",
     "shell.execute_reply.started": "2025-03-04T17:20:53.861913Z"
    }
   },
   "outputs": [],
   "source": [
    "model_spect_cnn.compile(\n",
    "    optimizer=tf.keras.optimizers.Adam(), # Оптимизатор Adam — адаптивный алгоритм градиентного спуска\n",
    "    loss=tf.keras.losses.SparseCategoricalCrossentropy(from_logits=True), # Функция потерь для многоклассовой классификации\n",
    "    metrics=['accuracy'], # Метрика оценки качества модели — точность\n",
    ")"
   ]
  },
  {
   "cell_type": "code",
   "execution_count": 33,
   "id": "cfcee5ca-5383-4d6a-aadf-b3c27d2865e3",
   "metadata": {
    "execution": {
     "iopub.execute_input": "2025-03-04T17:20:53.866305Z",
     "iopub.status.busy": "2025-03-04T17:20:53.866146Z",
     "iopub.status.idle": "2025-03-04T17:22:24.440746Z",
     "shell.execute_reply": "2025-03-04T17:22:24.440402Z",
     "shell.execute_reply.started": "2025-03-04T17:20:53.866290Z"
    }
   },
   "outputs": [
    {
     "name": "stdout",
     "output_type": "stream",
     "text": [
      "Epoch 1/50\n",
      "\u001b[1m50/50\u001b[0m \u001b[32m━━━━━━━━━━━━━━━━━━━━\u001b[0m\u001b[37m\u001b[0m \u001b[1m5s\u001b[0m 87ms/step - accuracy: 0.0647 - loss: 2.9814 - val_accuracy: 0.1675 - val_loss: 2.7940\n",
      "Epoch 2/50\n",
      "\u001b[1m50/50\u001b[0m \u001b[32m━━━━━━━━━━━━━━━━━━━━\u001b[0m\u001b[37m\u001b[0m \u001b[1m4s\u001b[0m 86ms/step - accuracy: 0.1525 - loss: 2.7694 - val_accuracy: 0.2725 - val_loss: 2.4604\n",
      "Epoch 3/50\n",
      "\u001b[1m50/50\u001b[0m \u001b[32m━━━━━━━━━━━━━━━━━━━━\u001b[0m\u001b[37m\u001b[0m \u001b[1m4s\u001b[0m 87ms/step - accuracy: 0.2292 - loss: 2.4788 - val_accuracy: 0.3775 - val_loss: 2.0893\n",
      "Epoch 4/50\n",
      "\u001b[1m50/50\u001b[0m \u001b[32m━━━━━━━━━━━━━━━━━━━━\u001b[0m\u001b[37m\u001b[0m \u001b[1m4s\u001b[0m 85ms/step - accuracy: 0.3109 - loss: 2.1875 - val_accuracy: 0.4762 - val_loss: 1.7690\n",
      "Epoch 5/50\n",
      "\u001b[1m50/50\u001b[0m \u001b[32m━━━━━━━━━━━━━━━━━━━━\u001b[0m\u001b[37m\u001b[0m \u001b[1m4s\u001b[0m 84ms/step - accuracy: 0.4064 - loss: 1.8793 - val_accuracy: 0.5512 - val_loss: 1.4323\n",
      "Epoch 6/50\n",
      "\u001b[1m50/50\u001b[0m \u001b[32m━━━━━━━━━━━━━━━━━━━━\u001b[0m\u001b[37m\u001b[0m \u001b[1m4s\u001b[0m 84ms/step - accuracy: 0.4852 - loss: 1.5910 - val_accuracy: 0.6388 - val_loss: 1.1771\n",
      "Epoch 7/50\n",
      "\u001b[1m50/50\u001b[0m \u001b[32m━━━━━━━━━━━━━━━━━━━━\u001b[0m\u001b[37m\u001b[0m \u001b[1m4s\u001b[0m 84ms/step - accuracy: 0.5529 - loss: 1.3931 - val_accuracy: 0.6800 - val_loss: 1.0281\n",
      "Epoch 8/50\n",
      "\u001b[1m50/50\u001b[0m \u001b[32m━━━━━━━━━━━━━━━━━━━━\u001b[0m\u001b[37m\u001b[0m \u001b[1m4s\u001b[0m 84ms/step - accuracy: 0.6047 - loss: 1.2528 - val_accuracy: 0.7088 - val_loss: 0.9136\n",
      "Epoch 9/50\n",
      "\u001b[1m50/50\u001b[0m \u001b[32m━━━━━━━━━━━━━━━━━━━━\u001b[0m\u001b[37m\u001b[0m \u001b[1m4s\u001b[0m 84ms/step - accuracy: 0.6503 - loss: 1.0920 - val_accuracy: 0.7425 - val_loss: 0.8080\n",
      "Epoch 10/50\n",
      "\u001b[1m50/50\u001b[0m \u001b[32m━━━━━━━━━━━━━━━━━━━━\u001b[0m\u001b[37m\u001b[0m \u001b[1m4s\u001b[0m 84ms/step - accuracy: 0.6947 - loss: 0.9595 - val_accuracy: 0.7588 - val_loss: 0.7496\n",
      "Epoch 11/50\n",
      "\u001b[1m50/50\u001b[0m \u001b[32m━━━━━━━━━━━━━━━━━━━━\u001b[0m\u001b[37m\u001b[0m \u001b[1m4s\u001b[0m 83ms/step - accuracy: 0.7010 - loss: 0.9375 - val_accuracy: 0.7688 - val_loss: 0.6967\n",
      "Epoch 12/50\n",
      "\u001b[1m50/50\u001b[0m \u001b[32m━━━━━━━━━━━━━━━━━━━━\u001b[0m\u001b[37m\u001b[0m \u001b[1m4s\u001b[0m 84ms/step - accuracy: 0.7269 - loss: 0.8278 - val_accuracy: 0.7738 - val_loss: 0.6820\n",
      "Epoch 13/50\n",
      "\u001b[1m50/50\u001b[0m \u001b[32m━━━━━━━━━━━━━━━━━━━━\u001b[0m\u001b[37m\u001b[0m \u001b[1m4s\u001b[0m 84ms/step - accuracy: 0.7558 - loss: 0.7713 - val_accuracy: 0.7975 - val_loss: 0.6243\n",
      "Epoch 14/50\n",
      "\u001b[1m50/50\u001b[0m \u001b[32m━━━━━━━━━━━━━━━━━━━━\u001b[0m\u001b[37m\u001b[0m \u001b[1m5s\u001b[0m 85ms/step - accuracy: 0.7635 - loss: 0.7247 - val_accuracy: 0.8050 - val_loss: 0.6027\n",
      "Epoch 15/50\n",
      "\u001b[1m50/50\u001b[0m \u001b[32m━━━━━━━━━━━━━━━━━━━━\u001b[0m\u001b[37m\u001b[0m \u001b[1m4s\u001b[0m 83ms/step - accuracy: 0.7840 - loss: 0.6611 - val_accuracy: 0.7962 - val_loss: 0.5767\n",
      "Epoch 16/50\n",
      "\u001b[1m50/50\u001b[0m \u001b[32m━━━━━━━━━━━━━━━━━━━━\u001b[0m\u001b[37m\u001b[0m \u001b[1m4s\u001b[0m 84ms/step - accuracy: 0.8006 - loss: 0.6151 - val_accuracy: 0.8288 - val_loss: 0.5543\n",
      "Epoch 17/50\n",
      "\u001b[1m50/50\u001b[0m \u001b[32m━━━━━━━━━━━━━━━━━━━━\u001b[0m\u001b[37m\u001b[0m \u001b[1m4s\u001b[0m 84ms/step - accuracy: 0.8077 - loss: 0.5760 - val_accuracy: 0.8313 - val_loss: 0.5181\n",
      "Epoch 18/50\n",
      "\u001b[1m50/50\u001b[0m \u001b[32m━━━━━━━━━━━━━━━━━━━━\u001b[0m\u001b[37m\u001b[0m \u001b[1m4s\u001b[0m 85ms/step - accuracy: 0.8201 - loss: 0.5611 - val_accuracy: 0.8350 - val_loss: 0.5320\n",
      "Epoch 19/50\n",
      "\u001b[1m50/50\u001b[0m \u001b[32m━━━━━━━━━━━━━━━━━━━━\u001b[0m\u001b[37m\u001b[0m \u001b[1m4s\u001b[0m 84ms/step - accuracy: 0.8294 - loss: 0.5281 - val_accuracy: 0.8400 - val_loss: 0.4862\n",
      "Epoch 20/50\n",
      "\u001b[1m50/50\u001b[0m \u001b[32m━━━━━━━━━━━━━━━━━━━━\u001b[0m\u001b[37m\u001b[0m \u001b[1m4s\u001b[0m 85ms/step - accuracy: 0.8366 - loss: 0.5142 - val_accuracy: 0.8500 - val_loss: 0.4921\n",
      "Epoch 21/50\n",
      "\u001b[1m50/50\u001b[0m \u001b[32m━━━━━━━━━━━━━━━━━━━━\u001b[0m\u001b[37m\u001b[0m \u001b[1m4s\u001b[0m 85ms/step - accuracy: 0.8438 - loss: 0.4923 - val_accuracy: 0.8500 - val_loss: 0.4963\n",
      "Epoch 21: early stopping\n"
     ]
    }
   ],
   "source": [
    "EPOCHS = 50\n",
    "history = model_spect_cnn.fit(\n",
    "    train_ds, # Тренировочный набор\n",
    "    validation_data=val_ds, # Валидационный набор\n",
    "    epochs=EPOCHS, # Эпохи\n",
    "    callbacks=tf.keras.callbacks.EarlyStopping(verbose=1, patience=2), # Раннее прекращение обучения\n",
    ")"
   ]
  },
  {
   "cell_type": "code",
   "execution_count": 34,
   "id": "bff354c4-5c93-4948-a2a6-62e381309c49",
   "metadata": {
    "execution": {
     "iopub.execute_input": "2025-03-04T17:22:24.441320Z",
     "iopub.status.busy": "2025-03-04T17:22:24.441155Z",
     "iopub.status.idle": "2025-03-04T17:22:24.504527Z",
     "shell.execute_reply": "2025-03-04T17:22:24.504264Z",
     "shell.execute_reply.started": "2025-03-04T17:22:24.441306Z"
    }
   },
   "outputs": [
    {
     "data": {
      "image/png": "[encoded data removed]",
      "text/plain": [
       "<Figure size 640x480 with 1 Axes>"
      ]
     },
     "metadata": {},
     "output_type": "display_data"
    }
   ],
   "source": [
    "metrics = history.history\n",
    "plt.plot(history.epoch, metrics['loss'], metrics['val_loss'])\n",
    "plt.legend(['loss', 'val_loss'])\n",
    "plt.show()"
   ]
  },
  {
   "cell_type": "code",
   "execution_count": 35,
   "id": "8d66de2a-5a6c-4780-afad-e004936d1227",
   "metadata": {
    "execution": {
     "iopub.execute_input": "2025-03-04T17:22:24.504933Z",
     "iopub.status.busy": "2025-03-04T17:22:24.504827Z",
     "iopub.status.idle": "2025-03-04T17:22:24.640184Z",
     "shell.execute_reply": "2025-03-04T17:22:24.639903Z",
     "shell.execute_reply.started": "2025-03-04T17:22:24.504922Z"
    }
   },
   "outputs": [],
   "source": [
    "test_audio = []\n",
    "test_labels = []\n",
    "\n",
    "for audio, label in test_ds:\n",
    "  test_audio.append(audio.numpy()) # Преобразуем тензор в массив NumPy и добавляем в список\n",
    "  test_labels.append(label.numpy()) # Аналогично преобразуем метки\n",
    "\n",
    "# Преобразуем списки в массивы NumPy для удобной обработки\n",
    "test_audio = np.array(test_audio)\n",
    "test_labels = np.array(test_labels)"
   ]
  },
  {
   "cell_type": "code",
   "execution_count": 36,
   "id": "3c1aaa3f-8f12-44c7-9f3f-d850caf94d0b",
   "metadata": {
    "execution": {
     "iopub.execute_input": "2025-03-04T17:22:24.640608Z",
     "iopub.status.busy": "2025-03-04T17:22:24.640499Z",
     "iopub.status.idle": "2025-03-04T17:22:24.891847Z",
     "shell.execute_reply": "2025-03-04T17:22:24.891478Z",
     "shell.execute_reply.started": "2025-03-04T17:22:24.640598Z"
    }
   },
   "outputs": [
    {
     "name": "stdout",
     "output_type": "stream",
     "text": [
      "\u001b[1m25/25\u001b[0m \u001b[32m━━━━━━━━━━━━━━━━━━━━\u001b[0m\u001b[37m\u001b[0m \u001b[1m0s\u001b[0m 5ms/step\n",
      "Точность на тестовом наборе: 85%\n"
     ]
    }
   ],
   "source": [
    "y_pred = np.argmax(model_spect_cnn.predict(test_audio), axis=1) # Получаем предсказания модели на тестовом наборе\n",
    "y_true = test_labels # Истинные метки классов\n",
    "\n",
    "test_acc = sum(y_pred == y_true) / len(y_true) # Вычисляем точность на тестовом наборе\n",
    "print(f'Точность на тестовом наборе: {test_acc:.0%}')"
   ]
  },
  {
   "cell_type": "code",
   "execution_count": 37,
   "id": "89cfb3fe-eab5-48b3-bfb2-494e3cdf9e04",
   "metadata": {
    "execution": {
     "iopub.execute_input": "2025-03-04T17:22:24.892556Z",
     "iopub.status.busy": "2025-03-04T17:22:24.892404Z",
     "iopub.status.idle": "2025-03-04T17:22:25.219813Z",
     "shell.execute_reply": "2025-03-04T17:22:25.219520Z",
     "shell.execute_reply.started": "2025-03-04T17:22:24.892542Z"
    }
   },
   "outputs": [
    {
     "data": {
      "image/png": "[encoded data removed]",
      "text/plain": [
       "<Figure size 1000x800 with 2 Axes>"
      ]
     },
     "metadata": {},
     "output_type": "display_data"
    }
   ],
   "source": [
    "confusion_mtx = tf.math.confusion_matrix(y_true, y_pred) # Вычисляем матрицу ошибок\n",
    "plt.figure(figsize=(10, 8))\n",
    "\n",
    "# Строим тепловую карту (heatmap) для визуализации матрицы ошибок\n",
    "# xticklabels=commands - метки классов для оси X (предсказанные значения)\n",
    "# yticklabels=commands - метки классов для оси Y (истинные значения)\n",
    "# annot=True - отображать значения в ячейках матрицы\n",
    "# fmt='g' - формат отображения чисел (общий формат, без лишних знаков)\n",
    "sns.heatmap(confusion_mtx,\n",
    "            xticklabels=commands,\n",
    "            yticklabels=commands,\n",
    "            annot=True, fmt='g')\n",
    "plt.xlabel('Prediction')\n",
    "plt.ylabel('Label')\n",
    "plt.show()"
   ]
  },
  {
   "cell_type": "code",
   "execution_count": 38,
   "id": "dfa9cc45-2cea-478d-80c4-6e01b602a19d",
   "metadata": {
    "execution": {
     "iopub.execute_input": "2025-03-04T17:22:25.220229Z",
     "iopub.status.busy": "2025-03-04T17:22:25.220117Z",
     "iopub.status.idle": "2025-03-04T17:22:25.257251Z",
     "shell.execute_reply": "2025-03-04T17:22:25.256920Z",
     "shell.execute_reply.started": "2025-03-04T17:22:25.220218Z"
    }
   },
   "outputs": [],
   "source": [
    "model_spect_cnn.save('../Models/spect_cnn.keras')"
   ]
  },
  {
   "cell_type": "markdown",
   "id": "f8d78388-c1de-4966-8ec6-919607bf79f2",
   "metadata": {},
   "source": [
    "# Создание датасета мел-спектрограмм"
   ]
  },
  {
   "cell_type": "code",
   "execution_count": 39,
   "id": "1747ba02-461a-4d3f-bdd3-a6ad2400ac5e",
   "metadata": {
    "execution": {
     "iopub.execute_input": "2025-03-04T17:22:25.257705Z",
     "iopub.status.busy": "2025-03-04T17:22:25.257597Z",
     "iopub.status.idle": "2025-03-04T17:22:25.260704Z",
     "shell.execute_reply": "2025-03-04T17:22:25.260388Z",
     "shell.execute_reply.started": "2025-03-04T17:22:25.257695Z"
    }
   },
   "outputs": [],
   "source": [
    "def get_mel_spectrogram(waveform):\n",
    "    # Обрезаем или заполняем нулями до 16000 сэмплов\n",
    "    input_len = 16000\n",
    "    waveform = waveform[:input_len]\n",
    "    zero_padding = tf.zeros([16000] - tf.shape(waveform), dtype=tf.float32)\n",
    "    waveform = tf.concat([waveform, zero_padding], 0)\n",
    "\n",
    "    # Применяем STFT\n",
    "    spectrogram = tf.signal.stft(waveform, frame_length=400, frame_step=160)\n",
    "    spectrogram = tf.abs(spectrogram)\n",
    "\n",
    "    # Создаем фильтр мел-шкал (80 мел-фильтров)\n",
    "    num_mel_bins = 80\n",
    "    linear_to_mel_weight_matrix = tf.signal.linear_to_mel_weight_matrix(\n",
    "        num_mel_bins=num_mel_bins,\n",
    "        num_spectrogram_bins=spectrogram.shape[-1],\n",
    "        sample_rate=16000,\n",
    "        lower_edge_hertz=80.0,\n",
    "        upper_edge_hertz=7600.0\n",
    "    )\n",
    "\n",
    "    # Применяем мел-фильтры для получения мел-спектрограммы\n",
    "    mel_spectrogram = tf.tensordot(spectrogram, linear_to_mel_weight_matrix, 1)\n",
    "    mel_spectrogram = tf.math.log(mel_spectrogram + 1e-6)  # Логарифм для стабильности\n",
    "\n",
    "    mel_spectrogram = mel_spectrogram[..., tf.newaxis]  # Добавляем новое измерение\n",
    "    return mel_spectrogram\n"
   ]
  },
  {
   "cell_type": "code",
   "execution_count": 40,
   "id": "cb8477cc-797d-4edc-8b07-a8c0f66604fb",
   "metadata": {
    "execution": {
     "iopub.execute_input": "2025-03-04T17:22:25.261066Z",
     "iopub.status.busy": "2025-03-04T17:22:25.260968Z",
     "iopub.status.idle": "2025-03-04T17:22:25.273498Z",
     "shell.execute_reply": "2025-03-04T17:22:25.273213Z",
     "shell.execute_reply.started": "2025-03-04T17:22:25.261056Z"
    }
   },
   "outputs": [],
   "source": [
    "def get_mel_spectrogram_and_label_id(audio, label):\n",
    "    mel_spectrogram = get_mel_spectrogram(audio)\n",
    "    label_id = tf.argmax(label == commands)\n",
    "    return mel_spectrogram, label_id"
   ]
  },
  {
   "cell_type": "code",
   "execution_count": 41,
   "id": "fb07ffe5-67d6-45e4-ad7c-f29ee050aad6",
   "metadata": {
    "execution": {
     "iopub.execute_input": "2025-03-04T17:22:25.273913Z",
     "iopub.status.busy": "2025-03-04T17:22:25.273813Z",
     "iopub.status.idle": "2025-03-04T17:22:25.277321Z",
     "shell.execute_reply": "2025-03-04T17:22:25.276997Z",
     "shell.execute_reply.started": "2025-03-04T17:22:25.273904Z"
    }
   },
   "outputs": [],
   "source": [
    "def preprocess_mel_dataset(files):\n",
    "    files_ds = tf.data.Dataset.from_tensor_slices(files) # Создаём TensorFlow Dataset из списка файлов\n",
    "    \n",
    "    output_ds = files_ds.map(map_func=get_waveform_and_label).map(map_func=get_mel_spectrogram_and_label_id)\n",
    "    \n",
    "    return output_ds"
   ]
  },
  {
   "cell_type": "code",
   "execution_count": 42,
   "id": "cfd6058a-b671-44c2-8a1f-6ab13150a4e8",
   "metadata": {
    "execution": {
     "iopub.execute_input": "2025-03-04T17:22:25.277699Z",
     "iopub.status.busy": "2025-03-04T17:22:25.277601Z",
     "iopub.status.idle": "2025-03-04T17:22:25.755038Z",
     "shell.execute_reply": "2025-03-04T17:22:25.754747Z",
     "shell.execute_reply.started": "2025-03-04T17:22:25.277689Z"
    }
   },
   "outputs": [],
   "source": [
    "spectrogram_mel_ds = preprocess_mel_dataset(train_files)\n",
    "train_mel_ds = spectrogram_mel_ds\n",
    "val_mel_ds = preprocess_mel_dataset(val_files)\n",
    "test_mel_ds = preprocess_mel_dataset(test_files)"
   ]
  },
  {
   "cell_type": "code",
   "execution_count": 43,
   "id": "327b0a0b-d6ba-468f-b99b-884e956a24a0",
   "metadata": {
    "execution": {
     "iopub.execute_input": "2025-03-04T17:22:25.755453Z",
     "iopub.status.busy": "2025-03-04T17:22:25.755348Z",
     "iopub.status.idle": "2025-03-04T17:22:27.885386Z",
     "shell.execute_reply": "2025-03-04T17:22:27.885075Z",
     "shell.execute_reply.started": "2025-03-04T17:22:25.755443Z"
    }
   },
   "outputs": [
    {
     "name": "stderr",
     "output_type": "stream",
     "text": [
      "2025-03-04 20:22:27.303369: I tensorflow/core/framework/local_rendezvous.cc:405] Local rendezvous is aborting with status: OUT_OF_RANGE: End of sequence\n"
     ]
    }
   ],
   "source": [
    "# Преобразуем датасеты для обучения на алгоритмах машинного обучения\n",
    "X_train, y_train = dataset_to_numpy(train_mel_ds)\n",
    "X_val, y_val = dataset_to_numpy(val_mel_ds)\n",
    "X_test, y_test = dataset_to_numpy(test_mel_ds)"
   ]
  },
  {
   "cell_type": "code",
   "execution_count": 44,
   "id": "84457149-74a0-4358-85a9-ffd0dd5d266f",
   "metadata": {
    "execution": {
     "iopub.execute_input": "2025-03-04T17:22:27.885810Z",
     "iopub.status.busy": "2025-03-04T17:22:27.885698Z",
     "iopub.status.idle": "2025-03-04T17:22:27.892139Z",
     "shell.execute_reply": "2025-03-04T17:22:27.891832Z",
     "shell.execute_reply.started": "2025-03-04T17:22:27.885800Z"
    }
   },
   "outputs": [],
   "source": [
    "batch_size = 128\n",
    "\n",
    "train_mel_ds = (train_mel_ds\n",
    "            .batch(batch_size) # Группируем данные в батчи размером 64\n",
    "            .cache() # Кешируем данные в памяти для ускорения обучения\n",
    "            .prefetch(1) # Загружаем следующий батч данных заранее для увеличения скорости обучения\n",
    "           )\n",
    "\n",
    "val_mel_ds = (val_mel_ds\n",
    "          .batch(batch_size)\n",
    "          .cache()\n",
    "          .prefetch(1)\n",
    "         )"
   ]
  },
  {
   "cell_type": "code",
   "execution_count": 45,
   "id": "b85541ac-16ff-41cd-bb76-293926ba4f86",
   "metadata": {
    "execution": {
     "iopub.execute_input": "2025-03-04T17:22:27.892587Z",
     "iopub.status.busy": "2025-03-04T17:22:27.892462Z",
     "iopub.status.idle": "2025-03-04T17:22:27.962897Z",
     "shell.execute_reply": "2025-03-04T17:22:27.962592Z",
     "shell.execute_reply.started": "2025-03-04T17:22:27.892572Z"
    }
   },
   "outputs": [
    {
     "name": "stdout",
     "output_type": "stream",
     "text": [
      "Размер входа (98, 80, 1)\n"
     ]
    }
   ],
   "source": [
    "# Получаем размер входных данных \n",
    "for mel_spectrogram, _ in spectrogram_mel_ds.take(1):\n",
    "  input_mel_shape = mel_spectrogram.shape\n",
    "print('Размер входа', input_mel_shape)\n",
    "\n",
    "num_labels = len(commands)"
   ]
  },
  {
   "cell_type": "markdown",
   "id": "b205880b-cb97-4181-93f1-480911ea6a0f",
   "metadata": {},
   "source": [
    "# ML-алгоритмы на мел-спектрограммах"
   ]
  },
  {
   "cell_type": "code",
   "execution_count": 46,
   "id": "a92f31ee-d0b8-4999-8070-f7636e5ad264",
   "metadata": {
    "execution": {
     "iopub.execute_input": "2025-03-04T17:22:27.963397Z",
     "iopub.status.busy": "2025-03-04T17:22:27.963244Z",
     "iopub.status.idle": "2025-03-04T17:23:30.909561Z",
     "shell.execute_reply": "2025-03-04T17:23:30.909224Z",
     "shell.execute_reply.started": "2025-03-04T17:22:27.963382Z"
    }
   },
   "outputs": [
    {
     "name": "stdout",
     "output_type": "stream",
     "text": [
      "SVM accuracy on test data: 0.46\n"
     ]
    }
   ],
   "source": [
    "# Создаем и обучаем модель SVM\n",
    "svm_model = SVC(kernel='linear')\n",
    "svm_model.fit(X_train, y_train)\n",
    "\n",
    "y_pred = svm_model.predict(X_test)\n",
    "accuracy = accuracy_score(y_test, y_pred)\n",
    "print(f'SVM accuracy on test data: {accuracy:.2f}')"
   ]
  },
  {
   "cell_type": "code",
   "execution_count": 47,
   "id": "848cf64e-a8da-423a-9893-739e1e0eb61b",
   "metadata": {
    "execution": {
     "iopub.execute_input": "2025-03-04T17:23:30.909967Z",
     "iopub.status.busy": "2025-03-04T17:23:30.909865Z",
     "iopub.status.idle": "2025-03-04T17:24:22.012204Z",
     "shell.execute_reply": "2025-03-04T17:24:22.011910Z",
     "shell.execute_reply.started": "2025-03-04T17:23:30.909957Z"
    }
   },
   "outputs": [
    {
     "name": "stdout",
     "output_type": "stream",
     "text": [
      "Random Forest accuracy on test data: 0.56\n"
     ]
    }
   ],
   "source": [
    "# Создаем и обучаем модель Random Forest\n",
    "rf_model = RandomForestClassifier(n_estimators=100, random_state=42)\n",
    "rf_model.fit(X_train, y_train)\n",
    "\n",
    "y_pred = rf_model.predict(X_test)\n",
    "accuracy = accuracy_score(y_test, y_pred)\n",
    "print(f'Random Forest accuracy on test data: {accuracy:.2f}')"
   ]
  },
  {
   "cell_type": "code",
   "execution_count": 48,
   "id": "efd9e13c-58cc-4c73-bfa0-00c3bcd9f58f",
   "metadata": {
    "execution": {
     "iopub.execute_input": "2025-03-04T17:24:22.012710Z",
     "iopub.status.busy": "2025-03-04T17:24:22.012522Z",
     "iopub.status.idle": "2025-03-04T17:24:22.640733Z",
     "shell.execute_reply": "2025-03-04T17:24:22.640405Z",
     "shell.execute_reply.started": "2025-03-04T17:24:22.012699Z"
    }
   },
   "outputs": [
    {
     "name": "stdout",
     "output_type": "stream",
     "text": [
      "KNN accuracy on test data: 0.38\n"
     ]
    }
   ],
   "source": [
    "# Создаем и обучаем модель KNN\n",
    "knn_model = KNeighborsClassifier(n_neighbors=5)\n",
    "knn_model.fit(X_train, y_train)\n",
    "\n",
    "y_pred = knn_model.predict(X_test)\n",
    "accuracy = accuracy_score(y_test, y_pred)\n",
    "print(f'KNN accuracy on test data: {accuracy:.2f}')"
   ]
  },
  {
   "cell_type": "code",
   "execution_count": 49,
   "id": "c523940d-2001-4ab7-9b8c-2283808eb748",
   "metadata": {
    "execution": {
     "iopub.execute_input": "2025-03-04T17:24:22.641220Z",
     "iopub.status.busy": "2025-03-04T17:24:22.641111Z",
     "iopub.status.idle": "2025-03-04T17:27:01.384724Z",
     "shell.execute_reply": "2025-03-04T17:27:01.384395Z",
     "shell.execute_reply.started": "2025-03-04T17:24:22.641210Z"
    }
   },
   "outputs": [
    {
     "name": "stdout",
     "output_type": "stream",
     "text": [
      "Logistic Regression accuracy on test data: 0.38\n"
     ]
    }
   ],
   "source": [
    "# Создаем и обучаем модель логистической регрессии\n",
    "logreg_model = LogisticRegression(max_iter=1000)\n",
    "logreg_model.fit(X_train, y_train)\n",
    "\n",
    "y_pred = logreg_model.predict(X_test)\n",
    "accuracy = accuracy_score(y_test, y_pred)\n",
    "print(f'Logistic Regression accuracy on test data: {accuracy:.2f}')"
   ]
  },
  {
   "cell_type": "markdown",
   "id": "b7aa2ff3-f6b5-4755-85c4-b87933b3566a",
   "metadata": {
    "execution": {
     "iopub.execute_input": "2025-03-04T13:50:06.373282Z",
     "iopub.status.busy": "2025-03-04T13:50:06.373030Z",
     "iopub.status.idle": "2025-03-04T13:50:06.376113Z",
     "shell.execute_reply": "2025-03-04T13:50:06.375526Z",
     "shell.execute_reply.started": "2025-03-04T13:50:06.373264Z"
    }
   },
   "source": [
    "# Сверточная нейронная сеть, обученная на мел-спектрограммах"
   ]
  },
  {
   "cell_type": "code",
   "execution_count": 50,
   "id": "6aa1af0e-e7ab-409c-a405-dbbdc2536fb6",
   "metadata": {
    "execution": {
     "iopub.execute_input": "2025-03-04T17:27:01.387276Z",
     "iopub.status.busy": "2025-03-04T17:27:01.385074Z",
     "iopub.status.idle": "2025-03-04T17:27:07.117131Z",
     "shell.execute_reply": "2025-03-04T17:27:07.116828Z",
     "shell.execute_reply.started": "2025-03-04T17:27:01.387262Z"
    }
   },
   "outputs": [],
   "source": [
    "norm_layer = layers.Normalization() # Создаём слой нормализации данных\n",
    "\n",
    "# Адаптируем слой нормализации на основе спектрограмм из датасета\n",
    "norm_layer.adapt(data=spectrogram_mel_ds.map(map_func=lambda spec, label: spec))"
   ]
  },
  {
   "cell_type": "code",
   "execution_count": 51,
   "id": "c385f67d-325c-452c-9af2-600ea07524d4",
   "metadata": {
    "execution": {
     "iopub.execute_input": "2025-03-04T17:27:07.117724Z",
     "iopub.status.busy": "2025-03-04T17:27:07.117612Z",
     "iopub.status.idle": "2025-03-04T17:27:07.156519Z",
     "shell.execute_reply": "2025-03-04T17:27:07.156206Z",
     "shell.execute_reply.started": "2025-03-04T17:27:07.117714Z"
    }
   },
   "outputs": [
    {
     "data": {
      "text/html": [
       "<pre style=\"white-space:pre;overflow-x:auto;line-height:normal;font-family:Menlo,'DejaVu Sans Mono',consolas,'Courier New',monospace\"><span style=\"font-weight: bold\">Model: \"sequential_2\"</span>\n",
       "</pre>\n"
      ],
      "text/plain": [
       "\u001b[1mModel: \"sequential_2\"\u001b[0m\n"
      ]
     },
     "metadata": {},
     "output_type": "display_data"
    },
    {
     "data": {
      "text/html": [
       "<pre style=\"white-space:pre;overflow-x:auto;line-height:normal;font-family:Menlo,'DejaVu Sans Mono',consolas,'Courier New',monospace\">┏━━━━━━━━━━━━━━━━━━━━━━━━━━━━━━━━━┳━━━━━━━━━━━━━━━━━━━━━━━━┳━━━━━━━━━━━━━━━┓\n",
       "┃<span style=\"font-weight: bold\"> Layer (type)                    </span>┃<span style=\"font-weight: bold\"> Output Shape           </span>┃<span style=\"font-weight: bold\">       Param # </span>┃\n",
       "┡━━━━━━━━━━━━━━━━━━━━━━━━━━━━━━━━━╇━━━━━━━━━━━━━━━━━━━━━━━━╇━━━━━━━━━━━━━━━┩\n",
       "│ resizing_1 (<span style=\"color: #0087ff; text-decoration-color: #0087ff\">Resizing</span>)           │ (<span style=\"color: #00d7ff; text-decoration-color: #00d7ff\">None</span>, <span style=\"color: #00af00; text-decoration-color: #00af00\">32</span>, <span style=\"color: #00af00; text-decoration-color: #00af00\">32</span>, <span style=\"color: #00af00; text-decoration-color: #00af00\">1</span>)      │             <span style=\"color: #00af00; text-decoration-color: #00af00\">0</span> │\n",
       "├─────────────────────────────────┼────────────────────────┼───────────────┤\n",
       "│ normalization_1 (<span style=\"color: #0087ff; text-decoration-color: #0087ff\">Normalization</span>) │ (<span style=\"color: #00d7ff; text-decoration-color: #00d7ff\">None</span>, <span style=\"color: #00af00; text-decoration-color: #00af00\">32</span>, <span style=\"color: #00af00; text-decoration-color: #00af00\">32</span>, <span style=\"color: #00af00; text-decoration-color: #00af00\">1</span>)      │             <span style=\"color: #00af00; text-decoration-color: #00af00\">3</span> │\n",
       "├─────────────────────────────────┼────────────────────────┼───────────────┤\n",
       "│ conv2d_4 (<span style=\"color: #0087ff; text-decoration-color: #0087ff\">Conv2D</span>)               │ (<span style=\"color: #00d7ff; text-decoration-color: #00d7ff\">None</span>, <span style=\"color: #00af00; text-decoration-color: #00af00\">30</span>, <span style=\"color: #00af00; text-decoration-color: #00af00\">30</span>, <span style=\"color: #00af00; text-decoration-color: #00af00\">32</span>)     │           <span style=\"color: #00af00; text-decoration-color: #00af00\">320</span> │\n",
       "├─────────────────────────────────┼────────────────────────┼───────────────┤\n",
       "│ activation_4 (<span style=\"color: #0087ff; text-decoration-color: #0087ff\">Activation</span>)       │ (<span style=\"color: #00d7ff; text-decoration-color: #00d7ff\">None</span>, <span style=\"color: #00af00; text-decoration-color: #00af00\">30</span>, <span style=\"color: #00af00; text-decoration-color: #00af00\">30</span>, <span style=\"color: #00af00; text-decoration-color: #00af00\">32</span>)     │             <span style=\"color: #00af00; text-decoration-color: #00af00\">0</span> │\n",
       "├─────────────────────────────────┼────────────────────────┼───────────────┤\n",
       "│ conv2d_5 (<span style=\"color: #0087ff; text-decoration-color: #0087ff\">Conv2D</span>)               │ (<span style=\"color: #00d7ff; text-decoration-color: #00d7ff\">None</span>, <span style=\"color: #00af00; text-decoration-color: #00af00\">28</span>, <span style=\"color: #00af00; text-decoration-color: #00af00\">28</span>, <span style=\"color: #00af00; text-decoration-color: #00af00\">64</span>)     │        <span style=\"color: #00af00; text-decoration-color: #00af00\">18,496</span> │\n",
       "├─────────────────────────────────┼────────────────────────┼───────────────┤\n",
       "│ activation_5 (<span style=\"color: #0087ff; text-decoration-color: #0087ff\">Activation</span>)       │ (<span style=\"color: #00d7ff; text-decoration-color: #00d7ff\">None</span>, <span style=\"color: #00af00; text-decoration-color: #00af00\">28</span>, <span style=\"color: #00af00; text-decoration-color: #00af00\">28</span>, <span style=\"color: #00af00; text-decoration-color: #00af00\">64</span>)     │             <span style=\"color: #00af00; text-decoration-color: #00af00\">0</span> │\n",
       "├─────────────────────────────────┼────────────────────────┼───────────────┤\n",
       "│ max_pooling2d_3 (<span style=\"color: #0087ff; text-decoration-color: #0087ff\">MaxPooling2D</span>)  │ (<span style=\"color: #00d7ff; text-decoration-color: #00d7ff\">None</span>, <span style=\"color: #00af00; text-decoration-color: #00af00\">14</span>, <span style=\"color: #00af00; text-decoration-color: #00af00\">14</span>, <span style=\"color: #00af00; text-decoration-color: #00af00\">64</span>)     │             <span style=\"color: #00af00; text-decoration-color: #00af00\">0</span> │\n",
       "├─────────────────────────────────┼────────────────────────┼───────────────┤\n",
       "│ dropout_6 (<span style=\"color: #0087ff; text-decoration-color: #0087ff\">Dropout</span>)             │ (<span style=\"color: #00d7ff; text-decoration-color: #00d7ff\">None</span>, <span style=\"color: #00af00; text-decoration-color: #00af00\">14</span>, <span style=\"color: #00af00; text-decoration-color: #00af00\">14</span>, <span style=\"color: #00af00; text-decoration-color: #00af00\">64</span>)     │             <span style=\"color: #00af00; text-decoration-color: #00af00\">0</span> │\n",
       "├─────────────────────────────────┼────────────────────────┼───────────────┤\n",
       "│ conv2d_6 (<span style=\"color: #0087ff; text-decoration-color: #0087ff\">Conv2D</span>)               │ (<span style=\"color: #00d7ff; text-decoration-color: #00d7ff\">None</span>, <span style=\"color: #00af00; text-decoration-color: #00af00\">12</span>, <span style=\"color: #00af00; text-decoration-color: #00af00\">12</span>, <span style=\"color: #00af00; text-decoration-color: #00af00\">128</span>)    │        <span style=\"color: #00af00; text-decoration-color: #00af00\">73,856</span> │\n",
       "├─────────────────────────────────┼────────────────────────┼───────────────┤\n",
       "│ activation_6 (<span style=\"color: #0087ff; text-decoration-color: #0087ff\">Activation</span>)       │ (<span style=\"color: #00d7ff; text-decoration-color: #00d7ff\">None</span>, <span style=\"color: #00af00; text-decoration-color: #00af00\">12</span>, <span style=\"color: #00af00; text-decoration-color: #00af00\">12</span>, <span style=\"color: #00af00; text-decoration-color: #00af00\">128</span>)    │             <span style=\"color: #00af00; text-decoration-color: #00af00\">0</span> │\n",
       "├─────────────────────────────────┼────────────────────────┼───────────────┤\n",
       "│ max_pooling2d_4 (<span style=\"color: #0087ff; text-decoration-color: #0087ff\">MaxPooling2D</span>)  │ (<span style=\"color: #00d7ff; text-decoration-color: #00d7ff\">None</span>, <span style=\"color: #00af00; text-decoration-color: #00af00\">6</span>, <span style=\"color: #00af00; text-decoration-color: #00af00\">6</span>, <span style=\"color: #00af00; text-decoration-color: #00af00\">128</span>)      │             <span style=\"color: #00af00; text-decoration-color: #00af00\">0</span> │\n",
       "├─────────────────────────────────┼────────────────────────┼───────────────┤\n",
       "│ dropout_7 (<span style=\"color: #0087ff; text-decoration-color: #0087ff\">Dropout</span>)             │ (<span style=\"color: #00d7ff; text-decoration-color: #00d7ff\">None</span>, <span style=\"color: #00af00; text-decoration-color: #00af00\">6</span>, <span style=\"color: #00af00; text-decoration-color: #00af00\">6</span>, <span style=\"color: #00af00; text-decoration-color: #00af00\">128</span>)      │             <span style=\"color: #00af00; text-decoration-color: #00af00\">0</span> │\n",
       "├─────────────────────────────────┼────────────────────────┼───────────────┤\n",
       "│ conv2d_7 (<span style=\"color: #0087ff; text-decoration-color: #0087ff\">Conv2D</span>)               │ (<span style=\"color: #00d7ff; text-decoration-color: #00d7ff\">None</span>, <span style=\"color: #00af00; text-decoration-color: #00af00\">4</span>, <span style=\"color: #00af00; text-decoration-color: #00af00\">4</span>, <span style=\"color: #00af00; text-decoration-color: #00af00\">256</span>)      │       <span style=\"color: #00af00; text-decoration-color: #00af00\">295,168</span> │\n",
       "├─────────────────────────────────┼────────────────────────┼───────────────┤\n",
       "│ activation_7 (<span style=\"color: #0087ff; text-decoration-color: #0087ff\">Activation</span>)       │ (<span style=\"color: #00d7ff; text-decoration-color: #00d7ff\">None</span>, <span style=\"color: #00af00; text-decoration-color: #00af00\">4</span>, <span style=\"color: #00af00; text-decoration-color: #00af00\">4</span>, <span style=\"color: #00af00; text-decoration-color: #00af00\">256</span>)      │             <span style=\"color: #00af00; text-decoration-color: #00af00\">0</span> │\n",
       "├─────────────────────────────────┼────────────────────────┼───────────────┤\n",
       "│ max_pooling2d_5 (<span style=\"color: #0087ff; text-decoration-color: #0087ff\">MaxPooling2D</span>)  │ (<span style=\"color: #00d7ff; text-decoration-color: #00d7ff\">None</span>, <span style=\"color: #00af00; text-decoration-color: #00af00\">2</span>, <span style=\"color: #00af00; text-decoration-color: #00af00\">2</span>, <span style=\"color: #00af00; text-decoration-color: #00af00\">256</span>)      │             <span style=\"color: #00af00; text-decoration-color: #00af00\">0</span> │\n",
       "├─────────────────────────────────┼────────────────────────┼───────────────┤\n",
       "│ dropout_8 (<span style=\"color: #0087ff; text-decoration-color: #0087ff\">Dropout</span>)             │ (<span style=\"color: #00d7ff; text-decoration-color: #00d7ff\">None</span>, <span style=\"color: #00af00; text-decoration-color: #00af00\">2</span>, <span style=\"color: #00af00; text-decoration-color: #00af00\">2</span>, <span style=\"color: #00af00; text-decoration-color: #00af00\">256</span>)      │             <span style=\"color: #00af00; text-decoration-color: #00af00\">0</span> │\n",
       "├─────────────────────────────────┼────────────────────────┼───────────────┤\n",
       "│ flatten_1 (<span style=\"color: #0087ff; text-decoration-color: #0087ff\">Flatten</span>)             │ (<span style=\"color: #00d7ff; text-decoration-color: #00d7ff\">None</span>, <span style=\"color: #00af00; text-decoration-color: #00af00\">1024</span>)           │             <span style=\"color: #00af00; text-decoration-color: #00af00\">0</span> │\n",
       "├─────────────────────────────────┼────────────────────────┼───────────────┤\n",
       "│ dense_6 (<span style=\"color: #0087ff; text-decoration-color: #0087ff\">Dense</span>)                 │ (<span style=\"color: #00d7ff; text-decoration-color: #00d7ff\">None</span>, <span style=\"color: #00af00; text-decoration-color: #00af00\">128</span>)            │       <span style=\"color: #00af00; text-decoration-color: #00af00\">131,200</span> │\n",
       "├─────────────────────────────────┼────────────────────────┼───────────────┤\n",
       "│ dropout_9 (<span style=\"color: #0087ff; text-decoration-color: #0087ff\">Dropout</span>)             │ (<span style=\"color: #00d7ff; text-decoration-color: #00d7ff\">None</span>, <span style=\"color: #00af00; text-decoration-color: #00af00\">128</span>)            │             <span style=\"color: #00af00; text-decoration-color: #00af00\">0</span> │\n",
       "├─────────────────────────────────┼────────────────────────┼───────────────┤\n",
       "│ dense_7 (<span style=\"color: #0087ff; text-decoration-color: #0087ff\">Dense</span>)                 │ (<span style=\"color: #00d7ff; text-decoration-color: #00d7ff\">None</span>, <span style=\"color: #00af00; text-decoration-color: #00af00\">20</span>)             │         <span style=\"color: #00af00; text-decoration-color: #00af00\">2,580</span> │\n",
       "└─────────────────────────────────┴────────────────────────┴───────────────┘\n",
       "</pre>\n"
      ],
      "text/plain": [
       "┏━━━━━━━━━━━━━━━━━━━━━━━━━━━━━━━━━┳━━━━━━━━━━━━━━━━━━━━━━━━┳━━━━━━━━━━━━━━━┓\n",
       "┃\u001b[1m \u001b[0m\u001b[1mLayer (type)                   \u001b[0m\u001b[1m \u001b[0m┃\u001b[1m \u001b[0m\u001b[1mOutput Shape          \u001b[0m\u001b[1m \u001b[0m┃\u001b[1m \u001b[0m\u001b[1m      Param #\u001b[0m\u001b[1m \u001b[0m┃\n",
       "┡━━━━━━━━━━━━━━━━━━━━━━━━━━━━━━━━━╇━━━━━━━━━━━━━━━━━━━━━━━━╇━━━━━━━━━━━━━━━┩\n",
       "│ resizing_1 (\u001b[38;5;33mResizing\u001b[0m)           │ (\u001b[38;5;45mNone\u001b[0m, \u001b[38;5;34m32\u001b[0m, \u001b[38;5;34m32\u001b[0m, \u001b[38;5;34m1\u001b[0m)      │             \u001b[38;5;34m0\u001b[0m │\n",
       "├─────────────────────────────────┼────────────────────────┼───────────────┤\n",
       "│ normalization_1 (\u001b[38;5;33mNormalization\u001b[0m) │ (\u001b[38;5;45mNone\u001b[0m, \u001b[38;5;34m32\u001b[0m, \u001b[38;5;34m32\u001b[0m, \u001b[38;5;34m1\u001b[0m)      │             \u001b[38;5;34m3\u001b[0m │\n",
       "├─────────────────────────────────┼────────────────────────┼───────────────┤\n",
       "│ conv2d_4 (\u001b[38;5;33mConv2D\u001b[0m)               │ (\u001b[38;5;45mNone\u001b[0m, \u001b[38;5;34m30\u001b[0m, \u001b[38;5;34m30\u001b[0m, \u001b[38;5;34m32\u001b[0m)     │           \u001b[38;5;34m320\u001b[0m │\n",
       "├─────────────────────────────────┼────────────────────────┼───────────────┤\n",
       "│ activation_4 (\u001b[38;5;33mActivation\u001b[0m)       │ (\u001b[38;5;45mNone\u001b[0m, \u001b[38;5;34m30\u001b[0m, \u001b[38;5;34m30\u001b[0m, \u001b[38;5;34m32\u001b[0m)     │             \u001b[38;5;34m0\u001b[0m │\n",
       "├─────────────────────────────────┼────────────────────────┼───────────────┤\n",
       "│ conv2d_5 (\u001b[38;5;33mConv2D\u001b[0m)               │ (\u001b[38;5;45mNone\u001b[0m, \u001b[38;5;34m28\u001b[0m, \u001b[38;5;34m28\u001b[0m, \u001b[38;5;34m64\u001b[0m)     │        \u001b[38;5;34m18,496\u001b[0m │\n",
       "├─────────────────────────────────┼────────────────────────┼───────────────┤\n",
       "│ activation_5 (\u001b[38;5;33mActivation\u001b[0m)       │ (\u001b[38;5;45mNone\u001b[0m, \u001b[38;5;34m28\u001b[0m, \u001b[38;5;34m28\u001b[0m, \u001b[38;5;34m64\u001b[0m)     │             \u001b[38;5;34m0\u001b[0m │\n",
       "├─────────────────────────────────┼────────────────────────┼───────────────┤\n",
       "│ max_pooling2d_3 (\u001b[38;5;33mMaxPooling2D\u001b[0m)  │ (\u001b[38;5;45mNone\u001b[0m, \u001b[38;5;34m14\u001b[0m, \u001b[38;5;34m14\u001b[0m, \u001b[38;5;34m64\u001b[0m)     │             \u001b[38;5;34m0\u001b[0m │\n",
       "├─────────────────────────────────┼────────────────────────┼───────────────┤\n",
       "│ dropout_6 (\u001b[38;5;33mDropout\u001b[0m)             │ (\u001b[38;5;45mNone\u001b[0m, \u001b[38;5;34m14\u001b[0m, \u001b[38;5;34m14\u001b[0m, \u001b[38;5;34m64\u001b[0m)     │             \u001b[38;5;34m0\u001b[0m │\n",
       "├─────────────────────────────────┼────────────────────────┼───────────────┤\n",
       "│ conv2d_6 (\u001b[38;5;33mConv2D\u001b[0m)               │ (\u001b[38;5;45mNone\u001b[0m, \u001b[38;5;34m12\u001b[0m, \u001b[38;5;34m12\u001b[0m, \u001b[38;5;34m128\u001b[0m)    │        \u001b[38;5;34m73,856\u001b[0m │\n",
       "├─────────────────────────────────┼────────────────────────┼───────────────┤\n",
       "│ activation_6 (\u001b[38;5;33mActivation\u001b[0m)       │ (\u001b[38;5;45mNone\u001b[0m, \u001b[38;5;34m12\u001b[0m, \u001b[38;5;34m12\u001b[0m, \u001b[38;5;34m128\u001b[0m)    │             \u001b[38;5;34m0\u001b[0m │\n",
       "├─────────────────────────────────┼────────────────────────┼───────────────┤\n",
       "│ max_pooling2d_4 (\u001b[38;5;33mMaxPooling2D\u001b[0m)  │ (\u001b[38;5;45mNone\u001b[0m, \u001b[38;5;34m6\u001b[0m, \u001b[38;5;34m6\u001b[0m, \u001b[38;5;34m128\u001b[0m)      │             \u001b[38;5;34m0\u001b[0m │\n",
       "├─────────────────────────────────┼────────────────────────┼───────────────┤\n",
       "│ dropout_7 (\u001b[38;5;33mDropout\u001b[0m)             │ (\u001b[38;5;45mNone\u001b[0m, \u001b[38;5;34m6\u001b[0m, \u001b[38;5;34m6\u001b[0m, \u001b[38;5;34m128\u001b[0m)      │             \u001b[38;5;34m0\u001b[0m │\n",
       "├─────────────────────────────────┼────────────────────────┼───────────────┤\n",
       "│ conv2d_7 (\u001b[38;5;33mConv2D\u001b[0m)               │ (\u001b[38;5;45mNone\u001b[0m, \u001b[38;5;34m4\u001b[0m, \u001b[38;5;34m4\u001b[0m, \u001b[38;5;34m256\u001b[0m)      │       \u001b[38;5;34m295,168\u001b[0m │\n",
       "├─────────────────────────────────┼────────────────────────┼───────────────┤\n",
       "│ activation_7 (\u001b[38;5;33mActivation\u001b[0m)       │ (\u001b[38;5;45mNone\u001b[0m, \u001b[38;5;34m4\u001b[0m, \u001b[38;5;34m4\u001b[0m, \u001b[38;5;34m256\u001b[0m)      │             \u001b[38;5;34m0\u001b[0m │\n",
       "├─────────────────────────────────┼────────────────────────┼───────────────┤\n",
       "│ max_pooling2d_5 (\u001b[38;5;33mMaxPooling2D\u001b[0m)  │ (\u001b[38;5;45mNone\u001b[0m, \u001b[38;5;34m2\u001b[0m, \u001b[38;5;34m2\u001b[0m, \u001b[38;5;34m256\u001b[0m)      │             \u001b[38;5;34m0\u001b[0m │\n",
       "├─────────────────────────────────┼────────────────────────┼───────────────┤\n",
       "│ dropout_8 (\u001b[38;5;33mDropout\u001b[0m)             │ (\u001b[38;5;45mNone\u001b[0m, \u001b[38;5;34m2\u001b[0m, \u001b[38;5;34m2\u001b[0m, \u001b[38;5;34m256\u001b[0m)      │             \u001b[38;5;34m0\u001b[0m │\n",
       "├─────────────────────────────────┼────────────────────────┼───────────────┤\n",
       "│ flatten_1 (\u001b[38;5;33mFlatten\u001b[0m)             │ (\u001b[38;5;45mNone\u001b[0m, \u001b[38;5;34m1024\u001b[0m)           │             \u001b[38;5;34m0\u001b[0m │\n",
       "├─────────────────────────────────┼────────────────────────┼───────────────┤\n",
       "│ dense_6 (\u001b[38;5;33mDense\u001b[0m)                 │ (\u001b[38;5;45mNone\u001b[0m, \u001b[38;5;34m128\u001b[0m)            │       \u001b[38;5;34m131,200\u001b[0m │\n",
       "├─────────────────────────────────┼────────────────────────┼───────────────┤\n",
       "│ dropout_9 (\u001b[38;5;33mDropout\u001b[0m)             │ (\u001b[38;5;45mNone\u001b[0m, \u001b[38;5;34m128\u001b[0m)            │             \u001b[38;5;34m0\u001b[0m │\n",
       "├─────────────────────────────────┼────────────────────────┼───────────────┤\n",
       "│ dense_7 (\u001b[38;5;33mDense\u001b[0m)                 │ (\u001b[38;5;45mNone\u001b[0m, \u001b[38;5;34m20\u001b[0m)             │         \u001b[38;5;34m2,580\u001b[0m │\n",
       "└─────────────────────────────────┴────────────────────────┴───────────────┘\n"
      ]
     },
     "metadata": {},
     "output_type": "display_data"
    },
    {
     "data": {
      "text/html": [
       "<pre style=\"white-space:pre;overflow-x:auto;line-height:normal;font-family:Menlo,'DejaVu Sans Mono',consolas,'Courier New',monospace\"><span style=\"font-weight: bold\"> Total params: </span><span style=\"color: #00af00; text-decoration-color: #00af00\">521,623</span> (1.99 MB)\n",
       "</pre>\n"
      ],
      "text/plain": [
       "\u001b[1m Total params: \u001b[0m\u001b[38;5;34m521,623\u001b[0m (1.99 MB)\n"
      ]
     },
     "metadata": {},
     "output_type": "display_data"
    },
    {
     "data": {
      "text/html": [
       "<pre style=\"white-space:pre;overflow-x:auto;line-height:normal;font-family:Menlo,'DejaVu Sans Mono',consolas,'Courier New',monospace\"><span style=\"font-weight: bold\"> Trainable params: </span><span style=\"color: #00af00; text-decoration-color: #00af00\">521,620</span> (1.99 MB)\n",
       "</pre>\n"
      ],
      "text/plain": [
       "\u001b[1m Trainable params: \u001b[0m\u001b[38;5;34m521,620\u001b[0m (1.99 MB)\n"
      ]
     },
     "metadata": {},
     "output_type": "display_data"
    },
    {
     "data": {
      "text/html": [
       "<pre style=\"white-space:pre;overflow-x:auto;line-height:normal;font-family:Menlo,'DejaVu Sans Mono',consolas,'Courier New',monospace\"><span style=\"font-weight: bold\"> Non-trainable params: </span><span style=\"color: #00af00; text-decoration-color: #00af00\">3</span> (16.00 B)\n",
       "</pre>\n"
      ],
      "text/plain": [
       "\u001b[1m Non-trainable params: \u001b[0m\u001b[38;5;34m3\u001b[0m (16.00 B)\n"
      ]
     },
     "metadata": {},
     "output_type": "display_data"
    }
   ],
   "source": [
    "model_mel_cnn = models.Sequential([\n",
    "    layers.Input(shape=input_mel_shape),\n",
    "    layers.Resizing(32, 32),\n",
    "    norm_layer,\n",
    "    \n",
    "    layers.Conv2D(32, 3),\n",
    "    layers.Activation('relu'),\n",
    "    \n",
    "    layers.Conv2D(64, 3),\n",
    "    layers.Activation('relu'),\n",
    "    layers.MaxPooling2D(),\n",
    "    layers.Dropout(0.25),\n",
    "\n",
    "    layers.Conv2D(128, 3),\n",
    "    layers.Activation('relu'),\n",
    "    layers.MaxPooling2D(),\n",
    "    layers.Dropout(0.25),\n",
    "\n",
    "    layers.Conv2D(256, 3),\n",
    "    layers.Activation('relu'),\n",
    "    layers.MaxPooling2D(),\n",
    "    layers.Dropout(0.25),\n",
    "    \n",
    "    layers.Flatten(),\n",
    "    layers.Dense(128, activation='relu'),\n",
    "    layers.Dropout(0.5),\n",
    "    \n",
    "    layers.Dense(num_labels),\n",
    "])\n",
    "\n",
    "model_mel_cnn.summary()"
   ]
  },
  {
   "cell_type": "code",
   "execution_count": 52,
   "id": "5b397ef6-e89f-43f8-b0d6-c0d152a4874b",
   "metadata": {
    "execution": {
     "iopub.execute_input": "2025-03-04T17:27:07.156943Z",
     "iopub.status.busy": "2025-03-04T17:27:07.156834Z",
     "iopub.status.idle": "2025-03-04T17:27:07.160733Z",
     "shell.execute_reply": "2025-03-04T17:27:07.160386Z",
     "shell.execute_reply.started": "2025-03-04T17:27:07.156932Z"
    }
   },
   "outputs": [],
   "source": [
    "model_mel_cnn.compile(\n",
    "    optimizer=tf.keras.optimizers.Adam(), # Оптимизатор Adam — адаптивный алгоритм градиентного спуска\n",
    "    loss=tf.keras.losses.SparseCategoricalCrossentropy(from_logits=True), # Функция потерь для многоклассовой классификации\n",
    "    metrics=['accuracy'], # Метрика оценки качества модели — точность\n",
    ")"
   ]
  },
  {
   "cell_type": "code",
   "execution_count": 53,
   "id": "23199143-cf11-4469-bd03-6f02b7f28ed0",
   "metadata": {
    "execution": {
     "iopub.execute_input": "2025-03-04T17:27:07.161372Z",
     "iopub.status.busy": "2025-03-04T17:27:07.161180Z",
     "iopub.status.idle": "2025-03-04T17:28:39.935887Z",
     "shell.execute_reply": "2025-03-04T17:28:39.935588Z",
     "shell.execute_reply.started": "2025-03-04T17:27:07.161354Z"
    }
   },
   "outputs": [
    {
     "name": "stdout",
     "output_type": "stream",
     "text": [
      "Epoch 1/50\n",
      "\u001b[1m50/50\u001b[0m \u001b[32m━━━━━━━━━━━━━━━━━━━━\u001b[0m\u001b[37m\u001b[0m \u001b[1m6s\u001b[0m 97ms/step - accuracy: 0.0604 - loss: 3.0011 - val_accuracy: 0.1262 - val_loss: 2.8925\n",
      "Epoch 2/50\n",
      "\u001b[1m50/50\u001b[0m \u001b[32m━━━━━━━━━━━━━━━━━━━━\u001b[0m\u001b[37m\u001b[0m \u001b[1m4s\u001b[0m 85ms/step - accuracy: 0.1210 - loss: 2.8202 - val_accuracy: 0.3113 - val_loss: 2.3804\n",
      "Epoch 3/50\n",
      "\u001b[1m50/50\u001b[0m \u001b[32m━━━━━━━━━━━━━━━━━━━━\u001b[0m\u001b[37m\u001b[0m \u001b[1m4s\u001b[0m 86ms/step - accuracy: 0.2309 - loss: 2.4306 - val_accuracy: 0.4462 - val_loss: 1.8874\n",
      "Epoch 4/50\n",
      "\u001b[1m50/50\u001b[0m \u001b[32m━━━━━━━━━━━━━━━━━━━━\u001b[0m\u001b[37m\u001b[0m \u001b[1m4s\u001b[0m 87ms/step - accuracy: 0.3677 - loss: 2.0028 - val_accuracy: 0.6375 - val_loss: 1.2591\n",
      "Epoch 5/50\n",
      "\u001b[1m50/50\u001b[0m \u001b[32m━━━━━━━━━━━━━━━━━━━━\u001b[0m\u001b[37m\u001b[0m \u001b[1m4s\u001b[0m 86ms/step - accuracy: 0.5114 - loss: 1.5451 - val_accuracy: 0.7013 - val_loss: 0.9447\n",
      "Epoch 6/50\n",
      "\u001b[1m50/50\u001b[0m \u001b[32m━━━━━━━━━━━━━━━━━━━━\u001b[0m\u001b[37m\u001b[0m \u001b[1m4s\u001b[0m 85ms/step - accuracy: 0.5867 - loss: 1.2432 - val_accuracy: 0.7738 - val_loss: 0.7524\n",
      "Epoch 7/50\n",
      "\u001b[1m50/50\u001b[0m \u001b[32m━━━━━━━━━━━━━━━━━━━━\u001b[0m\u001b[37m\u001b[0m \u001b[1m4s\u001b[0m 85ms/step - accuracy: 0.6662 - loss: 1.0312 - val_accuracy: 0.8025 - val_loss: 0.6435\n",
      "Epoch 8/50\n",
      "\u001b[1m50/50\u001b[0m \u001b[32m━━━━━━━━━━━━━━━━━━━━\u001b[0m\u001b[37m\u001b[0m \u001b[1m4s\u001b[0m 85ms/step - accuracy: 0.7191 - loss: 0.8815 - val_accuracy: 0.8288 - val_loss: 0.5420\n",
      "Epoch 9/50\n",
      "\u001b[1m50/50\u001b[0m \u001b[32m━━━━━━━━━━━━━━━━━━━━\u001b[0m\u001b[37m\u001b[0m \u001b[1m4s\u001b[0m 85ms/step - accuracy: 0.7434 - loss: 0.7828 - val_accuracy: 0.8263 - val_loss: 0.4969\n",
      "Epoch 10/50\n",
      "\u001b[1m50/50\u001b[0m \u001b[32m━━━━━━━━━━━━━━━━━━━━\u001b[0m\u001b[37m\u001b[0m \u001b[1m4s\u001b[0m 86ms/step - accuracy: 0.7713 - loss: 0.7071 - val_accuracy: 0.8587 - val_loss: 0.4571\n",
      "Epoch 11/50\n",
      "\u001b[1m50/50\u001b[0m \u001b[32m━━━━━━━━━━━━━━━━━━━━\u001b[0m\u001b[37m\u001b[0m \u001b[1m4s\u001b[0m 86ms/step - accuracy: 0.7863 - loss: 0.6497 - val_accuracy: 0.8525 - val_loss: 0.4268\n",
      "Epoch 12/50\n",
      "\u001b[1m50/50\u001b[0m \u001b[32m━━━━━━━━━━━━━━━━━━━━\u001b[0m\u001b[37m\u001b[0m \u001b[1m4s\u001b[0m 86ms/step - accuracy: 0.8127 - loss: 0.5864 - val_accuracy: 0.8625 - val_loss: 0.3975\n",
      "Epoch 13/50\n",
      "\u001b[1m50/50\u001b[0m \u001b[32m━━━━━━━━━━━━━━━━━━━━\u001b[0m\u001b[37m\u001b[0m \u001b[1m5s\u001b[0m 91ms/step - accuracy: 0.8244 - loss: 0.5422 - val_accuracy: 0.8813 - val_loss: 0.3750\n",
      "Epoch 14/50\n",
      "\u001b[1m50/50\u001b[0m \u001b[32m━━━━━━━━━━━━━━━━━━━━\u001b[0m\u001b[37m\u001b[0m \u001b[1m4s\u001b[0m 85ms/step - accuracy: 0.8310 - loss: 0.5051 - val_accuracy: 0.8737 - val_loss: 0.3704\n",
      "Epoch 15/50\n",
      "\u001b[1m50/50\u001b[0m \u001b[32m━━━━━━━━━━━━━━━━━━━━\u001b[0m\u001b[37m\u001b[0m \u001b[1m4s\u001b[0m 86ms/step - accuracy: 0.8412 - loss: 0.4861 - val_accuracy: 0.8850 - val_loss: 0.3538\n",
      "Epoch 16/50\n",
      "\u001b[1m50/50\u001b[0m \u001b[32m━━━━━━━━━━━━━━━━━━━━\u001b[0m\u001b[37m\u001b[0m \u001b[1m5s\u001b[0m 85ms/step - accuracy: 0.8559 - loss: 0.4471 - val_accuracy: 0.8825 - val_loss: 0.3453\n",
      "Epoch 17/50\n",
      "\u001b[1m50/50\u001b[0m \u001b[32m━━━━━━━━━━━━━━━━━━━━\u001b[0m\u001b[37m\u001b[0m \u001b[1m4s\u001b[0m 85ms/step - accuracy: 0.8586 - loss: 0.4459 - val_accuracy: 0.8925 - val_loss: 0.3307\n",
      "Epoch 18/50\n",
      "\u001b[1m50/50\u001b[0m \u001b[32m━━━━━━━━━━━━━━━━━━━━\u001b[0m\u001b[37m\u001b[0m \u001b[1m4s\u001b[0m 86ms/step - accuracy: 0.8778 - loss: 0.3930 - val_accuracy: 0.8913 - val_loss: 0.3446\n",
      "Epoch 19/50\n",
      "\u001b[1m50/50\u001b[0m \u001b[32m━━━━━━━━━━━━━━━━━━━━\u001b[0m\u001b[37m\u001b[0m \u001b[1m4s\u001b[0m 87ms/step - accuracy: 0.8645 - loss: 0.4175 - val_accuracy: 0.9062 - val_loss: 0.2880\n",
      "Epoch 20/50\n",
      "\u001b[1m50/50\u001b[0m \u001b[32m━━━━━━━━━━━━━━━━━━━━\u001b[0m\u001b[37m\u001b[0m \u001b[1m4s\u001b[0m 86ms/step - accuracy: 0.8786 - loss: 0.3698 - val_accuracy: 0.8975 - val_loss: 0.3097\n",
      "Epoch 21/50\n",
      "\u001b[1m50/50\u001b[0m \u001b[32m━━━━━━━━━━━━━━━━━━━━\u001b[0m\u001b[37m\u001b[0m \u001b[1m4s\u001b[0m 85ms/step - accuracy: 0.8954 - loss: 0.3300 - val_accuracy: 0.9025 - val_loss: 0.2909\n",
      "Epoch 21: early stopping\n"
     ]
    }
   ],
   "source": [
    "EPOCHS = 50\n",
    "history = model_mel_cnn.fit(\n",
    "    train_mel_ds, # Тренировочный набор\n",
    "    validation_data=val_mel_ds, # Валидационный набор\n",
    "    epochs=EPOCHS, # Эпохи\n",
    "    callbacks=tf.keras.callbacks.EarlyStopping(verbose=1, patience=2), # Раннее прекращение обучения\n",
    ")"
   ]
  },
  {
   "cell_type": "code",
   "execution_count": 54,
   "id": "ec018b66-f6ec-4bcc-8525-d0163ec963b8",
   "metadata": {
    "execution": {
     "iopub.execute_input": "2025-03-04T17:28:39.936400Z",
     "iopub.status.busy": "2025-03-04T17:28:39.936275Z",
     "iopub.status.idle": "2025-03-04T17:28:40.002080Z",
     "shell.execute_reply": "2025-03-04T17:28:40.001795Z",
     "shell.execute_reply.started": "2025-03-04T17:28:39.936388Z"
    }
   },
   "outputs": [
    {
     "data": {
      "image/png": "[encoded data removed]",
      "text/plain": [
       "<Figure size 640x480 with 1 Axes>"
      ]
     },
     "metadata": {},
     "output_type": "display_data"
    }
   ],
   "source": [
    "metrics = history.history\n",
    "plt.plot(history.epoch, metrics['loss'], metrics['val_loss'])\n",
    "plt.legend(['loss', 'val_loss'])\n",
    "plt.show()"
   ]
  },
  {
   "cell_type": "code",
   "execution_count": 55,
   "id": "84570e29-1cb7-4183-806e-15fcdb592e3a",
   "metadata": {
    "execution": {
     "iopub.execute_input": "2025-03-04T17:28:40.002512Z",
     "iopub.status.busy": "2025-03-04T17:28:40.002396Z",
     "iopub.status.idle": "2025-03-04T17:28:40.161459Z",
     "shell.execute_reply": "2025-03-04T17:28:40.161131Z",
     "shell.execute_reply.started": "2025-03-04T17:28:40.002501Z"
    }
   },
   "outputs": [],
   "source": [
    "test_mel_audio = []\n",
    "test_mel_labels = []\n",
    "\n",
    "for audio, label in test_mel_ds:\n",
    "  test_mel_audio.append(audio.numpy()) # Преобразуем тензор в массив NumPy и добавляем в список\n",
    "  test_mel_labels.append(label.numpy()) # Аналогично преобразуем метки\n",
    "\n",
    "# Преобразуем списки в массивы NumPy для удобной обработки\n",
    "test_mel_audio = np.array(test_mel_audio)\n",
    "test_mel_labels = np.array(test_mel_labels)"
   ]
  },
  {
   "cell_type": "code",
   "execution_count": 56,
   "id": "fe1649d6-98e5-4030-958b-aecbe623d37d",
   "metadata": {
    "execution": {
     "iopub.execute_input": "2025-03-04T17:28:40.162114Z",
     "iopub.status.busy": "2025-03-04T17:28:40.161865Z",
     "iopub.status.idle": "2025-03-04T17:28:40.364176Z",
     "shell.execute_reply": "2025-03-04T17:28:40.363777Z",
     "shell.execute_reply.started": "2025-03-04T17:28:40.162101Z"
    }
   },
   "outputs": [
    {
     "name": "stdout",
     "output_type": "stream",
     "text": [
      "\u001b[1m25/25\u001b[0m \u001b[32m━━━━━━━━━━━━━━━━━━━━\u001b[0m\u001b[37m\u001b[0m \u001b[1m0s\u001b[0m 5ms/step\n",
      "Точность на тестовом наборе: 88%\n"
     ]
    }
   ],
   "source": [
    "y_pred = np.argmax(model_mel_cnn.predict(test_mel_audio), axis=1) # Получаем предсказания модели на тестовом наборе\n",
    "y_true = test_mel_labels # Истинные метки классов\n",
    "\n",
    "test_acc = sum(y_pred == y_true) / len(y_true) # Вычисляем точность на тестовом наборе\n",
    "print(f'Точность на тестовом наборе: {test_acc:.0%}')"
   ]
  },
  {
   "cell_type": "code",
   "execution_count": 57,
   "id": "444e34f7-482c-44ad-9914-5a4dba0a6a2c",
   "metadata": {
    "execution": {
     "iopub.execute_input": "2025-03-04T17:28:40.364816Z",
     "iopub.status.busy": "2025-03-04T17:28:40.364673Z",
     "iopub.status.idle": "2025-03-04T17:28:40.727982Z",
     "shell.execute_reply": "2025-03-04T17:28:40.727642Z",
     "shell.execute_reply.started": "2025-03-04T17:28:40.364803Z"
    }
   },
   "outputs": [
    {
     "data": {
      "image/png": "[encoded data removed]",
      "text/plain": [
       "<Figure size 1000x800 with 2 Axes>"
      ]
     },
     "metadata": {},
     "output_type": "display_data"
    }
   ],
   "source": [
    "confusion_mtx = tf.math.confusion_matrix(y_true, y_pred) # Вычисляем матрицу ошибок\n",
    "plt.figure(figsize=(10, 8))\n",
    "\n",
    "# Строим тепловую карту (heatmap) для визуализации матрицы ошибок\n",
    "# xticklabels=commands - метки классов для оси X (предсказанные значения)\n",
    "# yticklabels=commands - метки классов для оси Y (истинные значения)\n",
    "# annot=True - отображать значения в ячейках матрицы\n",
    "# fmt='g' - формат отображения чисел (общий формат, без лишних знаков)\n",
    "sns.heatmap(confusion_mtx,\n",
    "            xticklabels=commands,\n",
    "            yticklabels=commands,\n",
    "            annot=True, fmt='g')\n",
    "plt.xlabel('Prediction')\n",
    "plt.ylabel('Label')\n",
    "plt.show()"
   ]
  },
  {
   "cell_type": "code",
   "execution_count": 58,
   "id": "02315482-f660-435c-a9e9-ee55266384fe",
   "metadata": {
    "execution": {
     "iopub.execute_input": "2025-03-04T17:28:40.728570Z",
     "iopub.status.busy": "2025-03-04T17:28:40.728406Z",
     "iopub.status.idle": "2025-03-04T17:28:40.776328Z",
     "shell.execute_reply": "2025-03-04T17:28:40.776011Z",
     "shell.execute_reply.started": "2025-03-04T17:28:40.728553Z"
    }
   },
   "outputs": [],
   "source": [
    "model_mel_cnn.save('../Models/mel_cnn.keras')"
   ]
  },
  {
   "cell_type": "markdown",
   "id": "fdffb3d0-0c08-4ff9-8429-d4075adfb9e3",
   "metadata": {},
   "source": [
    "# Создание датасета MFCC"
   ]
  },
  {
   "cell_type": "code",
   "execution_count": 59,
   "id": "2a276848-6055-4ead-ac2f-64fa867e945e",
   "metadata": {
    "execution": {
     "iopub.execute_input": "2025-03-04T17:28:40.776745Z",
     "iopub.status.busy": "2025-03-04T17:28:40.776636Z",
     "iopub.status.idle": "2025-03-04T17:28:40.781167Z",
     "shell.execute_reply": "2025-03-04T17:28:40.780808Z",
     "shell.execute_reply.started": "2025-03-04T17:28:40.776734Z"
    }
   },
   "outputs": [],
   "source": [
    "def get_mfcc(waveform):\n",
    "    # Обрезаем или заполняем нулями до 16000 сэмплов\n",
    "    input_len = 16000\n",
    "    waveform = waveform[:input_len]\n",
    "    zero_padding = tf.zeros([16000] - tf.shape(waveform), dtype=tf.float32)\n",
    "    waveform = tf.concat([waveform, zero_padding], 0)\n",
    "    \n",
    "    # Применяем STFT\n",
    "    stft = tf.signal.stft(waveform, frame_length=400, frame_step=160)\n",
    "    spectrogram = tf.abs(stft)\n",
    "    \n",
    "    # Создаем фильтр мел-шкал (80 мел-фильтров)\n",
    "    num_mel_bins = 80\n",
    "    linear_to_mel_weight_matrix = tf.signal.linear_to_mel_weight_matrix(\n",
    "        num_mel_bins=num_mel_bins,\n",
    "        num_spectrogram_bins=spectrogram.shape[-1],\n",
    "        sample_rate=16000,\n",
    "        lower_edge_hertz=80.0,\n",
    "        upper_edge_hertz=7600.0\n",
    "    )\n",
    "    \n",
    "    # Применяем мел-фильтры для получения мел-спектрограммы\n",
    "    mel_spectrogram = tf.tensordot(spectrogram, linear_to_mel_weight_matrix, 1)\n",
    "    mel_spectrogram.set_shape(spectrogram.shape[:-1].concatenate(linear_to_mel_weight_matrix.shape[-1:]))\n",
    "    \n",
    "    # Преобразуем в логарифмическую шкалу для стабилизации значений\n",
    "    log_mel_spectrogram = tf.math.log(mel_spectrogram + 1e-6)\n",
    "    \n",
    "    # Вычисляем MFCC из мел-спектрограммы.\n",
    "    num_mfcc = 13\n",
    "    mfcc = tf.signal.mfccs_from_log_mel_spectrograms(log_mel_spectrogram)[..., :num_mfcc]\n",
    "    \n",
    "    # Добавляем новое измерение\n",
    "    mfcc = mfcc[..., tf.newaxis]\n",
    "    return mfcc\n"
   ]
  },
  {
   "cell_type": "code",
   "execution_count": 60,
   "id": "72e4a45c-1d0f-45c0-989b-e22603c21110",
   "metadata": {
    "execution": {
     "iopub.execute_input": "2025-03-04T17:28:40.781755Z",
     "iopub.status.busy": "2025-03-04T17:28:40.781605Z",
     "iopub.status.idle": "2025-03-04T17:28:40.786602Z",
     "shell.execute_reply": "2025-03-04T17:28:40.786295Z",
     "shell.execute_reply.started": "2025-03-04T17:28:40.781744Z"
    }
   },
   "outputs": [],
   "source": [
    "def get_mfcc_and_label_id(audio, label):\n",
    "    mfcc_features = get_mfcc(audio)\n",
    "    label_id = tf.argmax(label == commands)\n",
    "    return mfcc_features, label_id"
   ]
  },
  {
   "cell_type": "code",
   "execution_count": 61,
   "id": "553f891c-1650-4ec1-b242-9df26a9613c7",
   "metadata": {
    "execution": {
     "iopub.execute_input": "2025-03-04T17:28:40.787057Z",
     "iopub.status.busy": "2025-03-04T17:28:40.786942Z",
     "iopub.status.idle": "2025-03-04T17:28:40.790378Z",
     "shell.execute_reply": "2025-03-04T17:28:40.790113Z",
     "shell.execute_reply.started": "2025-03-04T17:28:40.787046Z"
    }
   },
   "outputs": [],
   "source": [
    "def preprocess_mfcc_dataset(files):\n",
    "    files_ds = tf.data.Dataset.from_tensor_slices(files)\n",
    "    output_ds = files_ds.map(get_waveform_and_label).map(get_mfcc_and_label_id)\n",
    "    return output_ds"
   ]
  },
  {
   "cell_type": "code",
   "execution_count": 62,
   "id": "2fc4dafd-6e5d-4799-b8ae-b309ca5b7b31",
   "metadata": {
    "execution": {
     "iopub.execute_input": "2025-03-04T17:28:40.790836Z",
     "iopub.status.busy": "2025-03-04T17:28:40.790719Z",
     "iopub.status.idle": "2025-03-04T17:28:41.305720Z",
     "shell.execute_reply": "2025-03-04T17:28:41.305363Z",
     "shell.execute_reply.started": "2025-03-04T17:28:40.790824Z"
    }
   },
   "outputs": [],
   "source": [
    "spectrogram_mfcc_ds = preprocess_mfcc_dataset(train_files)\n",
    "train_mfcc_ds = spectrogram_mfcc_ds\n",
    "val_mfcc_ds = preprocess_mfcc_dataset(val_files)\n",
    "test_mfcc_ds = preprocess_mfcc_dataset(test_files)"
   ]
  },
  {
   "cell_type": "code",
   "execution_count": 63,
   "id": "900af6ab-d5ad-4eac-9369-0623f1b62d7b",
   "metadata": {
    "execution": {
     "iopub.execute_input": "2025-03-04T17:28:41.306146Z",
     "iopub.status.busy": "2025-03-04T17:28:41.306038Z",
     "iopub.status.idle": "2025-03-04T17:28:43.336824Z",
     "shell.execute_reply": "2025-03-04T17:28:43.336527Z",
     "shell.execute_reply.started": "2025-03-04T17:28:41.306136Z"
    }
   },
   "outputs": [
    {
     "name": "stderr",
     "output_type": "stream",
     "text": [
      "2025-03-04 20:28:43.333788: I tensorflow/core/framework/local_rendezvous.cc:405] Local rendezvous is aborting with status: OUT_OF_RANGE: End of sequence\n"
     ]
    }
   ],
   "source": [
    "# Преобразуем датасеты\n",
    "X_train, y_train = dataset_to_numpy(train_mfcc_ds)\n",
    "X_val, y_val = dataset_to_numpy(val_mfcc_ds)\n",
    "X_test, y_test = dataset_to_numpy(test_mfcc_ds)"
   ]
  },
  {
   "cell_type": "code",
   "execution_count": 64,
   "id": "ab24ebe3-13a0-47d9-be54-5f8eb4328b89",
   "metadata": {
    "execution": {
     "iopub.execute_input": "2025-03-04T17:28:43.337249Z",
     "iopub.status.busy": "2025-03-04T17:28:43.337132Z",
     "iopub.status.idle": "2025-03-04T17:28:43.344134Z",
     "shell.execute_reply": "2025-03-04T17:28:43.343732Z",
     "shell.execute_reply.started": "2025-03-04T17:28:43.337239Z"
    }
   },
   "outputs": [],
   "source": [
    "batch_size = 128\n",
    "\n",
    "train_mfcc_ds = (train_mfcc_ds\n",
    "            .batch(batch_size) # Группируем данные в батчи размером 64\n",
    "            .cache() # Кешируем данные в памяти для ускорения обучения\n",
    "            .prefetch(1) # Загружаем следующий батч данных заранее для увеличения скорости обучения\n",
    "           )\n",
    "\n",
    "val_mfcc_ds = (val_mfcc_ds\n",
    "          .batch(batch_size)\n",
    "          .cache()\n",
    "          .prefetch(1)\n",
    "         )"
   ]
  },
  {
   "cell_type": "code",
   "execution_count": 65,
   "id": "aa33ae53-9555-47d1-9b27-03ba82820dcd",
   "metadata": {
    "execution": {
     "iopub.execute_input": "2025-03-04T17:28:43.344598Z",
     "iopub.status.busy": "2025-03-04T17:28:43.344486Z",
     "iopub.status.idle": "2025-03-04T17:28:43.420225Z",
     "shell.execute_reply": "2025-03-04T17:28:43.419911Z",
     "shell.execute_reply.started": "2025-03-04T17:28:43.344587Z"
    }
   },
   "outputs": [
    {
     "name": "stdout",
     "output_type": "stream",
     "text": [
      "Размер входных данных для MFCC: (98, 13, 1)\n"
     ]
    }
   ],
   "source": [
    "# Получаем размер входных данных\n",
    "for mfcc, _ in spectrogram_mfcc_ds.take(1):  # Берём один пример из датасета\n",
    "    input_mfcc_shape = mfcc.shape  # Получаем его форму\n",
    "print('Размер входных данных для MFCC:', input_mfcc_shape)"
   ]
  },
  {
   "cell_type": "markdown",
   "id": "d4621ffd-4ae7-4648-802b-466c99eca48e",
   "metadata": {},
   "source": [
    "# ML-алгоритмы на MFCC"
   ]
  },
  {
   "cell_type": "code",
   "execution_count": 66,
   "id": "051fd2d0-a193-4480-b89a-d7f06fae2454",
   "metadata": {
    "execution": {
     "iopub.execute_input": "2025-03-04T17:28:43.420651Z",
     "iopub.status.busy": "2025-03-04T17:28:43.420542Z",
     "iopub.status.idle": "2025-03-04T17:29:00.778502Z",
     "shell.execute_reply": "2025-03-04T17:29:00.778202Z",
     "shell.execute_reply.started": "2025-03-04T17:28:43.420641Z"
    }
   },
   "outputs": [
    {
     "name": "stdout",
     "output_type": "stream",
     "text": [
      "SVM accuracy on test data: 0.42\n"
     ]
    }
   ],
   "source": [
    "# Создаем и обучаем модель SVM\n",
    "svm_model = SVC(kernel='linear')\n",
    "svm_model.fit(X_train, y_train)\n",
    "\n",
    "y_pred = svm_model.predict(X_test)\n",
    "accuracy = accuracy_score(y_test, y_pred)\n",
    "print(f'SVM accuracy on test data: {accuracy:.2f}')"
   ]
  },
  {
   "cell_type": "code",
   "execution_count": 67,
   "id": "e4c7b9f5-d5c0-4876-9859-41ef10a14d6e",
   "metadata": {
    "execution": {
     "iopub.execute_input": "2025-03-04T17:29:00.778898Z",
     "iopub.status.busy": "2025-03-04T17:29:00.778794Z",
     "iopub.status.idle": "2025-03-04T17:29:23.469507Z",
     "shell.execute_reply": "2025-03-04T17:29:23.469188Z",
     "shell.execute_reply.started": "2025-03-04T17:29:00.778888Z"
    }
   },
   "outputs": [
    {
     "name": "stdout",
     "output_type": "stream",
     "text": [
      "Random Forest accuracy on test data: 0.53\n"
     ]
    }
   ],
   "source": [
    "# Создаем и обучаем модель Random Forest\n",
    "rf_model = RandomForestClassifier(n_estimators=100, random_state=42)\n",
    "rf_model.fit(X_train, y_train)\n",
    "\n",
    "y_pred = rf_model.predict(X_test)\n",
    "accuracy = accuracy_score(y_test, y_pred)\n",
    "print(f'Random Forest accuracy on test data: {accuracy:.2f}')"
   ]
  },
  {
   "cell_type": "code",
   "execution_count": 68,
   "id": "61737132-2f77-44f0-b7df-979081e1090f",
   "metadata": {
    "execution": {
     "iopub.execute_input": "2025-03-04T17:29:23.469913Z",
     "iopub.status.busy": "2025-03-04T17:29:23.469816Z",
     "iopub.status.idle": "2025-03-04T17:29:23.577014Z",
     "shell.execute_reply": "2025-03-04T17:29:23.576677Z",
     "shell.execute_reply.started": "2025-03-04T17:29:23.469904Z"
    }
   },
   "outputs": [
    {
     "name": "stdout",
     "output_type": "stream",
     "text": [
      "KNN accuracy on test data: 0.33\n"
     ]
    }
   ],
   "source": [
    "# Создаем и обучаем модель KNN\n",
    "knn_model = KNeighborsClassifier(n_neighbors=5)\n",
    "knn_model.fit(X_train, y_train)\n",
    "\n",
    "y_pred = knn_model.predict(X_test)\n",
    "accuracy = accuracy_score(y_test, y_pred)\n",
    "print(f'KNN accuracy on test data: {accuracy:.2f}')"
   ]
  },
  {
   "cell_type": "code",
   "execution_count": 69,
   "id": "7984e7c8-9444-467d-99a9-308604f7c454",
   "metadata": {
    "execution": {
     "iopub.execute_input": "2025-03-04T17:29:23.577628Z",
     "iopub.status.busy": "2025-03-04T17:29:23.577489Z",
     "iopub.status.idle": "2025-03-04T17:32:24.887933Z",
     "shell.execute_reply": "2025-03-04T17:32:24.887425Z",
     "shell.execute_reply.started": "2025-03-04T17:29:23.577615Z"
    }
   },
   "outputs": [
    {
     "name": "stdout",
     "output_type": "stream",
     "text": [
      "Logistic Regression accuracy on test data: 0.31\n"
     ]
    },
    {
     "name": "stderr",
     "output_type": "stream",
     "text": [
      "/home/flayven/anaconda3/envs/diplom_lab/lib/python3.12/site-packages/sklearn/linear_model/_logistic.py:465: ConvergenceWarning: lbfgs failed to converge (status=1):\n",
      "STOP: TOTAL NO. OF ITERATIONS REACHED LIMIT.\n",
      "\n",
      "Increase the number of iterations (max_iter) or scale the data as shown in:\n",
      "    https://scikit-learn.org/stable/modules/preprocessing.html\n",
      "Please also refer to the documentation for alternative solver options:\n",
      "    https://scikit-learn.org/stable/modules/linear_model.html#logistic-regression\n",
      "  n_iter_i = _check_optimize_result(\n"
     ]
    }
   ],
   "source": [
    "# Создаем и обучаем модель логистической регрессии\n",
    "logreg_model = LogisticRegression(max_iter=1000)\n",
    "logreg_model.fit(X_train, y_train)\n",
    "\n",
    "y_pred = logreg_model.predict(X_test)\n",
    "accuracy = accuracy_score(y_test, y_pred)\n",
    "print(f'Logistic Regression accuracy on test data: {accuracy:.2f}')"
   ]
  },
  {
   "cell_type": "markdown",
   "id": "3bfd8c77-6137-4495-aae9-ccae82a6d739",
   "metadata": {},
   "source": [
    "# Сверточная нейронная сеть, обученная на MFCC"
   ]
  },
  {
   "cell_type": "code",
   "execution_count": 70,
   "id": "409cdd62-e9cb-4986-94bc-b3916d8a9a8a",
   "metadata": {
    "execution": {
     "iopub.execute_input": "2025-03-04T17:32:24.888337Z",
     "iopub.status.busy": "2025-03-04T17:32:24.888221Z",
     "iopub.status.idle": "2025-03-04T17:32:30.577187Z",
     "shell.execute_reply": "2025-03-04T17:32:30.576898Z",
     "shell.execute_reply.started": "2025-03-04T17:32:24.888325Z"
    }
   },
   "outputs": [],
   "source": [
    "norm_layer = layers.Normalization() # Создаём слой нормализации данных\n",
    "\n",
    "# Адаптируем слой нормализации на основе спектрограмм из датасета\n",
    "norm_layer.adapt(data=spectrogram_mfcc_ds.map(map_func=lambda spec, label: spec))"
   ]
  },
  {
   "cell_type": "code",
   "execution_count": 71,
   "id": "4e2b32ae-dc32-4704-9b27-ee65e78e8abc",
   "metadata": {
    "execution": {
     "iopub.execute_input": "2025-03-04T17:32:30.577756Z",
     "iopub.status.busy": "2025-03-04T17:32:30.577644Z",
     "iopub.status.idle": "2025-03-04T17:32:30.609465Z",
     "shell.execute_reply": "2025-03-04T17:32:30.609205Z",
     "shell.execute_reply.started": "2025-03-04T17:32:30.577746Z"
    }
   },
   "outputs": [
    {
     "data": {
      "text/html": [
       "<pre style=\"white-space:pre;overflow-x:auto;line-height:normal;font-family:Menlo,'DejaVu Sans Mono',consolas,'Courier New',monospace\"><span style=\"font-weight: bold\">Model: \"sequential_3\"</span>\n",
       "</pre>\n"
      ],
      "text/plain": [
       "\u001b[1mModel: \"sequential_3\"\u001b[0m\n"
      ]
     },
     "metadata": {},
     "output_type": "display_data"
    },
    {
     "data": {
      "text/html": [
       "<pre style=\"white-space:pre;overflow-x:auto;line-height:normal;font-family:Menlo,'DejaVu Sans Mono',consolas,'Courier New',monospace\">┏━━━━━━━━━━━━━━━━━━━━━━━━━━━━━━━━━┳━━━━━━━━━━━━━━━━━━━━━━━━┳━━━━━━━━━━━━━━━┓\n",
       "┃<span style=\"font-weight: bold\"> Layer (type)                    </span>┃<span style=\"font-weight: bold\"> Output Shape           </span>┃<span style=\"font-weight: bold\">       Param # </span>┃\n",
       "┡━━━━━━━━━━━━━━━━━━━━━━━━━━━━━━━━━╇━━━━━━━━━━━━━━━━━━━━━━━━╇━━━━━━━━━━━━━━━┩\n",
       "│ resizing_2 (<span style=\"color: #0087ff; text-decoration-color: #0087ff\">Resizing</span>)           │ (<span style=\"color: #00d7ff; text-decoration-color: #00d7ff\">None</span>, <span style=\"color: #00af00; text-decoration-color: #00af00\">32</span>, <span style=\"color: #00af00; text-decoration-color: #00af00\">32</span>, <span style=\"color: #00af00; text-decoration-color: #00af00\">1</span>)      │             <span style=\"color: #00af00; text-decoration-color: #00af00\">0</span> │\n",
       "├─────────────────────────────────┼────────────────────────┼───────────────┤\n",
       "│ normalization_2 (<span style=\"color: #0087ff; text-decoration-color: #0087ff\">Normalization</span>) │ (<span style=\"color: #00d7ff; text-decoration-color: #00d7ff\">None</span>, <span style=\"color: #00af00; text-decoration-color: #00af00\">32</span>, <span style=\"color: #00af00; text-decoration-color: #00af00\">32</span>, <span style=\"color: #00af00; text-decoration-color: #00af00\">1</span>)      │             <span style=\"color: #00af00; text-decoration-color: #00af00\">3</span> │\n",
       "├─────────────────────────────────┼────────────────────────┼───────────────┤\n",
       "│ conv2d_8 (<span style=\"color: #0087ff; text-decoration-color: #0087ff\">Conv2D</span>)               │ (<span style=\"color: #00d7ff; text-decoration-color: #00d7ff\">None</span>, <span style=\"color: #00af00; text-decoration-color: #00af00\">30</span>, <span style=\"color: #00af00; text-decoration-color: #00af00\">30</span>, <span style=\"color: #00af00; text-decoration-color: #00af00\">32</span>)     │           <span style=\"color: #00af00; text-decoration-color: #00af00\">320</span> │\n",
       "├─────────────────────────────────┼────────────────────────┼───────────────┤\n",
       "│ activation_8 (<span style=\"color: #0087ff; text-decoration-color: #0087ff\">Activation</span>)       │ (<span style=\"color: #00d7ff; text-decoration-color: #00d7ff\">None</span>, <span style=\"color: #00af00; text-decoration-color: #00af00\">30</span>, <span style=\"color: #00af00; text-decoration-color: #00af00\">30</span>, <span style=\"color: #00af00; text-decoration-color: #00af00\">32</span>)     │             <span style=\"color: #00af00; text-decoration-color: #00af00\">0</span> │\n",
       "├─────────────────────────────────┼────────────────────────┼───────────────┤\n",
       "│ conv2d_9 (<span style=\"color: #0087ff; text-decoration-color: #0087ff\">Conv2D</span>)               │ (<span style=\"color: #00d7ff; text-decoration-color: #00d7ff\">None</span>, <span style=\"color: #00af00; text-decoration-color: #00af00\">28</span>, <span style=\"color: #00af00; text-decoration-color: #00af00\">28</span>, <span style=\"color: #00af00; text-decoration-color: #00af00\">64</span>)     │        <span style=\"color: #00af00; text-decoration-color: #00af00\">18,496</span> │\n",
       "├─────────────────────────────────┼────────────────────────┼───────────────┤\n",
       "│ activation_9 (<span style=\"color: #0087ff; text-decoration-color: #0087ff\">Activation</span>)       │ (<span style=\"color: #00d7ff; text-decoration-color: #00d7ff\">None</span>, <span style=\"color: #00af00; text-decoration-color: #00af00\">28</span>, <span style=\"color: #00af00; text-decoration-color: #00af00\">28</span>, <span style=\"color: #00af00; text-decoration-color: #00af00\">64</span>)     │             <span style=\"color: #00af00; text-decoration-color: #00af00\">0</span> │\n",
       "├─────────────────────────────────┼────────────────────────┼───────────────┤\n",
       "│ max_pooling2d_6 (<span style=\"color: #0087ff; text-decoration-color: #0087ff\">MaxPooling2D</span>)  │ (<span style=\"color: #00d7ff; text-decoration-color: #00d7ff\">None</span>, <span style=\"color: #00af00; text-decoration-color: #00af00\">14</span>, <span style=\"color: #00af00; text-decoration-color: #00af00\">14</span>, <span style=\"color: #00af00; text-decoration-color: #00af00\">64</span>)     │             <span style=\"color: #00af00; text-decoration-color: #00af00\">0</span> │\n",
       "├─────────────────────────────────┼────────────────────────┼───────────────┤\n",
       "│ dropout_10 (<span style=\"color: #0087ff; text-decoration-color: #0087ff\">Dropout</span>)            │ (<span style=\"color: #00d7ff; text-decoration-color: #00d7ff\">None</span>, <span style=\"color: #00af00; text-decoration-color: #00af00\">14</span>, <span style=\"color: #00af00; text-decoration-color: #00af00\">14</span>, <span style=\"color: #00af00; text-decoration-color: #00af00\">64</span>)     │             <span style=\"color: #00af00; text-decoration-color: #00af00\">0</span> │\n",
       "├─────────────────────────────────┼────────────────────────┼───────────────┤\n",
       "│ conv2d_10 (<span style=\"color: #0087ff; text-decoration-color: #0087ff\">Conv2D</span>)              │ (<span style=\"color: #00d7ff; text-decoration-color: #00d7ff\">None</span>, <span style=\"color: #00af00; text-decoration-color: #00af00\">12</span>, <span style=\"color: #00af00; text-decoration-color: #00af00\">12</span>, <span style=\"color: #00af00; text-decoration-color: #00af00\">128</span>)    │        <span style=\"color: #00af00; text-decoration-color: #00af00\">73,856</span> │\n",
       "├─────────────────────────────────┼────────────────────────┼───────────────┤\n",
       "│ activation_10 (<span style=\"color: #0087ff; text-decoration-color: #0087ff\">Activation</span>)      │ (<span style=\"color: #00d7ff; text-decoration-color: #00d7ff\">None</span>, <span style=\"color: #00af00; text-decoration-color: #00af00\">12</span>, <span style=\"color: #00af00; text-decoration-color: #00af00\">12</span>, <span style=\"color: #00af00; text-decoration-color: #00af00\">128</span>)    │             <span style=\"color: #00af00; text-decoration-color: #00af00\">0</span> │\n",
       "├─────────────────────────────────┼────────────────────────┼───────────────┤\n",
       "│ max_pooling2d_7 (<span style=\"color: #0087ff; text-decoration-color: #0087ff\">MaxPooling2D</span>)  │ (<span style=\"color: #00d7ff; text-decoration-color: #00d7ff\">None</span>, <span style=\"color: #00af00; text-decoration-color: #00af00\">6</span>, <span style=\"color: #00af00; text-decoration-color: #00af00\">6</span>, <span style=\"color: #00af00; text-decoration-color: #00af00\">128</span>)      │             <span style=\"color: #00af00; text-decoration-color: #00af00\">0</span> │\n",
       "├─────────────────────────────────┼────────────────────────┼───────────────┤\n",
       "│ dropout_11 (<span style=\"color: #0087ff; text-decoration-color: #0087ff\">Dropout</span>)            │ (<span style=\"color: #00d7ff; text-decoration-color: #00d7ff\">None</span>, <span style=\"color: #00af00; text-decoration-color: #00af00\">6</span>, <span style=\"color: #00af00; text-decoration-color: #00af00\">6</span>, <span style=\"color: #00af00; text-decoration-color: #00af00\">128</span>)      │             <span style=\"color: #00af00; text-decoration-color: #00af00\">0</span> │\n",
       "├─────────────────────────────────┼────────────────────────┼───────────────┤\n",
       "│ flatten_2 (<span style=\"color: #0087ff; text-decoration-color: #0087ff\">Flatten</span>)             │ (<span style=\"color: #00d7ff; text-decoration-color: #00d7ff\">None</span>, <span style=\"color: #00af00; text-decoration-color: #00af00\">4608</span>)           │             <span style=\"color: #00af00; text-decoration-color: #00af00\">0</span> │\n",
       "├─────────────────────────────────┼────────────────────────┼───────────────┤\n",
       "│ dense_8 (<span style=\"color: #0087ff; text-decoration-color: #0087ff\">Dense</span>)                 │ (<span style=\"color: #00d7ff; text-decoration-color: #00d7ff\">None</span>, <span style=\"color: #00af00; text-decoration-color: #00af00\">128</span>)            │       <span style=\"color: #00af00; text-decoration-color: #00af00\">589,952</span> │\n",
       "├─────────────────────────────────┼────────────────────────┼───────────────┤\n",
       "│ dropout_12 (<span style=\"color: #0087ff; text-decoration-color: #0087ff\">Dropout</span>)            │ (<span style=\"color: #00d7ff; text-decoration-color: #00d7ff\">None</span>, <span style=\"color: #00af00; text-decoration-color: #00af00\">128</span>)            │             <span style=\"color: #00af00; text-decoration-color: #00af00\">0</span> │\n",
       "├─────────────────────────────────┼────────────────────────┼───────────────┤\n",
       "│ dense_9 (<span style=\"color: #0087ff; text-decoration-color: #0087ff\">Dense</span>)                 │ (<span style=\"color: #00d7ff; text-decoration-color: #00d7ff\">None</span>, <span style=\"color: #00af00; text-decoration-color: #00af00\">20</span>)             │         <span style=\"color: #00af00; text-decoration-color: #00af00\">2,580</span> │\n",
       "└─────────────────────────────────┴────────────────────────┴───────────────┘\n",
       "</pre>\n"
      ],
      "text/plain": [
       "┏━━━━━━━━━━━━━━━━━━━━━━━━━━━━━━━━━┳━━━━━━━━━━━━━━━━━━━━━━━━┳━━━━━━━━━━━━━━━┓\n",
       "┃\u001b[1m \u001b[0m\u001b[1mLayer (type)                   \u001b[0m\u001b[1m \u001b[0m┃\u001b[1m \u001b[0m\u001b[1mOutput Shape          \u001b[0m\u001b[1m \u001b[0m┃\u001b[1m \u001b[0m\u001b[1m      Param #\u001b[0m\u001b[1m \u001b[0m┃\n",
       "┡━━━━━━━━━━━━━━━━━━━━━━━━━━━━━━━━━╇━━━━━━━━━━━━━━━━━━━━━━━━╇━━━━━━━━━━━━━━━┩\n",
       "│ resizing_2 (\u001b[38;5;33mResizing\u001b[0m)           │ (\u001b[38;5;45mNone\u001b[0m, \u001b[38;5;34m32\u001b[0m, \u001b[38;5;34m32\u001b[0m, \u001b[38;5;34m1\u001b[0m)      │             \u001b[38;5;34m0\u001b[0m │\n",
       "├─────────────────────────────────┼────────────────────────┼───────────────┤\n",
       "│ normalization_2 (\u001b[38;5;33mNormalization\u001b[0m) │ (\u001b[38;5;45mNone\u001b[0m, \u001b[38;5;34m32\u001b[0m, \u001b[38;5;34m32\u001b[0m, \u001b[38;5;34m1\u001b[0m)      │             \u001b[38;5;34m3\u001b[0m │\n",
       "├─────────────────────────────────┼────────────────────────┼───────────────┤\n",
       "│ conv2d_8 (\u001b[38;5;33mConv2D\u001b[0m)               │ (\u001b[38;5;45mNone\u001b[0m, \u001b[38;5;34m30\u001b[0m, \u001b[38;5;34m30\u001b[0m, \u001b[38;5;34m32\u001b[0m)     │           \u001b[38;5;34m320\u001b[0m │\n",
       "├─────────────────────────────────┼────────────────────────┼───────────────┤\n",
       "│ activation_8 (\u001b[38;5;33mActivation\u001b[0m)       │ (\u001b[38;5;45mNone\u001b[0m, \u001b[38;5;34m30\u001b[0m, \u001b[38;5;34m30\u001b[0m, \u001b[38;5;34m32\u001b[0m)     │             \u001b[38;5;34m0\u001b[0m │\n",
       "├─────────────────────────────────┼────────────────────────┼───────────────┤\n",
       "│ conv2d_9 (\u001b[38;5;33mConv2D\u001b[0m)               │ (\u001b[38;5;45mNone\u001b[0m, \u001b[38;5;34m28\u001b[0m, \u001b[38;5;34m28\u001b[0m, \u001b[38;5;34m64\u001b[0m)     │        \u001b[38;5;34m18,496\u001b[0m │\n",
       "├─────────────────────────────────┼────────────────────────┼───────────────┤\n",
       "│ activation_9 (\u001b[38;5;33mActivation\u001b[0m)       │ (\u001b[38;5;45mNone\u001b[0m, \u001b[38;5;34m28\u001b[0m, \u001b[38;5;34m28\u001b[0m, \u001b[38;5;34m64\u001b[0m)     │             \u001b[38;5;34m0\u001b[0m │\n",
       "├─────────────────────────────────┼────────────────────────┼───────────────┤\n",
       "│ max_pooling2d_6 (\u001b[38;5;33mMaxPooling2D\u001b[0m)  │ (\u001b[38;5;45mNone\u001b[0m, \u001b[38;5;34m14\u001b[0m, \u001b[38;5;34m14\u001b[0m, \u001b[38;5;34m64\u001b[0m)     │             \u001b[38;5;34m0\u001b[0m │\n",
       "├─────────────────────────────────┼────────────────────────┼───────────────┤\n",
       "│ dropout_10 (\u001b[38;5;33mDropout\u001b[0m)            │ (\u001b[38;5;45mNone\u001b[0m, \u001b[38;5;34m14\u001b[0m, \u001b[38;5;34m14\u001b[0m, \u001b[38;5;34m64\u001b[0m)     │             \u001b[38;5;34m0\u001b[0m │\n",
       "├─────────────────────────────────┼────────────────────────┼───────────────┤\n",
       "│ conv2d_10 (\u001b[38;5;33mConv2D\u001b[0m)              │ (\u001b[38;5;45mNone\u001b[0m, \u001b[38;5;34m12\u001b[0m, \u001b[38;5;34m12\u001b[0m, \u001b[38;5;34m128\u001b[0m)    │        \u001b[38;5;34m73,856\u001b[0m │\n",
       "├─────────────────────────────────┼────────────────────────┼───────────────┤\n",
       "│ activation_10 (\u001b[38;5;33mActivation\u001b[0m)      │ (\u001b[38;5;45mNone\u001b[0m, \u001b[38;5;34m12\u001b[0m, \u001b[38;5;34m12\u001b[0m, \u001b[38;5;34m128\u001b[0m)    │             \u001b[38;5;34m0\u001b[0m │\n",
       "├─────────────────────────────────┼────────────────────────┼───────────────┤\n",
       "│ max_pooling2d_7 (\u001b[38;5;33mMaxPooling2D\u001b[0m)  │ (\u001b[38;5;45mNone\u001b[0m, \u001b[38;5;34m6\u001b[0m, \u001b[38;5;34m6\u001b[0m, \u001b[38;5;34m128\u001b[0m)      │             \u001b[38;5;34m0\u001b[0m │\n",
       "├─────────────────────────────────┼────────────────────────┼───────────────┤\n",
       "│ dropout_11 (\u001b[38;5;33mDropout\u001b[0m)            │ (\u001b[38;5;45mNone\u001b[0m, \u001b[38;5;34m6\u001b[0m, \u001b[38;5;34m6\u001b[0m, \u001b[38;5;34m128\u001b[0m)      │             \u001b[38;5;34m0\u001b[0m │\n",
       "├─────────────────────────────────┼────────────────────────┼───────────────┤\n",
       "│ flatten_2 (\u001b[38;5;33mFlatten\u001b[0m)             │ (\u001b[38;5;45mNone\u001b[0m, \u001b[38;5;34m4608\u001b[0m)           │             \u001b[38;5;34m0\u001b[0m │\n",
       "├─────────────────────────────────┼────────────────────────┼───────────────┤\n",
       "│ dense_8 (\u001b[38;5;33mDense\u001b[0m)                 │ (\u001b[38;5;45mNone\u001b[0m, \u001b[38;5;34m128\u001b[0m)            │       \u001b[38;5;34m589,952\u001b[0m │\n",
       "├─────────────────────────────────┼────────────────────────┼───────────────┤\n",
       "│ dropout_12 (\u001b[38;5;33mDropout\u001b[0m)            │ (\u001b[38;5;45mNone\u001b[0m, \u001b[38;5;34m128\u001b[0m)            │             \u001b[38;5;34m0\u001b[0m │\n",
       "├─────────────────────────────────┼────────────────────────┼───────────────┤\n",
       "│ dense_9 (\u001b[38;5;33mDense\u001b[0m)                 │ (\u001b[38;5;45mNone\u001b[0m, \u001b[38;5;34m20\u001b[0m)             │         \u001b[38;5;34m2,580\u001b[0m │\n",
       "└─────────────────────────────────┴────────────────────────┴───────────────┘\n"
      ]
     },
     "metadata": {},
     "output_type": "display_data"
    },
    {
     "data": {
      "text/html": [
       "<pre style=\"white-space:pre;overflow-x:auto;line-height:normal;font-family:Menlo,'DejaVu Sans Mono',consolas,'Courier New',monospace\"><span style=\"font-weight: bold\"> Total params: </span><span style=\"color: #00af00; text-decoration-color: #00af00\">685,207</span> (2.61 MB)\n",
       "</pre>\n"
      ],
      "text/plain": [
       "\u001b[1m Total params: \u001b[0m\u001b[38;5;34m685,207\u001b[0m (2.61 MB)\n"
      ]
     },
     "metadata": {},
     "output_type": "display_data"
    },
    {
     "data": {
      "text/html": [
       "<pre style=\"white-space:pre;overflow-x:auto;line-height:normal;font-family:Menlo,'DejaVu Sans Mono',consolas,'Courier New',monospace\"><span style=\"font-weight: bold\"> Trainable params: </span><span style=\"color: #00af00; text-decoration-color: #00af00\">685,204</span> (2.61 MB)\n",
       "</pre>\n"
      ],
      "text/plain": [
       "\u001b[1m Trainable params: \u001b[0m\u001b[38;5;34m685,204\u001b[0m (2.61 MB)\n"
      ]
     },
     "metadata": {},
     "output_type": "display_data"
    },
    {
     "data": {
      "text/html": [
       "<pre style=\"white-space:pre;overflow-x:auto;line-height:normal;font-family:Menlo,'DejaVu Sans Mono',consolas,'Courier New',monospace\"><span style=\"font-weight: bold\"> Non-trainable params: </span><span style=\"color: #00af00; text-decoration-color: #00af00\">3</span> (16.00 B)\n",
       "</pre>\n"
      ],
      "text/plain": [
       "\u001b[1m Non-trainable params: \u001b[0m\u001b[38;5;34m3\u001b[0m (16.00 B)\n"
      ]
     },
     "metadata": {},
     "output_type": "display_data"
    }
   ],
   "source": [
    "model_mfcc_cnn = models.Sequential([\n",
    "    layers.Input(shape=input_mfcc_shape),\n",
    "    layers.Resizing(32, 32),\n",
    "    norm_layer,\n",
    "    \n",
    "    layers.Conv2D(32, 3),\n",
    "    layers.Activation('relu'),\n",
    "    \n",
    "    layers.Conv2D(64, 3),\n",
    "    layers.Activation('relu'),\n",
    "    layers.MaxPooling2D(),\n",
    "    layers.Dropout(0.25),\n",
    "\n",
    "    layers.Conv2D(128, 3),\n",
    "    layers.Activation('relu'),\n",
    "    layers.MaxPooling2D(),\n",
    "    layers.Dropout(0.25),\n",
    "    \n",
    "    layers.Flatten(),\n",
    "    layers.Dense(128, activation='relu'), \n",
    "    layers.Dropout(0.5),\n",
    "    \n",
    "    layers.Dense(num_labels),\n",
    "])\n",
    "\n",
    "model_mfcc_cnn.summary()"
   ]
  },
  {
   "cell_type": "code",
   "execution_count": 72,
   "id": "b989b058-a6e9-4f92-b29a-2b580da0c4ee",
   "metadata": {
    "execution": {
     "iopub.execute_input": "2025-03-04T17:32:30.609824Z",
     "iopub.status.busy": "2025-03-04T17:32:30.609729Z",
     "iopub.status.idle": "2025-03-04T17:32:30.613116Z",
     "shell.execute_reply": "2025-03-04T17:32:30.612846Z",
     "shell.execute_reply.started": "2025-03-04T17:32:30.609815Z"
    }
   },
   "outputs": [],
   "source": [
    "model_mfcc_cnn.compile(\n",
    "    optimizer=tf.keras.optimizers.Adam(), # Оптимизатор Adam — адаптивный алгоритм градиентного спуска\n",
    "    loss=tf.keras.losses.SparseCategoricalCrossentropy(from_logits=True), # Функция потерь для многоклассовой классификации\n",
    "    metrics=['accuracy'], # Метрика оценки качества модели — точность\n",
    ")"
   ]
  },
  {
   "cell_type": "code",
   "execution_count": 73,
   "id": "c3a4203c-0695-4a70-ab1b-7cd67993f39a",
   "metadata": {
    "execution": {
     "iopub.execute_input": "2025-03-04T17:32:30.613449Z",
     "iopub.status.busy": "2025-03-04T17:32:30.613357Z",
     "iopub.status.idle": "2025-03-04T17:34:06.518989Z",
     "shell.execute_reply": "2025-03-04T17:34:06.518666Z",
     "shell.execute_reply.started": "2025-03-04T17:32:30.613441Z"
    }
   },
   "outputs": [
    {
     "name": "stdout",
     "output_type": "stream",
     "text": [
      "Epoch 1/50\n",
      "\u001b[1m50/50\u001b[0m \u001b[32m━━━━━━━━━━━━━━━━━━━━\u001b[0m\u001b[37m\u001b[0m \u001b[1m5s\u001b[0m 87ms/step - accuracy: 0.0692 - loss: 2.9859 - val_accuracy: 0.2837 - val_loss: 2.5735\n",
      "Epoch 2/50\n",
      "\u001b[1m50/50\u001b[0m \u001b[32m━━━━━━━━━━━━━━━━━━━━\u001b[0m\u001b[37m\u001b[0m \u001b[1m4s\u001b[0m 76ms/step - accuracy: 0.2141 - loss: 2.5424 - val_accuracy: 0.4437 - val_loss: 1.9979\n",
      "Epoch 3/50\n",
      "\u001b[1m50/50\u001b[0m \u001b[32m━━━━━━━━━━━━━━━━━━━━\u001b[0m\u001b[37m\u001b[0m \u001b[1m4s\u001b[0m 76ms/step - accuracy: 0.3498 - loss: 2.1547 - val_accuracy: 0.5225 - val_loss: 1.6944\n",
      "Epoch 4/50\n",
      "\u001b[1m50/50\u001b[0m \u001b[32m━━━━━━━━━━━━━━━━━━━━\u001b[0m\u001b[37m\u001b[0m \u001b[1m4s\u001b[0m 77ms/step - accuracy: 0.4220 - loss: 1.8873 - val_accuracy: 0.6050 - val_loss: 1.4447\n",
      "Epoch 5/50\n",
      "\u001b[1m50/50\u001b[0m \u001b[32m━━━━━━━━━━━━━━━━━━━━\u001b[0m\u001b[37m\u001b[0m \u001b[1m5s\u001b[0m 79ms/step - accuracy: 0.4786 - loss: 1.6490 - val_accuracy: 0.6712 - val_loss: 1.2120\n",
      "Epoch 6/50\n",
      "\u001b[1m50/50\u001b[0m \u001b[32m━━━━━━━━━━━━━━━━━━━━\u001b[0m\u001b[37m\u001b[0m \u001b[1m4s\u001b[0m 78ms/step - accuracy: 0.5459 - loss: 1.4270 - val_accuracy: 0.6938 - val_loss: 1.0697\n",
      "Epoch 7/50\n",
      "\u001b[1m50/50\u001b[0m \u001b[32m━━━━━━━━━━━━━━━━━━━━\u001b[0m\u001b[37m\u001b[0m \u001b[1m4s\u001b[0m 77ms/step - accuracy: 0.6109 - loss: 1.2449 - val_accuracy: 0.7375 - val_loss: 0.9000\n",
      "Epoch 8/50\n",
      "\u001b[1m50/50\u001b[0m \u001b[32m━━━━━━━━━━━━━━━━━━━━\u001b[0m\u001b[37m\u001b[0m \u001b[1m4s\u001b[0m 77ms/step - accuracy: 0.6518 - loss: 1.0955 - val_accuracy: 0.7588 - val_loss: 0.8090\n",
      "Epoch 9/50\n",
      "\u001b[1m50/50\u001b[0m \u001b[32m━━━━━━━━━━━━━━━━━━━━\u001b[0m\u001b[37m\u001b[0m \u001b[1m4s\u001b[0m 78ms/step - accuracy: 0.6959 - loss: 0.9682 - val_accuracy: 0.7850 - val_loss: 0.7078\n",
      "Epoch 10/50\n",
      "\u001b[1m50/50\u001b[0m \u001b[32m━━━━━━━━━━━━━━━━━━━━\u001b[0m\u001b[37m\u001b[0m \u001b[1m4s\u001b[0m 78ms/step - accuracy: 0.7109 - loss: 0.8850 - val_accuracy: 0.8012 - val_loss: 0.6798\n",
      "Epoch 11/50\n",
      "\u001b[1m50/50\u001b[0m \u001b[32m━━━━━━━━━━━━━━━━━━━━\u001b[0m\u001b[37m\u001b[0m \u001b[1m4s\u001b[0m 76ms/step - accuracy: 0.7346 - loss: 0.8269 - val_accuracy: 0.8100 - val_loss: 0.6414\n",
      "Epoch 12/50\n",
      "\u001b[1m50/50\u001b[0m \u001b[32m━━━━━━━━━━━━━━━━━━━━\u001b[0m\u001b[37m\u001b[0m \u001b[1m4s\u001b[0m 82ms/step - accuracy: 0.7681 - loss: 0.7215 - val_accuracy: 0.8150 - val_loss: 0.6214\n",
      "Epoch 13/50\n",
      "\u001b[1m50/50\u001b[0m \u001b[32m━━━━━━━━━━━━━━━━━━━━\u001b[0m\u001b[37m\u001b[0m \u001b[1m4s\u001b[0m 77ms/step - accuracy: 0.7755 - loss: 0.6905 - val_accuracy: 0.8250 - val_loss: 0.5765\n",
      "Epoch 14/50\n",
      "\u001b[1m50/50\u001b[0m \u001b[32m━━━━━━━━━━━━━━━━━━━━\u001b[0m\u001b[37m\u001b[0m \u001b[1m4s\u001b[0m 76ms/step - accuracy: 0.7973 - loss: 0.6381 - val_accuracy: 0.8213 - val_loss: 0.5876\n",
      "Epoch 15/50\n",
      "\u001b[1m50/50\u001b[0m \u001b[32m━━━━━━━━━━━━━━━━━━━━\u001b[0m\u001b[37m\u001b[0m \u001b[1m4s\u001b[0m 79ms/step - accuracy: 0.8079 - loss: 0.5999 - val_accuracy: 0.8250 - val_loss: 0.5604\n",
      "Epoch 16/50\n",
      "\u001b[1m50/50\u001b[0m \u001b[32m━━━━━━━━━━━━━━━━━━━━\u001b[0m\u001b[37m\u001b[0m \u001b[1m4s\u001b[0m 77ms/step - accuracy: 0.8194 - loss: 0.5594 - val_accuracy: 0.8225 - val_loss: 0.5521\n",
      "Epoch 17/50\n",
      "\u001b[1m50/50\u001b[0m \u001b[32m━━━━━━━━━━━━━━━━━━━━\u001b[0m\u001b[37m\u001b[0m \u001b[1m4s\u001b[0m 77ms/step - accuracy: 0.8195 - loss: 0.5372 - val_accuracy: 0.8300 - val_loss: 0.5434\n",
      "Epoch 18/50\n",
      "\u001b[1m50/50\u001b[0m \u001b[32m━━━━━━━━━━━━━━━━━━━━\u001b[0m\u001b[37m\u001b[0m \u001b[1m4s\u001b[0m 76ms/step - accuracy: 0.8392 - loss: 0.4892 - val_accuracy: 0.8400 - val_loss: 0.5298\n",
      "Epoch 19/50\n",
      "\u001b[1m50/50\u001b[0m \u001b[32m━━━━━━━━━━━━━━━━━━━━\u001b[0m\u001b[37m\u001b[0m \u001b[1m4s\u001b[0m 77ms/step - accuracy: 0.8511 - loss: 0.4607 - val_accuracy: 0.8500 - val_loss: 0.5120\n",
      "Epoch 20/50\n",
      "\u001b[1m50/50\u001b[0m \u001b[32m━━━━━━━━━━━━━━━━━━━━\u001b[0m\u001b[37m\u001b[0m \u001b[1m4s\u001b[0m 76ms/step - accuracy: 0.8481 - loss: 0.4521 - val_accuracy: 0.8550 - val_loss: 0.5344\n",
      "Epoch 21/50\n",
      "\u001b[1m50/50\u001b[0m \u001b[32m━━━━━━━━━━━━━━━━━━━━\u001b[0m\u001b[37m\u001b[0m \u001b[1m4s\u001b[0m 77ms/step - accuracy: 0.8561 - loss: 0.4258 - val_accuracy: 0.8637 - val_loss: 0.5091\n",
      "Epoch 22/50\n",
      "\u001b[1m50/50\u001b[0m \u001b[32m━━━━━━━━━━━━━━━━━━━━\u001b[0m\u001b[37m\u001b[0m \u001b[1m4s\u001b[0m 80ms/step - accuracy: 0.8719 - loss: 0.3863 - val_accuracy: 0.8562 - val_loss: 0.5061\n",
      "Epoch 23/50\n",
      "\u001b[1m50/50\u001b[0m \u001b[32m━━━━━━━━━━━━━━━━━━━━\u001b[0m\u001b[37m\u001b[0m \u001b[1m4s\u001b[0m 81ms/step - accuracy: 0.8707 - loss: 0.3911 - val_accuracy: 0.8500 - val_loss: 0.5388\n",
      "Epoch 24/50\n",
      "\u001b[1m50/50\u001b[0m \u001b[32m━━━━━━━━━━━━━━━━━━━━\u001b[0m\u001b[37m\u001b[0m \u001b[1m4s\u001b[0m 81ms/step - accuracy: 0.8887 - loss: 0.3492 - val_accuracy: 0.8575 - val_loss: 0.5269\n",
      "Epoch 24: early stopping\n"
     ]
    }
   ],
   "source": [
    "EPOCHS = 50\n",
    "history = model_mfcc_cnn.fit(\n",
    "    train_mfcc_ds, # Тренировочный набор\n",
    "    validation_data=val_mfcc_ds, # Валидационный набор\n",
    "    epochs=EPOCHS, # Эпохи\n",
    "    callbacks=tf.keras.callbacks.EarlyStopping(verbose=1, patience=2), # Раннее прекращение обучения\n",
    ")"
   ]
  },
  {
   "cell_type": "code",
   "execution_count": 74,
   "id": "82d246cd-dfed-4236-940f-b86b62d5cf42",
   "metadata": {
    "execution": {
     "iopub.execute_input": "2025-03-04T17:34:06.519452Z",
     "iopub.status.busy": "2025-03-04T17:34:06.519331Z",
     "iopub.status.idle": "2025-03-04T17:34:06.575135Z",
     "shell.execute_reply": "2025-03-04T17:34:06.574835Z",
     "shell.execute_reply.started": "2025-03-04T17:34:06.519440Z"
    }
   },
   "outputs": [
    {
     "data": {
      "image/png": "[encoded data removed]",
      "text/plain": [
       "<Figure size 640x480 with 1 Axes>"
      ]
     },
     "metadata": {},
     "output_type": "display_data"
    }
   ],
   "source": [
    "metrics = history.history\n",
    "plt.plot(history.epoch, metrics['loss'], metrics['val_loss'])\n",
    "plt.legend(['loss', 'val_loss'])\n",
    "plt.show()"
   ]
  },
  {
   "cell_type": "code",
   "execution_count": 75,
   "id": "4fa5e71d-b239-49c8-8754-0d31bffcafb6",
   "metadata": {
    "execution": {
     "iopub.execute_input": "2025-03-04T17:34:06.575573Z",
     "iopub.status.busy": "2025-03-04T17:34:06.575459Z",
     "iopub.status.idle": "2025-03-04T17:34:06.736558Z",
     "shell.execute_reply": "2025-03-04T17:34:06.736270Z",
     "shell.execute_reply.started": "2025-03-04T17:34:06.575562Z"
    }
   },
   "outputs": [],
   "source": [
    "test_mfcc_audio = []\n",
    "test_mfcc_labels = []\n",
    "\n",
    "for audio, label in test_mfcc_ds:\n",
    "  test_mfcc_audio.append(audio.numpy()) # Преобразуем тензор в массив NumPy и добавляем в список\n",
    "  test_mfcc_labels.append(label.numpy()) # Аналогично преобразуем метки\n",
    "\n",
    "# Преобразуем списки в массивы NumPy для удобной обработки\n",
    "test_mfcc_audio = np.array(test_mfcc_audio)\n",
    "test_mfcc_labels = np.array(test_mfcc_labels)"
   ]
  },
  {
   "cell_type": "code",
   "execution_count": 76,
   "id": "b9fd6aee-e900-4ff5-9495-717d2b478b08",
   "metadata": {
    "execution": {
     "iopub.execute_input": "2025-03-04T17:34:06.737057Z",
     "iopub.status.busy": "2025-03-04T17:34:06.736907Z",
     "iopub.status.idle": "2025-03-04T17:34:06.917032Z",
     "shell.execute_reply": "2025-03-04T17:34:06.916729Z",
     "shell.execute_reply.started": "2025-03-04T17:34:06.737041Z"
    }
   },
   "outputs": [
    {
     "name": "stdout",
     "output_type": "stream",
     "text": [
      "\u001b[1m25/25\u001b[0m \u001b[32m━━━━━━━━━━━━━━━━━━━━\u001b[0m\u001b[37m\u001b[0m \u001b[1m0s\u001b[0m 4ms/step\n",
      "Точность на тестовом наборе: 84%\n"
     ]
    }
   ],
   "source": [
    "y_pred = np.argmax(model_mfcc_cnn.predict(test_mfcc_audio), axis=1) # Получаем предсказания модели на тестовом наборе\n",
    "y_true = test_mfcc_labels # Истинные метки классов\n",
    "\n",
    "test_acc = sum(y_pred == y_true) / len(y_true) # Вычисляем точность на тестовом наборе\n",
    "print(f'Точность на тестовом наборе: {test_acc:.0%}')"
   ]
  },
  {
   "cell_type": "code",
   "execution_count": 77,
   "id": "aa69d289-bf10-49ad-906b-c21d71d0f0e7",
   "metadata": {
    "execution": {
     "iopub.execute_input": "2025-03-04T17:34:06.917512Z",
     "iopub.status.busy": "2025-03-04T17:34:06.917395Z",
     "iopub.status.idle": "2025-03-04T17:34:07.399491Z",
     "shell.execute_reply": "2025-03-04T17:34:07.399212Z",
     "shell.execute_reply.started": "2025-03-04T17:34:06.917501Z"
    }
   },
   "outputs": [
    {
     "data": {
      "image/png": "[encoded data removed]",
      "text/plain": [
       "<Figure size 1000x800 with 2 Axes>"
      ]
     },
     "metadata": {},
     "output_type": "display_data"
    }
   ],
   "source": [
    "confusion_mtx = tf.math.confusion_matrix(y_true, y_pred) # Вычисляем матрицу ошибок\n",
    "plt.figure(figsize=(10, 8))\n",
    "\n",
    "# Строим тепловую карту (heatmap) для визуализации матрицы ошибок\n",
    "# xticklabels=commands - метки классов для оси X (предсказанные значения)\n",
    "# yticklabels=commands - метки классов для оси Y (истинные значения)\n",
    "# annot=True - отображать значения в ячейках матрицы\n",
    "# fmt='g' - формат отображения чисел (общий формат, без лишних знаков)\n",
    "sns.heatmap(confusion_mtx,\n",
    "            xticklabels=commands,\n",
    "            yticklabels=commands,\n",
    "            annot=True, fmt='g')\n",
    "plt.xlabel('Prediction')\n",
    "plt.ylabel('Label')\n",
    "plt.show()"
   ]
  },
  {
   "cell_type": "code",
   "execution_count": 78,
   "id": "8e5a60f7-96f0-46fa-b87c-236be69dd750",
   "metadata": {
    "execution": {
     "iopub.execute_input": "2025-03-04T17:34:07.399909Z",
     "iopub.status.busy": "2025-03-04T17:34:07.399801Z",
     "iopub.status.idle": "2025-03-04T17:34:07.435120Z",
     "shell.execute_reply": "2025-03-04T17:34:07.434797Z",
     "shell.execute_reply.started": "2025-03-04T17:34:07.399898Z"
    }
   },
   "outputs": [],
   "source": [
    "model_mfcc_cnn.save('../Models/mfcc_cnn.keras')"
   ]
  }
 ],
 "metadata": {
  "kernelspec": {
   "display_name": "Python 3 (ipykernel)",
   "language": "python",
   "name": "python3"
  },
  "language_info": {
   "codemirror_mode": {
    "name": "ipython",
    "version": 3
   },
   "file_extension": ".py",
   "mimetype": "text/x-python",
   "name": "python",
   "nbconvert_exporter": "python",
   "pygments_lexer": "ipython3",
   "version": "3.12.2"
  }
 },
 "nbformat": 4,
 "nbformat_minor": 5
}
